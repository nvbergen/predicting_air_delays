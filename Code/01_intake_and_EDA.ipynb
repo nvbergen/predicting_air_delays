{
 "cells": [
  {
   "cell_type": "markdown",
   "id": "766eb4fc-473b-4a0e-ad7e-3d1d0f6e9282",
   "metadata": {
    "tags": []
   },
   "source": [
    "# Predicting Air Delays \n",
    "----\n",
    "\n",
    "Thank you for your review of my code notebook.\n",
    "This notebook's goal is to obtain, modify, clean, and prepare the dataset for exposure on a Machine Learning algorithm.\n",
    "\n",
    "---\n",
    "#### Problem Statement: \n",
    "Both travelers and airlines find delays frustrating and costly. This project attempts to be able to predict the probability of a commercial flight delay for any flight in the United States. \n",
    "\n",
    "---\n",
    "\n",
    "#### MVP:\n",
    "My product will be a small lightweight application run on `streamlit` platform for proof-of-concept where a user can find the probability of their desired flight having a delay, how long the delay may be, and how much will the delay cost the user in _lost time_ at the destination \n",
    "\n",
    "---\n",
    "# Intake, Cleaning, and EDA. \n",
    "\n",
    "The primary challenge in this notebook is managing a large dataset. \n",
    "The next challenge will be to conduct meaningful EDA across the whole dataset. \n",
    "The notebook is structured as follows. \n",
    "1. Imports and set up\n",
    "2. The size and complexity issue. \n",
    "3. Cleaning steps. \n",
    "4. Feature engineering and selection. \n",
    "5. Save the final CSV and discuss next steps. \n",
    "\n",
    "---\n"
   ]
  },
  {
   "cell_type": "markdown",
   "id": "e1a7a039-e68d-42d2-ae8e-aac54bc196a6",
   "metadata": {
    "tags": []
   },
   "source": [
    "## 1. Set-up\n",
    "----\n",
    "I will be making use of `os`, `glob`, and `Amadeus API` libraries for python. \n",
    "\n",
    "`os` and `glob` will be used in conjunction with command line commands from the notebook to join the large CSV tables together.\n",
    "\n",
    "`amadeus` is used as a way to utilize the service's self-service APIs. The API requires a token /key to use. \n",
    "[**sign up here**](https://developers.amadeus.com)\n"
   ]
  },
  {
   "cell_type": "code",
   "execution_count": 1,
   "id": "156c8c23-771c-4565-aae9-217d6ecf6870",
   "metadata": {},
   "outputs": [],
   "source": [
    "# !pip install amadeus"
   ]
  },
  {
   "cell_type": "code",
   "execution_count": 2,
   "id": "1cf4036e-d2dc-4772-ab16-d833e8e69624",
   "metadata": {},
   "outputs": [],
   "source": [
    "import os \n",
    "import glob\n",
    "import pandas as pd\n",
    "import numpy as np\n",
    "import seaborn as sns\n",
    "import matplotlib.pyplot as plt\n"
   ]
  },
  {
   "cell_type": "markdown",
   "id": "3a641813-7982-42c1-9f4f-cc8d94fbbd51",
   "metadata": {},
   "source": [
    " I have 68 CSV files. Each file represents 1 month of flight history from all U.S. Airports. As a result each CSV is approximatley 150mb in size. Loading a few of them into the workspace of the notebook will result in a loss of data due to data exceeding memory capacity on the local machine. \n",
    " <br>\n",
    " <br>\n",
    "The approach will be to manipulate each of the CSV's and join them directly in the command line. "
   ]
  },
  {
   "cell_type": "code",
   "execution_count": 4,
   "id": "e87f7c0f-bf35-48ac-a29b-bdc9a503cfe4",
   "metadata": {},
   "outputs": [],
   "source": [
    "#change the directory from root to where all the files I will join will be\n",
    "os.chdir('/Volumes/lacie/data_ingestion/capstone_hopper')"
   ]
  },
  {
   "cell_type": "markdown",
   "id": "44cc0827-9b7e-41f8-add9-ff7887813038",
   "metadata": {},
   "source": [
    "### Data Sources\n",
    "---\n",
    "This project attempts gathered delay data from the **Department of Transportation (DOT) Flight Delay reporting Database**. Sadly, there was no public API available to access this data from DOT or from Federal Aviation Administration.\n",
    "\n",
    "Given there was no way to programatically acquire the desired amount of data, I proceeded to utilize the basic public data library tool and download a CSV for one monthly period at a time.  \n",
    "\n",
    "This created a lot of _just **too big** files_ and hence our first unanticipated technical challenge with this project; what do I do? \n",
    "\n",
    "The plan: use the command line to join all the tables. \n",
    "After cleaning see how large the file is. \n",
    "\n",
    "To implement this plan, using `glob` methods and direct command line. \n",
    "\n",
    "\n",
    "---\n",
    "References<br>\n",
    "[Bureau of Transportation Statistics](https://www.transtats.bts.gov/DL_SelectFields.asp?gnoyr_VQ=FGJ)\n",
    "<br>\n",
    "[GLOB tutorial](https://www.freecodecamp.org/news/how-to-combine-multiple-csv-files-with-8-lines-of-code-265183e0854/)"
   ]
  },
  {
   "cell_type": "markdown",
   "id": "5ed4ab95-bf9f-403c-b80a-401425b596a5",
   "metadata": {},
   "source": [
    "### Create new dataset from monthly data sources. \n",
    "---\n",
    "Run the below code if you have access to the files, which are large, on your local machine."
   ]
  },
  {
   "cell_type": "code",
   "execution_count": 3,
   "id": "8e7b3315-9cc1-4042-80c9-1c1f9ce8ec6d",
   "metadata": {},
   "outputs": [
    {
     "name": "stdout",
     "output_type": "stream",
     "text": [
      "\u001b[31m10_nov_20.csv\u001b[m\u001b[m \u001b[31m23_oct_19.csv\u001b[m\u001b[m \u001b[31m36_sep_18.csv\u001b[m\u001b[m \u001b[31m49_aug_17.csv\u001b[m\u001b[m \u001b[31m61_aug_16.csv\u001b[m\u001b[m\n",
      "\u001b[31m11_oct_20.csv\u001b[m\u001b[m \u001b[31m24_sep_19.csv\u001b[m\u001b[m \u001b[31m37_aug_18.csv\u001b[m\u001b[m \u001b[31m4_may_21.csv\u001b[m\u001b[m  \u001b[31m62_jul_16.csv\u001b[m\u001b[m\n",
      "\u001b[31m12_sep_20.csv\u001b[m\u001b[m \u001b[31m25_aug_19.csv\u001b[m\u001b[m \u001b[31m38_jul_18.csv\u001b[m\u001b[m \u001b[31m50_jul_17.csv\u001b[m\u001b[m \u001b[31m63_jun_16.csv\u001b[m\u001b[m\n",
      "\u001b[31m13_aug_20.csv\u001b[m\u001b[m \u001b[31m26_jul_19.csv\u001b[m\u001b[m \u001b[31m39_jun_18.csv\u001b[m\u001b[m \u001b[31m51_jun_17.csv\u001b[m\u001b[m \u001b[31m64_may_16.csv\u001b[m\u001b[m\n",
      "\u001b[31m14_jul_20.csv\u001b[m\u001b[m \u001b[31m27_jun_19.csv\u001b[m\u001b[m \u001b[31m3_jun_21.csv\u001b[m\u001b[m  \u001b[31m52_may_17.csv\u001b[m\u001b[m \u001b[31m65_apr_16.csv\u001b[m\u001b[m\n",
      "\u001b[31m15_jun_20.csv\u001b[m\u001b[m \u001b[31m28_may_19.csv\u001b[m\u001b[m \u001b[31m40_may_18.csv\u001b[m\u001b[m \u001b[31m53_apr_17.csv\u001b[m\u001b[m \u001b[31m66_mar_16.csv\u001b[m\u001b[m\n",
      "\u001b[31m16_may_20.csv\u001b[m\u001b[m \u001b[31m29_apr_19.csv\u001b[m\u001b[m \u001b[31m41_apr_18.csv\u001b[m\u001b[m \u001b[31m54_mar_17.csv\u001b[m\u001b[m \u001b[31m67_feb_16.csv\u001b[m\u001b[m\n",
      "\u001b[31m17_apr_20.csv\u001b[m\u001b[m \u001b[31m2_jul_21.csv\u001b[m\u001b[m  \u001b[31m42_mar_18.csv\u001b[m\u001b[m \u001b[31m55_feb_17.csv\u001b[m\u001b[m \u001b[31m68_jan_16.csv\u001b[m\u001b[m\n",
      "\u001b[31m18_mar_20.csv\u001b[m\u001b[m \u001b[31m30_mar_19.csv\u001b[m\u001b[m \u001b[31m43_feb_18.csv\u001b[m\u001b[m \u001b[31m56_jan_17.csv\u001b[m\u001b[m \u001b[31m6_mar_21.csv\u001b[m\u001b[m\n",
      "\u001b[31m19_feb_20.csv\u001b[m\u001b[m \u001b[31m31_feb_19.csv\u001b[m\u001b[m \u001b[31m44_jan_18.csv\u001b[m\u001b[m \u001b[31m57_dec_16.csv\u001b[m\u001b[m \u001b[31m7_feb_21.csv\u001b[m\u001b[m\n",
      "\u001b[31m1_aug_21.csv\u001b[m\u001b[m  \u001b[31m32_jan_19.csv\u001b[m\u001b[m \u001b[31m45_dec_17.csv\u001b[m\u001b[m \u001b[31m58_nov_16.csv\u001b[m\u001b[m \u001b[31m8_jan_21.csv\u001b[m\u001b[m\n",
      "\u001b[31m20_jan_20.csv\u001b[m\u001b[m \u001b[31m33_dec_18.csv\u001b[m\u001b[m \u001b[31m46_nov_17.csv\u001b[m\u001b[m \u001b[31m59_oct_16.csv\u001b[m\u001b[m \u001b[31m9_dec_20.csv\u001b[m\u001b[m\n",
      "\u001b[31m21_dec_19.csv\u001b[m\u001b[m \u001b[31m34_nov_18.csv\u001b[m\u001b[m \u001b[31m47_oct_17.csv\u001b[m\u001b[m \u001b[31m5_apr_21.csv\u001b[m\u001b[m\n",
      "\u001b[31m22_nov_19.csv\u001b[m\u001b[m \u001b[31m35_oct_18.csv\u001b[m\u001b[m \u001b[31m48_sep_17.csv\u001b[m\u001b[m \u001b[31m60_sep_16.csv\u001b[m\u001b[m\n"
     ]
    }
   ],
   "source": [
    "#a list of all the files. a total of 6.958GB of unfiltered raw data. \n",
    "!ls"
   ]
  },
  {
   "cell_type": "code",
   "execution_count": 4,
   "id": "0559f5e4-8774-41f1-947a-b9b2c94f70cf",
   "metadata": {},
   "outputs": [],
   "source": [
    "#using glob, to locate all file names. \n",
    "file_ext = '.csv'\n",
    "files = sorted([file for file in glob.glob(f'*{file_ext}')])"
   ]
  },
  {
   "cell_type": "code",
   "execution_count": 5,
   "id": "9fbce328-28a8-4086-8f02-8992f4b70bed",
   "metadata": {},
   "outputs": [
    {
     "name": "stdout",
     "output_type": "stream",
     "text": [
      "first five files : ['10_nov_20.csv', '11_oct_20.csv', '12_sep_20.csv', '13_aug_20.csv', '14_jul_20.csv'] last 5 files:  ['6_mar_21.csv', '7_feb_21.csv', '8_jan_21.csv', '9_dec_20.csv']\n"
     ]
    }
   ],
   "source": [
    "#the first five in the list to confirm \n",
    "print('first five files :',files[0:5],\n",
    "      'last 5 files: ' ,files[-4:])"
   ]
  },
  {
   "cell_type": "code",
   "execution_count": 6,
   "id": "bb248bc2-7abd-4d55-853f-ee706ccca3a1",
   "metadata": {},
   "outputs": [
    {
     "name": "stderr",
     "output_type": "stream",
     "text": [
      "/var/folders/fy/0gjwghjd3qxdc86mx10x01rr0000gp/T/ipykernel_1744/3199323081.py:2: DtypeWarning: Columns (23) have mixed types.Specify dtype option on import or set low_memory=False.\n",
      "  all_flights = pd.concat([pd.read_csv(file) for file in files ])\n"
     ]
    }
   ],
   "source": [
    "#using the pd.concat() i will read from a list comprehension to concat each and every csv. \n",
    "all_flights = pd.concat([pd.read_csv(file) for file in files ])\n"
   ]
  },
  {
   "cell_type": "code",
   "execution_count": 7,
   "id": "36aba3bb-7f71-44c5-bcd2-5b152ecc708b",
   "metadata": {},
   "outputs": [],
   "source": [
    "#export to csv\n",
    "all_flights.to_csv( \"all_flights.csv\", index=False, encoding='utf-8-sig')"
   ]
  },
  {
   "cell_type": "markdown",
   "id": "b618f407-2520-4ec0-92c9-c2b70b240a59",
   "metadata": {},
   "source": [
    "### Load existing dataset and then random subset the main data. \n",
    "---\n",
    "Run this code from the repo to rebuild the whole data sent. "
   ]
  },
  {
   "cell_type": "code",
   "execution_count": 4,
   "id": "b7d60c3f-adeb-4e43-a28d-54adfdbe3be2",
   "metadata": {},
   "outputs": [
    {
     "name": "stderr",
     "output_type": "stream",
     "text": [
      "/Users/nickvanbergen/opt/anaconda3/lib/python3.8/site-packages/IPython/core/interactiveshell.py:3441: DtypeWarning: Columns (23) have mixed types.Specify dtype option on import or set low_memory=False.\n",
      "  exec(code_obj, self.user_global_ns, self.user_ns)\n"
     ]
    }
   ],
   "source": [
    "all_flights = pd.read_csv('/Volumes/lacie/data_ingestion/capstone_hopper/all_flights.csv')"
   ]
  },
  {
   "cell_type": "code",
   "execution_count": 5,
   "id": "29f04e0e-39ed-455b-bd5b-7cdaebc8cb6a",
   "metadata": {},
   "outputs": [
    {
     "data": {
      "text/plain": [
       "(34409230, 34)"
      ]
     },
     "execution_count": 5,
     "metadata": {},
     "output_type": "execute_result"
    }
   ],
   "source": [
    "all_flights.shape"
   ]
  },
  {
   "cell_type": "markdown",
   "id": "d0b465c6-e5ea-4ea4-a2e6-c8bf2d806514",
   "metadata": {},
   "source": [
    "The process is completed with 34,409,230 flights with 34 _raw_ feature columns. It took approximately 8 minutes to process the file. "
   ]
  },
  {
   "cell_type": "code",
   "execution_count": 6,
   "id": "03d81220-921f-4a62-9a53-bf1dd8d535c0",
   "metadata": {},
   "outputs": [
    {
     "data": {
      "text/html": [
       "<div>\n",
       "<style scoped>\n",
       "    .dataframe tbody tr th:only-of-type {\n",
       "        vertical-align: middle;\n",
       "    }\n",
       "\n",
       "    .dataframe tbody tr th {\n",
       "        vertical-align: top;\n",
       "    }\n",
       "\n",
       "    .dataframe thead th {\n",
       "        text-align: right;\n",
       "    }\n",
       "</style>\n",
       "<table border=\"1\" class=\"dataframe\">\n",
       "  <thead>\n",
       "    <tr style=\"text-align: right;\">\n",
       "      <th></th>\n",
       "      <th>YEAR</th>\n",
       "      <th>MONTH</th>\n",
       "      <th>DAY_OF_MONTH</th>\n",
       "      <th>DAY_OF_WEEK</th>\n",
       "      <th>FL_DATE</th>\n",
       "      <th>OP_UNIQUE_CARRIER</th>\n",
       "      <th>TAIL_NUM</th>\n",
       "      <th>OP_CARRIER_FL_NUM</th>\n",
       "      <th>ORIGIN</th>\n",
       "      <th>ORIGIN_CITY_NAME</th>\n",
       "      <th>...</th>\n",
       "      <th>DIVERTED</th>\n",
       "      <th>CRS_ELAPSED_TIME</th>\n",
       "      <th>FLIGHTS</th>\n",
       "      <th>DISTANCE</th>\n",
       "      <th>CARRIER_DELAY</th>\n",
       "      <th>WEATHER_DELAY</th>\n",
       "      <th>NAS_DELAY</th>\n",
       "      <th>SECURITY_DELAY</th>\n",
       "      <th>LATE_AIRCRAFT_DELAY</th>\n",
       "      <th>Unnamed: 33</th>\n",
       "    </tr>\n",
       "  </thead>\n",
       "  <tbody>\n",
       "    <tr>\n",
       "      <th>0</th>\n",
       "      <td>2020</td>\n",
       "      <td>11</td>\n",
       "      <td>12</td>\n",
       "      <td>4</td>\n",
       "      <td>2020-11-12</td>\n",
       "      <td>AA</td>\n",
       "      <td>N844NN</td>\n",
       "      <td>1783</td>\n",
       "      <td>PHL</td>\n",
       "      <td>Philadelphia, PA</td>\n",
       "      <td>...</td>\n",
       "      <td>0.0</td>\n",
       "      <td>235.0</td>\n",
       "      <td>1.0</td>\n",
       "      <td>1303.0</td>\n",
       "      <td>NaN</td>\n",
       "      <td>NaN</td>\n",
       "      <td>NaN</td>\n",
       "      <td>NaN</td>\n",
       "      <td>NaN</td>\n",
       "      <td>NaN</td>\n",
       "    </tr>\n",
       "    <tr>\n",
       "      <th>1</th>\n",
       "      <td>2020</td>\n",
       "      <td>11</td>\n",
       "      <td>13</td>\n",
       "      <td>5</td>\n",
       "      <td>2020-11-13</td>\n",
       "      <td>AA</td>\n",
       "      <td>N339PL</td>\n",
       "      <td>1783</td>\n",
       "      <td>PHL</td>\n",
       "      <td>Philadelphia, PA</td>\n",
       "      <td>...</td>\n",
       "      <td>0.0</td>\n",
       "      <td>235.0</td>\n",
       "      <td>1.0</td>\n",
       "      <td>1303.0</td>\n",
       "      <td>NaN</td>\n",
       "      <td>NaN</td>\n",
       "      <td>NaN</td>\n",
       "      <td>NaN</td>\n",
       "      <td>NaN</td>\n",
       "      <td>NaN</td>\n",
       "    </tr>\n",
       "  </tbody>\n",
       "</table>\n",
       "<p>2 rows × 34 columns</p>\n",
       "</div>"
      ],
      "text/plain": [
       "   YEAR  MONTH  DAY_OF_MONTH  DAY_OF_WEEK     FL_DATE OP_UNIQUE_CARRIER  \\\n",
       "0  2020     11            12            4  2020-11-12                AA   \n",
       "1  2020     11            13            5  2020-11-13                AA   \n",
       "\n",
       "  TAIL_NUM  OP_CARRIER_FL_NUM ORIGIN  ORIGIN_CITY_NAME  ... DIVERTED  \\\n",
       "0   N844NN               1783    PHL  Philadelphia, PA  ...      0.0   \n",
       "1   N339PL               1783    PHL  Philadelphia, PA  ...      0.0   \n",
       "\n",
       "  CRS_ELAPSED_TIME FLIGHTS DISTANCE  CARRIER_DELAY  WEATHER_DELAY  NAS_DELAY  \\\n",
       "0            235.0     1.0   1303.0            NaN            NaN        NaN   \n",
       "1            235.0     1.0   1303.0            NaN            NaN        NaN   \n",
       "\n",
       "   SECURITY_DELAY  LATE_AIRCRAFT_DELAY  Unnamed: 33  \n",
       "0             NaN                  NaN          NaN  \n",
       "1             NaN                  NaN          NaN  \n",
       "\n",
       "[2 rows x 34 columns]"
      ]
     },
     "execution_count": 6,
     "metadata": {},
     "output_type": "execute_result"
    }
   ],
   "source": [
    "all_flights.head(2)"
   ]
  },
  {
   "cell_type": "markdown",
   "id": "7731cca4-891c-40e6-949e-c4ba3e8fa176",
   "metadata": {},
   "source": [
    "#### Subsetting\n",
    "---\n",
    "Having already run the subset of the main data, please load or read the data from the last cell in this section."
   ]
  },
  {
   "cell_type": "code",
   "execution_count": 126,
   "id": "1d4d4a5a-bc1d-427e-bd7e-03082b778234",
   "metadata": {},
   "outputs": [],
   "source": [
    "#sample = all_flights.sample(frac = 0.25)"
   ]
  },
  {
   "cell_type": "code",
   "execution_count": 127,
   "id": "91c90d62-a350-43e9-970d-9ffa4e7b3280",
   "metadata": {},
   "outputs": [],
   "source": [
    "#lower case the columns headings. \n",
    "sample.columns = sample.columns.str.lower()"
   ]
  },
  {
   "cell_type": "code",
   "execution_count": 128,
   "id": "4f482344-cf6d-4e07-b90e-ca9a4850225d",
   "metadata": {},
   "outputs": [
    {
     "name": "stdout",
     "output_type": "stream",
     "text": [
      "Number of sampled flights, 8,602,308\n"
     ]
    }
   ],
   "source": [
    "print(f\"Number of sampled flights, {sample.shape[0] :,}\")"
   ]
  },
  {
   "cell_type": "code",
   "execution_count": 133,
   "id": "ca480cbb-16be-402f-abe0-8829f8e33714",
   "metadata": {},
   "outputs": [],
   "source": [
    "# save this to CSV for further processing. \n",
    "#sample.to_csv('sample.csv', index = False)"
   ]
  },
  {
   "cell_type": "code",
   "execution_count": 5,
   "id": "40aa8f2b-8530-401e-95eb-3cc2e2921f64",
   "metadata": {},
   "outputs": [],
   "source": [
    "sample = pd.read_csv('sample.csv')"
   ]
  },
  {
   "cell_type": "markdown",
   "id": "30fed352-63dd-40ab-84a4-f045f8d77464",
   "metadata": {},
   "source": [
    "<br>\n",
    "\n",
    "-----\n",
    "\n",
    "<br>"
   ]
  },
  {
   "cell_type": "markdown",
   "id": "4779d916-83b4-4a81-977d-74e9ffb1e2e8",
   "metadata": {
    "tags": []
   },
   "source": [
    "## EDA on the time columns. \n",
    "`year`, `month`, `day_of_month`, `day_of_week`\n",
    "these will be analyze against the `arr_delay` values. \n",
    "\n",
    "---\n",
    "\n",
    "`arr_delay` reveals the number of minutes difference between the scheduled arrival and actual arrival values. \n"
   ]
  },
  {
   "cell_type": "markdown",
   "id": "d53cef95-cfcd-48a2-acbf-737f0b0e9f46",
   "metadata": {},
   "source": [
    "### Year"
   ]
  },
  {
   "cell_type": "code",
   "execution_count": 6,
   "id": "79bd9b25-1198-46ff-ae81-165b6678b61c",
   "metadata": {},
   "outputs": [
    {
     "name": "stdout",
     "output_type": "stream",
     "text": [
      " count \n",
      " 2019    1856243\n",
      "2018    1802439\n",
      "2017    1417290\n",
      "2016    1404518\n",
      "2020    1173290\n",
      "2021     948528\n",
      "Name: year, dtype: int64, \n",
      " proportion \n",
      " 2019    0.215784\n",
      "2018    0.209530\n",
      "2017    0.164757\n",
      "2016    0.163272\n",
      "2020    0.136392\n",
      "2021    0.110264\n",
      "Name: year, dtype: float64\n"
     ]
    }
   ],
   "source": [
    "#look at the count of years included in the sample.\n",
    "print(f\" count \\n {sample['year'].value_counts()}, \\n proportion \\n {sample['year'].value_counts(normalize = True)}\")"
   ]
  },
  {
   "cell_type": "code",
   "execution_count": 7,
   "id": "0471a237-9337-452e-a133-e1be8b7b3e66",
   "metadata": {},
   "outputs": [
    {
     "name": "stdout",
     "output_type": "stream",
     "text": [
      " count \n",
      " 2019    336235\n",
      "2018    326242\n",
      "2017    247872\n",
      "2016    231764\n",
      "2021    153110\n",
      "2020    103337\n",
      "Name: year, dtype: int64, \n",
      " proportion \n",
      " 2019    0.240415\n",
      "2018    0.233270\n",
      "2017    0.177234\n",
      "2016    0.165716\n",
      "2021    0.109477\n",
      "2020    0.073888\n",
      "Name: year, dtype: float64\n"
     ]
    }
   ],
   "source": [
    "#where there was a delay\n",
    "print(f\" count \\n {sample[sample['arr_delay']>15]['year'].value_counts()}, \\n proportion \\n {sample[sample['arr_delay']>15]['year'].value_counts(normalize = True)}\")"
   ]
  },
  {
   "cell_type": "code",
   "execution_count": 8,
   "id": "42ca19d2-8a6a-40d5-8a77-e518b09d3e53",
   "metadata": {},
   "outputs": [
    {
     "data": {
      "image/png": "[encoded data removed]",
      "text/plain": [
       "<Figure size 864x576 with 1 Axes>"
      ]
     },
     "metadata": {
      "needs_background": "light"
     },
     "output_type": "display_data"
    }
   ],
   "source": [
    "sample[sample['arr_delay']>=15]['year'].value_counts().sort_index().plot(kind = 'bar', figsize = (12,8));\n",
    "plt.title(f'Count of flights delayed at least 15 minutes by year \\n n = {sample.shape[0]:,}', size = 20);\n",
    "plt.xlabel('Year', size = 18 )\n",
    "plt.xticks(fontsize = 12, rotation = 0)\n",
    "plt.ylabel('Number of delayed flights', size = 18 )\n",
    "plt.yticks(fontsize = 12);"
   ]
  },
  {
   "cell_type": "markdown",
   "id": "362d1dbd-7925-4011-b742-a7f94ea002f7",
   "metadata": {},
   "source": [
    "#### Discussion: What is a _delayed_ flight?\n",
    "----\n",
    "We will consider the baseline measure of a delay being at least 15 minutes. \n",
    "It will be necessary to begin to formulate what buckets or delay classes we will have for this problem. \n",
    "\n",
    "As expected though, our sample sees a sharp drop off of flights being delayed in 2020 due to the restricted operation environment due to the global pandemic.\n",
    "\n",
    "Clearly, a sharp drop off in total flights and delayed flights. "
   ]
  },
  {
   "cell_type": "markdown",
   "id": "26b9f977-976c-4336-b870-27fff64d8a05",
   "metadata": {
    "tags": []
   },
   "source": [
    "### Month"
   ]
  },
  {
   "cell_type": "code",
   "execution_count": 9,
   "id": "7b35fb17-dd47-47b5-a243-a97a34c15420",
   "metadata": {},
   "outputs": [
    {
     "data": {
      "text/plain": [
       "array([10, 12,  6,  1,  7,  4,  3,  9,  2,  5, 11,  8])"
      ]
     },
     "execution_count": 9,
     "metadata": {},
     "output_type": "execute_result"
    }
   ],
   "source": [
    "sample['month'].unique()"
   ]
  },
  {
   "cell_type": "code",
   "execution_count": 10,
   "id": "9b900863-46c9-47fc-b771-c88abb263de3",
   "metadata": {},
   "outputs": [],
   "source": [
    "months = {1 : '1-Jan', 2: '2-Feb', 3 : '3-Mar',\n",
    "         4: '4-Apr', 5: '5-May', 6: '6-Jun',\n",
    "         7: '7-Jul', 8:'8-Aug', 9 : '9-Sep',\n",
    "         10 : '10-Oct', 11:'11-Nov', 12: '12-Dec'}"
   ]
  },
  {
   "cell_type": "code",
   "execution_count": 11,
   "id": "54e22c42-832e-4ab2-bb09-c24df544c562",
   "metadata": {},
   "outputs": [
    {
     "data": {
      "text/plain": [
       "array(['10-Oct', '12-Dec', '6-Jun', '1-Jan', '7-Jul', '4-Apr', '3-Mar',\n",
       "       '9-Sep', '2-Feb', '5-May', '11-Nov', '8-Aug'], dtype=object)"
      ]
     },
     "execution_count": 11,
     "metadata": {},
     "output_type": "execute_result"
    }
   ],
   "source": [
    "sample['month'] = sample['month'].apply(lambda x: months[x])\n",
    "sample['month'].unique()"
   ]
  },
  {
   "cell_type": "code",
   "execution_count": 12,
   "id": "38d8fd10-8641-45dd-9a08-74d7d5cd9e23",
   "metadata": {},
   "outputs": [
    {
     "data": {
      "text/plain": [
       "3-Mar     0.096\n",
       "8-Aug     0.095\n",
       "7-Jul     0.095\n",
       "1-Jan     0.088\n",
       "6-Jun     0.088\n",
       "4-Apr     0.084\n",
       "5-May     0.084\n",
       "2-Feb     0.081\n",
       "10-Oct    0.074\n",
       "12-Dec    0.073\n",
       "11-Nov    0.071\n",
       "9-Sep     0.071\n",
       "Name: month, dtype: float64"
      ]
     },
     "execution_count": 12,
     "metadata": {},
     "output_type": "execute_result"
    }
   ],
   "source": [
    "round(sample['month'].value_counts(normalize = True), 3)"
   ]
  },
  {
   "cell_type": "code",
   "execution_count": 17,
   "id": "bb5b1dee-4566-49ac-b973-cba548488da0",
   "metadata": {},
   "outputs": [
    {
     "data": {
      "image/png": "[encoded data removed]",
      "text/plain": [
       "<Figure size 864x576 with 1 Axes>"
      ]
     },
     "metadata": {
      "needs_background": "light"
     },
     "output_type": "display_data"
    }
   ],
   "source": [
    "#counts of any delayed flight\n",
    "round(sample[sample['arr_delay']>=15]['month'].value_counts()).plot(kind = 'barh', figsize=(12,8))\n",
    "plt.title(f'Count of flights delayed at least 15 minutes by month \\n n = {sample.shape[0]:,}', size = 20);\n",
    "plt.xlabel('Number of delayed flights', size = 18 )\n",
    "plt.xticks(fontsize = 12, rotation = 0)\n",
    "plt.ylabel('Month', size = 18 )\n",
    "plt.yticks(fontsize = 12);"
   ]
  },
  {
   "cell_type": "markdown",
   "id": "c5b34042-adf8-464b-8c33-5f01be95b9fb",
   "metadata": {},
   "source": [
    "#### Discussion: Summer months.\n",
    "----\n",
    "Traditionally, the summer travel season is the busiest season for airlines to operate flights. \n",
    "This means, for business and leisure customer segments there is a higher persistent historical chance of delay due to the increase in flights that are in the air system. "
   ]
  },
  {
   "cell_type": "code",
   "execution_count": 150,
   "id": "4e926257-99a3-4001-add9-385e4bf32b12",
   "metadata": {},
   "outputs": [
    {
     "data": {
      "text/plain": [
       "6"
      ]
     },
     "execution_count": 150,
     "metadata": {},
     "output_type": "execute_result"
    }
   ],
   "source": [
    "## add total dealy minutes if month equals Jun Jul Aug for each year in data set. \n",
    "len(sample['year'].unique())"
   ]
  },
  {
   "cell_type": "code",
   "execution_count": 35,
   "id": "fd718a7a-ef4f-4b69-bfe3-e7cdf438e367",
   "metadata": {},
   "outputs": [
    {
     "data": {
      "image/png": "[encoded data removed]",
      "text/plain": [
       "<Figure size 864x576 with 1 Axes>"
      ]
     },
     "metadata": {
      "needs_background": "light"
     },
     "output_type": "display_data"
    }
   ],
   "source": [
    "sample[sample['arr_delay']>=15]['arr_delay'].groupby(sample['month']).mean().astype(int).sort_values(ascending = False).plot(kind = 'barh', figsize=(12,8))\n",
    "plt.title(f'Mean delay (min) of flights delayed at least 15 minutes by month \\n n = {sample.shape[0]:,}', size = 20);\n",
    "plt.xlabel('Avg delay (min)', size = 18 )\n",
    "plt.xticks(fontsize = 12, rotation = 0)\n",
    "plt.ylabel('Month', size = 18 )\n",
    "plt.yticks(fontsize = 12);"
   ]
  },
  {
   "cell_type": "markdown",
   "id": "dd93df43-adc2-4455-806c-35064b741ef8",
   "metadata": {},
   "source": [
    "The figure make clearer that in the sample data, a traveler would experience an average delay between 60 and 70 minutes at any point in the year. \n",
    "\n",
    "---\n"
   ]
  },
  {
   "cell_type": "markdown",
   "id": "eb2aab8a-9f76-4427-a395-5c7ff3777a5e",
   "metadata": {},
   "source": [
    "### Day of the week. \n",
    "The day of the week is represented by a number begining on Monday with 1 and ending the week with 7. The data dictionary states that there is an unknown value of 9. \n",
    "\n",
    "depending on how wide you want your research to go, let's ensure that there are no unknown days by masking and updating our `sample` variable with the resulting dataframe. "
   ]
  },
  {
   "cell_type": "code",
   "execution_count": 22,
   "id": "e58b1cf9-78b2-4579-92f0-4f5556d50e26",
   "metadata": {},
   "outputs": [],
   "source": [
    "sample = sample[sample['day_of_week'] != 9].copy()"
   ]
  },
  {
   "cell_type": "markdown",
   "id": "89ceae5a-22ad-45f5-86b3-f94325dab916",
   "metadata": {},
   "source": [
    "Next, I will want to take basic counts and measure delays as we did earlier with `year` and `month`. \n",
    "<br> \n",
    "Like the `month` variable, the data came over encoded with integers as mentioned above. "
   ]
  },
  {
   "cell_type": "code",
   "execution_count": 26,
   "id": "be0acc30-ba67-4125-9650-cd01176d2f72",
   "metadata": {},
   "outputs": [],
   "source": [
    "days = { 1: 'Mon', 2: 'Tue', 3:'Wed', 4: 'Thu', 5: 'Fri', 6: 'Sat', 7: 'Sun'}"
   ]
  },
  {
   "cell_type": "code",
   "execution_count": 28,
   "id": "1c8c0105-cff6-4928-816f-deed8037679b",
   "metadata": {},
   "outputs": [
    {
     "data": {
      "text/plain": [
       "array(['Sun', 'Fri', 'Mon', 'Sat', 'Wed', 'Thu', 'Tue'], dtype=object)"
      ]
     },
     "execution_count": 28,
     "metadata": {},
     "output_type": "execute_result"
    }
   ],
   "source": [
    "sample['day_of_week'] = sample['day_of_week'].apply(lambda x: days[x])\n",
    "sample['day_of_week'].unique()"
   ]
  },
  {
   "cell_type": "code",
   "execution_count": 29,
   "id": "7a9fe30f-b6e1-4501-b2a3-7100bf8b9cbc",
   "metadata": {},
   "outputs": [
    {
     "data": {
      "image/png": "[encoded data removed]",
      "text/plain": [
       "<Figure size 864x576 with 1 Axes>"
      ]
     },
     "metadata": {
      "needs_background": "light"
     },
     "output_type": "display_data"
    }
   ],
   "source": [
    "#counts of any delayed flight\n",
    "round(sample[sample['arr_delay']>=15]['day_of_week'].value_counts()).plot(kind = 'barh', figsize=(12,8))\n",
    "plt.title(f'Count of flights delayed at least 15 minutes by day of the week \\n n = {sample.shape[0]:,}', size = 20);\n",
    "plt.xlabel('Number of delayed flights', size = 18 )\n",
    "plt.xticks(fontsize = 12, rotation = 0)\n",
    "plt.ylabel('Day of the Week', size = 18 )\n",
    "plt.yticks(fontsize = 12);"
   ]
  },
  {
   "cell_type": "code",
   "execution_count": 31,
   "id": "b1d5b219-d1fd-493a-8657-9ec033c79be1",
   "metadata": {},
   "outputs": [
    {
     "data": {
      "image/png": "[encoded data removed]",
      "text/plain": [
       "<Figure size 864x576 with 1 Axes>"
      ]
     },
     "metadata": {
      "needs_background": "light"
     },
     "output_type": "display_data"
    }
   ],
   "source": [
    "sample[sample['arr_delay']>=15]['arr_delay'].groupby(sample['day_of_week']).mean().astype(int).sort_values(ascending = False).plot(kind = 'barh', figsize=(12,8))\n",
    "plt.title(f'Mean delay (min) of flights delayed at least 15 minutes by day of week \\n n = {sample.shape[0]:,}', size = 20);\n",
    "plt.xlabel('Avg delay (min)', size = 18 )\n",
    "plt.xticks(fontsize = 12, rotation = 0)\n",
    "plt.ylabel('Day of Week', size = 18 )\n",
    "plt.yticks(fontsize = 12);"
   ]
  },
  {
   "cell_type": "markdown",
   "id": "46798eb5-6100-47ee-883d-4926e09204b6",
   "metadata": {},
   "source": [
    "#### Discussion\n",
    "There doesn't appear to be a day-to-day difference in the mean delay in the sample data. \n",
    "There is an apparent advantage to flying on Saturday, but let's consider the scale of the chart and the actual difference between the highest mean delay on a Saturday vs on a Friday. "
   ]
  },
  {
   "cell_type": "markdown",
   "id": "23eff6b7-1b59-4d61-b1c0-6bc5406bd275",
   "metadata": {},
   "source": [
    "----"
   ]
  },
  {
   "cell_type": "markdown",
   "id": "aa7c6a9e-16c4-4112-b473-e0030db5ca05",
   "metadata": {},
   "source": [
    "## EDA on airline and airports on arrival delay (`arr_delay`):\n",
    "We can review other columns that are specific to company (the airline) and to location (the origin and destination airports)."
   ]
  },
  {
   "cell_type": "code",
   "execution_count": 36,
   "id": "49313fa2-520e-40d6-b77f-631f606f1128",
   "metadata": {},
   "outputs": [
    {
     "data": {
      "text/plain": [
       "Index(['year', 'month', 'day_of_month', 'day_of_week', 'fl_date',\n",
       "       'op_unique_carrier', 'tail_num', 'op_carrier_fl_num', 'origin',\n",
       "       'origin_city_name', 'origin_state_nm', 'dest', 'dest_city_name',\n",
       "       'dest_state_nm', 'crs_dep_time', 'dep_time', 'dep_delay',\n",
       "       'dep_delay_new', 'crs_arr_time', 'arr_time', 'arr_delay',\n",
       "       'arr_delay_new', 'cancelled', 'cancellation_code', 'diverted',\n",
       "       'crs_elapsed_time', 'flights', 'distance', 'carrier_delay',\n",
       "       'weather_delay', 'nas_delay', 'security_delay', 'late_aircraft_delay',\n",
       "       'unnamed: 33'],\n",
       "      dtype='object')"
      ]
     },
     "execution_count": 36,
     "metadata": {},
     "output_type": "execute_result"
    }
   ],
   "source": [
    "sample.columns"
   ]
  },
  {
   "cell_type": "code",
   "execution_count": null,
   "id": "4a353f39-7fff-4a1d-9ae4-220404703564",
   "metadata": {},
   "outputs": [],
   "source": []
  }
 ],
 "metadata": {
  "kernelspec": {
   "display_name": "Python 3 (ipykernel)",
   "language": "python",
   "name": "python3"
  },
  "language_info": {
   "codemirror_mode": {
    "name": "ipython",
    "version": 3
   },
   "file_extension": ".py",
   "mimetype": "text/x-python",
   "name": "python",
   "nbconvert_exporter": "python",
   "pygments_lexer": "ipython3",
   "version": "3.8.8"
  }
 },
 "nbformat": 4,
 "nbformat_minor": 5
}
