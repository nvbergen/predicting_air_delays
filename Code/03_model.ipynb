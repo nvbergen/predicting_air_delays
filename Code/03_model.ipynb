{
 "cells": [
  {
   "cell_type": "markdown",
   "id": "9df87fd4-f29f-4da8-8130-d5fd7c6b2a17",
   "metadata": {
    "tags": []
   },
   "source": [
    "# Predicting Air Delays\n",
    "Notebook III: Machine Learning model and predictions\n",
    "----\n",
    "\n",
    "Thank you for your review of my code notebook.\n",
    "This notebook's goal is to analyze and prepare the dataset for exposure on a Machine Learning algorithm.\n",
    "\n",
    "---\n",
    "#### Problem Statement: \n",
    "Both travelers and airlines find delays frustrating and costly. This project attempts to be able to predict the probability of a commercial flight delay for any flight in the United States.\n",
    "\n",
    "---\n",
    "\n",
    "#### MVP:\n",
    "My product will be a small lightweight application run on `streamlit` platform for proof-of-concept where a user can find the probability of their desired flight having a delay, how long the delay may be, and how much will the delay cost the user in _lost time_ at the destination.\n",
    "\n",
    "Since we have labels on all our data, the model the app will be based on is a supervised multi-class classification machine learning model.\n",
    "\n",
    "---\n",
    "# Modeling \n",
    "\n",
    "The primary challenge in this notebook is running models on a volume of data in the millions of instances. \n",
    "\n",
    "The notebook is structured as follows.<br> \n",
    "**Notebook III: Modeling **\n",
    ">1. Setup/Imports\n",
    ">2. Load data\n",
    ">3. Class Balances and Training Set + Validation Set.\n",
    ">4. Modeling and Model Selection\n",
    ">5. Save the final model and discuss next steps. \n",
    "\n",
    "The processed model will be saved on a new file by the end of this notebook and called into the subsequent that builds an application.\n",
    "\n",
    "The notebooks in this project are: <br>\n",
    "I. Intake and cleaning<br>\n",
    "II. EDA and preprocessing<br>\n",
    "**III. Modeling and predictions**<br>\n",
    "IV. App<br>\n",
    "\n",
    "---"
   ]
  },
  {
   "cell_type": "markdown",
   "id": "76753a79-78b6-46b2-befc-789457a0e3e5",
   "metadata": {},
   "source": [
    "## 1. Setup and Imports\n",
    "----"
   ]
  },
  {
   "cell_type": "code",
   "execution_count": 57,
   "id": "6c22d467-9f86-472a-bb78-5388dad09562",
   "metadata": {},
   "outputs": [],
   "source": [
    "import os\n",
    "import pandas as pd\n",
    "import numpy as np\n",
    "import matplotlib.pyplot as plt\n",
    "import seaborn as sns\n",
    "\n",
    "\n",
    "#utilities\n",
    "from sklearn.preprocessing import LabelEncoder, OneHotEncoder\n",
    "from sklearn.pipeline import Pipeline\n",
    "from sklearn.model_selection import cross_val_score, train_test_split, GridSearchCV, KFold, cross_validate, RepeatedStratifiedKFold\n",
    "from sklearn.metrics import mean_squared_error, roc_auc_score, f1_score, mean_absolute_error, precision_score, recall_score, plot_roc_curve, confusion_matrix, plot_confusion_matrix, RocCurveDisplay\n",
    "\n",
    "\n",
    "\n",
    "\n",
    "#models\n",
    "from sklearn.linear_model import LogisticRegression\n",
    "from sklearn.ensemble import RandomForestClassifier, AdaBoostClassifier\n",
    "from xgboost import XGBClassifier, plot_importance\n",
    "from lightgbm import LGBMClassifier\n"
   ]
  },
  {
   "cell_type": "markdown",
   "id": "103e2bd8-95f1-4699-8c8c-091a8591e23d",
   "metadata": {},
   "source": [
    "I am utilizing Light GBM as my primary model of choice due to the tabular and labeled nature of our problem. \n",
    "The shape of our dataset would effectively require as fast of processing time as possible. "
   ]
  },
  {
   "cell_type": "code",
   "execution_count": null,
   "id": "42b4ae6d-fe84-491d-97f9-dba6ed25751b",
   "metadata": {},
   "outputs": [],
   "source": [
    "!pip install lightgbm"
   ]
  },
  {
   "cell_type": "code",
   "execution_count": null,
   "id": "cb1db377-b19c-4d35-b917-a0be309ea875",
   "metadata": {},
   "outputs": [],
   "source": [
    "!pip install imbalanced-learn"
   ]
  },
  {
   "cell_type": "code",
   "execution_count": 2,
   "id": "b1ac8654-f3a6-4cca-b5db-fba12f55bd03",
   "metadata": {},
   "outputs": [],
   "source": [
    "os.chdir('/Volumes/lacie/data_ingestion/capstone_hopper')"
   ]
  },
  {
   "cell_type": "code",
   "execution_count": 4,
   "id": "f36b8c80-b02b-493b-bfbb-f10179f49335",
   "metadata": {},
   "outputs": [],
   "source": [
    "#pd.set_option('display.max_columns', None)\n",
    "#pd.set_option('display.max_rows', None)"
   ]
  },
  {
   "cell_type": "markdown",
   "id": "633827a6-fd4e-45b2-afe1-fc9dd0f3fa94",
   "metadata": {},
   "source": [
    "## 2. Loading Data\n",
    "---\n",
    "\n"
   ]
  },
  {
   "cell_type": "code",
   "execution_count": 3,
   "id": "55bdb4f8-65a3-4b98-ad95-964e6f87e118",
   "metadata": {},
   "outputs": [],
   "source": [
    "flights = pd.read_csv('flights_processed_ex_dummies.csv')"
   ]
  },
  {
   "cell_type": "code",
   "execution_count": 4,
   "id": "ce101fc1-78ef-45f1-9d0b-ea8b58052c36",
   "metadata": {},
   "outputs": [
    {
     "data": {
      "text/plain": [
       "(2735655, 28)"
      ]
     },
     "execution_count": 4,
     "metadata": {},
     "output_type": "execute_result"
    }
   ],
   "source": [
    "flights.shape"
   ]
  },
  {
   "cell_type": "code",
   "execution_count": 5,
   "id": "463454d5-dbb6-4d84-ab04-4bae8ae64a91",
   "metadata": {},
   "outputs": [
    {
     "data": {
      "text/plain": [
       "0"
      ]
     },
     "execution_count": 5,
     "metadata": {},
     "output_type": "execute_result"
    }
   ],
   "source": [
    "#check for null corruption\n",
    "flights.isnull().sum().sum()"
   ]
  },
  {
   "cell_type": "markdown",
   "id": "64342daa-2faf-4a41-ae5d-9fb26c6fd128",
   "metadata": {},
   "source": [
    "Pandas infers datatypes. So,  we have to cast certain categorical variables that are represented with numbers as _strings_ so we can then encode them using Pandas. "
   ]
  },
  {
   "cell_type": "code",
   "execution_count": 6,
   "id": "886e9f01-3c43-492b-989a-86f4f4f53a8d",
   "metadata": {},
   "outputs": [
    {
     "data": {
      "text/plain": [
       "year                     int64\n",
       "month                   object\n",
       "day_of_month             int64\n",
       "day_of_week             object\n",
       "fl_date                 object\n",
       "airline                 object\n",
       "tail_num                object\n",
       "op_carrier_fl_num        int64\n",
       "origin                  object\n",
       "origin_city_name        object\n",
       "dest                    object\n",
       "dest_city_name          object\n",
       "crs_dep_time             int64\n",
       "dep_time               float64\n",
       "dep_delay              float64\n",
       "crs_arr_time             int64\n",
       "arr_time               float64\n",
       "arr_delay              float64\n",
       "cancelled              float64\n",
       "cancellation_code       object\n",
       "distance               float64\n",
       "carrier_delay          float64\n",
       "weather_delay          float64\n",
       "nas_delay              float64\n",
       "security_delay         float64\n",
       "late_aircraft_delay    float64\n",
       "delay_class             object\n",
       "markets                 object\n",
       "dtype: object"
      ]
     },
     "execution_count": 6,
     "metadata": {},
     "output_type": "execute_result"
    }
   ],
   "source": [
    "#use a mask to find categorical columns\n",
    "flights.dtypes"
   ]
  },
  {
   "cell_type": "code",
   "execution_count": 7,
   "id": "5b9f03e1-53bc-43f5-955a-247fb7949851",
   "metadata": {
    "tags": []
   },
   "outputs": [],
   "source": [
    "#numerical represented categories converted to string\n",
    "categorical = {'year' : str,\n",
    "               'day_of_month': str,  \n",
    "              'op_carrier_fl_num': str, \n",
    "               'crs_dep_time': str, \n",
    "               'dep_time' : str,\n",
    "               'dep_delay': str,\n",
    "               'crs_dep_time' : str,\n",
    "               'crs_arr_time': str, \n",
    "               'arr_time' : str,\n",
    "              'arr_delay':str,\n",
    "              }"
   ]
  },
  {
   "cell_type": "code",
   "execution_count": 8,
   "id": "9ee4c187-a08e-4c00-865a-75ec844cd464",
   "metadata": {},
   "outputs": [],
   "source": [
    "flights = flights.astype(categorical)"
   ]
  },
  {
   "cell_type": "code",
   "execution_count": 9,
   "id": "bf3b96cc-7a85-4480-bf91-8db9c4efe310",
   "metadata": {},
   "outputs": [],
   "source": [
    "#dropping categorical data that will not be used. \n",
    "flights = flights.drop(columns = ['fl_date', 'origin_city_name', 'dest_city_name'])"
   ]
  },
  {
   "cell_type": "code",
   "execution_count": 10,
   "id": "72697b52-600b-4449-b831-808515ca2385",
   "metadata": {},
   "outputs": [
    {
     "data": {
      "text/plain": [
       "year                    object\n",
       "month                   object\n",
       "day_of_month            object\n",
       "day_of_week             object\n",
       "airline                 object\n",
       "tail_num                object\n",
       "op_carrier_fl_num       object\n",
       "origin                  object\n",
       "dest                    object\n",
       "crs_dep_time            object\n",
       "dep_time                object\n",
       "dep_delay               object\n",
       "crs_arr_time            object\n",
       "arr_time                object\n",
       "arr_delay               object\n",
       "cancelled              float64\n",
       "cancellation_code       object\n",
       "distance               float64\n",
       "carrier_delay          float64\n",
       "weather_delay          float64\n",
       "nas_delay              float64\n",
       "security_delay         float64\n",
       "late_aircraft_delay    float64\n",
       "delay_class             object\n",
       "markets                 object\n",
       "dtype: object"
      ]
     },
     "execution_count": 10,
     "metadata": {},
     "output_type": "execute_result"
    }
   ],
   "source": [
    "flights.dtypes"
   ]
  },
  {
   "cell_type": "markdown",
   "id": "1d14d193-b5aa-4f73-8d15-bc92e854f5eb",
   "metadata": {},
   "source": [
    "## Establishing classes for the algorithm\n",
    "---\n",
    "We know that our problem can be either a binary classification task or a multiclass classification task. \n",
    "In the initial outset I will run a binary model to see how accurate we can get a `will be delayed` or `won't be delayed` prediction.\n",
    "I will just briefly reconfigure the data and then we will take a fractional sample of the data. "
   ]
  },
  {
   "cell_type": "code",
   "execution_count": 11,
   "id": "a8984de2-cd74-40f5-b8a3-35505a0524af",
   "metadata": {},
   "outputs": [],
   "source": [
    "#create new class for binary problem\n",
    "flights['delayed'] = flights['delay_class'].apply(lambda x: 1 if x != 'no delay' else 0)"
   ]
  },
  {
   "cell_type": "code",
   "execution_count": 12,
   "id": "db5f7eb3-bcd5-401e-943b-161e6a607c68",
   "metadata": {},
   "outputs": [
    {
     "data": {
      "text/plain": [
       "1    0.50805\n",
       "0    0.49195\n",
       "Name: delayed, dtype: float64"
      ]
     },
     "execution_count": 12,
     "metadata": {},
     "output_type": "execute_result"
    }
   ],
   "source": [
    "#Target class balance\n",
    "flights['delayed'].value_counts( normalize =True)"
   ]
  },
  {
   "cell_type": "code",
   "execution_count": 13,
   "id": "e58ba82a-a6d6-4e8a-bd84-7f1ef2c58db6",
   "metadata": {},
   "outputs": [],
   "source": [
    "#dropping all other delay related categories\n",
    "flights = flights.drop(columns =['carrier_delay', 'weather_delay', 'nas_delay', 'security_delay','late_aircraft_delay', 'delay_class'])"
   ]
  },
  {
   "cell_type": "markdown",
   "id": "c1a9532f-bceb-4785-9b80-d6df42d061f4",
   "metadata": {},
   "source": [
    "### SubSample for the Training and testing setup. \n",
    "----\n",
    "Next we are going to take a sample and then measure what we need to do with our categorical columns"
   ]
  },
  {
   "cell_type": "code",
   "execution_count": 14,
   "id": "08d7d69c-1ddd-44ab-8371-3fd2126f72b0",
   "metadata": {},
   "outputs": [],
   "source": [
    "ontime = flights[flights['delayed']==0]\n",
    "delayed = flights[flights['delayed']==1]"
   ]
  },
  {
   "cell_type": "code",
   "execution_count": 15,
   "id": "98585b21-84d8-4a3c-9055-82d71589433c",
   "metadata": {},
   "outputs": [],
   "source": [
    "sample_0 = ontime.sample(n = 100_000, random_state =42, ignore_index = True)\n",
    "sample_1 = delayed.sample(n = 100_000, random_state =42, ignore_index = True)"
   ]
  },
  {
   "cell_type": "code",
   "execution_count": 16,
   "id": "10050d2e-8e59-430d-92d1-9ea94ef54698",
   "metadata": {},
   "outputs": [],
   "source": [
    "sample = sample_0.append(sample_1, ignore_index = True)"
   ]
  },
  {
   "cell_type": "code",
   "execution_count": 17,
   "id": "ea71b90b-9725-4abd-85e1-ec1a1451604b",
   "metadata": {},
   "outputs": [
    {
     "name": "stdout",
     "output_type": "stream",
     "text": [
      "<class 'pandas.core.frame.DataFrame'>\n",
      "RangeIndex: 200000 entries, 0 to 199999\n",
      "Data columns (total 20 columns):\n",
      " #   Column             Non-Null Count   Dtype  \n",
      "---  ------             --------------   -----  \n",
      " 0   year               200000 non-null  object \n",
      " 1   month              200000 non-null  object \n",
      " 2   day_of_month       200000 non-null  object \n",
      " 3   day_of_week        200000 non-null  object \n",
      " 4   airline            200000 non-null  object \n",
      " 5   tail_num           200000 non-null  object \n",
      " 6   op_carrier_fl_num  200000 non-null  object \n",
      " 7   origin             200000 non-null  object \n",
      " 8   dest               200000 non-null  object \n",
      " 9   crs_dep_time       200000 non-null  object \n",
      " 10  dep_time           200000 non-null  object \n",
      " 11  dep_delay          200000 non-null  object \n",
      " 12  crs_arr_time       200000 non-null  object \n",
      " 13  arr_time           200000 non-null  object \n",
      " 14  arr_delay          200000 non-null  object \n",
      " 15  cancelled          200000 non-null  float64\n",
      " 16  cancellation_code  200000 non-null  object \n",
      " 17  distance           200000 non-null  float64\n",
      " 18  markets            200000 non-null  object \n",
      " 19  delayed            200000 non-null  int64  \n",
      "dtypes: float64(2), int64(1), object(17)\n",
      "memory usage: 30.5+ MB\n"
     ]
    }
   ],
   "source": [
    "sample.info()"
   ]
  },
  {
   "cell_type": "code",
   "execution_count": 18,
   "id": "92716735-a116-493e-934b-b1eef02974fb",
   "metadata": {},
   "outputs": [
    {
     "data": {
      "text/html": [
       "<div>\n",
       "<style scoped>\n",
       "    .dataframe tbody tr th:only-of-type {\n",
       "        vertical-align: middle;\n",
       "    }\n",
       "\n",
       "    .dataframe tbody tr th {\n",
       "        vertical-align: top;\n",
       "    }\n",
       "\n",
       "    .dataframe thead th {\n",
       "        text-align: right;\n",
       "    }\n",
       "</style>\n",
       "<table border=\"1\" class=\"dataframe\">\n",
       "  <thead>\n",
       "    <tr style=\"text-align: right;\">\n",
       "      <th></th>\n",
       "      <th>year</th>\n",
       "      <th>month</th>\n",
       "      <th>day_of_month</th>\n",
       "      <th>day_of_week</th>\n",
       "      <th>airline</th>\n",
       "      <th>tail_num</th>\n",
       "      <th>op_carrier_fl_num</th>\n",
       "      <th>origin</th>\n",
       "      <th>dest</th>\n",
       "      <th>crs_dep_time</th>\n",
       "      <th>dep_time</th>\n",
       "      <th>dep_delay</th>\n",
       "      <th>crs_arr_time</th>\n",
       "      <th>arr_time</th>\n",
       "      <th>arr_delay</th>\n",
       "      <th>cancelled</th>\n",
       "      <th>cancellation_code</th>\n",
       "      <th>distance</th>\n",
       "      <th>markets</th>\n",
       "      <th>delayed</th>\n",
       "    </tr>\n",
       "  </thead>\n",
       "  <tbody>\n",
       "    <tr>\n",
       "      <th>0</th>\n",
       "      <td>2019</td>\n",
       "      <td>May</td>\n",
       "      <td>20</td>\n",
       "      <td>Mon</td>\n",
       "      <td>Southwest Airlines</td>\n",
       "      <td>N486WN</td>\n",
       "      <td>1793</td>\n",
       "      <td>MAF</td>\n",
       "      <td>DAL</td>\n",
       "      <td>525</td>\n",
       "      <td>521.0</td>\n",
       "      <td>0.0</td>\n",
       "      <td>635</td>\n",
       "      <td>632.0</td>\n",
       "      <td>0.0</td>\n",
       "      <td>0.0</td>\n",
       "      <td>completed_flight</td>\n",
       "      <td>319.0</td>\n",
       "      <td>MAF_DAL</td>\n",
       "      <td>0</td>\n",
       "    </tr>\n",
       "    <tr>\n",
       "      <th>1</th>\n",
       "      <td>2019</td>\n",
       "      <td>Oct</td>\n",
       "      <td>18</td>\n",
       "      <td>Fri</td>\n",
       "      <td>American Airlines</td>\n",
       "      <td>N667AW</td>\n",
       "      <td>1794</td>\n",
       "      <td>CLT</td>\n",
       "      <td>RDU</td>\n",
       "      <td>1620</td>\n",
       "      <td>1617.0</td>\n",
       "      <td>0.0</td>\n",
       "      <td>1720</td>\n",
       "      <td>1718.0</td>\n",
       "      <td>0.0</td>\n",
       "      <td>0.0</td>\n",
       "      <td>completed_flight</td>\n",
       "      <td>130.0</td>\n",
       "      <td>CLT_RDU</td>\n",
       "      <td>0</td>\n",
       "    </tr>\n",
       "    <tr>\n",
       "      <th>2</th>\n",
       "      <td>2019</td>\n",
       "      <td>Aug</td>\n",
       "      <td>1</td>\n",
       "      <td>Thu</td>\n",
       "      <td>Envoy Air</td>\n",
       "      <td>N668HH</td>\n",
       "      <td>3530</td>\n",
       "      <td>CLE</td>\n",
       "      <td>MIA</td>\n",
       "      <td>557</td>\n",
       "      <td>552.0</td>\n",
       "      <td>0.0</td>\n",
       "      <td>858</td>\n",
       "      <td>837.0</td>\n",
       "      <td>0.0</td>\n",
       "      <td>0.0</td>\n",
       "      <td>completed_flight</td>\n",
       "      <td>1080.0</td>\n",
       "      <td>CLE_MIA</td>\n",
       "      <td>0</td>\n",
       "    </tr>\n",
       "    <tr>\n",
       "      <th>3</th>\n",
       "      <td>2017</td>\n",
       "      <td>Mar</td>\n",
       "      <td>10</td>\n",
       "      <td>Fri</td>\n",
       "      <td>Alaska Airlines</td>\n",
       "      <td>N527AS</td>\n",
       "      <td>342</td>\n",
       "      <td>SEA</td>\n",
       "      <td>OAK</td>\n",
       "      <td>610</td>\n",
       "      <td>558.0</td>\n",
       "      <td>0.0</td>\n",
       "      <td>811</td>\n",
       "      <td>808.0</td>\n",
       "      <td>0.0</td>\n",
       "      <td>0.0</td>\n",
       "      <td>completed_flight</td>\n",
       "      <td>672.0</td>\n",
       "      <td>SEA_OAK</td>\n",
       "      <td>0</td>\n",
       "    </tr>\n",
       "    <tr>\n",
       "      <th>4</th>\n",
       "      <td>2021</td>\n",
       "      <td>Jan</td>\n",
       "      <td>30</td>\n",
       "      <td>Sat</td>\n",
       "      <td>Southwest Airlines</td>\n",
       "      <td>N8551Q</td>\n",
       "      <td>1711</td>\n",
       "      <td>BNA</td>\n",
       "      <td>HOU</td>\n",
       "      <td>1520</td>\n",
       "      <td>1513.0</td>\n",
       "      <td>0.0</td>\n",
       "      <td>1735</td>\n",
       "      <td>1712.0</td>\n",
       "      <td>0.0</td>\n",
       "      <td>0.0</td>\n",
       "      <td>completed_flight</td>\n",
       "      <td>670.0</td>\n",
       "      <td>BNA_HOU</td>\n",
       "      <td>0</td>\n",
       "    </tr>\n",
       "    <tr>\n",
       "      <th>...</th>\n",
       "      <td>...</td>\n",
       "      <td>...</td>\n",
       "      <td>...</td>\n",
       "      <td>...</td>\n",
       "      <td>...</td>\n",
       "      <td>...</td>\n",
       "      <td>...</td>\n",
       "      <td>...</td>\n",
       "      <td>...</td>\n",
       "      <td>...</td>\n",
       "      <td>...</td>\n",
       "      <td>...</td>\n",
       "      <td>...</td>\n",
       "      <td>...</td>\n",
       "      <td>...</td>\n",
       "      <td>...</td>\n",
       "      <td>...</td>\n",
       "      <td>...</td>\n",
       "      <td>...</td>\n",
       "      <td>...</td>\n",
       "    </tr>\n",
       "    <tr>\n",
       "      <th>199995</th>\n",
       "      <td>2018</td>\n",
       "      <td>Mar</td>\n",
       "      <td>22</td>\n",
       "      <td>Thu</td>\n",
       "      <td>Southwest Airlines</td>\n",
       "      <td>N431WN</td>\n",
       "      <td>2014</td>\n",
       "      <td>SLC</td>\n",
       "      <td>PHX</td>\n",
       "      <td>2125</td>\n",
       "      <td>2155.0</td>\n",
       "      <td>30.0</td>\n",
       "      <td>2200</td>\n",
       "      <td>2235.0</td>\n",
       "      <td>35.0</td>\n",
       "      <td>0.0</td>\n",
       "      <td>completed_flight</td>\n",
       "      <td>507.0</td>\n",
       "      <td>SLC_PHX</td>\n",
       "      <td>1</td>\n",
       "    </tr>\n",
       "    <tr>\n",
       "      <th>199996</th>\n",
       "      <td>2016</td>\n",
       "      <td>Jun</td>\n",
       "      <td>6</td>\n",
       "      <td>Mon</td>\n",
       "      <td>Delta Airlines</td>\n",
       "      <td>N934AT</td>\n",
       "      <td>2444</td>\n",
       "      <td>LAX</td>\n",
       "      <td>OAK</td>\n",
       "      <td>2220</td>\n",
       "      <td>2247.0</td>\n",
       "      <td>27.0</td>\n",
       "      <td>2345</td>\n",
       "      <td>6.0</td>\n",
       "      <td>21.0</td>\n",
       "      <td>0.0</td>\n",
       "      <td>completed_flight</td>\n",
       "      <td>337.0</td>\n",
       "      <td>LAX_OAK</td>\n",
       "      <td>1</td>\n",
       "    </tr>\n",
       "    <tr>\n",
       "      <th>199997</th>\n",
       "      <td>2018</td>\n",
       "      <td>Dec</td>\n",
       "      <td>26</td>\n",
       "      <td>Wed</td>\n",
       "      <td>American Airlines</td>\n",
       "      <td>N840AW</td>\n",
       "      <td>1784</td>\n",
       "      <td>IAH</td>\n",
       "      <td>LAX</td>\n",
       "      <td>1357</td>\n",
       "      <td>1354.0</td>\n",
       "      <td>0.0</td>\n",
       "      <td>1543</td>\n",
       "      <td>1605.0</td>\n",
       "      <td>22.0</td>\n",
       "      <td>0.0</td>\n",
       "      <td>completed_flight</td>\n",
       "      <td>1379.0</td>\n",
       "      <td>IAH_LAX</td>\n",
       "      <td>1</td>\n",
       "    </tr>\n",
       "    <tr>\n",
       "      <th>199998</th>\n",
       "      <td>2019</td>\n",
       "      <td>Aug</td>\n",
       "      <td>18</td>\n",
       "      <td>Sun</td>\n",
       "      <td>Envoy Air</td>\n",
       "      <td>N676AE</td>\n",
       "      <td>3721</td>\n",
       "      <td>GNV</td>\n",
       "      <td>MIA</td>\n",
       "      <td>1527</td>\n",
       "      <td>1634.0</td>\n",
       "      <td>67.0</td>\n",
       "      <td>1643</td>\n",
       "      <td>1742.0</td>\n",
       "      <td>59.0</td>\n",
       "      <td>0.0</td>\n",
       "      <td>completed_flight</td>\n",
       "      <td>294.0</td>\n",
       "      <td>GNV_MIA</td>\n",
       "      <td>1</td>\n",
       "    </tr>\n",
       "    <tr>\n",
       "      <th>199999</th>\n",
       "      <td>2019</td>\n",
       "      <td>Dec</td>\n",
       "      <td>23</td>\n",
       "      <td>Mon</td>\n",
       "      <td>American Airlines</td>\n",
       "      <td>N974UY</td>\n",
       "      <td>1906</td>\n",
       "      <td>DFW</td>\n",
       "      <td>PHL</td>\n",
       "      <td>1220</td>\n",
       "      <td>1248.0</td>\n",
       "      <td>28.0</td>\n",
       "      <td>1626</td>\n",
       "      <td>1702.0</td>\n",
       "      <td>36.0</td>\n",
       "      <td>0.0</td>\n",
       "      <td>completed_flight</td>\n",
       "      <td>1303.0</td>\n",
       "      <td>DFW_PHL</td>\n",
       "      <td>1</td>\n",
       "    </tr>\n",
       "  </tbody>\n",
       "</table>\n",
       "<p>200000 rows × 20 columns</p>\n",
       "</div>"
      ],
      "text/plain": [
       "        year month day_of_month day_of_week             airline tail_num  \\\n",
       "0       2019   May           20         Mon  Southwest Airlines   N486WN   \n",
       "1       2019   Oct           18         Fri   American Airlines   N667AW   \n",
       "2       2019   Aug            1         Thu           Envoy Air   N668HH   \n",
       "3       2017   Mar           10         Fri     Alaska Airlines   N527AS   \n",
       "4       2021   Jan           30         Sat  Southwest Airlines   N8551Q   \n",
       "...      ...   ...          ...         ...                 ...      ...   \n",
       "199995  2018   Mar           22         Thu  Southwest Airlines   N431WN   \n",
       "199996  2016   Jun            6         Mon      Delta Airlines   N934AT   \n",
       "199997  2018   Dec           26         Wed   American Airlines   N840AW   \n",
       "199998  2019   Aug           18         Sun           Envoy Air   N676AE   \n",
       "199999  2019   Dec           23         Mon   American Airlines   N974UY   \n",
       "\n",
       "       op_carrier_fl_num origin dest crs_dep_time dep_time dep_delay  \\\n",
       "0                   1793    MAF  DAL          525    521.0       0.0   \n",
       "1                   1794    CLT  RDU         1620   1617.0       0.0   \n",
       "2                   3530    CLE  MIA          557    552.0       0.0   \n",
       "3                    342    SEA  OAK          610    558.0       0.0   \n",
       "4                   1711    BNA  HOU         1520   1513.0       0.0   \n",
       "...                  ...    ...  ...          ...      ...       ...   \n",
       "199995              2014    SLC  PHX         2125   2155.0      30.0   \n",
       "199996              2444    LAX  OAK         2220   2247.0      27.0   \n",
       "199997              1784    IAH  LAX         1357   1354.0       0.0   \n",
       "199998              3721    GNV  MIA         1527   1634.0      67.0   \n",
       "199999              1906    DFW  PHL         1220   1248.0      28.0   \n",
       "\n",
       "       crs_arr_time arr_time arr_delay  cancelled cancellation_code  distance  \\\n",
       "0               635    632.0       0.0        0.0  completed_flight     319.0   \n",
       "1              1720   1718.0       0.0        0.0  completed_flight     130.0   \n",
       "2               858    837.0       0.0        0.0  completed_flight    1080.0   \n",
       "3               811    808.0       0.0        0.0  completed_flight     672.0   \n",
       "4              1735   1712.0       0.0        0.0  completed_flight     670.0   \n",
       "...             ...      ...       ...        ...               ...       ...   \n",
       "199995         2200   2235.0      35.0        0.0  completed_flight     507.0   \n",
       "199996         2345      6.0      21.0        0.0  completed_flight     337.0   \n",
       "199997         1543   1605.0      22.0        0.0  completed_flight    1379.0   \n",
       "199998         1643   1742.0      59.0        0.0  completed_flight     294.0   \n",
       "199999         1626   1702.0      36.0        0.0  completed_flight    1303.0   \n",
       "\n",
       "        markets  delayed  \n",
       "0       MAF_DAL        0  \n",
       "1       CLT_RDU        0  \n",
       "2       CLE_MIA        0  \n",
       "3       SEA_OAK        0  \n",
       "4       BNA_HOU        0  \n",
       "...         ...      ...  \n",
       "199995  SLC_PHX        1  \n",
       "199996  LAX_OAK        1  \n",
       "199997  IAH_LAX        1  \n",
       "199998  GNV_MIA        1  \n",
       "199999  DFW_PHL        1  \n",
       "\n",
       "[200000 rows x 20 columns]"
      ]
     },
     "execution_count": 18,
     "metadata": {},
     "output_type": "execute_result"
    }
   ],
   "source": [
    "sample"
   ]
  },
  {
   "cell_type": "code",
   "execution_count": 19,
   "id": "72d1caf0-99b3-45d4-96b3-a8dc53a0f5fc",
   "metadata": {},
   "outputs": [
    {
     "data": {
      "image/png": "[encoded data removed]",
      "text/plain": [
       "<Figure size 864x576 with 1 Axes>"
      ]
     },
     "metadata": {
      "needs_background": "light"
     },
     "output_type": "display_data"
    }
   ],
   "source": [
    "fig, ax = plt.subplots();\n",
    "sample['delayed'].value_counts().plot(kind ='bar', figsize = (12,8));\n",
    "ticks = ax.get_xticks()\n",
    "sns.set_style('darkgrid')\n",
    "plt.title(f'Class Balance \\n n = {sample.shape[0] :,}', size = 20);\n",
    "plt.xticks(ticks = ticks, labels =['Delay','No Delay'], rotation = 0, fontsize = 12)\n",
    "plt.xlabel('Delay class', size = 18 )\n",
    "plt.ylabel('Count of rows delay class (log)', size = 18 )\n",
    "plt.yticks(fontsize = 12);\n",
    "plt.savefig(\"../Assets/class_imbal.pdf\", bbox_inches=\"tight\")"
   ]
  },
  {
   "cell_type": "markdown",
   "id": "bf679a11-9395-4a80-b526-466c98de74ec",
   "metadata": {},
   "source": [
    "## Categorical Column encoding\n",
    "----\n",
    "We will encode our categorical columns in this section and then join them to the numeric columns to establish our X values."
   ]
  },
  {
   "cell_type": "code",
   "execution_count": 20,
   "id": "83f8242f-3d64-44a7-8100-38b2f292821e",
   "metadata": {},
   "outputs": [
    {
     "data": {
      "text/plain": [
       "Index(['year', 'month', 'day_of_month', 'day_of_week', 'airline', 'tail_num',\n",
       "       'op_carrier_fl_num', 'origin', 'dest', 'crs_dep_time', 'dep_time',\n",
       "       'dep_delay', 'crs_arr_time', 'arr_time', 'arr_delay', 'cancelled',\n",
       "       'cancellation_code', 'distance', 'markets', 'delayed'],\n",
       "      dtype='object')"
      ]
     },
     "execution_count": 20,
     "metadata": {},
     "output_type": "execute_result"
    }
   ],
   "source": [
    "sample.columns"
   ]
  },
  {
   "cell_type": "code",
   "execution_count": 21,
   "id": "76b36361-c072-402e-b3bc-f9fbc50e4de2",
   "metadata": {},
   "outputs": [],
   "source": [
    "y = sample['delayed']\n",
    "sample = sample.drop(columns = ['delayed'])"
   ]
  },
  {
   "cell_type": "code",
   "execution_count": 22,
   "id": "809d332d-7c17-455d-9561-f548e0d69554",
   "metadata": {},
   "outputs": [
    {
     "data": {
      "text/plain": [
       "(['dep_delay', 'arr_delay'], ['cancelled', 'cancellation_code'])"
      ]
     },
     "execution_count": 22,
     "metadata": {},
     "output_type": "execute_result"
    }
   ],
   "source": [
    "#need to remove related delay columns to prevent data leakage.\n",
    "drop = [col for col in sample.columns if 'delay' in col]\n",
    "drop_c = [col for col in sample.columns if 'cancel' in col]\n",
    "drop, drop_c"
   ]
  },
  {
   "cell_type": "code",
   "execution_count": 23,
   "id": "4ee44391-d1d1-4540-a9d2-78aaacae6fb6",
   "metadata": {},
   "outputs": [],
   "source": [
    "sample = sample.drop(columns = drop)\n",
    "sample = sample.drop(columns = drop_c)"
   ]
  },
  {
   "cell_type": "code",
   "execution_count": 24,
   "id": "8faf38f5-31c8-4a92-81f6-467f27518686",
   "metadata": {},
   "outputs": [],
   "source": [
    "cat_cols = sample.select_dtypes(include=['object'])"
   ]
  },
  {
   "cell_type": "code",
   "execution_count": 25,
   "id": "9059d793-69dc-40d2-9529-0d31e46a9a56",
   "metadata": {},
   "outputs": [
    {
     "data": {
      "text/plain": [
       "(200000, 14)"
      ]
     },
     "execution_count": 25,
     "metadata": {},
     "output_type": "execute_result"
    }
   ],
   "source": [
    "cat_cols.shape"
   ]
  },
  {
   "cell_type": "code",
   "execution_count": 26,
   "id": "8f6a583e-a973-4f2b-8fcf-efa34e703852",
   "metadata": {},
   "outputs": [],
   "source": [
    "#need write a function that finds how many unique instances there are and print it out for each object column\n",
    "# this will inform the complexity of OHE process.\n",
    "def uniqueness(df, threshold=10):\n",
    "    '''\n",
    "    Measure the n_unique values for each categorical column. This will help us decide which columns to OHE. \n",
    "    Takes a dataframe as an arguement, and an integer to delinate the keep/drop decision. That is, if n_unique is too complex (above threshold), then consider dropping. \n",
    "    The function prints results and returns a keep and drop list of columns. \n",
    "    '''\n",
    "    col_keep = []\n",
    "    col_keep_count = []\n",
    "    col_drop = []\n",
    "    col_drop_count = []\n",
    "    for col in df.columns:\n",
    "        ux = df[f'{col}'].nunique()\n",
    "        print(f\"Column-- \\'{col}\\' -- contains {ux} unique labels\")\n",
    "        if ux > threshold:\n",
    "            col_drop.append(f'{col}')\n",
    "            col_drop_count.append(ux)\n",
    "        else:\n",
    "            col_keep.append(f'{col}')\n",
    "            col_keep_count.append(ux)\n",
    "    print('*'*30)\n",
    "    print(f\"the total number of new OHE columns is {sum(col_keep_count)}\")\n",
    "    print('*'*30)\n",
    "    return col_keep, col_drop"
   ]
  },
  {
   "cell_type": "code",
   "execution_count": 27,
   "id": "61e94da1-8a94-488e-b7cd-402fa9447e1e",
   "metadata": {},
   "outputs": [
    {
     "name": "stdout",
     "output_type": "stream",
     "text": [
      "Column-- 'year' -- contains 6 unique labels\n",
      "Column-- 'month' -- contains 12 unique labels\n",
      "Column-- 'day_of_month' -- contains 31 unique labels\n",
      "Column-- 'day_of_week' -- contains 7 unique labels\n",
      "Column-- 'airline' -- contains 17 unique labels\n",
      "Column-- 'tail_num' -- contains 7438 unique labels\n",
      "Column-- 'op_carrier_fl_num' -- contains 6866 unique labels\n",
      "Column-- 'origin' -- contains 379 unique labels\n",
      "Column-- 'dest' -- contains 374 unique labels\n",
      "Column-- 'crs_dep_time' -- contains 1301 unique labels\n",
      "Column-- 'dep_time' -- contains 1400 unique labels\n",
      "Column-- 'crs_arr_time' -- contains 1398 unique labels\n",
      "Column-- 'arr_time' -- contains 1440 unique labels\n",
      "Column-- 'markets' -- contains 6505 unique labels\n",
      "******************************\n",
      "the total number of new OHE columns is 826\n",
      "******************************\n",
      "keep:  ['year', 'month', 'day_of_month', 'day_of_week', 'airline', 'origin', 'dest']\n",
      "drop:  ['tail_num', 'op_carrier_fl_num', 'crs_dep_time', 'dep_time', 'crs_arr_time', 'arr_time', 'markets']\n"
     ]
    }
   ],
   "source": [
    "keepers, drop = uniqueness(cat_cols, 1000)\n",
    "print('keep: ', keepers)\n",
    "print('drop: ',drop)"
   ]
  },
  {
   "cell_type": "code",
   "execution_count": 28,
   "id": "51b4b8d1-ead5-437f-9c5b-0761af857515",
   "metadata": {},
   "outputs": [],
   "source": [
    "#I actually want to keep markets intact\n",
    "#drop = drop[:-1]"
   ]
  },
  {
   "cell_type": "code",
   "execution_count": 29,
   "id": "bc0f00f7-52b0-4fff-b796-086ad93228fa",
   "metadata": {},
   "outputs": [],
   "source": [
    "#apply the drop values to X drop\n",
    "sample = sample.drop(columns = drop)\n"
   ]
  },
  {
   "cell_type": "code",
   "execution_count": 30,
   "id": "b818bf28-1db5-4ad7-a66b-12f623ea57dd",
   "metadata": {},
   "outputs": [
    {
     "data": {
      "text/plain": [
       "year             object\n",
       "month            object\n",
       "day_of_month     object\n",
       "day_of_week      object\n",
       "airline          object\n",
       "origin           object\n",
       "dest             object\n",
       "distance        float64\n",
       "dtype: object"
      ]
     },
     "execution_count": 30,
     "metadata": {},
     "output_type": "execute_result"
    }
   ],
   "source": [
    "sample.dtypes"
   ]
  },
  {
   "cell_type": "code",
   "execution_count": 31,
   "id": "ea3c01a9-1d20-473b-94b6-41412f8c9958",
   "metadata": {},
   "outputs": [],
   "source": [
    "X = pd.get_dummies(sample, columns = keepers)"
   ]
  },
  {
   "cell_type": "code",
   "execution_count": 32,
   "id": "525b295d-fb3a-4fca-97cc-80b0ac1fccc5",
   "metadata": {},
   "outputs": [
    {
     "data": {
      "text/plain": [
       "Index(['distance', 'year_2016', 'year_2017', 'year_2018', 'year_2019',\n",
       "       'year_2020', 'year_2021', 'month_Apr', 'month_Aug', 'month_Dec',\n",
       "       ...\n",
       "       'dest_VEL', 'dest_VLD', 'dest_VPS', 'dest_WRG', 'dest_WYS', 'dest_XNA',\n",
       "       'dest_XWA', 'dest_YAK', 'dest_YKM', 'dest_YUM'],\n",
       "      dtype='object', length=827)"
      ]
     },
     "execution_count": 32,
     "metadata": {},
     "output_type": "execute_result"
    }
   ],
   "source": [
    "X.columns"
   ]
  },
  {
   "cell_type": "code",
   "execution_count": 33,
   "id": "6d2c6336-3508-48d3-8597-72dcab588726",
   "metadata": {},
   "outputs": [
    {
     "data": {
      "text/plain": [
       "(200000, 827)"
      ]
     },
     "execution_count": 33,
     "metadata": {},
     "output_type": "execute_result"
    }
   ],
   "source": [
    "X.shape"
   ]
  },
  {
   "cell_type": "code",
   "execution_count": 34,
   "id": "b5b73e11-fb22-4672-9ead-64d0a70affd5",
   "metadata": {},
   "outputs": [
    {
     "data": {
      "text/plain": [
       "[]"
      ]
     },
     "execution_count": 34,
     "metadata": {},
     "output_type": "execute_result"
    }
   ],
   "source": [
    "[col for col in X.columns if \"delay\" in col]"
   ]
  },
  {
   "cell_type": "markdown",
   "id": "22e745a8-8cac-4c26-9caa-aa682edc756a",
   "metadata": {},
   "source": [
    "Our task is to utilize a supervised learning model to make predictions. We want to limit the imbalance on the classes we are attempting to predict so, we are left with some decisions to make on our dataset. "
   ]
  },
  {
   "cell_type": "markdown",
   "id": "d54d186c-eff8-47a8-8385-af7d38defd08",
   "metadata": {},
   "source": [
    "### Training and Target variables set up.\n",
    "----\n",
    "Our features and target variables were encoded in the previous section. "
   ]
  },
  {
   "cell_type": "code",
   "execution_count": 35,
   "id": "e5fa2698-e62b-497e-a564-b99ca29efed8",
   "metadata": {},
   "outputs": [
    {
     "data": {
      "text/plain": [
       "((200000, 827), (200000,))"
      ]
     },
     "execution_count": 35,
     "metadata": {},
     "output_type": "execute_result"
    }
   ],
   "source": [
    "X.shape, y.shape"
   ]
  },
  {
   "cell_type": "code",
   "execution_count": 37,
   "id": "f0a005b8-0a11-41fa-b10a-f00b6340ab2c",
   "metadata": {},
   "outputs": [
    {
     "data": {
      "text/plain": [
       "0         0\n",
       "1         0\n",
       "2         0\n",
       "3         0\n",
       "4         0\n",
       "         ..\n",
       "199995    1\n",
       "199996    1\n",
       "199997    1\n",
       "199998    1\n",
       "199999    1\n",
       "Name: delayed, Length: 200000, dtype: int64"
      ]
     },
     "execution_count": 37,
     "metadata": {},
     "output_type": "execute_result"
    }
   ],
   "source": [
    "y"
   ]
  },
  {
   "cell_type": "code",
   "execution_count": 38,
   "id": "7108b858-d7bb-4fc3-b5aa-9aac40c63da9",
   "metadata": {},
   "outputs": [],
   "source": [
    "X_train, X_test, y_train, y_test = train_test_split(X, y, random_state=42, stratify=y)"
   ]
  },
  {
   "cell_type": "code",
   "execution_count": null,
   "id": "46653435-5969-454e-bab7-c76b683a3889",
   "metadata": {},
   "outputs": [],
   "source": []
  },
  {
   "cell_type": "markdown",
   "id": "1cbf00d1-5aed-403e-a207-c8e492f865c4",
   "metadata": {
    "tags": []
   },
   "source": [
    "## 4. Modeling and Performance\n",
    "----\n"
   ]
  },
  {
   "cell_type": "code",
   "execution_count": 39,
   "id": "1bb65548-425e-440b-94d5-020a5d9500dc",
   "metadata": {},
   "outputs": [],
   "source": [
    "cv_test = RepeatedStratifiedKFold(n_splits=5, n_repeats=3, random_state=1)"
   ]
  },
  {
   "cell_type": "code",
   "execution_count": 40,
   "id": "d29ae852-3e92-499f-b426-366686edbadf",
   "metadata": {},
   "outputs": [],
   "source": [
    "metrics = ['accuracy', 'precision', 'recall', 'f1', 'roc_auc']"
   ]
  },
  {
   "cell_type": "markdown",
   "id": "be75e76b-8b8f-4dbc-a920-0eeb2e5086ab",
   "metadata": {
    "jp-MarkdownHeadingCollapsed": true,
    "tags": []
   },
   "source": [
    "### 4.1 ADABoost\n",
    "----\n",
    "The first model built will be one of our boosted classifiers. ADABoost\n",
    "\n"
   ]
  },
  {
   "cell_type": "code",
   "execution_count": 148,
   "id": "91d97c57-59d6-4a6d-9b53-1b402f7e22e6",
   "metadata": {},
   "outputs": [],
   "source": [
    "ada = AdaBoostClassifier(random_state = 42)"
   ]
  },
  {
   "cell_type": "code",
   "execution_count": null,
   "id": "916a39c7-3276-476e-b70c-4578178c0ca8",
   "metadata": {},
   "outputs": [
    {
     "name": "stderr",
     "output_type": "stream",
     "text": [
      "[Parallel(n_jobs=-1)]: Using backend LokyBackend with 8 concurrent workers.\n",
      "[Parallel(n_jobs=-1)]: Done   6 out of  15 | elapsed:  2.9min remaining:  4.4min\n",
      "[Parallel(n_jobs=-1)]: Done  12 out of  15 | elapsed:  5.4min remaining:  1.4min\n",
      "[Parallel(n_jobs=-1)]: Done  15 out of  15 | elapsed:  5.4min finished\n"
     ]
    }
   ],
   "source": [
    "ada_scores = cross_validate(ada, X_train, y_train, scoring = metrics, cv = cv_test, n_jobs = -1, verbose = 3)"
   ]
  },
  {
   "cell_type": "code",
   "execution_count": 193,
   "id": "0d4a14ed-ef29-4350-9499-f7cee4de1e27",
   "metadata": {},
   "outputs": [
    {
     "name": "stdout",
     "output_type": "stream",
     "text": [
      "fit_time          145.919277\n",
      "score_time         17.044638\n",
      "test_accuracy       0.588424\n",
      "test_precision      0.582812\n",
      "test_recall         0.622396\n",
      "test_f1             0.601938\n",
      "test_roc_auc        0.620735\n",
      "dtype: float64\n"
     ]
    },
    {
     "data": {
      "text/html": [
       "<div>\n",
       "<style scoped>\n",
       "    .dataframe tbody tr th:only-of-type {\n",
       "        vertical-align: middle;\n",
       "    }\n",
       "\n",
       "    .dataframe tbody tr th {\n",
       "        vertical-align: top;\n",
       "    }\n",
       "\n",
       "    .dataframe thead th {\n",
       "        text-align: right;\n",
       "    }\n",
       "</style>\n",
       "<table border=\"1\" class=\"dataframe\">\n",
       "  <thead>\n",
       "    <tr style=\"text-align: right;\">\n",
       "      <th></th>\n",
       "      <th>fit_time</th>\n",
       "      <th>score_time</th>\n",
       "      <th>test_accuracy</th>\n",
       "      <th>test_precision</th>\n",
       "      <th>test_recall</th>\n",
       "      <th>test_f1</th>\n",
       "      <th>test_roc_auc</th>\n",
       "    </tr>\n",
       "  </thead>\n",
       "  <tbody>\n",
       "    <tr>\n",
       "      <th>0</th>\n",
       "      <td>156.293644</td>\n",
       "      <td>18.155819</td>\n",
       "      <td>0.591367</td>\n",
       "      <td>0.585172</td>\n",
       "      <td>0.627733</td>\n",
       "      <td>0.605706</td>\n",
       "      <td>0.624039</td>\n",
       "    </tr>\n",
       "    <tr>\n",
       "      <th>1</th>\n",
       "      <td>156.632660</td>\n",
       "      <td>18.267860</td>\n",
       "      <td>0.588500</td>\n",
       "      <td>0.584046</td>\n",
       "      <td>0.615000</td>\n",
       "      <td>0.599123</td>\n",
       "      <td>0.619593</td>\n",
       "    </tr>\n",
       "    <tr>\n",
       "      <th>2</th>\n",
       "      <td>157.950269</td>\n",
       "      <td>18.105565</td>\n",
       "      <td>0.586900</td>\n",
       "      <td>0.579477</td>\n",
       "      <td>0.633600</td>\n",
       "      <td>0.605331</td>\n",
       "      <td>0.617959</td>\n",
       "    </tr>\n",
       "    <tr>\n",
       "      <th>3</th>\n",
       "      <td>155.870026</td>\n",
       "      <td>18.029161</td>\n",
       "      <td>0.590100</td>\n",
       "      <td>0.585815</td>\n",
       "      <td>0.615067</td>\n",
       "      <td>0.600085</td>\n",
       "      <td>0.622627</td>\n",
       "    </tr>\n",
       "    <tr>\n",
       "      <th>4</th>\n",
       "      <td>158.311084</td>\n",
       "      <td>17.991922</td>\n",
       "      <td>0.588333</td>\n",
       "      <td>0.582647</td>\n",
       "      <td>0.622733</td>\n",
       "      <td>0.602024</td>\n",
       "      <td>0.620044</td>\n",
       "    </tr>\n",
       "    <tr>\n",
       "      <th>5</th>\n",
       "      <td>158.296528</td>\n",
       "      <td>18.009436</td>\n",
       "      <td>0.585633</td>\n",
       "      <td>0.579867</td>\n",
       "      <td>0.621733</td>\n",
       "      <td>0.600071</td>\n",
       "      <td>0.619145</td>\n",
       "    </tr>\n",
       "    <tr>\n",
       "      <th>6</th>\n",
       "      <td>158.740916</td>\n",
       "      <td>17.866016</td>\n",
       "      <td>0.589133</td>\n",
       "      <td>0.583209</td>\n",
       "      <td>0.624733</td>\n",
       "      <td>0.603257</td>\n",
       "      <td>0.621998</td>\n",
       "    </tr>\n",
       "    <tr>\n",
       "      <th>7</th>\n",
       "      <td>156.527121</td>\n",
       "      <td>17.483232</td>\n",
       "      <td>0.591633</td>\n",
       "      <td>0.585837</td>\n",
       "      <td>0.625400</td>\n",
       "      <td>0.604972</td>\n",
       "      <td>0.624303</td>\n",
       "    </tr>\n",
       "    <tr>\n",
       "      <th>8</th>\n",
       "      <td>132.847756</td>\n",
       "      <td>16.287848</td>\n",
       "      <td>0.587500</td>\n",
       "      <td>0.580675</td>\n",
       "      <td>0.629800</td>\n",
       "      <td>0.604241</td>\n",
       "      <td>0.618542</td>\n",
       "    </tr>\n",
       "    <tr>\n",
       "      <th>9</th>\n",
       "      <td>132.808335</td>\n",
       "      <td>16.383870</td>\n",
       "      <td>0.585167</td>\n",
       "      <td>0.579949</td>\n",
       "      <td>0.617800</td>\n",
       "      <td>0.598276</td>\n",
       "      <td>0.619181</td>\n",
       "    </tr>\n",
       "    <tr>\n",
       "      <th>10</th>\n",
       "      <td>132.715133</td>\n",
       "      <td>16.380818</td>\n",
       "      <td>0.587400</td>\n",
       "      <td>0.582776</td>\n",
       "      <td>0.615333</td>\n",
       "      <td>0.598612</td>\n",
       "      <td>0.620923</td>\n",
       "    </tr>\n",
       "    <tr>\n",
       "      <th>11</th>\n",
       "      <td>132.461544</td>\n",
       "      <td>16.166409</td>\n",
       "      <td>0.588133</td>\n",
       "      <td>0.582946</td>\n",
       "      <td>0.619400</td>\n",
       "      <td>0.600621</td>\n",
       "      <td>0.618957</td>\n",
       "    </tr>\n",
       "    <tr>\n",
       "      <th>12</th>\n",
       "      <td>132.745199</td>\n",
       "      <td>15.860338</td>\n",
       "      <td>0.588433</td>\n",
       "      <td>0.583119</td>\n",
       "      <td>0.620400</td>\n",
       "      <td>0.601182</td>\n",
       "      <td>0.619966</td>\n",
       "    </tr>\n",
       "    <tr>\n",
       "      <th>13</th>\n",
       "      <td>132.682452</td>\n",
       "      <td>15.802743</td>\n",
       "      <td>0.592000</td>\n",
       "      <td>0.586445</td>\n",
       "      <td>0.624133</td>\n",
       "      <td>0.604702</td>\n",
       "      <td>0.625298</td>\n",
       "    </tr>\n",
       "    <tr>\n",
       "      <th>14</th>\n",
       "      <td>133.906488</td>\n",
       "      <td>14.878535</td>\n",
       "      <td>0.586133</td>\n",
       "      <td>0.580209</td>\n",
       "      <td>0.623067</td>\n",
       "      <td>0.600874</td>\n",
       "      <td>0.618457</td>\n",
       "    </tr>\n",
       "  </tbody>\n",
       "</table>\n",
       "</div>"
      ],
      "text/plain": [
       "      fit_time  score_time  test_accuracy  test_precision  test_recall  \\\n",
       "0   156.293644   18.155819       0.591367        0.585172     0.627733   \n",
       "1   156.632660   18.267860       0.588500        0.584046     0.615000   \n",
       "2   157.950269   18.105565       0.586900        0.579477     0.633600   \n",
       "3   155.870026   18.029161       0.590100        0.585815     0.615067   \n",
       "4   158.311084   17.991922       0.588333        0.582647     0.622733   \n",
       "5   158.296528   18.009436       0.585633        0.579867     0.621733   \n",
       "6   158.740916   17.866016       0.589133        0.583209     0.624733   \n",
       "7   156.527121   17.483232       0.591633        0.585837     0.625400   \n",
       "8   132.847756   16.287848       0.587500        0.580675     0.629800   \n",
       "9   132.808335   16.383870       0.585167        0.579949     0.617800   \n",
       "10  132.715133   16.380818       0.587400        0.582776     0.615333   \n",
       "11  132.461544   16.166409       0.588133        0.582946     0.619400   \n",
       "12  132.745199   15.860338       0.588433        0.583119     0.620400   \n",
       "13  132.682452   15.802743       0.592000        0.586445     0.624133   \n",
       "14  133.906488   14.878535       0.586133        0.580209     0.623067   \n",
       "\n",
       "     test_f1  test_roc_auc  \n",
       "0   0.605706      0.624039  \n",
       "1   0.599123      0.619593  \n",
       "2   0.605331      0.617959  \n",
       "3   0.600085      0.622627  \n",
       "4   0.602024      0.620044  \n",
       "5   0.600071      0.619145  \n",
       "6   0.603257      0.621998  \n",
       "7   0.604972      0.624303  \n",
       "8   0.604241      0.618542  \n",
       "9   0.598276      0.619181  \n",
       "10  0.598612      0.620923  \n",
       "11  0.600621      0.618957  \n",
       "12  0.601182      0.619966  \n",
       "13  0.604702      0.625298  \n",
       "14  0.600874      0.618457  "
      ]
     },
     "execution_count": 193,
     "metadata": {},
     "output_type": "execute_result"
    }
   ],
   "source": [
    "ada_scored = pd.DataFrame(ada_scores)#.add_prefix('AdaBoost_')\n",
    "print(ada_scored.mean())\n",
    "ada_mean = pd.Series(ada_scored.mean(), name='AdaBoost')\n",
    "ada_scored"
   ]
  },
  {
   "cell_type": "markdown",
   "id": "5efa47a0-9ebd-4f45-b018-7dfc9618e896",
   "metadata": {
    "jp-MarkdownHeadingCollapsed": true,
    "tags": []
   },
   "source": [
    "### 4.2 Light GBM\n",
    "----\n"
   ]
  },
  {
   "cell_type": "code",
   "execution_count": 39,
   "id": "e604cb25-c627-4a91-8e36-41d04db639e2",
   "metadata": {},
   "outputs": [],
   "source": [
    "light = LGBMClassifier(random_state = 42)"
   ]
  },
  {
   "cell_type": "code",
   "execution_count": 40,
   "id": "848927f4-976f-4e17-8d20-c00c62289f6e",
   "metadata": {},
   "outputs": [
    {
     "name": "stderr",
     "output_type": "stream",
     "text": [
      "[Parallel(n_jobs=-1)]: Using backend LokyBackend with 8 concurrent workers.\n",
      "[Parallel(n_jobs=-1)]: Done   6 out of  15 | elapsed:   22.9s remaining:   34.4s\n",
      "[Parallel(n_jobs=-1)]: Done  12 out of  15 | elapsed:   34.9s remaining:    8.7s\n",
      "[Parallel(n_jobs=-1)]: Done  15 out of  15 | elapsed:   35.1s finished\n"
     ]
    }
   ],
   "source": [
    "light_scores = cross_validate(light, X_train, y_train, scoring = metrics, cv = cv_test, n_jobs = -1, verbose = 3)"
   ]
  },
  {
   "cell_type": "code",
   "execution_count": 41,
   "id": "e8f0b5f6-61aa-4a18-8286-dc3e14855b6c",
   "metadata": {},
   "outputs": [
    {
     "name": "stdout",
     "output_type": "stream",
     "text": [
      "fit_time          13.673858\n",
      "score_time         1.916300\n",
      "test_accuracy      0.610693\n",
      "test_precision     0.606094\n",
      "test_recall        0.632378\n",
      "test_f1            0.618950\n",
      "test_roc_auc       0.654099\n",
      "dtype: float64\n"
     ]
    },
    {
     "data": {
      "text/html": [
       "<div>\n",
       "<style scoped>\n",
       "    .dataframe tbody tr th:only-of-type {\n",
       "        vertical-align: middle;\n",
       "    }\n",
       "\n",
       "    .dataframe tbody tr th {\n",
       "        vertical-align: top;\n",
       "    }\n",
       "\n",
       "    .dataframe thead th {\n",
       "        text-align: right;\n",
       "    }\n",
       "</style>\n",
       "<table border=\"1\" class=\"dataframe\">\n",
       "  <thead>\n",
       "    <tr style=\"text-align: right;\">\n",
       "      <th></th>\n",
       "      <th>fit_time</th>\n",
       "      <th>score_time</th>\n",
       "      <th>test_accuracy</th>\n",
       "      <th>test_precision</th>\n",
       "      <th>test_recall</th>\n",
       "      <th>test_f1</th>\n",
       "      <th>test_roc_auc</th>\n",
       "    </tr>\n",
       "  </thead>\n",
       "  <tbody>\n",
       "    <tr>\n",
       "      <th>0</th>\n",
       "      <td>17.117618</td>\n",
       "      <td>2.092196</td>\n",
       "      <td>0.613800</td>\n",
       "      <td>0.608906</td>\n",
       "      <td>0.636267</td>\n",
       "      <td>0.622286</td>\n",
       "      <td>0.656355</td>\n",
       "    </tr>\n",
       "    <tr>\n",
       "      <th>1</th>\n",
       "      <td>17.126642</td>\n",
       "      <td>2.088092</td>\n",
       "      <td>0.610733</td>\n",
       "      <td>0.607300</td>\n",
       "      <td>0.626733</td>\n",
       "      <td>0.616864</td>\n",
       "      <td>0.652347</td>\n",
       "    </tr>\n",
       "    <tr>\n",
       "      <th>2</th>\n",
       "      <td>17.449263</td>\n",
       "      <td>2.076916</td>\n",
       "      <td>0.610867</td>\n",
       "      <td>0.604355</td>\n",
       "      <td>0.642067</td>\n",
       "      <td>0.622640</td>\n",
       "      <td>0.652855</td>\n",
       "    </tr>\n",
       "    <tr>\n",
       "      <th>3</th>\n",
       "      <td>17.387970</td>\n",
       "      <td>2.077986</td>\n",
       "      <td>0.613033</td>\n",
       "      <td>0.608526</td>\n",
       "      <td>0.633800</td>\n",
       "      <td>0.620906</td>\n",
       "      <td>0.656523</td>\n",
       "    </tr>\n",
       "    <tr>\n",
       "      <th>4</th>\n",
       "      <td>17.336949</td>\n",
       "      <td>2.065361</td>\n",
       "      <td>0.607733</td>\n",
       "      <td>0.603630</td>\n",
       "      <td>0.627533</td>\n",
       "      <td>0.615349</td>\n",
       "      <td>0.651999</td>\n",
       "    </tr>\n",
       "    <tr>\n",
       "      <th>5</th>\n",
       "      <td>16.752753</td>\n",
       "      <td>2.126565</td>\n",
       "      <td>0.612133</td>\n",
       "      <td>0.606997</td>\n",
       "      <td>0.636133</td>\n",
       "      <td>0.621224</td>\n",
       "      <td>0.654350</td>\n",
       "    </tr>\n",
       "    <tr>\n",
       "      <th>6</th>\n",
       "      <td>16.558961</td>\n",
       "      <td>2.148808</td>\n",
       "      <td>0.611533</td>\n",
       "      <td>0.606969</td>\n",
       "      <td>0.632867</td>\n",
       "      <td>0.619648</td>\n",
       "      <td>0.655716</td>\n",
       "    </tr>\n",
       "    <tr>\n",
       "      <th>7</th>\n",
       "      <td>15.872479</td>\n",
       "      <td>2.327413</td>\n",
       "      <td>0.611133</td>\n",
       "      <td>0.606287</td>\n",
       "      <td>0.633933</td>\n",
       "      <td>0.619802</td>\n",
       "      <td>0.655264</td>\n",
       "    </tr>\n",
       "    <tr>\n",
       "      <th>8</th>\n",
       "      <td>8.771471</td>\n",
       "      <td>1.948018</td>\n",
       "      <td>0.612367</td>\n",
       "      <td>0.607775</td>\n",
       "      <td>0.633667</td>\n",
       "      <td>0.620451</td>\n",
       "      <td>0.654223</td>\n",
       "    </tr>\n",
       "    <tr>\n",
       "      <th>9</th>\n",
       "      <td>9.493955</td>\n",
       "      <td>1.901800</td>\n",
       "      <td>0.609100</td>\n",
       "      <td>0.605397</td>\n",
       "      <td>0.626667</td>\n",
       "      <td>0.615848</td>\n",
       "      <td>0.653378</td>\n",
       "    </tr>\n",
       "    <tr>\n",
       "      <th>10</th>\n",
       "      <td>9.640664</td>\n",
       "      <td>1.821015</td>\n",
       "      <td>0.612733</td>\n",
       "      <td>0.607229</td>\n",
       "      <td>0.638400</td>\n",
       "      <td>0.622424</td>\n",
       "      <td>0.656619</td>\n",
       "    </tr>\n",
       "    <tr>\n",
       "      <th>11</th>\n",
       "      <td>10.400183</td>\n",
       "      <td>1.539346</td>\n",
       "      <td>0.610167</td>\n",
       "      <td>0.606291</td>\n",
       "      <td>0.628400</td>\n",
       "      <td>0.617147</td>\n",
       "      <td>0.652506</td>\n",
       "    </tr>\n",
       "    <tr>\n",
       "      <th>12</th>\n",
       "      <td>10.505455</td>\n",
       "      <td>1.532512</td>\n",
       "      <td>0.607667</td>\n",
       "      <td>0.603103</td>\n",
       "      <td>0.629800</td>\n",
       "      <td>0.616162</td>\n",
       "      <td>0.651257</td>\n",
       "    </tr>\n",
       "    <tr>\n",
       "      <th>13</th>\n",
       "      <td>10.357078</td>\n",
       "      <td>1.482202</td>\n",
       "      <td>0.608533</td>\n",
       "      <td>0.603747</td>\n",
       "      <td>0.631600</td>\n",
       "      <td>0.617360</td>\n",
       "      <td>0.655905</td>\n",
       "    </tr>\n",
       "    <tr>\n",
       "      <th>14</th>\n",
       "      <td>10.336430</td>\n",
       "      <td>1.516274</td>\n",
       "      <td>0.608867</td>\n",
       "      <td>0.604895</td>\n",
       "      <td>0.627800</td>\n",
       "      <td>0.616135</td>\n",
       "      <td>0.652186</td>\n",
       "    </tr>\n",
       "  </tbody>\n",
       "</table>\n",
       "</div>"
      ],
      "text/plain": [
       "     fit_time  score_time  test_accuracy  test_precision  test_recall  \\\n",
       "0   17.117618    2.092196       0.613800        0.608906     0.636267   \n",
       "1   17.126642    2.088092       0.610733        0.607300     0.626733   \n",
       "2   17.449263    2.076916       0.610867        0.604355     0.642067   \n",
       "3   17.387970    2.077986       0.613033        0.608526     0.633800   \n",
       "4   17.336949    2.065361       0.607733        0.603630     0.627533   \n",
       "5   16.752753    2.126565       0.612133        0.606997     0.636133   \n",
       "6   16.558961    2.148808       0.611533        0.606969     0.632867   \n",
       "7   15.872479    2.327413       0.611133        0.606287     0.633933   \n",
       "8    8.771471    1.948018       0.612367        0.607775     0.633667   \n",
       "9    9.493955    1.901800       0.609100        0.605397     0.626667   \n",
       "10   9.640664    1.821015       0.612733        0.607229     0.638400   \n",
       "11  10.400183    1.539346       0.610167        0.606291     0.628400   \n",
       "12  10.505455    1.532512       0.607667        0.603103     0.629800   \n",
       "13  10.357078    1.482202       0.608533        0.603747     0.631600   \n",
       "14  10.336430    1.516274       0.608867        0.604895     0.627800   \n",
       "\n",
       "     test_f1  test_roc_auc  \n",
       "0   0.622286      0.656355  \n",
       "1   0.616864      0.652347  \n",
       "2   0.622640      0.652855  \n",
       "3   0.620906      0.656523  \n",
       "4   0.615349      0.651999  \n",
       "5   0.621224      0.654350  \n",
       "6   0.619648      0.655716  \n",
       "7   0.619802      0.655264  \n",
       "8   0.620451      0.654223  \n",
       "9   0.615848      0.653378  \n",
       "10  0.622424      0.656619  \n",
       "11  0.617147      0.652506  \n",
       "12  0.616162      0.651257  \n",
       "13  0.617360      0.655905  \n",
       "14  0.616135      0.652186  "
      ]
     },
     "execution_count": 41,
     "metadata": {},
     "output_type": "execute_result"
    }
   ],
   "source": [
    "light_scored = pd.DataFrame(light_scores)#.add_prefix('LGBMC_')\n",
    "print(light_scored.mean())\n",
    "light_mean = pd.Series(light_scored.mean(), name = 'LGBM')\n",
    "light_scored"
   ]
  },
  {
   "cell_type": "markdown",
   "id": "bd4fa131-3778-4fcb-b2d9-ace191d2f2a9",
   "metadata": {
    "tags": []
   },
   "source": [
    "### 4.3 XGBoost.\n",
    "----\n"
   ]
  },
  {
   "cell_type": "code",
   "execution_count": 41,
   "id": "05239575-4628-46bf-bf80-5677675dd531",
   "metadata": {},
   "outputs": [],
   "source": [
    "xg = XGBClassifier(tree_method = 'hist', random_state = 42)"
   ]
  },
  {
   "cell_type": "code",
   "execution_count": 42,
   "id": "22d17efb-efeb-4504-9e22-05bf1bd32e78",
   "metadata": {},
   "outputs": [
    {
     "name": "stderr",
     "output_type": "stream",
     "text": [
      "[Parallel(n_jobs=-1)]: Using backend LokyBackend with 8 concurrent workers.\n",
      "[Parallel(n_jobs=-1)]: Done   6 out of  15 | elapsed:   47.8s remaining:  1.2min\n",
      "[Parallel(n_jobs=-1)]: Done  12 out of  15 | elapsed:  1.4min remaining:   21.4s\n",
      "[Parallel(n_jobs=-1)]: Done  15 out of  15 | elapsed:  1.4min finished\n"
     ]
    }
   ],
   "source": [
    "xg_scores = cross_validate(xg, X_train, y_train, scoring = metrics, cv = cv_test, n_jobs = -1, verbose = 3)"
   ]
  },
  {
   "cell_type": "code",
   "execution_count": 43,
   "id": "de309162-83cb-4cf8-b638-40048d7692a5",
   "metadata": {},
   "outputs": [
    {
     "name": "stdout",
     "output_type": "stream",
     "text": [
      "fit_time          38.688621\n",
      "score_time         2.537228\n",
      "test_accuracy      0.611027\n",
      "test_precision     0.605752\n",
      "test_recall        0.635956\n",
      "test_f1            0.620478\n",
      "test_roc_auc       0.653135\n",
      "dtype: float64\n"
     ]
    },
    {
     "data": {
      "text/html": [
       "<div>\n",
       "<style scoped>\n",
       "    .dataframe tbody tr th:only-of-type {\n",
       "        vertical-align: middle;\n",
       "    }\n",
       "\n",
       "    .dataframe tbody tr th {\n",
       "        vertical-align: top;\n",
       "    }\n",
       "\n",
       "    .dataframe thead th {\n",
       "        text-align: right;\n",
       "    }\n",
       "</style>\n",
       "<table border=\"1\" class=\"dataframe\">\n",
       "  <thead>\n",
       "    <tr style=\"text-align: right;\">\n",
       "      <th></th>\n",
       "      <th>fit_time</th>\n",
       "      <th>score_time</th>\n",
       "      <th>test_accuracy</th>\n",
       "      <th>test_precision</th>\n",
       "      <th>test_recall</th>\n",
       "      <th>test_f1</th>\n",
       "      <th>test_roc_auc</th>\n",
       "    </tr>\n",
       "  </thead>\n",
       "  <tbody>\n",
       "    <tr>\n",
       "      <th>0</th>\n",
       "      <td>41.784700</td>\n",
       "      <td>3.001996</td>\n",
       "      <td>0.613067</td>\n",
       "      <td>0.607943</td>\n",
       "      <td>0.636800</td>\n",
       "      <td>0.622037</td>\n",
       "      <td>0.656203</td>\n",
       "    </tr>\n",
       "    <tr>\n",
       "      <th>1</th>\n",
       "      <td>41.669928</td>\n",
       "      <td>2.855586</td>\n",
       "      <td>0.608933</td>\n",
       "      <td>0.604476</td>\n",
       "      <td>0.630267</td>\n",
       "      <td>0.617102</td>\n",
       "      <td>0.651515</td>\n",
       "    </tr>\n",
       "    <tr>\n",
       "      <th>2</th>\n",
       "      <td>41.767219</td>\n",
       "      <td>3.012381</td>\n",
       "      <td>0.611900</td>\n",
       "      <td>0.604625</td>\n",
       "      <td>0.646667</td>\n",
       "      <td>0.624940</td>\n",
       "      <td>0.653077</td>\n",
       "    </tr>\n",
       "    <tr>\n",
       "      <th>3</th>\n",
       "      <td>41.840576</td>\n",
       "      <td>2.945562</td>\n",
       "      <td>0.614767</td>\n",
       "      <td>0.609545</td>\n",
       "      <td>0.638600</td>\n",
       "      <td>0.623734</td>\n",
       "      <td>0.655050</td>\n",
       "    </tr>\n",
       "    <tr>\n",
       "      <th>4</th>\n",
       "      <td>41.549704</td>\n",
       "      <td>2.882432</td>\n",
       "      <td>0.606600</td>\n",
       "      <td>0.602461</td>\n",
       "      <td>0.626800</td>\n",
       "      <td>0.614389</td>\n",
       "      <td>0.651045</td>\n",
       "    </tr>\n",
       "    <tr>\n",
       "      <th>5</th>\n",
       "      <td>41.249822</td>\n",
       "      <td>2.697001</td>\n",
       "      <td>0.610367</td>\n",
       "      <td>0.605144</td>\n",
       "      <td>0.635200</td>\n",
       "      <td>0.619808</td>\n",
       "      <td>0.650895</td>\n",
       "    </tr>\n",
       "    <tr>\n",
       "      <th>6</th>\n",
       "      <td>41.534783</td>\n",
       "      <td>2.906017</td>\n",
       "      <td>0.614600</td>\n",
       "      <td>0.608797</td>\n",
       "      <td>0.641267</td>\n",
       "      <td>0.624610</td>\n",
       "      <td>0.656349</td>\n",
       "    </tr>\n",
       "    <tr>\n",
       "      <th>7</th>\n",
       "      <td>41.868806</td>\n",
       "      <td>2.888658</td>\n",
       "      <td>0.610233</td>\n",
       "      <td>0.605352</td>\n",
       "      <td>0.633400</td>\n",
       "      <td>0.619058</td>\n",
       "      <td>0.654632</td>\n",
       "    </tr>\n",
       "    <tr>\n",
       "      <th>8</th>\n",
       "      <td>34.261810</td>\n",
       "      <td>2.247735</td>\n",
       "      <td>0.610500</td>\n",
       "      <td>0.604779</td>\n",
       "      <td>0.637800</td>\n",
       "      <td>0.620851</td>\n",
       "      <td>0.651540</td>\n",
       "    </tr>\n",
       "    <tr>\n",
       "      <th>9</th>\n",
       "      <td>35.401185</td>\n",
       "      <td>2.006273</td>\n",
       "      <td>0.610833</td>\n",
       "      <td>0.606605</td>\n",
       "      <td>0.630667</td>\n",
       "      <td>0.618402</td>\n",
       "      <td>0.652804</td>\n",
       "    </tr>\n",
       "    <tr>\n",
       "      <th>10</th>\n",
       "      <td>35.474079</td>\n",
       "      <td>2.079023</td>\n",
       "      <td>0.614667</td>\n",
       "      <td>0.608149</td>\n",
       "      <td>0.644800</td>\n",
       "      <td>0.625938</td>\n",
       "      <td>0.655281</td>\n",
       "    </tr>\n",
       "    <tr>\n",
       "      <th>11</th>\n",
       "      <td>35.373062</td>\n",
       "      <td>2.123463</td>\n",
       "      <td>0.610000</td>\n",
       "      <td>0.604962</td>\n",
       "      <td>0.634000</td>\n",
       "      <td>0.619141</td>\n",
       "      <td>0.650808</td>\n",
       "    </tr>\n",
       "    <tr>\n",
       "      <th>12</th>\n",
       "      <td>35.525126</td>\n",
       "      <td>2.152990</td>\n",
       "      <td>0.608633</td>\n",
       "      <td>0.602983</td>\n",
       "      <td>0.636067</td>\n",
       "      <td>0.619083</td>\n",
       "      <td>0.650876</td>\n",
       "    </tr>\n",
       "    <tr>\n",
       "      <th>13</th>\n",
       "      <td>35.515788</td>\n",
       "      <td>2.130148</td>\n",
       "      <td>0.614167</td>\n",
       "      <td>0.608820</td>\n",
       "      <td>0.638733</td>\n",
       "      <td>0.623418</td>\n",
       "      <td>0.657698</td>\n",
       "    </tr>\n",
       "    <tr>\n",
       "      <th>14</th>\n",
       "      <td>35.512732</td>\n",
       "      <td>2.129161</td>\n",
       "      <td>0.606133</td>\n",
       "      <td>0.601634</td>\n",
       "      <td>0.628267</td>\n",
       "      <td>0.614662</td>\n",
       "      <td>0.649247</td>\n",
       "    </tr>\n",
       "  </tbody>\n",
       "</table>\n",
       "</div>"
      ],
      "text/plain": [
       "     fit_time  score_time  test_accuracy  test_precision  test_recall  \\\n",
       "0   41.784700    3.001996       0.613067        0.607943     0.636800   \n",
       "1   41.669928    2.855586       0.608933        0.604476     0.630267   \n",
       "2   41.767219    3.012381       0.611900        0.604625     0.646667   \n",
       "3   41.840576    2.945562       0.614767        0.609545     0.638600   \n",
       "4   41.549704    2.882432       0.606600        0.602461     0.626800   \n",
       "5   41.249822    2.697001       0.610367        0.605144     0.635200   \n",
       "6   41.534783    2.906017       0.614600        0.608797     0.641267   \n",
       "7   41.868806    2.888658       0.610233        0.605352     0.633400   \n",
       "8   34.261810    2.247735       0.610500        0.604779     0.637800   \n",
       "9   35.401185    2.006273       0.610833        0.606605     0.630667   \n",
       "10  35.474079    2.079023       0.614667        0.608149     0.644800   \n",
       "11  35.373062    2.123463       0.610000        0.604962     0.634000   \n",
       "12  35.525126    2.152990       0.608633        0.602983     0.636067   \n",
       "13  35.515788    2.130148       0.614167        0.608820     0.638733   \n",
       "14  35.512732    2.129161       0.606133        0.601634     0.628267   \n",
       "\n",
       "     test_f1  test_roc_auc  \n",
       "0   0.622037      0.656203  \n",
       "1   0.617102      0.651515  \n",
       "2   0.624940      0.653077  \n",
       "3   0.623734      0.655050  \n",
       "4   0.614389      0.651045  \n",
       "5   0.619808      0.650895  \n",
       "6   0.624610      0.656349  \n",
       "7   0.619058      0.654632  \n",
       "8   0.620851      0.651540  \n",
       "9   0.618402      0.652804  \n",
       "10  0.625938      0.655281  \n",
       "11  0.619141      0.650808  \n",
       "12  0.619083      0.650876  \n",
       "13  0.623418      0.657698  \n",
       "14  0.614662      0.649247  "
      ]
     },
     "execution_count": 43,
     "metadata": {},
     "output_type": "execute_result"
    }
   ],
   "source": [
    "xg_scored = pd.DataFrame(xg_scores)#.add_prefix('XGBoost_')\n",
    "print(xg_scored.mean())\n",
    "xg_mean= pd.Series(xg_scored.mean(), name = 'XGBoost')\n",
    "xg_scored"
   ]
  },
  {
   "cell_type": "markdown",
   "id": "da28629a-9d94-4457-8281-43dff985b66a",
   "metadata": {
    "jp-MarkdownHeadingCollapsed": true,
    "tags": []
   },
   "source": [
    "### 4.4 Logistic Regression\n",
    "----\n"
   ]
  },
  {
   "cell_type": "code",
   "execution_count": 155,
   "id": "22728172-5434-4e5e-8e97-c50fb7c9f0d4",
   "metadata": {},
   "outputs": [],
   "source": [
    "lr = LogisticRegression()"
   ]
  },
  {
   "cell_type": "code",
   "execution_count": 156,
   "id": "12067438-0dde-4cdb-b958-1a75f93b8650",
   "metadata": {},
   "outputs": [
    {
     "name": "stderr",
     "output_type": "stream",
     "text": [
      "[Parallel(n_jobs=-1)]: Using backend LokyBackend with 8 concurrent workers.\n",
      "[Parallel(n_jobs=-1)]: Done   6 out of  15 | elapsed:  1.3min remaining:  2.0min\n",
      "[Parallel(n_jobs=-1)]: Done  12 out of  15 | elapsed:  2.1min remaining:   31.5s\n",
      "[Parallel(n_jobs=-1)]: Done  15 out of  15 | elapsed:  2.2min finished\n"
     ]
    }
   ],
   "source": [
    "lr_scores = cross_validate(lr, X_train, y_train, scoring = metrics, cv = cv_test, n_jobs = -1, verbose = 3)"
   ]
  },
  {
   "cell_type": "code",
   "execution_count": 190,
   "id": "c56756a6-218f-4b77-8a92-7406c0640906",
   "metadata": {},
   "outputs": [
    {
     "name": "stdout",
     "output_type": "stream",
     "text": [
      "fit_time          59.240998\n",
      "score_time         1.039002\n",
      "test_accuracy      0.590091\n",
      "test_precision     0.585364\n",
      "test_recall        0.618907\n",
      "test_f1            0.601447\n",
      "test_roc_auc       0.621824\n",
      "dtype: float64\n"
     ]
    },
    {
     "data": {
      "text/html": [
       "<div>\n",
       "<style scoped>\n",
       "    .dataframe tbody tr th:only-of-type {\n",
       "        vertical-align: middle;\n",
       "    }\n",
       "\n",
       "    .dataframe tbody tr th {\n",
       "        vertical-align: top;\n",
       "    }\n",
       "\n",
       "    .dataframe thead th {\n",
       "        text-align: right;\n",
       "    }\n",
       "</style>\n",
       "<table border=\"1\" class=\"dataframe\">\n",
       "  <thead>\n",
       "    <tr style=\"text-align: right;\">\n",
       "      <th></th>\n",
       "      <th>fit_time</th>\n",
       "      <th>score_time</th>\n",
       "      <th>test_accuracy</th>\n",
       "      <th>test_precision</th>\n",
       "      <th>test_recall</th>\n",
       "      <th>test_f1</th>\n",
       "      <th>test_roc_auc</th>\n",
       "    </tr>\n",
       "  </thead>\n",
       "  <tbody>\n",
       "    <tr>\n",
       "      <th>0</th>\n",
       "      <td>77.438148</td>\n",
       "      <td>1.175949</td>\n",
       "      <td>0.595300</td>\n",
       "      <td>0.592101</td>\n",
       "      <td>0.612667</td>\n",
       "      <td>0.602208</td>\n",
       "      <td>0.626389</td>\n",
       "    </tr>\n",
       "    <tr>\n",
       "      <th>1</th>\n",
       "      <td>29.429541</td>\n",
       "      <td>0.941158</td>\n",
       "      <td>0.582600</td>\n",
       "      <td>0.568795</td>\n",
       "      <td>0.682933</td>\n",
       "      <td>0.620660</td>\n",
       "      <td>0.610589</td>\n",
       "    </tr>\n",
       "    <tr>\n",
       "      <th>2</th>\n",
       "      <td>59.870656</td>\n",
       "      <td>1.110103</td>\n",
       "      <td>0.585800</td>\n",
       "      <td>0.580923</td>\n",
       "      <td>0.615933</td>\n",
       "      <td>0.597916</td>\n",
       "      <td>0.619068</td>\n",
       "    </tr>\n",
       "    <tr>\n",
       "      <th>3</th>\n",
       "      <td>56.071524</td>\n",
       "      <td>1.449291</td>\n",
       "      <td>0.591767</td>\n",
       "      <td>0.588732</td>\n",
       "      <td>0.608867</td>\n",
       "      <td>0.598630</td>\n",
       "      <td>0.622023</td>\n",
       "    </tr>\n",
       "    <tr>\n",
       "      <th>4</th>\n",
       "      <td>79.649925</td>\n",
       "      <td>0.870214</td>\n",
       "      <td>0.589067</td>\n",
       "      <td>0.585883</td>\n",
       "      <td>0.607600</td>\n",
       "      <td>0.596544</td>\n",
       "      <td>0.622909</td>\n",
       "    </tr>\n",
       "    <tr>\n",
       "      <th>5</th>\n",
       "      <td>77.313959</td>\n",
       "      <td>1.174114</td>\n",
       "      <td>0.589533</td>\n",
       "      <td>0.585738</td>\n",
       "      <td>0.611667</td>\n",
       "      <td>0.598422</td>\n",
       "      <td>0.622564</td>\n",
       "    </tr>\n",
       "    <tr>\n",
       "      <th>6</th>\n",
       "      <td>54.707723</td>\n",
       "      <td>1.594597</td>\n",
       "      <td>0.588233</td>\n",
       "      <td>0.583792</td>\n",
       "      <td>0.614733</td>\n",
       "      <td>0.598863</td>\n",
       "      <td>0.622944</td>\n",
       "    </tr>\n",
       "    <tr>\n",
       "      <th>7</th>\n",
       "      <td>72.353536</td>\n",
       "      <td>1.495722</td>\n",
       "      <td>0.594700</td>\n",
       "      <td>0.585691</td>\n",
       "      <td>0.647267</td>\n",
       "      <td>0.614941</td>\n",
       "      <td>0.626836</td>\n",
       "    </tr>\n",
       "    <tr>\n",
       "      <th>8</th>\n",
       "      <td>52.630185</td>\n",
       "      <td>1.575723</td>\n",
       "      <td>0.588800</td>\n",
       "      <td>0.584647</td>\n",
       "      <td>0.613333</td>\n",
       "      <td>0.598647</td>\n",
       "      <td>0.619279</td>\n",
       "    </tr>\n",
       "    <tr>\n",
       "      <th>9</th>\n",
       "      <td>67.351359</td>\n",
       "      <td>0.737433</td>\n",
       "      <td>0.591200</td>\n",
       "      <td>0.586968</td>\n",
       "      <td>0.615533</td>\n",
       "      <td>0.600911</td>\n",
       "      <td>0.623232</td>\n",
       "    </tr>\n",
       "    <tr>\n",
       "      <th>10</th>\n",
       "      <td>50.736901</td>\n",
       "      <td>1.191207</td>\n",
       "      <td>0.591700</td>\n",
       "      <td>0.587483</td>\n",
       "      <td>0.615800</td>\n",
       "      <td>0.601308</td>\n",
       "      <td>0.622337</td>\n",
       "    </tr>\n",
       "    <tr>\n",
       "      <th>11</th>\n",
       "      <td>60.921246</td>\n",
       "      <td>0.937977</td>\n",
       "      <td>0.589733</td>\n",
       "      <td>0.585831</td>\n",
       "      <td>0.612467</td>\n",
       "      <td>0.598853</td>\n",
       "      <td>0.620253</td>\n",
       "    </tr>\n",
       "    <tr>\n",
       "      <th>12</th>\n",
       "      <td>52.935512</td>\n",
       "      <td>0.406871</td>\n",
       "      <td>0.591667</td>\n",
       "      <td>0.588288</td>\n",
       "      <td>0.610800</td>\n",
       "      <td>0.599333</td>\n",
       "      <td>0.623696</td>\n",
       "    </tr>\n",
       "    <tr>\n",
       "      <th>13</th>\n",
       "      <td>51.262346</td>\n",
       "      <td>0.297168</td>\n",
       "      <td>0.594800</td>\n",
       "      <td>0.592482</td>\n",
       "      <td>0.607333</td>\n",
       "      <td>0.599816</td>\n",
       "      <td>0.626921</td>\n",
       "    </tr>\n",
       "    <tr>\n",
       "      <th>14</th>\n",
       "      <td>45.942414</td>\n",
       "      <td>0.627508</td>\n",
       "      <td>0.586467</td>\n",
       "      <td>0.583109</td>\n",
       "      <td>0.606667</td>\n",
       "      <td>0.594655</td>\n",
       "      <td>0.618317</td>\n",
       "    </tr>\n",
       "  </tbody>\n",
       "</table>\n",
       "</div>"
      ],
      "text/plain": [
       "     fit_time  score_time  test_accuracy  test_precision  test_recall  \\\n",
       "0   77.438148    1.175949       0.595300        0.592101     0.612667   \n",
       "1   29.429541    0.941158       0.582600        0.568795     0.682933   \n",
       "2   59.870656    1.110103       0.585800        0.580923     0.615933   \n",
       "3   56.071524    1.449291       0.591767        0.588732     0.608867   \n",
       "4   79.649925    0.870214       0.589067        0.585883     0.607600   \n",
       "5   77.313959    1.174114       0.589533        0.585738     0.611667   \n",
       "6   54.707723    1.594597       0.588233        0.583792     0.614733   \n",
       "7   72.353536    1.495722       0.594700        0.585691     0.647267   \n",
       "8   52.630185    1.575723       0.588800        0.584647     0.613333   \n",
       "9   67.351359    0.737433       0.591200        0.586968     0.615533   \n",
       "10  50.736901    1.191207       0.591700        0.587483     0.615800   \n",
       "11  60.921246    0.937977       0.589733        0.585831     0.612467   \n",
       "12  52.935512    0.406871       0.591667        0.588288     0.610800   \n",
       "13  51.262346    0.297168       0.594800        0.592482     0.607333   \n",
       "14  45.942414    0.627508       0.586467        0.583109     0.606667   \n",
       "\n",
       "     test_f1  test_roc_auc  \n",
       "0   0.602208      0.626389  \n",
       "1   0.620660      0.610589  \n",
       "2   0.597916      0.619068  \n",
       "3   0.598630      0.622023  \n",
       "4   0.596544      0.622909  \n",
       "5   0.598422      0.622564  \n",
       "6   0.598863      0.622944  \n",
       "7   0.614941      0.626836  \n",
       "8   0.598647      0.619279  \n",
       "9   0.600911      0.623232  \n",
       "10  0.601308      0.622337  \n",
       "11  0.598853      0.620253  \n",
       "12  0.599333      0.623696  \n",
       "13  0.599816      0.626921  \n",
       "14  0.594655      0.618317  "
      ]
     },
     "execution_count": 190,
     "metadata": {},
     "output_type": "execute_result"
    }
   ],
   "source": [
    "lr_scored = pd.DataFrame(lr_scores)#.add_prefix('LogReg_')\n",
    "print(lr_scored.mean())\n",
    "lr_mean = pd.Series(lr_scored.mean(), name = 'LogReg') \n",
    "lr_scored"
   ]
  },
  {
   "cell_type": "markdown",
   "id": "5e933973-8330-4dee-bd78-8206a93b9c05",
   "metadata": {},
   "source": [
    "## 5. Model evaluation / selection"
   ]
  },
  {
   "cell_type": "code",
   "execution_count": 195,
   "id": "cd7031f8-4eb2-4c29-8f8e-080e8050221c",
   "metadata": {},
   "outputs": [
    {
     "data": {
      "text/html": [
       "<div>\n",
       "<style scoped>\n",
       "    .dataframe tbody tr th:only-of-type {\n",
       "        vertical-align: middle;\n",
       "    }\n",
       "\n",
       "    .dataframe tbody tr th {\n",
       "        vertical-align: top;\n",
       "    }\n",
       "\n",
       "    .dataframe thead th {\n",
       "        text-align: right;\n",
       "    }\n",
       "</style>\n",
       "<table border=\"1\" class=\"dataframe\">\n",
       "  <thead>\n",
       "    <tr style=\"text-align: right;\">\n",
       "      <th></th>\n",
       "      <th>fit_time</th>\n",
       "      <th>score_time</th>\n",
       "      <th>test_accuracy</th>\n",
       "      <th>test_precision</th>\n",
       "      <th>test_recall</th>\n",
       "      <th>test_f1</th>\n",
       "      <th>test_roc_auc</th>\n",
       "    </tr>\n",
       "  </thead>\n",
       "  <tbody>\n",
       "    <tr>\n",
       "      <th>LogReg</th>\n",
       "      <td>59.240998</td>\n",
       "      <td>1.039002</td>\n",
       "      <td>0.590091</td>\n",
       "      <td>0.585364</td>\n",
       "      <td>0.618907</td>\n",
       "      <td>0.601447</td>\n",
       "      <td>0.621824</td>\n",
       "    </tr>\n",
       "    <tr>\n",
       "      <th>AdaBoost</th>\n",
       "      <td>145.919277</td>\n",
       "      <td>17.044638</td>\n",
       "      <td>0.588424</td>\n",
       "      <td>0.582812</td>\n",
       "      <td>0.622396</td>\n",
       "      <td>0.601938</td>\n",
       "      <td>0.620735</td>\n",
       "    </tr>\n",
       "    <tr>\n",
       "      <th>XGBoost</th>\n",
       "      <td>38.502168</td>\n",
       "      <td>2.791028</td>\n",
       "      <td>0.611027</td>\n",
       "      <td>0.605752</td>\n",
       "      <td>0.635956</td>\n",
       "      <td>0.620478</td>\n",
       "      <td>0.653135</td>\n",
       "    </tr>\n",
       "    <tr>\n",
       "      <th>LGBM</th>\n",
       "      <td>11.917129</td>\n",
       "      <td>1.974480</td>\n",
       "      <td>0.610693</td>\n",
       "      <td>0.606094</td>\n",
       "      <td>0.632378</td>\n",
       "      <td>0.618950</td>\n",
       "      <td>0.654099</td>\n",
       "    </tr>\n",
       "  </tbody>\n",
       "</table>\n",
       "</div>"
      ],
      "text/plain": [
       "            fit_time  score_time  test_accuracy  test_precision  test_recall  \\\n",
       "LogReg     59.240998    1.039002       0.590091        0.585364     0.618907   \n",
       "AdaBoost  145.919277   17.044638       0.588424        0.582812     0.622396   \n",
       "XGBoost    38.502168    2.791028       0.611027        0.605752     0.635956   \n",
       "LGBM       11.917129    1.974480       0.610693        0.606094     0.632378   \n",
       "\n",
       "           test_f1  test_roc_auc  \n",
       "LogReg    0.601447      0.621824  \n",
       "AdaBoost  0.601938      0.620735  \n",
       "XGBoost   0.620478      0.653135  \n",
       "LGBM      0.618950      0.654099  "
      ]
     },
     "execution_count": 195,
     "metadata": {},
     "output_type": "execute_result"
    }
   ],
   "source": [
    "cohort = pd.concat([lr_mean, ada_mean, xg_mean, light_mean], axis=1)\n",
    "cohort.T"
   ]
  },
  {
   "cell_type": "markdown",
   "id": "1b969d08-481e-40b7-9ede-7938615ddf97",
   "metadata": {},
   "source": [
    "The model selected for this task is the LGBM model for its speed. In the next section we will run a grid search to find the best parameters so we may improve performance on our test set. \n",
    "Lets first see where we stand in so far as bias vs. variance is concerned. "
   ]
  },
  {
   "cell_type": "markdown",
   "id": "2b80412e-e93a-45e6-ba20-eca3818bec01",
   "metadata": {},
   "source": [
    "### 5.1 LGBM test fit and analysis. \n"
   ]
  },
  {
   "cell_type": "code",
   "execution_count": 44,
   "id": "ea9ae046-ade5-45f3-96c7-e46c431c4e3a",
   "metadata": {},
   "outputs": [
    {
     "name": "stderr",
     "output_type": "stream",
     "text": [
      "/Users/nickvanbergen/opt/anaconda3/lib/python3.8/site-packages/xgboost/sklearn.py:888: UserWarning: The use of label encoder in XGBClassifier is deprecated and will be removed in a future release. To remove this warning, do the following: 1) Pass option use_label_encoder=False when constructing XGBClassifier object; and 2) Encode your labels (y) as integers starting with 0, i.e. 0, 1, 2, ..., [num_class - 1].\n",
      "  warnings.warn(label_encoder_deprecation_msg, UserWarning)\n"
     ]
    },
    {
     "name": "stdout",
     "output_type": "stream",
     "text": [
      "[00:07:17] WARNING: /opt/concourse/worker/volumes/live/7a2b9f41-3287-451b-6691-43e9a6c0910f/volume/xgboost-split_1619728204606/work/src/learner.cc:1061: Starting in XGBoost 1.3.0, the default evaluation metric used with the objective 'binary:logistic' was changed from 'error' to 'logloss'. Explicitly set eval_metric if you'd like to restore the old behavior.\n"
     ]
    },
    {
     "data": {
      "text/plain": [
       "XGBClassifier(base_score=0.5, booster='gbtree', colsample_bylevel=1,\n",
       "              colsample_bynode=1, colsample_bytree=1, gamma=0, gpu_id=-1,\n",
       "              importance_type='gain', interaction_constraints='',\n",
       "              learning_rate=0.300000012, max_delta_step=0, max_depth=6,\n",
       "              min_child_weight=1, missing=nan, monotone_constraints='()',\n",
       "              n_estimators=100, n_jobs=8, num_parallel_tree=1, random_state=42,\n",
       "              reg_alpha=0, reg_lambda=1, scale_pos_weight=1, subsample=1,\n",
       "              tree_method='hist', validate_parameters=1, verbosity=None)"
      ]
     },
     "execution_count": 44,
     "metadata": {},
     "output_type": "execute_result"
    }
   ],
   "source": [
    "xg.fit(X_test, y_test)"
   ]
  },
  {
   "cell_type": "code",
   "execution_count": 86,
   "id": "60233240-345e-4c21-8f2e-e1e0e9aca455",
   "metadata": {},
   "outputs": [
    {
     "name": "stderr",
     "output_type": "stream",
     "text": [
      "/Users/nickvanbergen/opt/anaconda3/lib/python3.8/site-packages/sklearn/utils/deprecation.py:87: FutureWarning: Function plot_roc_curve is deprecated; Function `plot_roc_curve` is deprecated in 1.0 and will be removed in 1.2. Use one of the class methods: RocCurveDisplay.from_predictions or RocCurveDisplay.from_estimator.\n",
      "  warnings.warn(msg, category=FutureWarning)\n"
     ]
    },
    {
     "data": {
      "text/plain": [
       "<Figure size 864x864 with 0 Axes>"
      ]
     },
     "metadata": {},
     "output_type": "display_data"
    },
    {
     "data": {
      "image/png": "[encoded data removed]",
      "text/plain": [
       "<Figure size 864x576 with 1 Axes>"
      ]
     },
     "metadata": {},
     "output_type": "display_data"
    }
   ],
   "source": [
    "plt.figure(figsize = (12,12))\n",
    "plot_roc_curve(xg, X_test, y_test)\n",
    "plt.title('ROC AUC \\n Adaptive Boost Classifier',size =20)\n",
    "plt.plot([0, 1], [0, 1],\n",
    "         label='baseline', linestyle='--')\n",
    "plt.xlabel('False Positive (false Delay) Rate', size = 16)\n",
    "plt.ylabel('True Positive Rate (Dleay)', size = 16)\n",
    "plt.legend();\n"
   ]
  },
  {
   "cell_type": "code",
   "execution_count": 82,
   "id": "6bf3be5c-292b-4719-a451-af8736e17c1c",
   "metadata": {},
   "outputs": [
    {
     "name": "stderr",
     "output_type": "stream",
     "text": [
      "/Users/nickvanbergen/opt/anaconda3/lib/python3.8/site-packages/sklearn/utils/deprecation.py:87: FutureWarning: Function plot_confusion_matrix is deprecated; Function `plot_confusion_matrix` is deprecated in 1.0 and will be removed in 1.2. Use one of the class methods: ConfusionMatrixDisplay.from_predictions or ConfusionMatrixDisplay.from_estimator.\n",
      "  warnings.warn(msg, category=FutureWarning)\n"
     ]
    },
    {
     "data": {
      "image/png": "[encoded data removed]",
      "text/plain": [
       "<Figure size 864x576 with 2 Axes>"
      ]
     },
     "metadata": {},
     "output_type": "display_data"
    }
   ],
   "source": [
    "sns.set_style('dark')\n",
    "plot_confusion_matrix(xg, X_test, y_test, cmap='Blues');\n",
    "plt.title('Adaptive Boost Classifier \\n C.Matrix', size= 20);"
   ]
  },
  {
   "cell_type": "code",
   "execution_count": 81,
   "id": "d6089f70-2bb1-4b86-8117-e0e5c5a41e16",
   "metadata": {},
   "outputs": [
    {
     "data": {
      "image/png": "[encoded data removed]",
      "text/plain": [
       "<Figure size 864x576 with 1 Axes>"
      ]
     },
     "metadata": {},
     "output_type": "display_data"
    }
   ],
   "source": [
    "plt.rcParams[\"figure.figsize\"] = (12,8);\n",
    "plot_importance(xg, max_num_features=25, height = .5);\n",
    "plt.title('Feature Importances XGBoost', size=20);\n",
    "plt.xlabel('F-Score (gain)', size = 16);\n",
    "plt.ylabel('Features', size = 16);\n",
    "plt.yticks(fontsize =14);"
   ]
  },
  {
   "cell_type": "code",
   "execution_count": null,
   "id": "28f73d45-d727-4f8f-8dbd-f3ddb6f8314f",
   "metadata": {},
   "outputs": [],
   "source": []
  },
  {
   "cell_type": "code",
   "execution_count": null,
   "id": "2e0a0391-9794-427e-b39f-0269d323f110",
   "metadata": {},
   "outputs": [],
   "source": []
  },
  {
   "cell_type": "code",
   "execution_count": null,
   "id": "92bad919-6193-47a6-ad28-305ea9fbe037",
   "metadata": {},
   "outputs": [],
   "source": []
  },
  {
   "cell_type": "code",
   "execution_count": null,
   "id": "5f98b174-34be-4d40-82c0-7124009133a8",
   "metadata": {},
   "outputs": [],
   "source": []
  },
  {
   "cell_type": "code",
   "execution_count": null,
   "id": "08ae2570-f906-41bc-83e7-922fd762188e",
   "metadata": {},
   "outputs": [],
   "source": []
  },
  {
   "cell_type": "code",
   "execution_count": null,
   "id": "d583c223-3e39-40fe-bc4b-adad8c614125",
   "metadata": {},
   "outputs": [],
   "source": []
  },
  {
   "cell_type": "code",
   "execution_count": null,
   "id": "553af7bd-1765-4aec-bbfd-2300ade3c395",
   "metadata": {},
   "outputs": [],
   "source": []
  },
  {
   "cell_type": "code",
   "execution_count": null,
   "id": "b0342379-6ac4-45f9-bb4d-21c24f36f384",
   "metadata": {},
   "outputs": [],
   "source": []
  },
  {
   "cell_type": "markdown",
   "id": "1e950fb9-1dba-489b-8cf4-70f44daac4a4",
   "metadata": {},
   "source": [
    "## 5. Final Model save to disk\n",
    "---\n"
   ]
  },
  {
   "cell_type": "code",
   "execution_count": null,
   "id": "616e8cd1-5959-44ab-a7a4-a5d2c0f49c77",
   "metadata": {},
   "outputs": [],
   "source": []
  },
  {
   "cell_type": "code",
   "execution_count": null,
   "id": "7ca09550-6e93-417d-bb96-69c35cd58bef",
   "metadata": {},
   "outputs": [],
   "source": []
  },
  {
   "cell_type": "code",
   "execution_count": null,
   "id": "7391e812-33a5-456c-b510-ff7be6c40125",
   "metadata": {},
   "outputs": [],
   "source": []
  }
 ],
 "metadata": {
  "kernelspec": {
   "display_name": "Python 3 (ipykernel)",
   "language": "python",
   "name": "python3"
  },
  "language_info": {
   "codemirror_mode": {
    "name": "ipython",
    "version": 3
   },
   "file_extension": ".py",
   "mimetype": "text/x-python",
   "name": "python",
   "nbconvert_exporter": "python",
   "pygments_lexer": "ipython3",
   "version": "3.8.8"
  }
 },
 "nbformat": 4,
 "nbformat_minor": 5
}
