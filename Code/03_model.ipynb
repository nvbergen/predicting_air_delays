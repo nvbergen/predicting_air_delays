{
 "cells": [
  {
   "cell_type": "markdown",
   "id": "9df87fd4-f29f-4da8-8130-d5fd7c6b2a17",
   "metadata": {
    "tags": []
   },
   "source": [
    "# Predicting Air Delays\n",
    "Notebook III: Machine Learning model and predictions\n",
    "----\n",
    "\n",
    "Thank you for your review of my code notebook.\n",
    "This notebook's goal is to analyze and prepare the dataset for exposure on a Machine Learning algorithm.\n",
    "\n",
    "---\n",
    "#### Problem Statement: \n",
    "Both travelers and airlines find delays frustrating and costly. This project attempts to be able to predict the probability of a commercial flight delay for any flight in the United States.\n",
    "\n",
    "---\n",
    "\n",
    "#### MVP:\n",
    "My product will be a small lightweight application run on `streamlit` platform for proof-of-concept where a user can find the probability of their desired flight having a delay, how long the delay may be, and how much will the delay cost the user in _lost time_ at the destination.\n",
    "\n",
    "Since we have labels on all our data, the model the app will be based on is a supervised multi-class classification machine learning model.\n",
    "\n",
    "---\n",
    "# Modeling \n",
    "\n",
    "The primary challenge in this notebook is running models on a volume of data in the millions of instances. \n",
    "\n",
    "The notebook is structured as follows.<br> \n",
    "**Notebook III: Modeling **\n",
    ">1. Setup/Imports\n",
    ">2. Load data\n",
    ">3. Class Balances and Training Set + Validation Set.\n",
    ">4. Modeling and Model Selection\n",
    ">5. Save the final model and discuss next steps. \n",
    "\n",
    "The processed model will be saved on a new file by the end of this notebook and called into the subsequent that builds an application.\n",
    "\n",
    "The notebooks in this project are: <br>\n",
    "I. Intake and cleaning<br>\n",
    "II. EDA and preprocessing<br>\n",
    "**III. Modeling and predictions**<br>\n",
    "IV. App<br>\n",
    "\n",
    "---"
   ]
  },
  {
   "cell_type": "markdown",
   "id": "76753a79-78b6-46b2-befc-789457a0e3e5",
   "metadata": {},
   "source": [
    "## 1. Setup and Imports\n",
    "----"
   ]
  },
  {
   "cell_type": "code",
   "execution_count": 171,
   "id": "6c22d467-9f86-472a-bb78-5388dad09562",
   "metadata": {},
   "outputs": [],
   "source": [
    "import os\n",
    "import pandas as pd\n",
    "import numpy as np\n",
    "import matplotlib.pyplot as plt\n",
    "import seaborn as sns\n",
    "\n",
    "\n",
    "#utilities\n",
    "from sklearn.pipeline import Pipeline\n",
    "from sklearn.model_selection import train_test_split, GridSearchCV, KFold, \\\n",
    "                                    cross_validate, RepeatedStratifiedKFold, \\\n",
    "                                    cross_val_score\n",
    "from sklearn.metrics import roc_auc_score, f1_score, precision_score, \\\n",
    "                            recall_score, plot_roc_curve, confusion_matrix, \\\n",
    "                            plot_confusion_matrix, RocCurveDisplay, accuracy_score\n",
    "\n",
    "\n",
    "\n",
    "\n",
    "#models\n",
    "from sklearn.linear_model import LogisticRegression\n",
    "from sklearn.ensemble import RandomForestClassifier, AdaBoostClassifier\n",
    "from xgboost import XGBClassifier, plot_importance\n",
    "from lightgbm import LGBMClassifier #used for testing only. \n"
   ]
  },
  {
   "cell_type": "code",
   "execution_count": null,
   "id": "42b4ae6d-fe84-491d-97f9-dba6ed25751b",
   "metadata": {},
   "outputs": [],
   "source": [
    "!pip install lightgbm"
   ]
  },
  {
   "cell_type": "code",
   "execution_count": null,
   "id": "cb1db377-b19c-4d35-b917-a0be309ea875",
   "metadata": {},
   "outputs": [],
   "source": [
    "!pip install imbalanced-learn"
   ]
  },
  {
   "cell_type": "code",
   "execution_count": 2,
   "id": "b1ac8654-f3a6-4cca-b5db-fba12f55bd03",
   "metadata": {},
   "outputs": [],
   "source": [
    "os.chdir('/Volumes/lacie/data_ingestion/capstone_hopper')"
   ]
  },
  {
   "cell_type": "code",
   "execution_count": 3,
   "id": "f36b8c80-b02b-493b-bfbb-f10179f49335",
   "metadata": {},
   "outputs": [],
   "source": [
    "#pd.set_option('display.max_columns', None)\n",
    "#pd.set_option('display.max_rows', None)"
   ]
  },
  {
   "cell_type": "markdown",
   "id": "633827a6-fd4e-45b2-afe1-fc9dd0f3fa94",
   "metadata": {},
   "source": [
    "## 2. Loading Data\n",
    "---\n",
    "\n"
   ]
  },
  {
   "cell_type": "code",
   "execution_count": 4,
   "id": "55bdb4f8-65a3-4b98-ad95-964e6f87e118",
   "metadata": {},
   "outputs": [],
   "source": [
    "flights = pd.read_csv('flights_processed_ex_dummies.csv')"
   ]
  },
  {
   "cell_type": "code",
   "execution_count": 5,
   "id": "ce101fc1-78ef-45f1-9d0b-ea8b58052c36",
   "metadata": {},
   "outputs": [
    {
     "data": {
      "text/plain": [
       "(2735655, 28)"
      ]
     },
     "execution_count": 5,
     "metadata": {},
     "output_type": "execute_result"
    }
   ],
   "source": [
    "flights.shape"
   ]
  },
  {
   "cell_type": "code",
   "execution_count": 6,
   "id": "463454d5-dbb6-4d84-ab04-4bae8ae64a91",
   "metadata": {},
   "outputs": [
    {
     "data": {
      "text/plain": [
       "0"
      ]
     },
     "execution_count": 6,
     "metadata": {},
     "output_type": "execute_result"
    }
   ],
   "source": [
    "#check for null corruption\n",
    "flights.isnull().sum().sum()"
   ]
  },
  {
   "cell_type": "markdown",
   "id": "64342daa-2faf-4a41-ae5d-9fb26c6fd128",
   "metadata": {},
   "source": [
    "Pandas infers datatypes. So,  we have to cast certain categorical variables that are represented with numbers as _strings_ so we can then encode them using Pandas. "
   ]
  },
  {
   "cell_type": "code",
   "execution_count": 7,
   "id": "886e9f01-3c43-492b-989a-86f4f4f53a8d",
   "metadata": {},
   "outputs": [
    {
     "data": {
      "text/plain": [
       "year                     int64\n",
       "month                   object\n",
       "day_of_month             int64\n",
       "day_of_week             object\n",
       "fl_date                 object\n",
       "airline                 object\n",
       "tail_num                object\n",
       "op_carrier_fl_num        int64\n",
       "origin                  object\n",
       "origin_city_name        object\n",
       "dest                    object\n",
       "dest_city_name          object\n",
       "crs_dep_time             int64\n",
       "dep_time               float64\n",
       "dep_delay              float64\n",
       "crs_arr_time             int64\n",
       "arr_time               float64\n",
       "arr_delay              float64\n",
       "cancelled              float64\n",
       "cancellation_code       object\n",
       "distance               float64\n",
       "carrier_delay          float64\n",
       "weather_delay          float64\n",
       "nas_delay              float64\n",
       "security_delay         float64\n",
       "late_aircraft_delay    float64\n",
       "delay_class             object\n",
       "markets                 object\n",
       "dtype: object"
      ]
     },
     "execution_count": 7,
     "metadata": {},
     "output_type": "execute_result"
    }
   ],
   "source": [
    "#use a mask to find categorical columns\n",
    "flights.dtypes"
   ]
  },
  {
   "cell_type": "code",
   "execution_count": 8,
   "id": "5b9f03e1-53bc-43f5-955a-247fb7949851",
   "metadata": {
    "tags": []
   },
   "outputs": [],
   "source": [
    "#numerical represented categories converted to string\n",
    "categorical = {'year' : str,\n",
    "               'day_of_month': str,  \n",
    "              'op_carrier_fl_num': str, \n",
    "               'crs_dep_time': str, \n",
    "               'dep_time' : str,\n",
    "               'dep_delay': str,\n",
    "               'crs_dep_time' : str,\n",
    "               'crs_arr_time': str, \n",
    "               'arr_time' : str,\n",
    "              'arr_delay':str,\n",
    "              }"
   ]
  },
  {
   "cell_type": "code",
   "execution_count": 9,
   "id": "9ee4c187-a08e-4c00-865a-75ec844cd464",
   "metadata": {},
   "outputs": [],
   "source": [
    "flights = flights.astype(categorical)"
   ]
  },
  {
   "cell_type": "code",
   "execution_count": 10,
   "id": "bf3b96cc-7a85-4480-bf91-8db9c4efe310",
   "metadata": {},
   "outputs": [],
   "source": [
    "#dropping categorical data that will not be used. \n",
    "flights = flights.drop(columns = ['fl_date', 'year', 'origin_city_name', 'dest_city_name'])"
   ]
  },
  {
   "cell_type": "code",
   "execution_count": 11,
   "id": "72697b52-600b-4449-b831-808515ca2385",
   "metadata": {},
   "outputs": [
    {
     "data": {
      "text/plain": [
       "month                   object\n",
       "day_of_month            object\n",
       "day_of_week             object\n",
       "airline                 object\n",
       "tail_num                object\n",
       "op_carrier_fl_num       object\n",
       "origin                  object\n",
       "dest                    object\n",
       "crs_dep_time            object\n",
       "dep_time                object\n",
       "dep_delay               object\n",
       "crs_arr_time            object\n",
       "arr_time                object\n",
       "arr_delay               object\n",
       "cancelled              float64\n",
       "cancellation_code       object\n",
       "distance               float64\n",
       "carrier_delay          float64\n",
       "weather_delay          float64\n",
       "nas_delay              float64\n",
       "security_delay         float64\n",
       "late_aircraft_delay    float64\n",
       "delay_class             object\n",
       "markets                 object\n",
       "dtype: object"
      ]
     },
     "execution_count": 11,
     "metadata": {},
     "output_type": "execute_result"
    }
   ],
   "source": [
    "flights.dtypes"
   ]
  },
  {
   "cell_type": "markdown",
   "id": "1d14d193-b5aa-4f73-8d15-bc92e854f5eb",
   "metadata": {},
   "source": [
    "## Establishing classes for the algorithm\n",
    "---\n",
    "We know that our problem can be either a binary classification task or a multiclass classification task. \n",
    "In the initial outset I will run a binary model to see how accurate we can get a `will be delayed` or `won't be delayed` prediction.\n",
    "I will just briefly reconfigure the data and then we will take a fractional sample of the data. "
   ]
  },
  {
   "cell_type": "code",
   "execution_count": 12,
   "id": "a8984de2-cd74-40f5-b8a3-35505a0524af",
   "metadata": {},
   "outputs": [],
   "source": [
    "#create new class for binary problem\n",
    "flights['delayed'] = flights['delay_class'].apply(lambda x: 1 if x != 'no delay' else 0)"
   ]
  },
  {
   "cell_type": "code",
   "execution_count": 13,
   "id": "db5f7eb3-bcd5-401e-943b-161e6a607c68",
   "metadata": {},
   "outputs": [
    {
     "data": {
      "text/plain": [
       "1    0.50805\n",
       "0    0.49195\n",
       "Name: delayed, dtype: float64"
      ]
     },
     "execution_count": 13,
     "metadata": {},
     "output_type": "execute_result"
    }
   ],
   "source": [
    "#Target class balance\n",
    "flights['delayed'].value_counts( normalize =True)"
   ]
  },
  {
   "cell_type": "code",
   "execution_count": 14,
   "id": "e58ba82a-a6d6-4e8a-bd84-7f1ef2c58db6",
   "metadata": {},
   "outputs": [],
   "source": [
    "#dropping all other delay related categories\n",
    "flights = flights.drop(columns =['carrier_delay', 'weather_delay', 'nas_delay', 'security_delay','late_aircraft_delay', 'delay_class'])"
   ]
  },
  {
   "cell_type": "markdown",
   "id": "c1a9532f-bceb-4785-9b80-d6df42d061f4",
   "metadata": {},
   "source": [
    "### SubSample for the Training and testing setup. \n",
    "----\n",
    "Next we are going to take a sample and then measure what we need to do with our categorical columns"
   ]
  },
  {
   "cell_type": "code",
   "execution_count": 15,
   "id": "08d7d69c-1ddd-44ab-8371-3fd2126f72b0",
   "metadata": {},
   "outputs": [],
   "source": [
    "ontime = flights[flights['delayed']==0]\n",
    "delayed = flights[flights['delayed']==1]"
   ]
  },
  {
   "cell_type": "code",
   "execution_count": 16,
   "id": "98585b21-84d8-4a3c-9055-82d71589433c",
   "metadata": {},
   "outputs": [],
   "source": [
    "sample_0 = ontime.sample(frac =.075, random_state =42, ignore_index = True)\n",
    "sample_1 = delayed.sample(frac =.075, random_state =42, ignore_index = True)"
   ]
  },
  {
   "cell_type": "code",
   "execution_count": 17,
   "id": "10050d2e-8e59-430d-92d1-9ea94ef54698",
   "metadata": {},
   "outputs": [],
   "source": [
    "sample = sample_0.append(sample_1, ignore_index = True)"
   ]
  },
  {
   "cell_type": "code",
   "execution_count": 18,
   "id": "ea71b90b-9725-4abd-85e1-ec1a1451604b",
   "metadata": {},
   "outputs": [
    {
     "name": "stdout",
     "output_type": "stream",
     "text": [
      "<class 'pandas.core.frame.DataFrame'>\n",
      "RangeIndex: 205174 entries, 0 to 205173\n",
      "Data columns (total 19 columns):\n",
      " #   Column             Non-Null Count   Dtype  \n",
      "---  ------             --------------   -----  \n",
      " 0   month              205174 non-null  object \n",
      " 1   day_of_month       205174 non-null  object \n",
      " 2   day_of_week        205174 non-null  object \n",
      " 3   airline            205174 non-null  object \n",
      " 4   tail_num           205174 non-null  object \n",
      " 5   op_carrier_fl_num  205174 non-null  object \n",
      " 6   origin             205174 non-null  object \n",
      " 7   dest               205174 non-null  object \n",
      " 8   crs_dep_time       205174 non-null  object \n",
      " 9   dep_time           205174 non-null  object \n",
      " 10  dep_delay          205174 non-null  object \n",
      " 11  crs_arr_time       205174 non-null  object \n",
      " 12  arr_time           205174 non-null  object \n",
      " 13  arr_delay          205174 non-null  object \n",
      " 14  cancelled          205174 non-null  float64\n",
      " 15  cancellation_code  205174 non-null  object \n",
      " 16  distance           205174 non-null  float64\n",
      " 17  markets            205174 non-null  object \n",
      " 18  delayed            205174 non-null  int64  \n",
      "dtypes: float64(2), int64(1), object(16)\n",
      "memory usage: 29.7+ MB\n"
     ]
    }
   ],
   "source": [
    "sample.info()"
   ]
  },
  {
   "cell_type": "code",
   "execution_count": 19,
   "id": "72d1caf0-99b3-45d4-96b3-a8dc53a0f5fc",
   "metadata": {},
   "outputs": [
    {
     "data": {
      "image/png": "[encoded data removed]",
      "text/plain": [
       "<Figure size 864x576 with 1 Axes>"
      ]
     },
     "metadata": {
      "needs_background": "light"
     },
     "output_type": "display_data"
    }
   ],
   "source": [
    "fig, ax = plt.subplots();\n",
    "sample['delayed'].value_counts().plot(kind ='bar', figsize = (12,8));\n",
    "ticks = ax.get_xticks()\n",
    "sns.set_style('darkgrid')\n",
    "plt.title(f'Class Balance \\n n = {sample.shape[0] :,}', size = 20);\n",
    "plt.xticks(ticks = ticks, labels =['Delay','No Delay'], rotation = 0, fontsize = 12)\n",
    "plt.xlabel('Delay class', size = 18 )\n",
    "plt.ylabel('Count of rows delay class (log)', size = 18 )\n",
    "plt.yticks(fontsize = 12);\n",
    "plt.savefig(\"../Assets/class_imbal.pdf\", bbox_inches=\"tight\")"
   ]
  },
  {
   "cell_type": "markdown",
   "id": "bf679a11-9395-4a80-b526-466c98de74ec",
   "metadata": {},
   "source": [
    "## Categorical Column encoding\n",
    "----\n",
    "We will encode our categorical columns in this section and then join them to the numeric columns to establish our X values."
   ]
  },
  {
   "cell_type": "code",
   "execution_count": 20,
   "id": "83f8242f-3d64-44a7-8100-38b2f292821e",
   "metadata": {},
   "outputs": [
    {
     "data": {
      "text/plain": [
       "Index(['month', 'day_of_month', 'day_of_week', 'airline', 'tail_num',\n",
       "       'op_carrier_fl_num', 'origin', 'dest', 'crs_dep_time', 'dep_time',\n",
       "       'dep_delay', 'crs_arr_time', 'arr_time', 'arr_delay', 'cancelled',\n",
       "       'cancellation_code', 'distance', 'markets', 'delayed'],\n",
       "      dtype='object')"
      ]
     },
     "execution_count": 20,
     "metadata": {},
     "output_type": "execute_result"
    }
   ],
   "source": [
    "sample.columns"
   ]
  },
  {
   "cell_type": "code",
   "execution_count": 21,
   "id": "76b36361-c072-402e-b3bc-f9fbc50e4de2",
   "metadata": {},
   "outputs": [],
   "source": [
    "y = sample['delayed']\n",
    "sample = sample.drop(columns = ['delayed'])"
   ]
  },
  {
   "cell_type": "code",
   "execution_count": 22,
   "id": "809d332d-7c17-455d-9561-f548e0d69554",
   "metadata": {},
   "outputs": [
    {
     "data": {
      "text/plain": [
       "(['dep_delay', 'arr_delay'], ['cancelled', 'cancellation_code'])"
      ]
     },
     "execution_count": 22,
     "metadata": {},
     "output_type": "execute_result"
    }
   ],
   "source": [
    "#need to remove related delay columns to prevent data leakage.\n",
    "drop = [col for col in sample.columns if 'delay' in col]\n",
    "drop_c = [col for col in sample.columns if 'cancel' in col]\n",
    "drop, drop_c"
   ]
  },
  {
   "cell_type": "code",
   "execution_count": 23,
   "id": "4ee44391-d1d1-4540-a9d2-78aaacae6fb6",
   "metadata": {},
   "outputs": [],
   "source": [
    "sample = sample.drop(columns = drop)\n",
    "sample = sample.drop(columns = drop_c)"
   ]
  },
  {
   "cell_type": "code",
   "execution_count": 24,
   "id": "8faf38f5-31c8-4a92-81f6-467f27518686",
   "metadata": {},
   "outputs": [],
   "source": [
    "cat_cols = sample.select_dtypes(include=['object'])"
   ]
  },
  {
   "cell_type": "code",
   "execution_count": 25,
   "id": "9059d793-69dc-40d2-9529-0d31e46a9a56",
   "metadata": {},
   "outputs": [
    {
     "data": {
      "text/plain": [
       "(205174, 13)"
      ]
     },
     "execution_count": 25,
     "metadata": {},
     "output_type": "execute_result"
    }
   ],
   "source": [
    "cat_cols.shape"
   ]
  },
  {
   "cell_type": "code",
   "execution_count": 26,
   "id": "8f6a583e-a973-4f2b-8fcf-efa34e703852",
   "metadata": {},
   "outputs": [],
   "source": [
    "#need write a function that finds how many unique instances there are and print it out for each object column\n",
    "# this will inform the complexity of OHE process.\n",
    "def uniqueness(df, threshold=10):\n",
    "    '''\n",
    "    Measure the n_unique values for each categorical column. This will help us decide which columns to OHE. \n",
    "    Takes a dataframe as an arguement, and an integer to delinate the keep/drop decision. That is, if n_unique is too complex (above threshold), then consider dropping. \n",
    "    The function prints results and returns a keep and drop list of columns. \n",
    "    '''\n",
    "    col_keep = []\n",
    "    col_keep_count = []\n",
    "    col_drop = []\n",
    "    col_drop_count = []\n",
    "    for col in df.columns:\n",
    "        ux = df[f'{col}'].nunique()\n",
    "        print(f\"Column-- \\'{col}\\' -- contains {ux} unique labels\")\n",
    "        if ux > threshold:\n",
    "            col_drop.append(f'{col}')\n",
    "            col_drop_count.append(ux)\n",
    "        else:\n",
    "            col_keep.append(f'{col}')\n",
    "            col_keep_count.append(ux)\n",
    "    print('*'*30)\n",
    "    print(f\"the total number of new OHE columns is {sum(col_keep_count)}\")\n",
    "    print('*'*30)\n",
    "    return col_keep, col_drop"
   ]
  },
  {
   "cell_type": "code",
   "execution_count": 27,
   "id": "61e94da1-8a94-488e-b7cd-402fa9447e1e",
   "metadata": {},
   "outputs": [
    {
     "name": "stdout",
     "output_type": "stream",
     "text": [
      "Column-- 'month' -- contains 12 unique labels\n",
      "Column-- 'day_of_month' -- contains 31 unique labels\n",
      "Column-- 'day_of_week' -- contains 7 unique labels\n",
      "Column-- 'airline' -- contains 17 unique labels\n",
      "Column-- 'tail_num' -- contains 7443 unique labels\n",
      "Column-- 'op_carrier_fl_num' -- contains 6872 unique labels\n",
      "Column-- 'origin' -- contains 379 unique labels\n",
      "Column-- 'dest' -- contains 374 unique labels\n",
      "Column-- 'crs_dep_time' -- contains 1305 unique labels\n",
      "Column-- 'dep_time' -- contains 1402 unique labels\n",
      "Column-- 'crs_arr_time' -- contains 1399 unique labels\n",
      "Column-- 'arr_time' -- contains 1440 unique labels\n",
      "Column-- 'markets' -- contains 6520 unique labels\n",
      "******************************\n",
      "the total number of new OHE columns is 820\n",
      "******************************\n",
      "keep:  ['month', 'day_of_month', 'day_of_week', 'airline', 'origin', 'dest']\n",
      "drop:  ['tail_num', 'op_carrier_fl_num', 'crs_dep_time', 'dep_time', 'crs_arr_time', 'arr_time', 'markets']\n"
     ]
    }
   ],
   "source": [
    "keepers, drop = uniqueness(cat_cols, 1000)\n",
    "print('keep: ', keepers)\n",
    "print('drop: ',drop)"
   ]
  },
  {
   "cell_type": "code",
   "execution_count": 28,
   "id": "51b4b8d1-ead5-437f-9c5b-0761af857515",
   "metadata": {},
   "outputs": [],
   "source": [
    "#I actually want to keep markets intact\n",
    "#drop = drop[:-1]"
   ]
  },
  {
   "cell_type": "code",
   "execution_count": 29,
   "id": "bc0f00f7-52b0-4fff-b796-086ad93228fa",
   "metadata": {},
   "outputs": [],
   "source": [
    "#apply the drop values to X drop\n",
    "sample = sample.drop(columns = drop)\n"
   ]
  },
  {
   "cell_type": "code",
   "execution_count": 30,
   "id": "b818bf28-1db5-4ad7-a66b-12f623ea57dd",
   "metadata": {},
   "outputs": [
    {
     "data": {
      "text/plain": [
       "month            object\n",
       "day_of_month     object\n",
       "day_of_week      object\n",
       "airline          object\n",
       "origin           object\n",
       "dest             object\n",
       "distance        float64\n",
       "dtype: object"
      ]
     },
     "execution_count": 30,
     "metadata": {},
     "output_type": "execute_result"
    }
   ],
   "source": [
    "sample.dtypes"
   ]
  },
  {
   "cell_type": "code",
   "execution_count": 31,
   "id": "ea3c01a9-1d20-473b-94b6-41412f8c9958",
   "metadata": {},
   "outputs": [],
   "source": [
    "X = pd.get_dummies(sample, columns = keepers)"
   ]
  },
  {
   "cell_type": "code",
   "execution_count": 32,
   "id": "525b295d-fb3a-4fca-97cc-80b0ac1fccc5",
   "metadata": {},
   "outputs": [
    {
     "data": {
      "text/plain": [
       "Index(['distance', 'month_Apr', 'month_Aug', 'month_Dec', 'month_Feb',\n",
       "       'month_Jan', 'month_Jul', 'month_Jun', 'month_Mar', 'month_May',\n",
       "       ...\n",
       "       'dest_VEL', 'dest_VLD', 'dest_VPS', 'dest_WRG', 'dest_WYS', 'dest_XNA',\n",
       "       'dest_XWA', 'dest_YAK', 'dest_YKM', 'dest_YUM'],\n",
       "      dtype='object', length=821)"
      ]
     },
     "execution_count": 32,
     "metadata": {},
     "output_type": "execute_result"
    }
   ],
   "source": [
    "X.columns"
   ]
  },
  {
   "cell_type": "code",
   "execution_count": 33,
   "id": "6d2c6336-3508-48d3-8597-72dcab588726",
   "metadata": {},
   "outputs": [
    {
     "data": {
      "text/plain": [
       "(205174, 821)"
      ]
     },
     "execution_count": 33,
     "metadata": {},
     "output_type": "execute_result"
    }
   ],
   "source": [
    "X.shape"
   ]
  },
  {
   "cell_type": "code",
   "execution_count": 34,
   "id": "b5b73e11-fb22-4672-9ead-64d0a70affd5",
   "metadata": {},
   "outputs": [
    {
     "data": {
      "text/plain": [
       "[]"
      ]
     },
     "execution_count": 34,
     "metadata": {},
     "output_type": "execute_result"
    }
   ],
   "source": [
    "[col for col in X.columns if \"delay\" in col]"
   ]
  },
  {
   "cell_type": "code",
   "execution_count": 35,
   "id": "ff55df96-42fe-403d-be8e-bbab6b107e9d",
   "metadata": {},
   "outputs": [
    {
     "data": {
      "text/plain": [
       "Index(['distance', 'month_Apr', 'month_Aug', 'month_Dec', 'month_Feb',\n",
       "       'month_Jan', 'month_Jul', 'month_Jun', 'month_Mar', 'month_May',\n",
       "       ...\n",
       "       'dest_VEL', 'dest_VLD', 'dest_VPS', 'dest_WRG', 'dest_WYS', 'dest_XNA',\n",
       "       'dest_XWA', 'dest_YAK', 'dest_YKM', 'dest_YUM'],\n",
       "      dtype='object', length=821)"
      ]
     },
     "execution_count": 35,
     "metadata": {},
     "output_type": "execute_result"
    }
   ],
   "source": [
    "X.columns"
   ]
  },
  {
   "cell_type": "markdown",
   "id": "22e745a8-8cac-4c26-9caa-aa682edc756a",
   "metadata": {},
   "source": [
    "Our task is to utilize a supervised learning model to make predictions. We want to limit the imbalance on the classes we are attempting to predict so, we are left with some decisions to make on our dataset. "
   ]
  },
  {
   "cell_type": "markdown",
   "id": "d54d186c-eff8-47a8-8385-af7d38defd08",
   "metadata": {},
   "source": [
    "### Training and Target variables set up.\n",
    "----\n",
    "Our features and target variables were encoded in the previous section. "
   ]
  },
  {
   "cell_type": "code",
   "execution_count": 36,
   "id": "e5fa2698-e62b-497e-a564-b99ca29efed8",
   "metadata": {},
   "outputs": [
    {
     "data": {
      "text/plain": [
       "((205174, 821), (205174,))"
      ]
     },
     "execution_count": 36,
     "metadata": {},
     "output_type": "execute_result"
    }
   ],
   "source": [
    "X.shape, y.shape"
   ]
  },
  {
   "cell_type": "code",
   "execution_count": 38,
   "id": "7108b858-d7bb-4fc3-b5aa-9aac40c63da9",
   "metadata": {},
   "outputs": [],
   "source": [
    "X_train, X_test, y_train, y_test = train_test_split(X, y, test_size = .3, random_state=42)"
   ]
  },
  {
   "cell_type": "code",
   "execution_count": 39,
   "id": "46653435-5969-454e-bab7-c76b683a3889",
   "metadata": {},
   "outputs": [
    {
     "data": {
      "text/plain": [
       "((143621, 821), (143621,))"
      ]
     },
     "execution_count": 39,
     "metadata": {},
     "output_type": "execute_result"
    }
   ],
   "source": [
    "X_train.shape, y_train.shape"
   ]
  },
  {
   "cell_type": "code",
   "execution_count": 40,
   "id": "6d1228e8-eb1e-4223-a40c-e99ff863ba62",
   "metadata": {},
   "outputs": [
    {
     "data": {
      "text/plain": [
       "((61553, 821), (61553,))"
      ]
     },
     "execution_count": 40,
     "metadata": {},
     "output_type": "execute_result"
    }
   ],
   "source": [
    "X_test.shape, y_test.shape"
   ]
  },
  {
   "cell_type": "markdown",
   "id": "1cbf00d1-5aed-403e-a207-c8e492f865c4",
   "metadata": {
    "tags": []
   },
   "source": [
    "## 4. Modeling and Performance\n",
    "----\n",
    "AdaBoost, LightGBM \\* , XGBoost and Logistic Regression Classifiers were evaluated on common metrics. The results are compiled and then given in a table for comparison at which time a model is selected and then tuned in step 5. Each model is evaluated on their default settings on the notion that the model that performs best on their default settings would perform better after being tuned. "
   ]
  },
  {
   "cell_type": "code",
   "execution_count": 45,
   "id": "1bb65548-425e-440b-94d5-020a5d9500dc",
   "metadata": {},
   "outputs": [],
   "source": [
    "cv_test = RepeatedStratifiedKFold(n_splits=5, n_repeats=3, random_state=42)"
   ]
  },
  {
   "cell_type": "code",
   "execution_count": 46,
   "id": "d29ae852-3e92-499f-b426-366686edbadf",
   "metadata": {},
   "outputs": [],
   "source": [
    "metrics = ['accuracy', 'precision', 'recall', 'f1', 'roc_auc']"
   ]
  },
  {
   "cell_type": "markdown",
   "id": "be75e76b-8b8f-4dbc-a920-0eeb2e5086ab",
   "metadata": {
    "jp-MarkdownHeadingCollapsed": true,
    "tags": []
   },
   "source": [
    "### 4.1 AdaBoost\n",
    "----\n",
    "The first model built will be one of our boosted classifiers. ADABoost\n",
    "\n"
   ]
  },
  {
   "cell_type": "code",
   "execution_count": 47,
   "id": "91d97c57-59d6-4a6d-9b53-1b402f7e22e6",
   "metadata": {},
   "outputs": [],
   "source": [
    "ada = AdaBoostClassifier(random_state = 42)"
   ]
  },
  {
   "cell_type": "code",
   "execution_count": 48,
   "id": "916a39c7-3276-476e-b70c-4578178c0ca8",
   "metadata": {},
   "outputs": [
    {
     "name": "stderr",
     "output_type": "stream",
     "text": [
      "[Parallel(n_jobs=-1)]: Using backend LokyBackend with 8 concurrent workers.\n",
      "[Parallel(n_jobs=-1)]: Done   8 out of  15 | elapsed:  3.2min remaining:  2.8min\n",
      "[Parallel(n_jobs=-1)]: Done  15 out of  15 | elapsed:  5.5min finished\n"
     ]
    }
   ],
   "source": [
    "ada_scores = cross_validate(ada, X_train, y_train, scoring = metrics, cv = cv_test, n_jobs = -1, verbose = 2)"
   ]
  },
  {
   "cell_type": "code",
   "execution_count": 51,
   "id": "0d4a14ed-ef29-4350-9499-f7cee4de1e27",
   "metadata": {},
   "outputs": [
    {
     "name": "stdout",
     "output_type": "stream",
     "text": [
      "fit_time          149.218789\n",
      "score_time         15.405630\n",
      "test_accuracy       0.572261\n",
      "test_precision      0.573699\n",
      "test_recall         0.612711\n",
      "test_f1             0.592531\n",
      "test_roc_auc        0.600139\n",
      "dtype: float64\n"
     ]
    },
    {
     "data": {
      "text/html": [
       "<div>\n",
       "<style scoped>\n",
       "    .dataframe tbody tr th:only-of-type {\n",
       "        vertical-align: middle;\n",
       "    }\n",
       "\n",
       "    .dataframe tbody tr th {\n",
       "        vertical-align: top;\n",
       "    }\n",
       "\n",
       "    .dataframe thead th {\n",
       "        text-align: right;\n",
       "    }\n",
       "</style>\n",
       "<table border=\"1\" class=\"dataframe\">\n",
       "  <thead>\n",
       "    <tr style=\"text-align: right;\">\n",
       "      <th></th>\n",
       "      <th>fit_time</th>\n",
       "      <th>score_time</th>\n",
       "      <th>test_accuracy</th>\n",
       "      <th>test_precision</th>\n",
       "      <th>test_recall</th>\n",
       "      <th>test_f1</th>\n",
       "      <th>test_roc_auc</th>\n",
       "    </tr>\n",
       "  </thead>\n",
       "  <tbody>\n",
       "    <tr>\n",
       "      <th>0</th>\n",
       "      <td>171.258041</td>\n",
       "      <td>15.549609</td>\n",
       "      <td>0.570305</td>\n",
       "      <td>0.572165</td>\n",
       "      <td>0.608696</td>\n",
       "      <td>0.589865</td>\n",
       "      <td>0.600080</td>\n",
       "    </tr>\n",
       "    <tr>\n",
       "      <th>1</th>\n",
       "      <td>168.454496</td>\n",
       "      <td>16.820142</td>\n",
       "      <td>0.570046</td>\n",
       "      <td>0.569837</td>\n",
       "      <td>0.624237</td>\n",
       "      <td>0.595798</td>\n",
       "      <td>0.597311</td>\n",
       "    </tr>\n",
       "    <tr>\n",
       "      <th>2</th>\n",
       "      <td>167.090668</td>\n",
       "      <td>17.044770</td>\n",
       "      <td>0.574119</td>\n",
       "      <td>0.577247</td>\n",
       "      <td>0.601673</td>\n",
       "      <td>0.589207</td>\n",
       "      <td>0.602799</td>\n",
       "    </tr>\n",
       "    <tr>\n",
       "      <th>3</th>\n",
       "      <td>169.430152</td>\n",
       "      <td>16.455963</td>\n",
       "      <td>0.571682</td>\n",
       "      <td>0.572428</td>\n",
       "      <td>0.617379</td>\n",
       "      <td>0.594054</td>\n",
       "      <td>0.598780</td>\n",
       "    </tr>\n",
       "    <tr>\n",
       "      <th>4</th>\n",
       "      <td>167.016035</td>\n",
       "      <td>16.990261</td>\n",
       "      <td>0.575477</td>\n",
       "      <td>0.577465</td>\n",
       "      <td>0.610178</td>\n",
       "      <td>0.593371</td>\n",
       "      <td>0.601890</td>\n",
       "    </tr>\n",
       "    <tr>\n",
       "      <th>5</th>\n",
       "      <td>168.001362</td>\n",
       "      <td>16.693149</td>\n",
       "      <td>0.574447</td>\n",
       "      <td>0.574385</td>\n",
       "      <td>0.624331</td>\n",
       "      <td>0.598318</td>\n",
       "      <td>0.602897</td>\n",
       "    </tr>\n",
       "    <tr>\n",
       "      <th>6</th>\n",
       "      <td>169.591702</td>\n",
       "      <td>16.397048</td>\n",
       "      <td>0.573214</td>\n",
       "      <td>0.573555</td>\n",
       "      <td>0.620876</td>\n",
       "      <td>0.596279</td>\n",
       "      <td>0.598512</td>\n",
       "    </tr>\n",
       "    <tr>\n",
       "      <th>7</th>\n",
       "      <td>167.767380</td>\n",
       "      <td>16.943685</td>\n",
       "      <td>0.569559</td>\n",
       "      <td>0.570136</td>\n",
       "      <td>0.617996</td>\n",
       "      <td>0.593102</td>\n",
       "      <td>0.594237</td>\n",
       "    </tr>\n",
       "    <tr>\n",
       "      <th>8</th>\n",
       "      <td>125.347286</td>\n",
       "      <td>14.246409</td>\n",
       "      <td>0.572970</td>\n",
       "      <td>0.574194</td>\n",
       "      <td>0.614361</td>\n",
       "      <td>0.593599</td>\n",
       "      <td>0.602376</td>\n",
       "    </tr>\n",
       "    <tr>\n",
       "      <th>9</th>\n",
       "      <td>125.458194</td>\n",
       "      <td>14.193296</td>\n",
       "      <td>0.573562</td>\n",
       "      <td>0.577198</td>\n",
       "      <td>0.597901</td>\n",
       "      <td>0.587367</td>\n",
       "      <td>0.603379</td>\n",
       "    </tr>\n",
       "    <tr>\n",
       "      <th>10</th>\n",
       "      <td>126.962062</td>\n",
       "      <td>14.513334</td>\n",
       "      <td>0.570061</td>\n",
       "      <td>0.572808</td>\n",
       "      <td>0.602112</td>\n",
       "      <td>0.587095</td>\n",
       "      <td>0.600483</td>\n",
       "    </tr>\n",
       "    <tr>\n",
       "      <th>11</th>\n",
       "      <td>128.028770</td>\n",
       "      <td>14.159517</td>\n",
       "      <td>0.572413</td>\n",
       "      <td>0.573890</td>\n",
       "      <td>0.612304</td>\n",
       "      <td>0.592475</td>\n",
       "      <td>0.600014</td>\n",
       "    </tr>\n",
       "    <tr>\n",
       "      <th>12</th>\n",
       "      <td>127.272222</td>\n",
       "      <td>14.350870</td>\n",
       "      <td>0.572239</td>\n",
       "      <td>0.573366</td>\n",
       "      <td>0.614773</td>\n",
       "      <td>0.593348</td>\n",
       "      <td>0.601955</td>\n",
       "    </tr>\n",
       "    <tr>\n",
       "      <th>13</th>\n",
       "      <td>128.809131</td>\n",
       "      <td>13.043686</td>\n",
       "      <td>0.571578</td>\n",
       "      <td>0.573128</td>\n",
       "      <td>0.611412</td>\n",
       "      <td>0.591651</td>\n",
       "      <td>0.597548</td>\n",
       "    </tr>\n",
       "    <tr>\n",
       "      <th>14</th>\n",
       "      <td>127.794340</td>\n",
       "      <td>13.682707</td>\n",
       "      <td>0.572239</td>\n",
       "      <td>0.573686</td>\n",
       "      <td>0.612441</td>\n",
       "      <td>0.592430</td>\n",
       "      <td>0.599823</td>\n",
       "    </tr>\n",
       "  </tbody>\n",
       "</table>\n",
       "</div>"
      ],
      "text/plain": [
       "      fit_time  score_time  test_accuracy  test_precision  test_recall  \\\n",
       "0   171.258041   15.549609       0.570305        0.572165     0.608696   \n",
       "1   168.454496   16.820142       0.570046        0.569837     0.624237   \n",
       "2   167.090668   17.044770       0.574119        0.577247     0.601673   \n",
       "3   169.430152   16.455963       0.571682        0.572428     0.617379   \n",
       "4   167.016035   16.990261       0.575477        0.577465     0.610178   \n",
       "5   168.001362   16.693149       0.574447        0.574385     0.624331   \n",
       "6   169.591702   16.397048       0.573214        0.573555     0.620876   \n",
       "7   167.767380   16.943685       0.569559        0.570136     0.617996   \n",
       "8   125.347286   14.246409       0.572970        0.574194     0.614361   \n",
       "9   125.458194   14.193296       0.573562        0.577198     0.597901   \n",
       "10  126.962062   14.513334       0.570061        0.572808     0.602112   \n",
       "11  128.028770   14.159517       0.572413        0.573890     0.612304   \n",
       "12  127.272222   14.350870       0.572239        0.573366     0.614773   \n",
       "13  128.809131   13.043686       0.571578        0.573128     0.611412   \n",
       "14  127.794340   13.682707       0.572239        0.573686     0.612441   \n",
       "\n",
       "     test_f1  test_roc_auc  \n",
       "0   0.589865      0.600080  \n",
       "1   0.595798      0.597311  \n",
       "2   0.589207      0.602799  \n",
       "3   0.594054      0.598780  \n",
       "4   0.593371      0.601890  \n",
       "5   0.598318      0.602897  \n",
       "6   0.596279      0.598512  \n",
       "7   0.593102      0.594237  \n",
       "8   0.593599      0.602376  \n",
       "9   0.587367      0.603379  \n",
       "10  0.587095      0.600483  \n",
       "11  0.592475      0.600014  \n",
       "12  0.593348      0.601955  \n",
       "13  0.591651      0.597548  \n",
       "14  0.592430      0.599823  "
      ]
     },
     "execution_count": 51,
     "metadata": {},
     "output_type": "execute_result"
    }
   ],
   "source": [
    "ada_scored = pd.DataFrame(ada_scores)#.add_prefix('Ada_train_')\n",
    "print(ada_scored.mean())\n",
    "ada_mean = pd.Series(ada_scored.mean(), name='AdaBoost_train')\n",
    "ada_scored"
   ]
  },
  {
   "cell_type": "markdown",
   "id": "5efa47a0-9ebd-4f45-b018-7dfc9618e896",
   "metadata": {
    "jp-MarkdownHeadingCollapsed": true,
    "tags": []
   },
   "source": [
    "### 4.2 Light GBM\n",
    "----\n"
   ]
  },
  {
   "cell_type": "code",
   "execution_count": 52,
   "id": "e604cb25-c627-4a91-8e36-41d04db639e2",
   "metadata": {},
   "outputs": [],
   "source": [
    "light = LGBMClassifier(random_state=42)"
   ]
  },
  {
   "cell_type": "code",
   "execution_count": 53,
   "id": "848927f4-976f-4e17-8d20-c00c62289f6e",
   "metadata": {},
   "outputs": [
    {
     "name": "stderr",
     "output_type": "stream",
     "text": [
      "[Parallel(n_jobs=-1)]: Using backend LokyBackend with 8 concurrent workers.\n",
      "[Parallel(n_jobs=-1)]: Done  15 out of  15 | elapsed:   29.5s finished\n"
     ]
    }
   ],
   "source": [
    "light_scores = cross_validate(light, X_train, y_train, scoring = metrics, cv = cv_test, n_jobs = -1, verbose = 1)"
   ]
  },
  {
   "cell_type": "code",
   "execution_count": 54,
   "id": "e8f0b5f6-61aa-4a18-8286-dc3e14855b6c",
   "metadata": {},
   "outputs": [
    {
     "name": "stdout",
     "output_type": "stream",
     "text": [
      "fit_time          11.307615\n",
      "score_time         2.082145\n",
      "test_accuracy      0.588946\n",
      "test_precision     0.590858\n",
      "test_recall        0.618605\n",
      "test_f1            0.604405\n",
      "test_roc_auc       0.624587\n",
      "dtype: float64\n"
     ]
    },
    {
     "data": {
      "text/html": [
       "<div>\n",
       "<style scoped>\n",
       "    .dataframe tbody tr th:only-of-type {\n",
       "        vertical-align: middle;\n",
       "    }\n",
       "\n",
       "    .dataframe tbody tr th {\n",
       "        vertical-align: top;\n",
       "    }\n",
       "\n",
       "    .dataframe thead th {\n",
       "        text-align: right;\n",
       "    }\n",
       "</style>\n",
       "<table border=\"1\" class=\"dataframe\">\n",
       "  <thead>\n",
       "    <tr style=\"text-align: right;\">\n",
       "      <th></th>\n",
       "      <th>fit_time</th>\n",
       "      <th>score_time</th>\n",
       "      <th>test_accuracy</th>\n",
       "      <th>test_precision</th>\n",
       "      <th>test_recall</th>\n",
       "      <th>test_f1</th>\n",
       "      <th>test_roc_auc</th>\n",
       "    </tr>\n",
       "  </thead>\n",
       "  <tbody>\n",
       "    <tr>\n",
       "      <th>0</th>\n",
       "      <td>12.848888</td>\n",
       "      <td>2.427536</td>\n",
       "      <td>0.589243</td>\n",
       "      <td>0.590705</td>\n",
       "      <td>0.621451</td>\n",
       "      <td>0.605688</td>\n",
       "      <td>0.622644</td>\n",
       "    </tr>\n",
       "    <tr>\n",
       "      <th>1</th>\n",
       "      <td>14.338835</td>\n",
       "      <td>2.284370</td>\n",
       "      <td>0.584389</td>\n",
       "      <td>0.586696</td>\n",
       "      <td>0.613332</td>\n",
       "      <td>0.599718</td>\n",
       "      <td>0.619897</td>\n",
       "    </tr>\n",
       "    <tr>\n",
       "      <th>2</th>\n",
       "      <td>14.411062</td>\n",
       "      <td>2.273804</td>\n",
       "      <td>0.591735</td>\n",
       "      <td>0.592124</td>\n",
       "      <td>0.629038</td>\n",
       "      <td>0.610023</td>\n",
       "      <td>0.629205</td>\n",
       "    </tr>\n",
       "    <tr>\n",
       "      <th>3</th>\n",
       "      <td>14.285000</td>\n",
       "      <td>2.305626</td>\n",
       "      <td>0.588671</td>\n",
       "      <td>0.591480</td>\n",
       "      <td>0.613264</td>\n",
       "      <td>0.602175</td>\n",
       "      <td>0.624184</td>\n",
       "    </tr>\n",
       "    <tr>\n",
       "      <th>4</th>\n",
       "      <td>14.255151</td>\n",
       "      <td>2.252912</td>\n",
       "      <td>0.591805</td>\n",
       "      <td>0.594657</td>\n",
       "      <td>0.615253</td>\n",
       "      <td>0.604780</td>\n",
       "      <td>0.625696</td>\n",
       "    </tr>\n",
       "    <tr>\n",
       "      <th>5</th>\n",
       "      <td>13.058565</td>\n",
       "      <td>2.356629</td>\n",
       "      <td>0.594430</td>\n",
       "      <td>0.595319</td>\n",
       "      <td>0.627897</td>\n",
       "      <td>0.611174</td>\n",
       "      <td>0.626665</td>\n",
       "    </tr>\n",
       "    <tr>\n",
       "      <th>6</th>\n",
       "      <td>14.316351</td>\n",
       "      <td>2.303853</td>\n",
       "      <td>0.590029</td>\n",
       "      <td>0.592483</td>\n",
       "      <td>0.616213</td>\n",
       "      <td>0.604115</td>\n",
       "      <td>0.624691</td>\n",
       "    </tr>\n",
       "    <tr>\n",
       "      <th>7</th>\n",
       "      <td>14.356550</td>\n",
       "      <td>2.284604</td>\n",
       "      <td>0.583728</td>\n",
       "      <td>0.585729</td>\n",
       "      <td>0.614773</td>\n",
       "      <td>0.599900</td>\n",
       "      <td>0.619695</td>\n",
       "    </tr>\n",
       "    <tr>\n",
       "      <th>8</th>\n",
       "      <td>7.187497</td>\n",
       "      <td>2.139223</td>\n",
       "      <td>0.587488</td>\n",
       "      <td>0.589445</td>\n",
       "      <td>0.617379</td>\n",
       "      <td>0.603088</td>\n",
       "      <td>0.625005</td>\n",
       "    </tr>\n",
       "    <tr>\n",
       "      <th>9</th>\n",
       "      <td>7.217371</td>\n",
       "      <td>2.135659</td>\n",
       "      <td>0.589855</td>\n",
       "      <td>0.591611</td>\n",
       "      <td>0.620053</td>\n",
       "      <td>0.605498</td>\n",
       "      <td>0.629042</td>\n",
       "    </tr>\n",
       "    <tr>\n",
       "      <th>10</th>\n",
       "      <td>8.123932</td>\n",
       "      <td>1.847558</td>\n",
       "      <td>0.587850</td>\n",
       "      <td>0.588995</td>\n",
       "      <td>0.622480</td>\n",
       "      <td>0.605275</td>\n",
       "      <td>0.623855</td>\n",
       "    </tr>\n",
       "    <tr>\n",
       "      <th>11</th>\n",
       "      <td>8.749074</td>\n",
       "      <td>1.644009</td>\n",
       "      <td>0.589229</td>\n",
       "      <td>0.590583</td>\n",
       "      <td>0.621974</td>\n",
       "      <td>0.605872</td>\n",
       "      <td>0.623090</td>\n",
       "    </tr>\n",
       "    <tr>\n",
       "      <th>12</th>\n",
       "      <td>8.743855</td>\n",
       "      <td>1.697512</td>\n",
       "      <td>0.588463</td>\n",
       "      <td>0.591125</td>\n",
       "      <td>0.613950</td>\n",
       "      <td>0.602321</td>\n",
       "      <td>0.626799</td>\n",
       "    </tr>\n",
       "    <tr>\n",
       "      <th>13</th>\n",
       "      <td>8.874594</td>\n",
       "      <td>1.655639</td>\n",
       "      <td>0.588532</td>\n",
       "      <td>0.590891</td>\n",
       "      <td>0.615733</td>\n",
       "      <td>0.603056</td>\n",
       "      <td>0.623318</td>\n",
       "    </tr>\n",
       "    <tr>\n",
       "      <th>14</th>\n",
       "      <td>8.847497</td>\n",
       "      <td>1.623246</td>\n",
       "      <td>0.588741</td>\n",
       "      <td>0.591029</td>\n",
       "      <td>0.616281</td>\n",
       "      <td>0.603391</td>\n",
       "      <td>0.625024</td>\n",
       "    </tr>\n",
       "  </tbody>\n",
       "</table>\n",
       "</div>"
      ],
      "text/plain": [
       "     fit_time  score_time  test_accuracy  test_precision  test_recall  \\\n",
       "0   12.848888    2.427536       0.589243        0.590705     0.621451   \n",
       "1   14.338835    2.284370       0.584389        0.586696     0.613332   \n",
       "2   14.411062    2.273804       0.591735        0.592124     0.629038   \n",
       "3   14.285000    2.305626       0.588671        0.591480     0.613264   \n",
       "4   14.255151    2.252912       0.591805        0.594657     0.615253   \n",
       "5   13.058565    2.356629       0.594430        0.595319     0.627897   \n",
       "6   14.316351    2.303853       0.590029        0.592483     0.616213   \n",
       "7   14.356550    2.284604       0.583728        0.585729     0.614773   \n",
       "8    7.187497    2.139223       0.587488        0.589445     0.617379   \n",
       "9    7.217371    2.135659       0.589855        0.591611     0.620053   \n",
       "10   8.123932    1.847558       0.587850        0.588995     0.622480   \n",
       "11   8.749074    1.644009       0.589229        0.590583     0.621974   \n",
       "12   8.743855    1.697512       0.588463        0.591125     0.613950   \n",
       "13   8.874594    1.655639       0.588532        0.590891     0.615733   \n",
       "14   8.847497    1.623246       0.588741        0.591029     0.616281   \n",
       "\n",
       "     test_f1  test_roc_auc  \n",
       "0   0.605688      0.622644  \n",
       "1   0.599718      0.619897  \n",
       "2   0.610023      0.629205  \n",
       "3   0.602175      0.624184  \n",
       "4   0.604780      0.625696  \n",
       "5   0.611174      0.626665  \n",
       "6   0.604115      0.624691  \n",
       "7   0.599900      0.619695  \n",
       "8   0.603088      0.625005  \n",
       "9   0.605498      0.629042  \n",
       "10  0.605275      0.623855  \n",
       "11  0.605872      0.623090  \n",
       "12  0.602321      0.626799  \n",
       "13  0.603056      0.623318  \n",
       "14  0.603391      0.625024  "
      ]
     },
     "execution_count": 54,
     "metadata": {},
     "output_type": "execute_result"
    }
   ],
   "source": [
    "light_scored = pd.DataFrame(light_scores)#.add_prefix('LGBMC_train')\n",
    "print(light_scored.mean())\n",
    "light_mean = pd.Series(light_scored.mean(), name = 'LGBM_train')\n",
    "light_scored"
   ]
  },
  {
   "cell_type": "code",
   "execution_count": null,
   "id": "ad6801f9-06a1-4d1d-a8c0-232b2d8d3691",
   "metadata": {},
   "outputs": [],
   "source": []
  },
  {
   "cell_type": "markdown",
   "id": "bd4fa131-3778-4fcb-b2d9-ace191d2f2a9",
   "metadata": {
    "tags": []
   },
   "source": [
    "### 4.3 XGBoost.\n",
    "----\n",
    "I am utilizing the [`hist` tree method]('https://xgboost.readthedocs.io/en/stable/treemethod.html') here to boost fit time performance. This is so we can mirror LightGBM's implementation of the algorithm. "
   ]
  },
  {
   "cell_type": "code",
   "execution_count": 55,
   "id": "05239575-4628-46bf-bf80-5677675dd531",
   "metadata": {},
   "outputs": [],
   "source": [
    "xg = XGBClassifier(tree_method = 'hist', random_state = 42)"
   ]
  },
  {
   "cell_type": "code",
   "execution_count": 56,
   "id": "22d17efb-efeb-4504-9e22-05bf1bd32e78",
   "metadata": {},
   "outputs": [
    {
     "name": "stderr",
     "output_type": "stream",
     "text": [
      "[Parallel(n_jobs=-1)]: Using backend LokyBackend with 8 concurrent workers.\n",
      "[Parallel(n_jobs=-1)]: Done   8 out of  15 | elapsed:   48.3s remaining:   42.3s\n",
      "[Parallel(n_jobs=-1)]: Done  15 out of  15 | elapsed:  1.5min finished\n"
     ]
    }
   ],
   "source": [
    "xg_scores = cross_validate(xg, X_train, y_train, scoring = metrics, cv = cv_test, n_jobs = -1, verbose = 2)"
   ]
  },
  {
   "cell_type": "code",
   "execution_count": 58,
   "id": "de309162-83cb-4cf8-b638-40048d7692a5",
   "metadata": {},
   "outputs": [
    {
     "name": "stdout",
     "output_type": "stream",
     "text": [
      "fit_time          39.787447\n",
      "score_time         2.508643\n",
      "test_accuracy      0.585975\n",
      "test_precision     0.588334\n",
      "test_recall        0.614092\n",
      "test_f1            0.600932\n",
      "test_roc_auc       0.619913\n",
      "dtype: float64\n"
     ]
    },
    {
     "data": {
      "text/html": [
       "<div>\n",
       "<style scoped>\n",
       "    .dataframe tbody tr th:only-of-type {\n",
       "        vertical-align: middle;\n",
       "    }\n",
       "\n",
       "    .dataframe tbody tr th {\n",
       "        vertical-align: top;\n",
       "    }\n",
       "\n",
       "    .dataframe thead th {\n",
       "        text-align: right;\n",
       "    }\n",
       "</style>\n",
       "<table border=\"1\" class=\"dataframe\">\n",
       "  <thead>\n",
       "    <tr style=\"text-align: right;\">\n",
       "      <th></th>\n",
       "      <th>fit_time</th>\n",
       "      <th>score_time</th>\n",
       "      <th>test_accuracy</th>\n",
       "      <th>test_precision</th>\n",
       "      <th>test_recall</th>\n",
       "      <th>test_f1</th>\n",
       "      <th>test_roc_auc</th>\n",
       "    </tr>\n",
       "  </thead>\n",
       "  <tbody>\n",
       "    <tr>\n",
       "      <th>0</th>\n",
       "      <td>36.939865</td>\n",
       "      <td>3.028418</td>\n",
       "      <td>0.585448</td>\n",
       "      <td>0.588134</td>\n",
       "      <td>0.611850</td>\n",
       "      <td>0.599758</td>\n",
       "      <td>0.618093</td>\n",
       "    </tr>\n",
       "    <tr>\n",
       "      <th>1</th>\n",
       "      <td>42.441226</td>\n",
       "      <td>2.382401</td>\n",
       "      <td>0.581361</td>\n",
       "      <td>0.583814</td>\n",
       "      <td>0.610521</td>\n",
       "      <td>0.596869</td>\n",
       "      <td>0.615065</td>\n",
       "    </tr>\n",
       "    <tr>\n",
       "      <th>2</th>\n",
       "      <td>42.621170</td>\n",
       "      <td>2.404476</td>\n",
       "      <td>0.588671</td>\n",
       "      <td>0.590027</td>\n",
       "      <td>0.621631</td>\n",
       "      <td>0.605417</td>\n",
       "      <td>0.623881</td>\n",
       "    </tr>\n",
       "    <tr>\n",
       "      <th>3</th>\n",
       "      <td>42.525520</td>\n",
       "      <td>2.492905</td>\n",
       "      <td>0.584981</td>\n",
       "      <td>0.587328</td>\n",
       "      <td>0.613470</td>\n",
       "      <td>0.600114</td>\n",
       "      <td>0.619160</td>\n",
       "    </tr>\n",
       "    <tr>\n",
       "      <th>4</th>\n",
       "      <td>42.446896</td>\n",
       "      <td>2.411794</td>\n",
       "      <td>0.591596</td>\n",
       "      <td>0.593898</td>\n",
       "      <td>0.618133</td>\n",
       "      <td>0.605773</td>\n",
       "      <td>0.623640</td>\n",
       "    </tr>\n",
       "    <tr>\n",
       "      <th>5</th>\n",
       "      <td>36.709138</td>\n",
       "      <td>2.974277</td>\n",
       "      <td>0.587850</td>\n",
       "      <td>0.590272</td>\n",
       "      <td>0.615005</td>\n",
       "      <td>0.602385</td>\n",
       "      <td>0.620281</td>\n",
       "    </tr>\n",
       "    <tr>\n",
       "      <th>6</th>\n",
       "      <td>42.453988</td>\n",
       "      <td>2.496646</td>\n",
       "      <td>0.583519</td>\n",
       "      <td>0.585701</td>\n",
       "      <td>0.613538</td>\n",
       "      <td>0.599297</td>\n",
       "      <td>0.618285</td>\n",
       "    </tr>\n",
       "    <tr>\n",
       "      <th>7</th>\n",
       "      <td>42.604547</td>\n",
       "      <td>2.413136</td>\n",
       "      <td>0.586478</td>\n",
       "      <td>0.588803</td>\n",
       "      <td>0.614567</td>\n",
       "      <td>0.601409</td>\n",
       "      <td>0.619496</td>\n",
       "    </tr>\n",
       "    <tr>\n",
       "      <th>8</th>\n",
       "      <td>37.157751</td>\n",
       "      <td>2.937359</td>\n",
       "      <td>0.585817</td>\n",
       "      <td>0.587268</td>\n",
       "      <td>0.619368</td>\n",
       "      <td>0.602891</td>\n",
       "      <td>0.619228</td>\n",
       "    </tr>\n",
       "    <tr>\n",
       "      <th>9</th>\n",
       "      <td>37.122878</td>\n",
       "      <td>2.938422</td>\n",
       "      <td>0.585921</td>\n",
       "      <td>0.588616</td>\n",
       "      <td>0.612029</td>\n",
       "      <td>0.600094</td>\n",
       "      <td>0.623260</td>\n",
       "    </tr>\n",
       "    <tr>\n",
       "      <th>10</th>\n",
       "      <td>38.340669</td>\n",
       "      <td>2.614629</td>\n",
       "      <td>0.582663</td>\n",
       "      <td>0.584716</td>\n",
       "      <td>0.613908</td>\n",
       "      <td>0.598956</td>\n",
       "      <td>0.617609</td>\n",
       "    </tr>\n",
       "    <tr>\n",
       "      <th>11</th>\n",
       "      <td>38.591795</td>\n",
       "      <td>2.093316</td>\n",
       "      <td>0.587244</td>\n",
       "      <td>0.589303</td>\n",
       "      <td>0.616624</td>\n",
       "      <td>0.602654</td>\n",
       "      <td>0.618900</td>\n",
       "    </tr>\n",
       "    <tr>\n",
       "      <th>12</th>\n",
       "      <td>38.799890</td>\n",
       "      <td>2.186932</td>\n",
       "      <td>0.587662</td>\n",
       "      <td>0.591288</td>\n",
       "      <td>0.607914</td>\n",
       "      <td>0.599486</td>\n",
       "      <td>0.620735</td>\n",
       "    </tr>\n",
       "    <tr>\n",
       "      <th>13</th>\n",
       "      <td>39.050379</td>\n",
       "      <td>2.130522</td>\n",
       "      <td>0.584529</td>\n",
       "      <td>0.587446</td>\n",
       "      <td>0.609766</td>\n",
       "      <td>0.598398</td>\n",
       "      <td>0.618231</td>\n",
       "    </tr>\n",
       "    <tr>\n",
       "      <th>14</th>\n",
       "      <td>39.005997</td>\n",
       "      <td>2.124407</td>\n",
       "      <td>0.585886</td>\n",
       "      <td>0.588402</td>\n",
       "      <td>0.613058</td>\n",
       "      <td>0.600477</td>\n",
       "      <td>0.622829</td>\n",
       "    </tr>\n",
       "  </tbody>\n",
       "</table>\n",
       "</div>"
      ],
      "text/plain": [
       "     fit_time  score_time  test_accuracy  test_precision  test_recall  \\\n",
       "0   36.939865    3.028418       0.585448        0.588134     0.611850   \n",
       "1   42.441226    2.382401       0.581361        0.583814     0.610521   \n",
       "2   42.621170    2.404476       0.588671        0.590027     0.621631   \n",
       "3   42.525520    2.492905       0.584981        0.587328     0.613470   \n",
       "4   42.446896    2.411794       0.591596        0.593898     0.618133   \n",
       "5   36.709138    2.974277       0.587850        0.590272     0.615005   \n",
       "6   42.453988    2.496646       0.583519        0.585701     0.613538   \n",
       "7   42.604547    2.413136       0.586478        0.588803     0.614567   \n",
       "8   37.157751    2.937359       0.585817        0.587268     0.619368   \n",
       "9   37.122878    2.938422       0.585921        0.588616     0.612029   \n",
       "10  38.340669    2.614629       0.582663        0.584716     0.613908   \n",
       "11  38.591795    2.093316       0.587244        0.589303     0.616624   \n",
       "12  38.799890    2.186932       0.587662        0.591288     0.607914   \n",
       "13  39.050379    2.130522       0.584529        0.587446     0.609766   \n",
       "14  39.005997    2.124407       0.585886        0.588402     0.613058   \n",
       "\n",
       "     test_f1  test_roc_auc  \n",
       "0   0.599758      0.618093  \n",
       "1   0.596869      0.615065  \n",
       "2   0.605417      0.623881  \n",
       "3   0.600114      0.619160  \n",
       "4   0.605773      0.623640  \n",
       "5   0.602385      0.620281  \n",
       "6   0.599297      0.618285  \n",
       "7   0.601409      0.619496  \n",
       "8   0.602891      0.619228  \n",
       "9   0.600094      0.623260  \n",
       "10  0.598956      0.617609  \n",
       "11  0.602654      0.618900  \n",
       "12  0.599486      0.620735  \n",
       "13  0.598398      0.618231  \n",
       "14  0.600477      0.622829  "
      ]
     },
     "execution_count": 58,
     "metadata": {},
     "output_type": "execute_result"
    }
   ],
   "source": [
    "xg_scored = pd.DataFrame(xg_scores)#.add_prefix('XGB_train_')\n",
    "print(xg_scored.mean())\n",
    "xg_mean= pd.Series(xg_scored.mean(), name = 'XGB_train')\n",
    "xg_scored"
   ]
  },
  {
   "cell_type": "markdown",
   "id": "da28629a-9d94-4457-8281-43dff985b66a",
   "metadata": {
    "tags": []
   },
   "source": [
    "### 4.4 Logistic Regression\n",
    "----\n"
   ]
  },
  {
   "cell_type": "code",
   "execution_count": 59,
   "id": "22728172-5434-4e5e-8e97-c50fb7c9f0d4",
   "metadata": {},
   "outputs": [],
   "source": [
    "lr = LogisticRegression()"
   ]
  },
  {
   "cell_type": "code",
   "execution_count": 60,
   "id": "12067438-0dde-4cdb-b958-1a75f93b8650",
   "metadata": {},
   "outputs": [
    {
     "name": "stderr",
     "output_type": "stream",
     "text": [
      "[Parallel(n_jobs=-1)]: Using backend LokyBackend with 8 concurrent workers.\n",
      "[Parallel(n_jobs=-1)]: Done   6 out of  15 | elapsed:  1.4min remaining:  2.2min\n",
      "[Parallel(n_jobs=-1)]: Done  12 out of  15 | elapsed:  2.2min remaining:   32.3s\n",
      "[Parallel(n_jobs=-1)]: Done  15 out of  15 | elapsed:  2.2min finished\n"
     ]
    }
   ],
   "source": [
    "lr_scores = cross_validate(lr, X_train, y_train, scoring = metrics, cv = cv_test, n_jobs = -1, verbose = 3)"
   ]
  },
  {
   "cell_type": "code",
   "execution_count": 149,
   "id": "c56756a6-218f-4b77-8a92-7406c0640906",
   "metadata": {},
   "outputs": [
    {
     "name": "stdout",
     "output_type": "stream",
     "text": [
      "fit_time          64.059811\n",
      "score_time         1.031001\n",
      "test_accuracy      0.573486\n",
      "test_precision     0.575740\n",
      "test_recall        0.607307\n",
      "test_f1            0.591070\n",
      "test_roc_auc       0.601619\n",
      "dtype: float64\n"
     ]
    },
    {
     "data": {
      "text/html": [
       "<div>\n",
       "<style scoped>\n",
       "    .dataframe tbody tr th:only-of-type {\n",
       "        vertical-align: middle;\n",
       "    }\n",
       "\n",
       "    .dataframe tbody tr th {\n",
       "        vertical-align: top;\n",
       "    }\n",
       "\n",
       "    .dataframe thead th {\n",
       "        text-align: right;\n",
       "    }\n",
       "</style>\n",
       "<table border=\"1\" class=\"dataframe\">\n",
       "  <thead>\n",
       "    <tr style=\"text-align: right;\">\n",
       "      <th></th>\n",
       "      <th>fit_time</th>\n",
       "      <th>score_time</th>\n",
       "      <th>test_accuracy</th>\n",
       "      <th>test_precision</th>\n",
       "      <th>test_recall</th>\n",
       "      <th>test_f1</th>\n",
       "      <th>test_roc_auc</th>\n",
       "    </tr>\n",
       "  </thead>\n",
       "  <tbody>\n",
       "    <tr>\n",
       "      <th>0</th>\n",
       "      <td>87.156284</td>\n",
       "      <td>0.788007</td>\n",
       "      <td>0.573821</td>\n",
       "      <td>0.575513</td>\n",
       "      <td>0.611507</td>\n",
       "      <td>0.592964</td>\n",
       "      <td>0.602228</td>\n",
       "    </tr>\n",
       "    <tr>\n",
       "      <th>1</th>\n",
       "      <td>83.690359</td>\n",
       "      <td>1.552896</td>\n",
       "      <td>0.571090</td>\n",
       "      <td>0.572846</td>\n",
       "      <td>0.609698</td>\n",
       "      <td>0.590698</td>\n",
       "      <td>0.598641</td>\n",
       "    </tr>\n",
       "    <tr>\n",
       "      <th>2</th>\n",
       "      <td>79.266425</td>\n",
       "      <td>0.969511</td>\n",
       "      <td>0.576521</td>\n",
       "      <td>0.578023</td>\n",
       "      <td>0.614018</td>\n",
       "      <td>0.595477</td>\n",
       "      <td>0.606266</td>\n",
       "    </tr>\n",
       "    <tr>\n",
       "      <th>3</th>\n",
       "      <td>54.694410</td>\n",
       "      <td>2.302601</td>\n",
       "      <td>0.569733</td>\n",
       "      <td>0.573324</td>\n",
       "      <td>0.595775</td>\n",
       "      <td>0.584334</td>\n",
       "      <td>0.597089</td>\n",
       "    </tr>\n",
       "    <tr>\n",
       "      <th>4</th>\n",
       "      <td>78.981843</td>\n",
       "      <td>0.978410</td>\n",
       "      <td>0.575930</td>\n",
       "      <td>0.577071</td>\n",
       "      <td>0.616213</td>\n",
       "      <td>0.596000</td>\n",
       "      <td>0.604039</td>\n",
       "    </tr>\n",
       "    <tr>\n",
       "      <th>5</th>\n",
       "      <td>84.539851</td>\n",
       "      <td>1.243736</td>\n",
       "      <td>0.577998</td>\n",
       "      <td>0.581349</td>\n",
       "      <td>0.602798</td>\n",
       "      <td>0.591879</td>\n",
       "      <td>0.605403</td>\n",
       "    </tr>\n",
       "    <tr>\n",
       "      <th>6</th>\n",
       "      <td>86.182740</td>\n",
       "      <td>0.950914</td>\n",
       "      <td>0.575338</td>\n",
       "      <td>0.577385</td>\n",
       "      <td>0.609698</td>\n",
       "      <td>0.593102</td>\n",
       "      <td>0.602199</td>\n",
       "    </tr>\n",
       "    <tr>\n",
       "      <th>7</th>\n",
       "      <td>77.634685</td>\n",
       "      <td>1.008410</td>\n",
       "      <td>0.572309</td>\n",
       "      <td>0.574131</td>\n",
       "      <td>0.609766</td>\n",
       "      <td>0.591413</td>\n",
       "      <td>0.597731</td>\n",
       "    </tr>\n",
       "    <tr>\n",
       "      <th>8</th>\n",
       "      <td>70.781485</td>\n",
       "      <td>0.657335</td>\n",
       "      <td>0.574363</td>\n",
       "      <td>0.574568</td>\n",
       "      <td>0.622248</td>\n",
       "      <td>0.597458</td>\n",
       "      <td>0.605582</td>\n",
       "    </tr>\n",
       "    <tr>\n",
       "      <th>9</th>\n",
       "      <td>35.422107</td>\n",
       "      <td>1.546311</td>\n",
       "      <td>0.571404</td>\n",
       "      <td>0.575475</td>\n",
       "      <td>0.593512</td>\n",
       "      <td>0.584355</td>\n",
       "      <td>0.601011</td>\n",
       "    </tr>\n",
       "    <tr>\n",
       "      <th>10</th>\n",
       "      <td>43.340549</td>\n",
       "      <td>1.147434</td>\n",
       "      <td>0.573333</td>\n",
       "      <td>0.574897</td>\n",
       "      <td>0.612193</td>\n",
       "      <td>0.592959</td>\n",
       "      <td>0.601909</td>\n",
       "    </tr>\n",
       "    <tr>\n",
       "      <th>11</th>\n",
       "      <td>52.694988</td>\n",
       "      <td>0.301564</td>\n",
       "      <td>0.576417</td>\n",
       "      <td>0.577541</td>\n",
       "      <td>0.616556</td>\n",
       "      <td>0.596411</td>\n",
       "      <td>0.603807</td>\n",
       "    </tr>\n",
       "    <tr>\n",
       "      <th>12</th>\n",
       "      <td>41.943125</td>\n",
       "      <td>0.690358</td>\n",
       "      <td>0.568723</td>\n",
       "      <td>0.572930</td>\n",
       "      <td>0.590769</td>\n",
       "      <td>0.581713</td>\n",
       "      <td>0.598331</td>\n",
       "    </tr>\n",
       "    <tr>\n",
       "      <th>13</th>\n",
       "      <td>40.499434</td>\n",
       "      <td>0.909503</td>\n",
       "      <td>0.569767</td>\n",
       "      <td>0.573770</td>\n",
       "      <td>0.592895</td>\n",
       "      <td>0.583176</td>\n",
       "      <td>0.596424</td>\n",
       "    </tr>\n",
       "    <tr>\n",
       "      <th>14</th>\n",
       "      <td>44.068887</td>\n",
       "      <td>0.418032</td>\n",
       "      <td>0.575547</td>\n",
       "      <td>0.577279</td>\n",
       "      <td>0.611961</td>\n",
       "      <td>0.594114</td>\n",
       "      <td>0.603632</td>\n",
       "    </tr>\n",
       "  </tbody>\n",
       "</table>\n",
       "</div>"
      ],
      "text/plain": [
       "     fit_time  score_time  test_accuracy  test_precision  test_recall  \\\n",
       "0   87.156284    0.788007       0.573821        0.575513     0.611507   \n",
       "1   83.690359    1.552896       0.571090        0.572846     0.609698   \n",
       "2   79.266425    0.969511       0.576521        0.578023     0.614018   \n",
       "3   54.694410    2.302601       0.569733        0.573324     0.595775   \n",
       "4   78.981843    0.978410       0.575930        0.577071     0.616213   \n",
       "5   84.539851    1.243736       0.577998        0.581349     0.602798   \n",
       "6   86.182740    0.950914       0.575338        0.577385     0.609698   \n",
       "7   77.634685    1.008410       0.572309        0.574131     0.609766   \n",
       "8   70.781485    0.657335       0.574363        0.574568     0.622248   \n",
       "9   35.422107    1.546311       0.571404        0.575475     0.593512   \n",
       "10  43.340549    1.147434       0.573333        0.574897     0.612193   \n",
       "11  52.694988    0.301564       0.576417        0.577541     0.616556   \n",
       "12  41.943125    0.690358       0.568723        0.572930     0.590769   \n",
       "13  40.499434    0.909503       0.569767        0.573770     0.592895   \n",
       "14  44.068887    0.418032       0.575547        0.577279     0.611961   \n",
       "\n",
       "     test_f1  test_roc_auc  \n",
       "0   0.592964      0.602228  \n",
       "1   0.590698      0.598641  \n",
       "2   0.595477      0.606266  \n",
       "3   0.584334      0.597089  \n",
       "4   0.596000      0.604039  \n",
       "5   0.591879      0.605403  \n",
       "6   0.593102      0.602199  \n",
       "7   0.591413      0.597731  \n",
       "8   0.597458      0.605582  \n",
       "9   0.584355      0.601011  \n",
       "10  0.592959      0.601909  \n",
       "11  0.596411      0.603807  \n",
       "12  0.581713      0.598331  \n",
       "13  0.583176      0.596424  \n",
       "14  0.594114      0.603632  "
      ]
     },
     "execution_count": 149,
     "metadata": {},
     "output_type": "execute_result"
    }
   ],
   "source": [
    "lr_scored = pd.DataFrame(lr_scores)#.add_prefix('LogReg_train_')\n",
    "print(lr_scored.mean())\n",
    "lr_mean = pd.Series(lr_scored.mean(), name = 'LogReg_train') \n",
    "lr_scored"
   ]
  },
  {
   "cell_type": "markdown",
   "id": "5e933973-8330-4dee-bd78-8206a93b9c05",
   "metadata": {
    "tags": []
   },
   "source": [
    "## 5. Model evaluation / selection"
   ]
  },
  {
   "cell_type": "code",
   "execution_count": 152,
   "id": "cd7031f8-4eb2-4c29-8f8e-080e8050221c",
   "metadata": {},
   "outputs": [
    {
     "data": {
      "text/html": [
       "<div>\n",
       "<style scoped>\n",
       "    .dataframe tbody tr th:only-of-type {\n",
       "        vertical-align: middle;\n",
       "    }\n",
       "\n",
       "    .dataframe tbody tr th {\n",
       "        vertical-align: top;\n",
       "    }\n",
       "\n",
       "    .dataframe thead th {\n",
       "        text-align: right;\n",
       "    }\n",
       "</style>\n",
       "<table border=\"1\" class=\"dataframe\">\n",
       "  <thead>\n",
       "    <tr style=\"text-align: right;\">\n",
       "      <th></th>\n",
       "      <th>fit_time</th>\n",
       "      <th>score_time</th>\n",
       "      <th>test_accuracy</th>\n",
       "      <th>test_precision</th>\n",
       "      <th>test_recall</th>\n",
       "      <th>test_f1</th>\n",
       "      <th>test_roc_auc</th>\n",
       "    </tr>\n",
       "  </thead>\n",
       "  <tbody>\n",
       "    <tr>\n",
       "      <th>LogReg_train</th>\n",
       "      <td>64.059811</td>\n",
       "      <td>1.031001</td>\n",
       "      <td>0.573486</td>\n",
       "      <td>0.575740</td>\n",
       "      <td>0.607307</td>\n",
       "      <td>0.591070</td>\n",
       "      <td>0.601619</td>\n",
       "    </tr>\n",
       "    <tr>\n",
       "      <th>AdaBoost_train</th>\n",
       "      <td>149.218789</td>\n",
       "      <td>15.405630</td>\n",
       "      <td>0.572261</td>\n",
       "      <td>0.573699</td>\n",
       "      <td>0.612711</td>\n",
       "      <td>0.592531</td>\n",
       "      <td>0.600139</td>\n",
       "    </tr>\n",
       "    <tr>\n",
       "      <th>XGB_train</th>\n",
       "      <td>39.787447</td>\n",
       "      <td>2.508643</td>\n",
       "      <td>0.585975</td>\n",
       "      <td>0.588334</td>\n",
       "      <td>0.614092</td>\n",
       "      <td>0.600932</td>\n",
       "      <td>0.619913</td>\n",
       "    </tr>\n",
       "    <tr>\n",
       "      <th>LGBM_train</th>\n",
       "      <td>11.307615</td>\n",
       "      <td>2.082145</td>\n",
       "      <td>0.588946</td>\n",
       "      <td>0.590858</td>\n",
       "      <td>0.618605</td>\n",
       "      <td>0.604405</td>\n",
       "      <td>0.624587</td>\n",
       "    </tr>\n",
       "  </tbody>\n",
       "</table>\n",
       "</div>"
      ],
      "text/plain": [
       "                  fit_time  score_time  test_accuracy  test_precision  \\\n",
       "LogReg_train     64.059811    1.031001       0.573486        0.575740   \n",
       "AdaBoost_train  149.218789   15.405630       0.572261        0.573699   \n",
       "XGB_train        39.787447    2.508643       0.585975        0.588334   \n",
       "LGBM_train       11.307615    2.082145       0.588946        0.590858   \n",
       "\n",
       "                test_recall   test_f1  test_roc_auc  \n",
       "LogReg_train       0.607307  0.591070      0.601619  \n",
       "AdaBoost_train     0.612711  0.592531      0.600139  \n",
       "XGB_train          0.614092  0.600932      0.619913  \n",
       "LGBM_train         0.618605  0.604405      0.624587  "
      ]
     },
     "execution_count": 152,
     "metadata": {},
     "output_type": "execute_result"
    }
   ],
   "source": [
    "cohort = pd.concat([lr_mean, ada_mean, xg_mean, light_mean], axis=1)\n",
    "cohort.T"
   ]
  },
  {
   "cell_type": "markdown",
   "id": "1b969d08-481e-40b7-9ede-7938615ddf97",
   "metadata": {},
   "source": [
    "The model selected for this task is the LGBM model for its speed. In the next section we will run a grid search to find the best parameters so we may improve performance on our test set. \n",
    "Lets first see where we stand in so far as bias vs. variance is concerned. \n",
    "\n",
    "However, LGBM's classifier fails and causes a fatal error when calling the `.fit()` method. So, because of the inability of being able to fit on the data, XGBoost is the selected model going forward. "
   ]
  },
  {
   "cell_type": "markdown",
   "id": "2b80412e-e93a-45e6-ba20-eca3818bec01",
   "metadata": {
    "tags": []
   },
   "source": [
    "### 5.1 XGBoost test fit and analysis. \n",
    "---\n",
    "Initially, we are running this test fit to determine the state of the algorithm. That is we want to see if our model is overfitting and how it is finding the data. Likely this is overfit which can be addressed directly with parameter tuning. \n",
    "\n",
    "We will look at ROC AUC curve, confusion Matrix, and feature importances. "
   ]
  },
  {
   "cell_type": "code",
   "execution_count": 103,
   "id": "158793a8-8ac1-4844-9452-4fb90fae317a",
   "metadata": {},
   "outputs": [],
   "source": [
    "xg2 =  XGBClassifier(tree_method = 'hist', random_state = 42)"
   ]
  },
  {
   "cell_type": "code",
   "execution_count": 104,
   "id": "ea9ae046-ade5-45f3-96c7-e46c431c4e3a",
   "metadata": {},
   "outputs": [
    {
     "name": "stderr",
     "output_type": "stream",
     "text": [
      "/Users/nickvanbergen/opt/anaconda3/lib/python3.8/site-packages/xgboost/sklearn.py:888: UserWarning: The use of label encoder in XGBClassifier is deprecated and will be removed in a future release. To remove this warning, do the following: 1) Pass option use_label_encoder=False when constructing XGBClassifier object; and 2) Encode your labels (y) as integers starting with 0, i.e. 0, 1, 2, ..., [num_class - 1].\n",
      "  warnings.warn(label_encoder_deprecation_msg, UserWarning)\n"
     ]
    },
    {
     "name": "stdout",
     "output_type": "stream",
     "text": [
      "[15:06:16] WARNING: /opt/concourse/worker/volumes/live/7a2b9f41-3287-451b-6691-43e9a6c0910f/volume/xgboost-split_1619728204606/work/src/learner.cc:1061: Starting in XGBoost 1.3.0, the default evaluation metric used with the objective 'binary:logistic' was changed from 'error' to 'logloss'. Explicitly set eval_metric if you'd like to restore the old behavior.\n"
     ]
    },
    {
     "data": {
      "text/plain": [
       "XGBClassifier(base_score=0.5, booster='gbtree', colsample_bylevel=1,\n",
       "              colsample_bynode=1, colsample_bytree=1, gamma=0, gpu_id=-1,\n",
       "              importance_type='gain', interaction_constraints='',\n",
       "              learning_rate=0.300000012, max_delta_step=0, max_depth=6,\n",
       "              min_child_weight=1, missing=nan, monotone_constraints='()',\n",
       "              n_estimators=100, n_jobs=8, num_parallel_tree=1, random_state=42,\n",
       "              reg_alpha=0, reg_lambda=1, scale_pos_weight=1, subsample=1,\n",
       "              tree_method='hist', validate_parameters=1, verbosity=None)"
      ]
     },
     "execution_count": 104,
     "metadata": {},
     "output_type": "execute_result"
    }
   ],
   "source": [
    "xg.fit(X_train, y_train)"
   ]
  },
  {
   "cell_type": "code",
   "execution_count": 105,
   "id": "60233240-345e-4c21-8f2e-e1e0e9aca455",
   "metadata": {
    "jupyter": {
     "source_hidden": true
    },
    "tags": []
   },
   "outputs": [
    {
     "name": "stderr",
     "output_type": "stream",
     "text": [
      "/Users/nickvanbergen/opt/anaconda3/lib/python3.8/site-packages/sklearn/utils/deprecation.py:87: FutureWarning: Function plot_roc_curve is deprecated; Function `plot_roc_curve` is deprecated in 1.0 and will be removed in 1.2. Use one of the class methods: RocCurveDisplay.from_predictions or RocCurveDisplay.from_estimator.\n",
      "  warnings.warn(msg, category=FutureWarning)\n"
     ]
    },
    {
     "data": {
      "text/plain": [
       "<Figure size 864x864 with 0 Axes>"
      ]
     },
     "metadata": {},
     "output_type": "display_data"
    },
    {
     "data": {
      "image/png": "[encoded data removed]",
      "text/plain": [
       "<Figure size 864x576 with 1 Axes>"
      ]
     },
     "metadata": {},
     "output_type": "display_data"
    }
   ],
   "source": [
    "plt.rcParams[\"figure.figsize\"] = (12,8);\n",
    "plt.figure(figsize = (12,12))\n",
    "plot_roc_curve(xg, X_test, y_test)\n",
    "plt.title('ROC AUC \\n Adaptive Boost Classifier',size =20)\n",
    "plt.plot([0, 1], [0, 1],\n",
    "         label='baseline', linestyle='--')\n",
    "plt.xlabel('False Positive (false Delay) Rate', size = 16)\n",
    "plt.ylabel('True Positive Rate (Dleay)', size = 16)\n",
    "plt.legend();\n",
    "plt.savefig(\"../Assets/XGB_init_ROC_plot.pdf\", bbox_inches=\"tight\")"
   ]
  },
  {
   "cell_type": "code",
   "execution_count": 106,
   "id": "6bf3be5c-292b-4719-a451-af8736e17c1c",
   "metadata": {},
   "outputs": [
    {
     "name": "stderr",
     "output_type": "stream",
     "text": [
      "/Users/nickvanbergen/opt/anaconda3/lib/python3.8/site-packages/sklearn/utils/deprecation.py:87: FutureWarning: Function plot_confusion_matrix is deprecated; Function `plot_confusion_matrix` is deprecated in 1.0 and will be removed in 1.2. Use one of the class methods: ConfusionMatrixDisplay.from_predictions or ConfusionMatrixDisplay.from_estimator.\n",
      "  warnings.warn(msg, category=FutureWarning)\n"
     ]
    },
    {
     "data": {
      "image/png": "[encoded data removed]",
      "text/plain": [
       "<Figure size 864x576 with 2 Axes>"
      ]
     },
     "metadata": {},
     "output_type": "display_data"
    }
   ],
   "source": [
    "sns.reset_orig()\n",
    "plt.rcParams[\"figure.figsize\"] = (12,8);\n",
    "sns.set_style('dark')\n",
    "sns.set(font_scale=2)\n",
    "plot_confusion_matrix(xg, X_test, y_test, cmap='Blues');\n",
    "plt.grid(False)\n",
    "plt.title('Adaptive Boost Classifier \\n C.Matrix', size= 20);\n",
    "plt.savefig(\"../Assets/XGB_init_confuse.pdf\", bbox_inches=\"tight\")"
   ]
  },
  {
   "cell_type": "code",
   "execution_count": 107,
   "id": "d6089f70-2bb1-4b86-8117-e0e5c5a41e16",
   "metadata": {},
   "outputs": [
    {
     "data": {
      "image/png": "[encoded data removed]",
      "text/plain": [
       "<Figure size 864x576 with 1 Axes>"
      ]
     },
     "metadata": {},
     "output_type": "display_data"
    }
   ],
   "source": [
    "sns.reset_orig()\n",
    "plt.rcParams[\"figure.figsize\"] = (12,8);\n",
    "sns.set_style('darkgrid')\n",
    "sns.set(font_scale=1.5)\n",
    "plot_importance(xg, max_num_features=25, height = .5);\n",
    "plt.title('Feature Importances XGBoost', size=20);\n",
    "plt.xlabel('F-Score (gain)', size = 16);\n",
    "plt.ylabel('Features', size = 16);\n",
    "plt.yticks(fontsize =14);\n",
    "plt.savefig(\"../Assets/XGB_init_F-import.pdf\", bbox_inches=\"tight\")"
   ]
  },
  {
   "cell_type": "code",
   "execution_count": 108,
   "id": "28f73d45-d727-4f8f-8dbd-f3ddb6f8314f",
   "metadata": {},
   "outputs": [],
   "source": [
    "y_pred = xg.predict(X_test)"
   ]
  },
  {
   "cell_type": "code",
   "execution_count": 110,
   "id": "2e0a0391-9794-427e-b39f-0269d323f110",
   "metadata": {},
   "outputs": [
    {
     "data": {
      "text/plain": [
       "(61553,)"
      ]
     },
     "execution_count": 110,
     "metadata": {},
     "output_type": "execute_result"
    }
   ],
   "source": [
    "y_pred.shape"
   ]
  },
  {
   "cell_type": "code",
   "execution_count": 111,
   "id": "92bad919-6193-47a6-ad28-305ea9fbe037",
   "metadata": {},
   "outputs": [],
   "source": [
    "predictions = [round(value) for value in y_pred]"
   ]
  },
  {
   "cell_type": "code",
   "execution_count": 118,
   "id": "5f98b174-34be-4d40-82c0-7124009133a8",
   "metadata": {},
   "outputs": [],
   "source": [
    "accuracy_test = accuracy_score(y_test, predictions)"
   ]
  },
  {
   "cell_type": "code",
   "execution_count": 119,
   "id": "08ae2570-f906-41bc-83e7-922fd762188e",
   "metadata": {},
   "outputs": [
    {
     "data": {
      "text/plain": [
       "0.5875911815833509"
      ]
     },
     "execution_count": 119,
     "metadata": {},
     "output_type": "execute_result"
    }
   ],
   "source": [
    "accuracy_test"
   ]
  },
  {
   "cell_type": "code",
   "execution_count": 122,
   "id": "553af7bd-1765-4aec-bbfd-2300ade3c395",
   "metadata": {},
   "outputs": [
    {
     "data": {
      "text/plain": [
       "0.6255561512592169"
      ]
     },
     "execution_count": 122,
     "metadata": {},
     "output_type": "execute_result"
    }
   ],
   "source": [
    "xg.score(X_train, y_train)"
   ]
  },
  {
   "cell_type": "code",
   "execution_count": 123,
   "id": "b0342379-6ac4-45f9-bb4d-21c24f36f384",
   "metadata": {},
   "outputs": [
    {
     "data": {
      "text/plain": [
       "0.6032043767096523"
      ]
     },
     "execution_count": 123,
     "metadata": {},
     "output_type": "execute_result"
    }
   ],
   "source": [
    "f1_score(y_test, predictions)"
   ]
  },
  {
   "cell_type": "code",
   "execution_count": null,
   "id": "6b7a65c5-a210-451b-ab42-5e3ec69f6abf",
   "metadata": {},
   "outputs": [],
   "source": [
    "roc_auc_score, f1_score, precision_score, \\\n",
    "                            recall_score, plot_roc_curve,"
   ]
  },
  {
   "cell_type": "code",
   "execution_count": 155,
   "id": "11a7e06c-6a31-448f-af24-5d246d39200f",
   "metadata": {},
   "outputs": [],
   "source": [
    "scores = [accuracy_score,precision_score, recall_score, f1_score,roc_auc_score]\n"
   ]
  },
  {
   "cell_type": "code",
   "execution_count": 156,
   "id": "92be1727-bb38-46e4-b440-f68d0fc162de",
   "metadata": {},
   "outputs": [
    {
     "name": "stdout",
     "output_type": "stream",
     "text": [
      "0.588\n",
      "0.591\n",
      "0.616\n",
      "0.603\n",
      "0.587\n"
     ]
    }
   ],
   "source": [
    "for score in scores:\n",
    "    print(f'{round(score(y_test, predictions), 3)}')"
   ]
  },
  {
   "cell_type": "code",
   "execution_count": 157,
   "id": "0fd62fba-db77-4a2a-a8c7-a2a88e481fb6",
   "metadata": {},
   "outputs": [
    {
     "data": {
      "text/plain": [
       "fit_time          39.787\n",
       "score_time         2.509\n",
       "test_accuracy      0.586\n",
       "test_precision     0.588\n",
       "test_recall        0.614\n",
       "test_f1            0.601\n",
       "test_roc_auc       0.620\n",
       "Name: XGB_train, dtype: float64"
      ]
     },
     "execution_count": 157,
     "metadata": {},
     "output_type": "execute_result"
    }
   ],
   "source": [
    "round(cohort['XGB_train'],3)"
   ]
  },
  {
   "cell_type": "markdown",
   "id": "ef26b11c-8139-4b3b-a595-485a2b6b2afa",
   "metadata": {},
   "source": [
    "Discussion:\n",
    "Each of these scores don't seem to be indicating an overfit. Honestly, I did not expect to have results so close to the train data. \n",
    "It seems that the complexity of the model and parameters seem to be doing well. \n",
    "\n",
    "What we are concerned about now is the overall accuracy and False Positive rate. Framed with our problem statement, we'd want to be highly accurate since we would like our end product to be useful for people to make decisions on. These decisions that would be made could cost our user's money and time. "
   ]
  },
  {
   "cell_type": "code",
   "execution_count": null,
   "id": "8f4ad170-9689-414c-aef0-bfcdd62ceeee",
   "metadata": {},
   "outputs": [],
   "source": []
  },
  {
   "cell_type": "code",
   "execution_count": null,
   "id": "fb556394-186f-4c0e-af8f-d521d1fbba73",
   "metadata": {},
   "outputs": [],
   "source": []
  },
  {
   "cell_type": "markdown",
   "id": "1e950fb9-1dba-489b-8cf4-70f44daac4a4",
   "metadata": {},
   "source": [
    "## 6. Tuning\n",
    "---\n",
    "The methods and some of the code were inspired by and used from [Daniel J Toth]('https://tothjd.medium.com') on their article [Binary Classification: XGBoost Hyperparameter Tuning Scenarios by Non-exhaustive Grid Search and Cross-Validation]('https://towardsdatascience.com/binary-classification-xgboost-hyperparameter-tuning-scenarios-by-non-exhaustive-grid-search-and-c261f4ce098d') <br> Each code cell with signifcant influence will be marked as `Author: Daniel J. Toth`"
   ]
  },
  {
   "cell_type": "code",
   "execution_count": 166,
   "id": "fd08e65f-8eca-4c2a-98ef-e8e36a7f2c67",
   "metadata": {},
   "outputs": [],
   "source": [
    "xgb = XGBClassifier(tree_method= 'hist',learning_rate=0.1, max_depth=1)"
   ]
  },
  {
   "cell_type": "code",
   "execution_count": 167,
   "id": "c605c4bd-44f7-41d3-bc63-c96b1462b891",
   "metadata": {},
   "outputs": [
    {
     "name": "stderr",
     "output_type": "stream",
     "text": [
      "/Users/nickvanbergen/opt/anaconda3/lib/python3.8/site-packages/xgboost/sklearn.py:888: UserWarning: The use of label encoder in XGBClassifier is deprecated and will be removed in a future release. To remove this warning, do the following: 1) Pass option use_label_encoder=False when constructing XGBClassifier object; and 2) Encode your labels (y) as integers starting with 0, i.e. 0, 1, 2, ..., [num_class - 1].\n",
      "  warnings.warn(label_encoder_deprecation_msg, UserWarning)\n"
     ]
    },
    {
     "name": "stdout",
     "output_type": "stream",
     "text": [
      "[16:32:37] WARNING: /opt/concourse/worker/volumes/live/7a2b9f41-3287-451b-6691-43e9a6c0910f/volume/xgboost-split_1619728204606/work/src/learner.cc:1061: Starting in XGBoost 1.3.0, the default evaluation metric used with the objective 'binary:logistic' was changed from 'error' to 'logloss'. Explicitly set eval_metric if you'd like to restore the old behavior.\n"
     ]
    },
    {
     "data": {
      "text/plain": [
       "XGBClassifier(base_score=0.5, booster='gbtree', colsample_bylevel=1,\n",
       "              colsample_bynode=1, colsample_bytree=1, gamma=0, gpu_id=-1,\n",
       "              importance_type='gain', interaction_constraints='',\n",
       "              learning_rate=0.1, max_delta_step=0, max_depth=1,\n",
       "              min_child_weight=1, missing=nan, monotone_constraints='()',\n",
       "              n_estimators=100, n_jobs=8, num_parallel_tree=1, random_state=0,\n",
       "              reg_alpha=0, reg_lambda=1, scale_pos_weight=1, subsample=1,\n",
       "              tree_method='hist', validate_parameters=1, verbosity=None)"
      ]
     },
     "execution_count": 167,
     "metadata": {},
     "output_type": "execute_result"
    }
   ],
   "source": [
    "xgb.fit(X_train, y_train)"
   ]
  },
  {
   "cell_type": "code",
   "execution_count": 169,
   "id": "eb90f811-fa20-456b-9cd0-a00f414376e2",
   "metadata": {},
   "outputs": [
    {
     "data": {
      "text/plain": [
       "0.5581077976061997"
      ]
     },
     "execution_count": 169,
     "metadata": {},
     "output_type": "execute_result"
    }
   ],
   "source": [
    "xgb.score(X_train, y_train)"
   ]
  },
  {
   "cell_type": "code",
   "execution_count": 181,
   "id": "5a2be934-e680-4337-b8f7-297fe0dab912",
   "metadata": {
    "tags": []
   },
   "outputs": [
    {
     "data": {
      "text/plain": [
       "0.5675596381987146"
      ]
     },
     "execution_count": 181,
     "metadata": {},
     "output_type": "execute_result"
    }
   ],
   "source": [
    "kf = KFold(n_splits=3, shuffle=True, random_state=1)\n",
    "np.array(cross_val_score(xgb, X_test, y_test, cv=kf, n_jobs=-1)).mean()"
   ]
  },
  {
   "cell_type": "code",
   "execution_count": 182,
   "id": "599777e8-7f30-4a92-ae19-0b2b44fb7d2a",
   "metadata": {},
   "outputs": [
    {
     "name": "stdout",
     "output_type": "stream",
     "text": [
      "100 0.5675596381987146\n",
      "200 0.5711825431135226\n",
      "300 0.5726121678767996\n",
      "400 0.5733757456660871\n",
      "500 0.5743180164550002\n",
      "600 0.5746591692255599\n",
      "700 0.5743342591856062\n",
      "800 0.5746266956417406\n",
      "900 0.5751628364030605\n"
     ]
    }
   ],
   "source": [
    "for num_trees in range(100, 1000, 100):\n",
    "    xgb = XGBClassifier(n_estimators=num_trees, max_depth=1, use_label_encoder = False, verbosity = 0)\n",
    "    print(num_trees, np.array(cross_val_score(xgb, X_test, y_test, cv=kf, n_jobs = -1)).mean())"
   ]
  },
  {
   "cell_type": "markdown",
   "id": "a8952f56-a27a-43b2-8af7-707ce5bc6c60",
   "metadata": {},
   "source": [
    "I will go with 200 as the optimal number of estimators for this problem. This will keep local processing times down"
   ]
  },
  {
   "cell_type": "code",
   "execution_count": 192,
   "id": "01446b8c-4276-4c0f-beea-8f1b75804007",
   "metadata": {},
   "outputs": [],
   "source": [
    "xgb_1 = XGBClassifier(n_estimators=200, tree_method='hist', use_label_encoder = False, verbosity = 0, eval_metric = 'logloss')"
   ]
  },
  {
   "cell_type": "code",
   "execution_count": 193,
   "id": "07d65424-5eef-4c65-ae72-3741716ba5a2",
   "metadata": {},
   "outputs": [
    {
     "name": "stdout",
     "output_type": "stream",
     "text": [
      "Fitting 3 folds for each of 9 candidates, totalling 27 fits\n"
     ]
    },
    {
     "data": {
      "text/plain": [
       "GridSearchCV(cv=KFold(n_splits=3, random_state=1, shuffle=True),\n",
       "             estimator=XGBClassifier(base_score=None, booster=None,\n",
       "                                     colsample_bylevel=None,\n",
       "                                     colsample_bynode=None,\n",
       "                                     colsample_bytree=None,\n",
       "                                     eval_metric='logloss', gamma=None,\n",
       "                                     gpu_id=None, importance_type='gain',\n",
       "                                     interaction_constraints=None,\n",
       "                                     learning_rate=None, max_delta_step=None,\n",
       "                                     max_depth=None, min_child_weight=None,\n",
       "                                     missing=nan, monotone_constraints=None,\n",
       "                                     n_estimators=200, n_jobs=None,\n",
       "                                     num_parallel_tree=None, random_state=None,\n",
       "                                     reg_alpha=None, reg_lambda=None,\n",
       "                                     scale_pos_weight=None, subsample=None,\n",
       "                                     tree_method='hist',\n",
       "                                     use_label_encoder=False,\n",
       "                                     validate_parameters=None, verbosity=0),\n",
       "             n_jobs=-1,\n",
       "             param_grid={'max_depth': [1, 4, 7],\n",
       "                         'min_child_weight': [1, 10, 100]},\n",
       "             verbose=3)"
      ]
     },
     "execution_count": 193,
     "metadata": {},
     "output_type": "execute_result"
    }
   ],
   "source": [
    "\n",
    "param_grid = {\n",
    "    'max_depth': [1, 4, 7], \n",
    "    'min_child_weight': [1, 10, 100]\n",
    "}\n",
    "grid_search = GridSearchCV(\n",
    "    xgb_1,\n",
    "    param_grid=param_grid,\n",
    "    cv=kf,\n",
    "    n_jobs=-1,\n",
    "    verbose = 3\n",
    ")\n",
    "grid_search.fit(X_train, y_train)"
   ]
  },
  {
   "cell_type": "code",
   "execution_count": 194,
   "id": "2edf3071-a176-496b-af40-01752aaaf90b",
   "metadata": {},
   "outputs": [
    {
     "data": {
      "text/plain": [
       "({'max_depth': 7, 'min_child_weight': 10}, 0.5877204876586588)"
      ]
     },
     "execution_count": 194,
     "metadata": {},
     "output_type": "execute_result"
    }
   ],
   "source": [
    "grid_search.best_params_, grid_search.best_score_"
   ]
  },
  {
   "cell_type": "code",
   "execution_count": 203,
   "id": "dcf77b54-8d7e-410a-8bae-adf99f23b4f3",
   "metadata": {},
   "outputs": [],
   "source": [
    "xgb_2 = XGBClassifier(n_estimators=200, \n",
    "                      tree_method='hist', \n",
    "                      use_label_encoder = False,  \n",
    "                      eval_metric = 'logloss', \n",
    "                      colsample_bytree = .5, \n",
    "                      colsample_bylevel = .5, \n",
    "                      colsample_bynode= .5\n",
    "                     )"
   ]
  },
  {
   "cell_type": "code",
   "execution_count": null,
   "id": "07a4b27f-baa2-4e58-9f15-48624ec97d82",
   "metadata": {},
   "outputs": [
    {
     "name": "stdout",
     "output_type": "stream",
     "text": [
      "Fitting 3 folds for each of 60 candidates, totalling 180 fits\n"
     ]
    }
   ],
   "source": [
    "param_grid = {\n",
    "    'max_depth': [2, 5, 7, 9,15], \n",
    "    'min_child_weight': [10, 50, 100],\n",
    "    'learning_rate': [0.01, 0.05, 0.1, 0.2],\n",
    "}\n",
    "grid_search = GridSearchCV(\n",
    "    xgb_2,\n",
    "    param_grid=param_grid,\n",
    "    scoring = 'accuracy',\n",
    "    cv=kf,\n",
    "    n_jobs=-1,\n",
    "    verbose = 10\n",
    ")\n",
    "grid_search.fit(X_train, y_train)"
   ]
  },
  {
   "cell_type": "code",
   "execution_count": null,
   "id": "39a4cd84-5b1c-481a-8b2b-507e286f6626",
   "metadata": {},
   "outputs": [],
   "source": [
    "grid_search.best_params_, grid_search.best_score_"
   ]
  },
  {
   "cell_type": "code",
   "execution_count": null,
   "id": "46a9a3fa-8de3-42fe-9cc6-57df44f91ec0",
   "metadata": {},
   "outputs": [],
   "source": []
  },
  {
   "cell_type": "code",
   "execution_count": 162,
   "id": "616e8cd1-5959-44ab-a7a4-a5d2c0f49c77",
   "metadata": {},
   "outputs": [],
   "source": [
    "#Author Daniel J Toth\n",
    "#extracting default parameters from benchmark model\n",
    "default_params = {}\n",
    "gparams = xg.get_params()"
   ]
  },
  {
   "cell_type": "code",
   "execution_count": 163,
   "id": "7ca09550-6e93-417d-bb96-69c35cd58bef",
   "metadata": {},
   "outputs": [],
   "source": [
    "#Author Daniel J Toth\n",
    "for key in gparams.keys():\n",
    "    gp = gparams[key]\n",
    "    default_params[key] = [gp]"
   ]
  },
  {
   "cell_type": "code",
   "execution_count": 161,
   "id": "7391e812-33a5-456c-b510-ff7be6c40125",
   "metadata": {},
   "outputs": [
    {
     "data": {
      "text/plain": [
       "{'objective': ['binary:logistic'],\n",
       " 'use_label_encoder': [True],\n",
       " 'base_score': [0.5],\n",
       " 'booster': ['gbtree'],\n",
       " 'colsample_bylevel': [1],\n",
       " 'colsample_bynode': [1],\n",
       " 'colsample_bytree': [1],\n",
       " 'gamma': [0],\n",
       " 'gpu_id': [-1],\n",
       " 'importance_type': ['gain'],\n",
       " 'interaction_constraints': [''],\n",
       " 'learning_rate': [0.300000012],\n",
       " 'max_delta_step': [0],\n",
       " 'max_depth': [6],\n",
       " 'min_child_weight': [1],\n",
       " 'missing': [nan],\n",
       " 'monotone_constraints': ['()'],\n",
       " 'n_estimators': [100],\n",
       " 'n_jobs': [8],\n",
       " 'num_parallel_tree': [1],\n",
       " 'random_state': [42],\n",
       " 'reg_alpha': [0],\n",
       " 'reg_lambda': [1],\n",
       " 'scale_pos_weight': [1],\n",
       " 'subsample': [1],\n",
       " 'tree_method': ['hist'],\n",
       " 'validate_parameters': [1],\n",
       " 'verbosity': [None]}"
      ]
     },
     "execution_count": 161,
     "metadata": {},
     "output_type": "execute_result"
    }
   ],
   "source": [
    "default_params"
   ]
  },
  {
   "cell_type": "code",
   "execution_count": null,
   "id": "d86588a9-308e-4ad5-be89-f53d7f07a5a1",
   "metadata": {},
   "outputs": [],
   "source": [
    "param_grid = {'gamma': [0,0.1,0.2,0.4,0.8,1],\n",
    "              'learning_rate': [0.01, 0.03, 0.06, 0.1, 0.2, 0.5],\n",
    "              'max_depth': [2,5,6,7],\n",
    "              'min_child_weight': [1, 10, 100]\n",
    "              'n_estimators': [50,65,80,100,115,130,150],\n",
    "              'reg_alpha': [0,0.1,0.2,0.4,0.8,1.6,3.2,6.4,12.8,25.6,51.2,102.4,200],\n",
    "              'reg_lambda': [0,0.1,0.2,0.4,0.8,1.6,3.2,6.4,12.8,25.6,51.2,102.4,200]}"
   ]
  }
 ],
 "metadata": {
  "kernelspec": {
   "display_name": "Python 3 (ipykernel)",
   "language": "python",
   "name": "python3"
  },
  "language_info": {
   "codemirror_mode": {
    "name": "ipython",
    "version": 3
   },
   "file_extension": ".py",
   "mimetype": "text/x-python",
   "name": "python",
   "nbconvert_exporter": "python",
   "pygments_lexer": "ipython3",
   "version": "3.8.8"
  }
 },
 "nbformat": 4,
 "nbformat_minor": 5
}
