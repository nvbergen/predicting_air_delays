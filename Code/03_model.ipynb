{
 "cells": [
  {
   "cell_type": "markdown",
   "id": "9df87fd4-f29f-4da8-8130-d5fd7c6b2a17",
   "metadata": {
    "tags": []
   },
   "source": [
    "# Predicting Air Delays\n",
    "Notebook III: Machine Learning model and predictions\n",
    "----\n",
    "\n",
    "Thank you for your review of my code notebook.\n",
    "This notebook's goal is to analyze and prepare the dataset for exposure on a Machine Learning algorithm.\n",
    "\n",
    "---\n",
    "#### Problem Statement: \n",
    "Both travelers and airlines find delays frustrating and costly. This project attempts to be able to predict the probability of a commercial flight delay for any flight in the United States.\n",
    "\n",
    "---\n",
    "\n",
    "#### MVP:\n",
    "My product will be a small lightweight application run on `streamlit` platform for proof-of-concept where a user can find the probability of their desired flight having a delay, how long the delay may be, and how much will the delay cost the user in _lost time_ at the destination.\n",
    "\n",
    "Since we have labels on all our data, the model the app will be based on is a supervised multi-class classification machine learning model.\n",
    "\n",
    "---\n",
    "# Modeling \n",
    "\n",
    "The primary challenge in this notebook is running models on a volume of data in the millions of instances. \n",
    "\n",
    "The notebook is structured as follows.<br> \n",
    "**Notebook III: Modeling **\n",
    ">1. Setup/Imports\n",
    ">2. Load data\n",
    ">3. Class Balances and Training Set + Validation Set.\n",
    ">4. Modeling and Model Selection\n",
    ">5. Save the final model and discuss next steps. \n",
    "\n",
    "The processed model will be saved on a new file by the end of this notebook and called into the subsequent that builds an application.\n",
    "\n",
    "The notebooks in this project are: <br>\n",
    "I. Intake and cleaning<br>\n",
    "II. EDA and preprocessing<br>\n",
    "**III. Modeling and predictions**<br>\n",
    "IV. App<br>\n",
    "\n",
    "---"
   ]
  },
  {
   "cell_type": "markdown",
   "id": "76753a79-78b6-46b2-befc-789457a0e3e5",
   "metadata": {},
   "source": [
    "## 1. Setup and Imports\n",
    "----"
   ]
  },
  {
   "cell_type": "code",
   "execution_count": 16,
   "id": "6c22d467-9f86-472a-bb78-5388dad09562",
   "metadata": {},
   "outputs": [],
   "source": [
    "import os\n",
    "import pandas as pd\n",
    "import numpy as np\n",
    "import matplotlib.pyplot as plt\n",
    "import seaborn as sns\n",
    "\n",
    "\n",
    "#utilities\n",
    "from sklearn.preprocessing import StandardScaler\n",
    "from sklearn.pipeline import Pipeline\n",
    "from sklearn.model_selection import cross_val_score, train_test_split, GridSearchCV, RepeatedStratifiedKFold\n",
    "from sklearn.metrics import mean_squared_error, roc_auc_score, f1_score, mean_absolute_error\n",
    "\n",
    "#models\n",
    "from sklearn.linear_model import LogisticRegression\n",
    "from sklearn.ensemble import RandomForestClassifier\n",
    "from xgboost import XGBClassifier\n",
    "from lightgbm import LGBMRegressor\n",
    "import lightgbm as lgb"
   ]
  },
  {
   "cell_type": "markdown",
   "id": "103e2bd8-95f1-4699-8c8c-091a8591e23d",
   "metadata": {},
   "source": [
    "I am utilizing Light GBM as my primary model of choice due to the tabular and labeled nature of our problem. \n",
    "The shape of our dataset would effectively require as fast of processing time as possible. "
   ]
  },
  {
   "cell_type": "code",
   "execution_count": null,
   "id": "42b4ae6d-fe84-491d-97f9-dba6ed25751b",
   "metadata": {},
   "outputs": [],
   "source": [
    "!pip install lightgbm"
   ]
  },
  {
   "cell_type": "code",
   "execution_count": null,
   "id": "cb1db377-b19c-4d35-b917-a0be309ea875",
   "metadata": {},
   "outputs": [],
   "source": [
    "!pip install imbalanced-learn"
   ]
  },
  {
   "cell_type": "code",
   "execution_count": 8,
   "id": "b1ac8654-f3a6-4cca-b5db-fba12f55bd03",
   "metadata": {},
   "outputs": [],
   "source": [
    "os.chdir('/Volumes/lacie/data_ingestion/capstone_hopper')"
   ]
  },
  {
   "cell_type": "code",
   "execution_count": 9,
   "id": "f36b8c80-b02b-493b-bfbb-f10179f49335",
   "metadata": {},
   "outputs": [],
   "source": [
    "pd.set_option('display.max_columns', None)"
   ]
  },
  {
   "cell_type": "markdown",
   "id": "633827a6-fd4e-45b2-afe1-fc9dd0f3fa94",
   "metadata": {},
   "source": [
    "## 2. Loading Data\n",
    "---\n",
    "\n"
   ]
  },
  {
   "cell_type": "code",
   "execution_count": 10,
   "id": "55bdb4f8-65a3-4b98-ad95-964e6f87e118",
   "metadata": {},
   "outputs": [
    {
     "name": "stderr",
     "output_type": "stream",
     "text": [
      "/Users/nickvanbergen/opt/anaconda3/lib/python3.8/site-packages/IPython/core/interactiveshell.py:3441: DtypeWarning: Columns (15) have mixed types.Specify dtype option on import or set low_memory=False.\n",
      "  exec(code_obj, self.user_global_ns, self.user_ns)\n"
     ]
    }
   ],
   "source": [
    "flights = pd.read_csv('flights_processed.csv')"
   ]
  },
  {
   "cell_type": "code",
   "execution_count": 11,
   "id": "ce101fc1-78ef-45f1-9d0b-ea8b58052c36",
   "metadata": {},
   "outputs": [
    {
     "data": {
      "text/plain": [
       "(2837556, 96)"
      ]
     },
     "execution_count": 11,
     "metadata": {},
     "output_type": "execute_result"
    }
   ],
   "source": [
    "flights.shape"
   ]
  },
  {
   "cell_type": "markdown",
   "id": "4a9de93a-16d5-4933-b002-03efe4a475b9",
   "metadata": {},
   "source": [
    "### Target variable. \n",
    "----\n",
    "Our target variables are: `'delay_class_1_sm_delay`', `'delay_class_2_mod_delay'`,\n",
    "       `'delay_class_3_lg_delay'`, `'delay_class_4_xl_delay'`,\n",
    "       `'delay_class_5_cl_xtreme_delay'`, `'delay_class_no delay'`,\n",
    "We are attempting to predict which class will result.\n",
    "\n",
    "Our metrics will be F-1 and AUC to measure our success."
   ]
  },
  {
   "cell_type": "markdown",
   "id": "bf0fd805-c462-4907-b626-54a8ed189a61",
   "metadata": {},
   "source": [
    "## 3. Class Balances and Training/Testing Set up. \n",
    "---\n",
    "The first step here is to deal with our class imbalances. \n"
   ]
  },
  {
   "cell_type": "code",
   "execution_count": 68,
   "id": "ad98b9d9-fa0d-47cd-96ca-0b9d71ad14ed",
   "metadata": {},
   "outputs": [
    {
     "data": {
      "text/html": [
       "<div>\n",
       "<style scoped>\n",
       "    .dataframe tbody tr th:only-of-type {\n",
       "        vertical-align: middle;\n",
       "    }\n",
       "\n",
       "    .dataframe tbody tr th {\n",
       "        vertical-align: top;\n",
       "    }\n",
       "\n",
       "    .dataframe thead th {\n",
       "        text-align: right;\n",
       "    }\n",
       "</style>\n",
       "<table border=\"1\" class=\"dataframe\">\n",
       "  <thead>\n",
       "    <tr style=\"text-align: right;\">\n",
       "      <th></th>\n",
       "      <th>delay_class_1_sm_delay</th>\n",
       "      <th>delay_class_2_mod_delay</th>\n",
       "      <th>delay_class_3_lg_delay</th>\n",
       "      <th>delay_class_4_xl_delay</th>\n",
       "      <th>delay_class_5_cl_xtreme_delay</th>\n",
       "      <th>delay_class_no delay</th>\n",
       "    </tr>\n",
       "  </thead>\n",
       "  <tbody>\n",
       "    <tr>\n",
       "      <th>0</th>\n",
       "      <td>1</td>\n",
       "      <td>0</td>\n",
       "      <td>0</td>\n",
       "      <td>0</td>\n",
       "      <td>0</td>\n",
       "      <td>0</td>\n",
       "    </tr>\n",
       "    <tr>\n",
       "      <th>1</th>\n",
       "      <td>0</td>\n",
       "      <td>0</td>\n",
       "      <td>0</td>\n",
       "      <td>0</td>\n",
       "      <td>0</td>\n",
       "      <td>1</td>\n",
       "    </tr>\n",
       "    <tr>\n",
       "      <th>2</th>\n",
       "      <td>1</td>\n",
       "      <td>0</td>\n",
       "      <td>0</td>\n",
       "      <td>0</td>\n",
       "      <td>0</td>\n",
       "      <td>0</td>\n",
       "    </tr>\n",
       "    <tr>\n",
       "      <th>3</th>\n",
       "      <td>0</td>\n",
       "      <td>0</td>\n",
       "      <td>0</td>\n",
       "      <td>0</td>\n",
       "      <td>0</td>\n",
       "      <td>1</td>\n",
       "    </tr>\n",
       "    <tr>\n",
       "      <th>4</th>\n",
       "      <td>0</td>\n",
       "      <td>0</td>\n",
       "      <td>1</td>\n",
       "      <td>0</td>\n",
       "      <td>0</td>\n",
       "      <td>0</td>\n",
       "    </tr>\n",
       "    <tr>\n",
       "      <th>...</th>\n",
       "      <td>...</td>\n",
       "      <td>...</td>\n",
       "      <td>...</td>\n",
       "      <td>...</td>\n",
       "      <td>...</td>\n",
       "      <td>...</td>\n",
       "    </tr>\n",
       "    <tr>\n",
       "      <th>2837551</th>\n",
       "      <td>0</td>\n",
       "      <td>0</td>\n",
       "      <td>0</td>\n",
       "      <td>0</td>\n",
       "      <td>1</td>\n",
       "      <td>0</td>\n",
       "    </tr>\n",
       "    <tr>\n",
       "      <th>2837552</th>\n",
       "      <td>0</td>\n",
       "      <td>0</td>\n",
       "      <td>0</td>\n",
       "      <td>0</td>\n",
       "      <td>1</td>\n",
       "      <td>0</td>\n",
       "    </tr>\n",
       "    <tr>\n",
       "      <th>2837553</th>\n",
       "      <td>0</td>\n",
       "      <td>0</td>\n",
       "      <td>0</td>\n",
       "      <td>0</td>\n",
       "      <td>1</td>\n",
       "      <td>0</td>\n",
       "    </tr>\n",
       "    <tr>\n",
       "      <th>2837554</th>\n",
       "      <td>0</td>\n",
       "      <td>0</td>\n",
       "      <td>0</td>\n",
       "      <td>0</td>\n",
       "      <td>1</td>\n",
       "      <td>0</td>\n",
       "    </tr>\n",
       "    <tr>\n",
       "      <th>2837555</th>\n",
       "      <td>0</td>\n",
       "      <td>0</td>\n",
       "      <td>0</td>\n",
       "      <td>0</td>\n",
       "      <td>1</td>\n",
       "      <td>0</td>\n",
       "    </tr>\n",
       "  </tbody>\n",
       "</table>\n",
       "<p>2837556 rows × 6 columns</p>\n",
       "</div>"
      ],
      "text/plain": [
       "         delay_class_1_sm_delay  delay_class_2_mod_delay  \\\n",
       "0                             1                        0   \n",
       "1                             0                        0   \n",
       "2                             1                        0   \n",
       "3                             0                        0   \n",
       "4                             0                        0   \n",
       "...                         ...                      ...   \n",
       "2837551                       0                        0   \n",
       "2837552                       0                        0   \n",
       "2837553                       0                        0   \n",
       "2837554                       0                        0   \n",
       "2837555                       0                        0   \n",
       "\n",
       "         delay_class_3_lg_delay  delay_class_4_xl_delay  \\\n",
       "0                             0                       0   \n",
       "1                             0                       0   \n",
       "2                             0                       0   \n",
       "3                             0                       0   \n",
       "4                             1                       0   \n",
       "...                         ...                     ...   \n",
       "2837551                       0                       0   \n",
       "2837552                       0                       0   \n",
       "2837553                       0                       0   \n",
       "2837554                       0                       0   \n",
       "2837555                       0                       0   \n",
       "\n",
       "         delay_class_5_cl_xtreme_delay  delay_class_no delay  \n",
       "0                                    0                     0  \n",
       "1                                    0                     1  \n",
       "2                                    0                     0  \n",
       "3                                    0                     1  \n",
       "4                                    0                     0  \n",
       "...                                ...                   ...  \n",
       "2837551                              1                     0  \n",
       "2837552                              1                     0  \n",
       "2837553                              1                     0  \n",
       "2837554                              1                     0  \n",
       "2837555                              1                     0  \n",
       "\n",
       "[2837556 rows x 6 columns]"
      ]
     },
     "execution_count": 68,
     "metadata": {},
     "output_type": "execute_result"
    }
   ],
   "source": [
    "flights.columns\n",
    "classes = flights[['delay_class_1_sm_delay', 'delay_class_2_mod_delay',\n",
    "       'delay_class_3_lg_delay', 'delay_class_4_xl_delay',\n",
    "       'delay_class_5_cl_xtreme_delay', 'delay_class_no delay']]\n",
    "classes"
   ]
  },
  {
   "cell_type": "code",
   "execution_count": 69,
   "id": "72d1caf0-99b3-45d4-96b3-a8dc53a0f5fc",
   "metadata": {},
   "outputs": [
    {
     "data": {
      "image/png": "[encoded data removed]",
      "text/plain": [
       "<Figure size 864x576 with 1 Axes>"
      ]
     },
     "metadata": {},
     "output_type": "display_data"
    }
   ],
   "source": [
    "fig, ax = plt.subplots();\n",
    "classes.value_counts().plot(kind ='bar', figsize = (12,8));\n",
    "ticks = ax.get_xticks()\n",
    "sns.set_style('darkgrid')\n",
    "plt.title(f'Class imbalance \\n n = {flights.shape[0] :,}', size = 20);\n",
    "plt.xticks(ticks = ticks, labels =['No Delay','Small Delay','Moderate Delay','Large Delay','Outsized Delay','Extreme Delay/ Cancel'], rotation = 0,\n",
    "          fontsize = 12)\n",
    "plt.xlabel('Delay class', size = 18 )\n",
    "plt.ylabel('Count of rows delay class (log)', size = 18 )\n",
    "plt.yscale('log')\n",
    "plt.yticks(fontsize = 12);\n",
    "plt.savefig(\"../Assets/class_imbal.pdf\", bbox_inches=\"tight\")"
   ]
  },
  {
   "cell_type": "markdown",
   "id": "22e745a8-8cac-4c26-9caa-aa682edc756a",
   "metadata": {},
   "source": [
    "Our task is to utilize a supervised learning model to make predictions. We want to limit the imbalance on the classes we are attempting to predict so, we are left with some decisions to make on our dataset. \n",
    "\n"
   ]
  },
  {
   "cell_type": "code",
   "execution_count": 80,
   "id": "09ba5c22-5c41-44c8-b5c8-37e39da853a8",
   "metadata": {},
   "outputs": [
    {
     "data": {
      "text/plain": [
       "472926.0"
      ]
     },
     "execution_count": 80,
     "metadata": {},
     "output_type": "execute_result"
    }
   ],
   "source": [
    "classes.value_counts().mean()"
   ]
  },
  {
   "cell_type": "code",
   "execution_count": 81,
   "id": "6a41f270-f724-41e7-b979-a9ffa362e28b",
   "metadata": {},
   "outputs": [
    {
     "data": {
      "text/plain": [
       "delay_class_1_sm_delay  delay_class_2_mod_delay  delay_class_3_lg_delay  delay_class_4_xl_delay  delay_class_5_cl_xtreme_delay  delay_class_no delay\n",
       "0                       0                        0                       0                       0                              1                        True\n",
       "1                       0                        0                       0                       0                              0                        True\n",
       "0                       1                        0                       0                       0                              0                       False\n",
       "                        0                        0                       0                       1                              0                       False\n",
       "                                                 1                       0                       0                              0                       False\n",
       "                                                 0                       1                       0                              0                       False\n",
       "dtype: bool"
      ]
     },
     "execution_count": 81,
     "metadata": {},
     "output_type": "execute_result"
    }
   ],
   "source": [
    "classes.value_counts() > classes.value_counts().mean()"
   ]
  },
  {
   "cell_type": "markdown",
   "id": "f615b706-164c-4fe8-abd9-f90aef6a16f0",
   "metadata": {},
   "source": [
    "I will utilize SMOTE library to bring our classes into balance. The decision to handle this at the data level is done so that we limit the number of parameters needed to tune in later steps at the algorithm level.\n",
    "\n",
    "The approach will be to undersample classes above the median count value and oversample classes below the median count value. \n",
    "More specifically \n",
    "Classes to undersample:\n",
    "* No Delay\n",
    "* Small Delay\n",
    "\n",
    "Classes to oversample:\n",
    "* Moderate Delay\n",
    "* Large Delay\n",
    "* Outsized Delay\n",
    "* Extreme Delay\n",
    "\n",
    "|**Class Window**|**Class Name**|**Count**|**Proportion of <br> All Flights**|\n",
    "|---|---|---|---|\n",
    "| _0 - 15 min_ |_No Delay_| 1,445,544| 50.94% |\n",
    "|_15 - 60 min_| _Small Delay_| 889,171| 31.34%|\n",
    "|_61 - 120 min_| _Moderate Delay_ | 272,559|9.61%|\n",
    "|_121 - 180 min_| _Large Delay_ |93,794|3.31%|\n",
    "|_181 - 240 min_| _Outsized (XL) Delay_|37,990|1.34%|\n",
    "|_240+ min_| _Extreme Delay or Canceled_|98,498| 3.47%|"
   ]
  },
  {
   "cell_type": "code",
   "execution_count": null,
   "id": "503f24a5-fe68-4711-9834-935834e01d4a",
   "metadata": {},
   "outputs": [],
   "source": []
  },
  {
   "cell_type": "code",
   "execution_count": null,
   "id": "3fbeacf6-7e8f-481e-b1bb-3ed2469a03e9",
   "metadata": {},
   "outputs": [],
   "source": []
  },
  {
   "cell_type": "code",
   "execution_count": null,
   "id": "d13bde85-1bfd-4b9e-acba-ccc75ef7f143",
   "metadata": {},
   "outputs": [],
   "source": []
  },
  {
   "cell_type": "code",
   "execution_count": null,
   "id": "6d952aae-585d-4009-8007-ccfa29dece8b",
   "metadata": {},
   "outputs": [],
   "source": []
  },
  {
   "cell_type": "code",
   "execution_count": null,
   "id": "4f36e249-0dca-430c-8496-117178ebb5be",
   "metadata": {},
   "outputs": [],
   "source": []
  },
  {
   "cell_type": "code",
   "execution_count": null,
   "id": "7108b858-d7bb-4fc3-b5aa-9aac40c63da9",
   "metadata": {},
   "outputs": [],
   "source": []
  },
  {
   "cell_type": "code",
   "execution_count": null,
   "id": "9976e5a6-e949-4eb7-9ab1-700b965c9133",
   "metadata": {},
   "outputs": [],
   "source": []
  },
  {
   "cell_type": "code",
   "execution_count": null,
   "id": "9b786b5a-c2bb-4138-99f4-3e7a5a073122",
   "metadata": {},
   "outputs": [],
   "source": []
  },
  {
   "cell_type": "code",
   "execution_count": null,
   "id": "46653435-5969-454e-bab7-c76b683a3889",
   "metadata": {},
   "outputs": [],
   "source": []
  },
  {
   "cell_type": "markdown",
   "id": "1cbf00d1-5aed-403e-a207-c8e492f865c4",
   "metadata": {},
   "source": [
    "## 4. Modeling and Performance\n",
    "----\n"
   ]
  },
  {
   "cell_type": "markdown",
   "id": "1e950fb9-1dba-489b-8cf4-70f44daac4a4",
   "metadata": {},
   "source": [
    "## 5. Final Model save to disk\n",
    "---\n"
   ]
  },
  {
   "cell_type": "code",
   "execution_count": null,
   "id": "616e8cd1-5959-44ab-a7a4-a5d2c0f49c77",
   "metadata": {},
   "outputs": [],
   "source": []
  },
  {
   "cell_type": "code",
   "execution_count": null,
   "id": "7ca09550-6e93-417d-bb96-69c35cd58bef",
   "metadata": {},
   "outputs": [],
   "source": []
  },
  {
   "cell_type": "code",
   "execution_count": null,
   "id": "7391e812-33a5-456c-b510-ff7be6c40125",
   "metadata": {},
   "outputs": [],
   "source": []
  }
 ],
 "metadata": {
  "kernelspec": {
   "display_name": "Python 3 (ipykernel)",
   "language": "python",
   "name": "python3"
  },
  "language_info": {
   "codemirror_mode": {
    "name": "ipython",
    "version": 3
   },
   "file_extension": ".py",
   "mimetype": "text/x-python",
   "name": "python",
   "nbconvert_exporter": "python",
   "pygments_lexer": "ipython3",
   "version": "3.8.8"
  }
 },
 "nbformat": 4,
 "nbformat_minor": 5
}
