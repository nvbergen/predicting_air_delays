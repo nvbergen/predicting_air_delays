{
 "cells": [
  {
   "cell_type": "markdown",
   "id": "4901cf6b-7d70-413f-a452-9dd7fdbba9f5",
   "metadata": {},
   "source": [
    "# Predicting Air Delays\n",
    "Notebook II: Exploratory Data Analysis (EDA)\n",
    "----\n",
    "\n",
    "Thank you for your review of my code notebook.\n",
    "This notebook's goal is to analyze and prepare the dataset for exposure on a Machine Learning algorithm.\n",
    "\n",
    "---\n",
    "#### Problem Statement: \n",
    "Both travelers and airlines find delays frustrating and costly. This project attempts to be able to predict the probability of a commercial flight delay for any flight in the United States. \n",
    "\n",
    "---\n",
    "\n",
    "#### MVP:\n",
    "My product will be a small lightweight application run on `streamlit` platform for proof-of-concept where a user can find the probability of their desired flight having a delay, how long the delay may be, and how much will the delay cost the user in _lost time_ at the destination \n",
    "\n",
    "---\n",
    "# EDA \n",
    "\n",
    "The primary challenge in this notebook is making sense of what will matter to a machine learning algorithm. At the end of this notebook will will have a final processed set of data to work our models on. \n",
    "\n",
    "The notebook is structured as follows.<br> \n",
    "**Notebook II: EDA and Preprocessing **\n",
    ">1. Setup/Imports\n",
    ">2. Load data\n",
    ">3. EDA\n",
    ">4. Feature engineering and selection. \n",
    ">5. Save the final CSV and discuss next steps. \n",
    "\n",
    "The processed dataframe will be saved on a new file by the end of this notebook and called into the subsequent notebook EDA for readability.\n",
    "\n",
    "The notebooks in this project are: <br>\n",
    "I. Intake and cleaning<br>\n",
    "**II. EDA and preprocessing**<br>\n",
    "III. Modeling and predictions<br>\n",
    "IV. App<br>\n",
    "\n",
    "---"
   ]
  },
  {
   "cell_type": "markdown",
   "id": "95b2bc97-dda7-4463-9e80-dde35ecccba2",
   "metadata": {
    "tags": []
   },
   "source": [
    "## 1. Library imports\n",
    "----\n",
    "Load our analytical libraries and load our previously saved dataset. \n"
   ]
  },
  {
   "cell_type": "code",
   "execution_count": 1,
   "id": "6c6689a4-c151-4389-80ae-71f219700ef7",
   "metadata": {},
   "outputs": [],
   "source": [
    "import os \n",
    "import glob\n",
    "import pandas as pd\n",
    "import numpy as np\n",
    "import seaborn as sns\n",
    "import matplotlib.pyplot as plt"
   ]
  },
  {
   "cell_type": "code",
   "execution_count": 2,
   "id": "cbaf44f8-76e5-4d6d-9e59-c444aaf54eb3",
   "metadata": {},
   "outputs": [],
   "source": [
    "os.chdir('/Volumes/lacie/data_ingestion/capstone_hopper')"
   ]
  },
  {
   "cell_type": "code",
   "execution_count": 8,
   "id": "403de3e5-9f88-4f9b-8189-7f5500366c13",
   "metadata": {},
   "outputs": [],
   "source": [
    "pd.set_option('display.max_columns', None)"
   ]
  },
  {
   "cell_type": "markdown",
   "id": "bd926f8a-6497-4fee-a5cf-bb876de05918",
   "metadata": {
    "tags": []
   },
   "source": [
    "## 2. Load Dataset\n",
    "---\n"
   ]
  },
  {
   "cell_type": "code",
   "execution_count": 3,
   "id": "4ffef04a-8f5b-4ef8-b0d9-cdf124e563ae",
   "metadata": {},
   "outputs": [],
   "source": [
    "flights = pd.read_csv('sample_cleaned.csv')"
   ]
  },
  {
   "cell_type": "code",
   "execution_count": 6,
   "id": "3c0cf9d2-7e48-4d25-8a78-ef5438e38154",
   "metadata": {},
   "outputs": [
    {
     "data": {
      "text/plain": [
       "(8183263, 24)"
      ]
     },
     "execution_count": 6,
     "metadata": {},
     "output_type": "execute_result"
    }
   ],
   "source": [
    "flights.shape"
   ]
  },
  {
   "cell_type": "markdown",
   "id": "25c60b8b-6e1e-4c74-8a56-f2285ee16b41",
   "metadata": {
    "tags": []
   },
   "source": [
    "## 3. Exploratory Analysis Time Columns Exploratory Analysis\n",
    "---\n",
    "This section of the notebook deals with data explorations. \n",
    "\n",
    "\n",
    "`year`, `month`, `day_of_month`, `day_of_week` analyzed against the `arr_delay` distributions values. \n",
    "\n",
    "`arr_delay` reveals the number of minutes difference between the scheduled arrival and actual arrival values.\n",
    "\n",
    "Our working definition of a **_delay_** is a flight arriving at the destination airport 15 minute after their scheduled arrival."
   ]
  },
  {
   "cell_type": "code",
   "execution_count": 9,
   "id": "39f4f326-00f7-47a6-9ef2-95780353afa1",
   "metadata": {},
   "outputs": [
    {
     "data": {
      "text/html": [
       "<div>\n",
       "<style scoped>\n",
       "    .dataframe tbody tr th:only-of-type {\n",
       "        vertical-align: middle;\n",
       "    }\n",
       "\n",
       "    .dataframe tbody tr th {\n",
       "        vertical-align: top;\n",
       "    }\n",
       "\n",
       "    .dataframe thead th {\n",
       "        text-align: right;\n",
       "    }\n",
       "</style>\n",
       "<table border=\"1\" class=\"dataframe\">\n",
       "  <thead>\n",
       "    <tr style=\"text-align: right;\">\n",
       "      <th></th>\n",
       "      <th>year</th>\n",
       "      <th>month</th>\n",
       "      <th>day_of_month</th>\n",
       "      <th>day_of_week</th>\n",
       "      <th>fl_date</th>\n",
       "      <th>airline</th>\n",
       "      <th>tail_num</th>\n",
       "      <th>origin</th>\n",
       "      <th>origin_city_name</th>\n",
       "      <th>dest</th>\n",
       "      <th>dest_city_name</th>\n",
       "      <th>crs_dep_time</th>\n",
       "      <th>dep_time</th>\n",
       "      <th>dep_delay</th>\n",
       "      <th>crs_arr_time</th>\n",
       "      <th>arr_time</th>\n",
       "      <th>arr_delay</th>\n",
       "      <th>cancellation_code</th>\n",
       "      <th>distance</th>\n",
       "      <th>carrier_delay</th>\n",
       "      <th>weather_delay</th>\n",
       "      <th>nas_delay</th>\n",
       "      <th>security_delay</th>\n",
       "      <th>late_aircraft_delay</th>\n",
       "    </tr>\n",
       "  </thead>\n",
       "  <tbody>\n",
       "    <tr>\n",
       "      <th>0</th>\n",
       "      <td>2018</td>\n",
       "      <td>Mar</td>\n",
       "      <td>26</td>\n",
       "      <td>Mon</td>\n",
       "      <td>2018-03-26</td>\n",
       "      <td>Skywest Airlines</td>\n",
       "      <td>N679SA</td>\n",
       "      <td>PAH</td>\n",
       "      <td>Paducah, KY</td>\n",
       "      <td>ORD</td>\n",
       "      <td>Chicago, IL</td>\n",
       "      <td>635</td>\n",
       "      <td>637.0</td>\n",
       "      <td>2.0</td>\n",
       "      <td>811</td>\n",
       "      <td>802.0</td>\n",
       "      <td>0.0</td>\n",
       "      <td>NaN</td>\n",
       "      <td>342.0</td>\n",
       "      <td>NaN</td>\n",
       "      <td>NaN</td>\n",
       "      <td>NaN</td>\n",
       "      <td>NaN</td>\n",
       "      <td>NaN</td>\n",
       "    </tr>\n",
       "    <tr>\n",
       "      <th>1</th>\n",
       "      <td>2020</td>\n",
       "      <td>May</td>\n",
       "      <td>3</td>\n",
       "      <td>Sun</td>\n",
       "      <td>2020-05-03</td>\n",
       "      <td>Delta Airlines</td>\n",
       "      <td>N981AT</td>\n",
       "      <td>ATL</td>\n",
       "      <td>Atlanta, GA</td>\n",
       "      <td>HSV</td>\n",
       "      <td>Huntsville, AL</td>\n",
       "      <td>945</td>\n",
       "      <td>937.0</td>\n",
       "      <td>-8.0</td>\n",
       "      <td>933</td>\n",
       "      <td>925.0</td>\n",
       "      <td>0.0</td>\n",
       "      <td>NaN</td>\n",
       "      <td>151.0</td>\n",
       "      <td>NaN</td>\n",
       "      <td>NaN</td>\n",
       "      <td>NaN</td>\n",
       "      <td>NaN</td>\n",
       "      <td>NaN</td>\n",
       "    </tr>\n",
       "    <tr>\n",
       "      <th>2</th>\n",
       "      <td>2017</td>\n",
       "      <td>Jul</td>\n",
       "      <td>3</td>\n",
       "      <td>Mon</td>\n",
       "      <td>2017-07-03</td>\n",
       "      <td>Delta Airlines</td>\n",
       "      <td>N337NW</td>\n",
       "      <td>DTW</td>\n",
       "      <td>Detroit, MI</td>\n",
       "      <td>RDU</td>\n",
       "      <td>Raleigh/Durham, NC</td>\n",
       "      <td>2024</td>\n",
       "      <td>2023.0</td>\n",
       "      <td>-1.0</td>\n",
       "      <td>2206</td>\n",
       "      <td>2151.0</td>\n",
       "      <td>0.0</td>\n",
       "      <td>NaN</td>\n",
       "      <td>501.0</td>\n",
       "      <td>NaN</td>\n",
       "      <td>NaN</td>\n",
       "      <td>NaN</td>\n",
       "      <td>NaN</td>\n",
       "      <td>NaN</td>\n",
       "    </tr>\n",
       "  </tbody>\n",
       "</table>\n",
       "</div>"
      ],
      "text/plain": [
       "   year month  day_of_month day_of_week     fl_date           airline  \\\n",
       "0  2018   Mar            26         Mon  2018-03-26  Skywest Airlines   \n",
       "1  2020   May             3         Sun  2020-05-03    Delta Airlines   \n",
       "2  2017   Jul             3         Mon  2017-07-03    Delta Airlines   \n",
       "\n",
       "  tail_num origin origin_city_name dest      dest_city_name  crs_dep_time  \\\n",
       "0   N679SA    PAH      Paducah, KY  ORD         Chicago, IL           635   \n",
       "1   N981AT    ATL      Atlanta, GA  HSV      Huntsville, AL           945   \n",
       "2   N337NW    DTW      Detroit, MI  RDU  Raleigh/Durham, NC          2024   \n",
       "\n",
       "   dep_time  dep_delay  crs_arr_time  arr_time  arr_delay cancellation_code  \\\n",
       "0     637.0        2.0           811     802.0        0.0               NaN   \n",
       "1     937.0       -8.0           933     925.0        0.0               NaN   \n",
       "2    2023.0       -1.0          2206    2151.0        0.0               NaN   \n",
       "\n",
       "   distance  carrier_delay  weather_delay  nas_delay  security_delay  \\\n",
       "0     342.0            NaN            NaN        NaN             NaN   \n",
       "1     151.0            NaN            NaN        NaN             NaN   \n",
       "2     501.0            NaN            NaN        NaN             NaN   \n",
       "\n",
       "   late_aircraft_delay  \n",
       "0                  NaN  \n",
       "1                  NaN  \n",
       "2                  NaN  "
      ]
     },
     "execution_count": 9,
     "metadata": {},
     "output_type": "execute_result"
    }
   ],
   "source": [
    "flights.head(3)"
   ]
  },
  {
   "cell_type": "code",
   "execution_count": 52,
   "id": "252ff72e-f82c-4fcf-8c91-2d5c74cc1f14",
   "metadata": {},
   "outputs": [],
   "source": [
    "test = flights[flights['arr_delay'] > 13][['year','arr_delay','carrier_delay','weather_delay','nas_delay','security_delay','late_aircraft_delay']].copy()"
   ]
  },
  {
   "cell_type": "code",
   "execution_count": 53,
   "id": "82758f93-e4ca-49cc-bc70-9fa0af5f5c0f",
   "metadata": {},
   "outputs": [
    {
     "data": {
      "text/plain": [
       "265795"
      ]
     },
     "execution_count": 53,
     "metadata": {},
     "output_type": "execute_result"
    }
   ],
   "source": [
    "test.isnull().sum().sum()"
   ]
  },
  {
   "cell_type": "markdown",
   "id": "7cad31b9-fbe3-452f-890c-7e3f7adfaafe",
   "metadata": {},
   "source": [
    "## 4. Feature Engineering"
   ]
  },
  {
   "cell_type": "code",
   "execution_count": 54,
   "id": "28ac26e3-6776-431f-a2bb-218876703cce",
   "metadata": {},
   "outputs": [
    {
     "data": {
      "text/plain": [
       "0.03248031989195508"
      ]
     },
     "execution_count": 54,
     "metadata": {},
     "output_type": "execute_result"
    }
   ],
   "source": [
    "test.isnull().sum().sum() /flights.shape[0]"
   ]
  },
  {
   "cell_type": "code",
   "execution_count": null,
   "id": "1ce77e93-c4ff-4dcd-84fc-0eeb6f12e798",
   "metadata": {},
   "outputs": [],
   "source": []
  }
 ],
 "metadata": {
  "kernelspec": {
   "display_name": "Python 3 (ipykernel)",
   "language": "python",
   "name": "python3"
  },
  "language_info": {
   "codemirror_mode": {
    "name": "ipython",
    "version": 3
   },
   "file_extension": ".py",
   "mimetype": "text/x-python",
   "name": "python",
   "nbconvert_exporter": "python",
   "pygments_lexer": "ipython3",
   "version": "3.8.8"
  }
 },
 "nbformat": 4,
 "nbformat_minor": 5
}
