{
 "cells": [
  {
   "cell_type": "markdown",
   "id": "4901cf6b-7d70-413f-a452-9dd7fdbba9f5",
   "metadata": {},
   "source": [
    "# Predicting Air Delays\n",
    "Notebook II: Exploratory Data Analysis (EDA)\n",
    "----\n",
    "\n",
    "Thank you for your review of my code notebook.\n",
    "This notebook's goal is to analyze and prepare the dataset for exposure on a Machine Learning algorithm.\n",
    "\n",
    "---\n",
    "#### Problem Statement: \n",
    "Both travelers and airlines find delays frustrating and costly. This project attempts to be able to predict the probability of a commercial flight delay for any flight in the United States. \n",
    "\n",
    "---\n",
    "\n",
    "#### MVP:\n",
    "My product will be a small lightweight application run on `streamlit` platform for proof-of-concept where a user can find the probability of their desired flight having a delay, how long the delay may be, and how much will the delay cost the user in _lost time_ at the destination \n",
    "\n",
    "---\n",
    "# EDA \n",
    "\n",
    "The primary challenge in this notebook is making sense of what will matter to a machine learning algorithm. At the end of this notebook will will have a final processed set of data to work our models on. \n",
    "\n",
    "The notebook is structured as follows.<br> \n",
    "**Notebook II: EDA and Preprocessing **\n",
    ">1. Setup/Imports\n",
    ">2. Load data\n",
    ">3. EDA\n",
    ">4. Feature engineering and selection. \n",
    ">5. Save the final CSV and discuss next steps. \n",
    "\n",
    "The processed dataframe will be saved on a new file by the end of this notebook and called into the subsequent notebook EDA for readability.\n",
    "\n",
    "The notebooks in this project are: <br>\n",
    "I. Intake and cleaning<br>\n",
    "**II. EDA and preprocessing**<br>\n",
    "III. Modeling and predictions<br>\n",
    "IV. App<br>\n",
    "\n",
    "---"
   ]
  },
  {
   "cell_type": "markdown",
   "id": "95b2bc97-dda7-4463-9e80-dde35ecccba2",
   "metadata": {
    "tags": []
   },
   "source": [
    "## 1. Library imports\n",
    "----\n",
    "Load our analytical libraries and load our previously saved dataset. \n"
   ]
  },
  {
   "cell_type": "code",
   "execution_count": 1,
   "id": "6c6689a4-c151-4389-80ae-71f219700ef7",
   "metadata": {},
   "outputs": [],
   "source": [
    "import os \n",
    "import glob\n",
    "import pandas as pd\n",
    "import numpy as np\n",
    "import seaborn as sns\n",
    "import matplotlib.pyplot as plt"
   ]
  },
  {
   "cell_type": "code",
   "execution_count": 2,
   "id": "cbaf44f8-76e5-4d6d-9e59-c444aaf54eb3",
   "metadata": {},
   "outputs": [],
   "source": [
    "os.chdir('/Volumes/lacie/data_ingestion/capstone_hopper')"
   ]
  },
  {
   "cell_type": "code",
   "execution_count": 3,
   "id": "403de3e5-9f88-4f9b-8189-7f5500366c13",
   "metadata": {},
   "outputs": [],
   "source": [
    "pd.set_option('display.max_columns', None)"
   ]
  },
  {
   "cell_type": "markdown",
   "id": "bd926f8a-6497-4fee-a5cf-bb876de05918",
   "metadata": {
    "tags": []
   },
   "source": [
    "## 2. Load Dataset\n",
    "---\n"
   ]
  },
  {
   "cell_type": "code",
   "execution_count": 4,
   "id": "4ffef04a-8f5b-4ef8-b0d9-cdf124e563ae",
   "metadata": {},
   "outputs": [
    {
     "name": "stderr",
     "output_type": "stream",
     "text": [
      "/Users/nickvanbergen/opt/anaconda3/lib/python3.8/site-packages/IPython/core/interactiveshell.py:3441: DtypeWarning: Columns (1,3,5,19,26) have mixed types.Specify dtype option on import or set low_memory=False.\n",
      "  exec(code_obj, self.user_global_ns, self.user_ns)\n"
     ]
    }
   ],
   "source": [
    "flights = pd.read_csv('sample_cleaned.csv')"
   ]
  },
  {
   "cell_type": "code",
   "execution_count": 5,
   "id": "3c0cf9d2-7e48-4d25-8a78-ef5438e38154",
   "metadata": {},
   "outputs": [
    {
     "data": {
      "text/plain": [
       "(2821814, 27)"
      ]
     },
     "execution_count": 5,
     "metadata": {},
     "output_type": "execute_result"
    }
   ],
   "source": [
    "flights.shape"
   ]
  },
  {
   "cell_type": "markdown",
   "id": "25c60b8b-6e1e-4c74-8a56-f2285ee16b41",
   "metadata": {
    "tags": []
   },
   "source": [
    "## 3. Exploratory Data Analysis: Time Columns Exploratory Analysis\n",
    "---\n",
    "This section of the notebook deals with data explorations. \n",
    "\n",
    "Our working definition of a **_delay_** is a flight arriving at the destination airport 15 minute after their scheduled arrival.\n",
    "\n",
    "This was addressed and handled in the first notebook when we were cleaning and obtaining data. \n",
    "\n"
   ]
  },
  {
   "cell_type": "code",
   "execution_count": 6,
   "id": "39f4f326-00f7-47a6-9ef2-95780353afa1",
   "metadata": {},
   "outputs": [
    {
     "data": {
      "text/html": [
       "<div>\n",
       "<style scoped>\n",
       "    .dataframe tbody tr th:only-of-type {\n",
       "        vertical-align: middle;\n",
       "    }\n",
       "\n",
       "    .dataframe tbody tr th {\n",
       "        vertical-align: top;\n",
       "    }\n",
       "\n",
       "    .dataframe thead th {\n",
       "        text-align: right;\n",
       "    }\n",
       "</style>\n",
       "<table border=\"1\" class=\"dataframe\">\n",
       "  <thead>\n",
       "    <tr style=\"text-align: right;\">\n",
       "      <th></th>\n",
       "      <th>year</th>\n",
       "      <th>month</th>\n",
       "      <th>day_of_month</th>\n",
       "      <th>day_of_week</th>\n",
       "      <th>fl_date</th>\n",
       "      <th>airline</th>\n",
       "      <th>tail_num</th>\n",
       "      <th>op_carrier_fl_num</th>\n",
       "      <th>origin</th>\n",
       "      <th>origin_city_name</th>\n",
       "      <th>dest</th>\n",
       "      <th>dest_city_name</th>\n",
       "      <th>crs_dep_time</th>\n",
       "      <th>dep_time</th>\n",
       "      <th>dep_delay</th>\n",
       "      <th>crs_arr_time</th>\n",
       "      <th>arr_time</th>\n",
       "      <th>arr_delay</th>\n",
       "      <th>cancelled</th>\n",
       "      <th>cancellation_code</th>\n",
       "      <th>distance</th>\n",
       "      <th>carrier_delay</th>\n",
       "      <th>weather_delay</th>\n",
       "      <th>nas_delay</th>\n",
       "      <th>security_delay</th>\n",
       "      <th>late_aircraft_delay</th>\n",
       "      <th>op_unique_carrier</th>\n",
       "    </tr>\n",
       "  </thead>\n",
       "  <tbody>\n",
       "    <tr>\n",
       "      <th>0</th>\n",
       "      <td>2018</td>\n",
       "      <td>Sep</td>\n",
       "      <td>3</td>\n",
       "      <td>Mon</td>\n",
       "      <td>2018-09-03</td>\n",
       "      <td>Envoy Air</td>\n",
       "      <td>N807AE</td>\n",
       "      <td>3863</td>\n",
       "      <td>JFK</td>\n",
       "      <td>New York, NY</td>\n",
       "      <td>CLE</td>\n",
       "      <td>Cleveland, OH</td>\n",
       "      <td>2100</td>\n",
       "      <td>2125.0</td>\n",
       "      <td>25.0</td>\n",
       "      <td>2258</td>\n",
       "      <td>2323.0</td>\n",
       "      <td>25.0</td>\n",
       "      <td>0.0</td>\n",
       "      <td>NaN</td>\n",
       "      <td>425.0</td>\n",
       "      <td>0.0</td>\n",
       "      <td>0.0</td>\n",
       "      <td>0.0</td>\n",
       "      <td>0.0</td>\n",
       "      <td>25.0</td>\n",
       "      <td>NaN</td>\n",
       "    </tr>\n",
       "    <tr>\n",
       "      <th>1</th>\n",
       "      <td>2016</td>\n",
       "      <td>Feb</td>\n",
       "      <td>1</td>\n",
       "      <td>Mon</td>\n",
       "      <td>2016-02-01</td>\n",
       "      <td>Delta Airlines</td>\n",
       "      <td>N944AT</td>\n",
       "      <td>1875</td>\n",
       "      <td>MCO</td>\n",
       "      <td>Orlando, FL</td>\n",
       "      <td>RDU</td>\n",
       "      <td>Raleigh/Durham, NC</td>\n",
       "      <td>1537</td>\n",
       "      <td>1533.0</td>\n",
       "      <td>-4.0</td>\n",
       "      <td>1721</td>\n",
       "      <td>1715.0</td>\n",
       "      <td>0.0</td>\n",
       "      <td>0.0</td>\n",
       "      <td>NaN</td>\n",
       "      <td>534.0</td>\n",
       "      <td>NaN</td>\n",
       "      <td>NaN</td>\n",
       "      <td>NaN</td>\n",
       "      <td>NaN</td>\n",
       "      <td>NaN</td>\n",
       "      <td>NaN</td>\n",
       "    </tr>\n",
       "    <tr>\n",
       "      <th>2</th>\n",
       "      <td>2016</td>\n",
       "      <td>Jun</td>\n",
       "      <td>27</td>\n",
       "      <td>Mon</td>\n",
       "      <td>2016-06-27</td>\n",
       "      <td>Alaska Airlines</td>\n",
       "      <td>N560AS</td>\n",
       "      <td>381</td>\n",
       "      <td>SFO</td>\n",
       "      <td>San Francisco, CA</td>\n",
       "      <td>PDX</td>\n",
       "      <td>Portland, OR</td>\n",
       "      <td>1300</td>\n",
       "      <td>1255.0</td>\n",
       "      <td>-5.0</td>\n",
       "      <td>1440</td>\n",
       "      <td>1501.0</td>\n",
       "      <td>21.0</td>\n",
       "      <td>0.0</td>\n",
       "      <td>NaN</td>\n",
       "      <td>550.0</td>\n",
       "      <td>0.0</td>\n",
       "      <td>0.0</td>\n",
       "      <td>21.0</td>\n",
       "      <td>0.0</td>\n",
       "      <td>0.0</td>\n",
       "      <td>NaN</td>\n",
       "    </tr>\n",
       "  </tbody>\n",
       "</table>\n",
       "</div>"
      ],
      "text/plain": [
       "   year month  day_of_month day_of_week     fl_date          airline tail_num  \\\n",
       "0  2018   Sep             3         Mon  2018-09-03        Envoy Air   N807AE   \n",
       "1  2016   Feb             1         Mon  2016-02-01   Delta Airlines   N944AT   \n",
       "2  2016   Jun            27         Mon  2016-06-27  Alaska Airlines   N560AS   \n",
       "\n",
       "   op_carrier_fl_num origin   origin_city_name dest      dest_city_name  \\\n",
       "0               3863    JFK       New York, NY  CLE       Cleveland, OH   \n",
       "1               1875    MCO        Orlando, FL  RDU  Raleigh/Durham, NC   \n",
       "2                381    SFO  San Francisco, CA  PDX        Portland, OR   \n",
       "\n",
       "   crs_dep_time  dep_time  dep_delay  crs_arr_time  arr_time  arr_delay  \\\n",
       "0          2100    2125.0       25.0          2258    2323.0       25.0   \n",
       "1          1537    1533.0       -4.0          1721    1715.0        0.0   \n",
       "2          1300    1255.0       -5.0          1440    1501.0       21.0   \n",
       "\n",
       "   cancelled cancellation_code  distance  carrier_delay  weather_delay  \\\n",
       "0        0.0               NaN     425.0            0.0            0.0   \n",
       "1        0.0               NaN     534.0            NaN            NaN   \n",
       "2        0.0               NaN     550.0            0.0            0.0   \n",
       "\n",
       "   nas_delay  security_delay  late_aircraft_delay op_unique_carrier  \n",
       "0        0.0             0.0                 25.0               NaN  \n",
       "1        NaN             NaN                  NaN               NaN  \n",
       "2       21.0             0.0                  0.0               NaN  "
      ]
     },
     "execution_count": 6,
     "metadata": {},
     "output_type": "execute_result"
    }
   ],
   "source": [
    "flights.head(3)"
   ]
  },
  {
   "cell_type": "code",
   "execution_count": 9,
   "id": "82758f93-e4ca-49cc-bc70-9fa0af5f5c0f",
   "metadata": {},
   "outputs": [
    {
     "data": {
      "text/plain": [
       "year                         0\n",
       "month                        0\n",
       "day_of_month                 0\n",
       "day_of_week                  0\n",
       "fl_date                      0\n",
       "airline                  42782\n",
       "tail_num                     0\n",
       "op_carrier_fl_num            0\n",
       "origin                       0\n",
       "origin_city_name             0\n",
       "dest                         0\n",
       "dest_city_name               0\n",
       "crs_dep_time                 0\n",
       "dep_time                 41420\n",
       "dep_delay                41757\n",
       "crs_arr_time                 0\n",
       "arr_time                 42782\n",
       "arr_delay                    0\n",
       "cancelled                    0\n",
       "cancellation_code      2779032\n",
       "distance                     0\n",
       "carrier_delay          1438214\n",
       "weather_delay          1438214\n",
       "nas_delay              1438214\n",
       "security_delay         1438214\n",
       "late_aircraft_delay    1438214\n",
       "op_unique_carrier      2779032\n",
       "dtype: int64"
      ]
     },
     "execution_count": 9,
     "metadata": {},
     "output_type": "execute_result"
    }
   ],
   "source": [
    "flights.isnull().sum()"
   ]
  },
  {
   "cell_type": "code",
   "execution_count": 12,
   "id": "30f426db-183e-4384-9d38-2c56febbb4c5",
   "metadata": {},
   "outputs": [
    {
     "data": {
      "text/plain": [
       "0.015161169375444306"
      ]
     },
     "execution_count": 12,
     "metadata": {},
     "output_type": "execute_result"
    }
   ],
   "source": [
    "flights[flights['airline'].isnull()]['cancelled'].sum() / flights.shape[0]"
   ]
  },
  {
   "cell_type": "markdown",
   "id": "7cad31b9-fbe3-452f-890c-7e3f7adfaafe",
   "metadata": {},
   "source": [
    "## 4. Feature Engineering"
   ]
  },
  {
   "cell_type": "code",
   "execution_count": 54,
   "id": "28ac26e3-6776-431f-a2bb-218876703cce",
   "metadata": {},
   "outputs": [
    {
     "data": {
      "text/plain": [
       "0.03248031989195508"
      ]
     },
     "execution_count": 54,
     "metadata": {},
     "output_type": "execute_result"
    }
   ],
   "source": [
    "test.isnull().sum().sum() /flights.shape[0]"
   ]
  },
  {
   "cell_type": "code",
   "execution_count": null,
   "id": "1ce77e93-c4ff-4dcd-84fc-0eeb6f12e798",
   "metadata": {},
   "outputs": [],
   "source": []
  }
 ],
 "metadata": {
  "kernelspec": {
   "display_name": "Python 3 (ipykernel)",
   "language": "python",
   "name": "python3"
  },
  "language_info": {
   "codemirror_mode": {
    "name": "ipython",
    "version": 3
   },
   "file_extension": ".py",
   "mimetype": "text/x-python",
   "name": "python",
   "nbconvert_exporter": "python",
   "pygments_lexer": "ipython3",
   "version": "3.8.8"
  }
 },
 "nbformat": 4,
 "nbformat_minor": 5
}
