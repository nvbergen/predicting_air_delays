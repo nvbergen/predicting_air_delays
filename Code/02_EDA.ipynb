{
 "cells": [
  {
   "cell_type": "markdown",
   "id": "4901cf6b-7d70-413f-a452-9dd7fdbba9f5",
   "metadata": {},
   "source": [
    "4. EDA\n",
    "5. Feature engineering and selection. \n",
    "5. Save the final CSV and discuss next steps. \n",
    "\n"
   ]
  }
 ],
 "metadata": {
  "kernelspec": {
   "display_name": "Python 3 (ipykernel)",
   "language": "python",
   "name": "python3"
  },
  "language_info": {
   "codemirror_mode": {
    "name": "ipython",
    "version": 3
   },
   "file_extension": ".py",
   "mimetype": "text/x-python",
   "name": "python",
   "nbconvert_exporter": "python",
   "pygments_lexer": "ipython3",
   "version": "3.8.8"
  }
 },
 "nbformat": 4,
 "nbformat_minor": 5
}
