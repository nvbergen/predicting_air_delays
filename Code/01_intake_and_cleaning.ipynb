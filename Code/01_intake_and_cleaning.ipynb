{
 "cells": [
  {
   "cell_type": "markdown",
   "id": "766eb4fc-473b-4a0e-ad7e-3d1d0f6e9282",
   "metadata": {
    "tags": []
   },
   "source": [
    "# Predicting Air Delays\n",
    "Notebook I: Intake and Cleaning\n",
    "----\n",
    "\n",
    "Thank you for your review of my code notebook.\n",
    "This notebook's goal is to obtain, modify, clean, and prepare the dataset for exposure on a Machine Learning algorithm.\n",
    "\n",
    "---\n",
    "#### Problem Statement: \n",
    "Both travelers and airlines find delays frustrating and costly. This project attempts to be able to predict the probability of a commercial flight delay for any flight in the United States. \n",
    "\n",
    "---\n",
    "\n",
    "#### MVP:\n",
    "My Minimum viable product for this project is a working predictive model. \n",
    "Stretch goal is to develop a streamlit application an deploy for general use. \n",
    "\n",
    "---\n",
    "# Intake and Data Cleaning \n",
    "\n",
    "The primary challenge in this notebook is managing a large dataset and cleaning data to arrive at something to run preliminary analysis on.  \n",
    "\n",
    "The notebook is structured as follows.<br> \n",
    "\n",
    ">**Notebook I: Intake and Cleaning.**\n",
    ">1. Imports and set up\n",
    ">2. Cleaning steps.\n",
    "\n",
    "The cleaned data will be saved on a new file by the end of this notebook and called into the subsequent notebook EDA for readability.\n",
    "\n",
    "The notebooks in this project are:<br> \n",
    "**I. Intake and cleaning**<br>\n",
    "II. EDA and preprocessing <br>\n",
    "III. Modeling and predictions <br>\n",
    "IV. Streamlit<br>\n",
    "\n",
    "---\n"
   ]
  },
  {
   "cell_type": "markdown",
   "id": "e1a7a039-e68d-42d2-ae8e-aac54bc196a6",
   "metadata": {
    "tags": []
   },
   "source": [
    "## 1. Set-up\n",
    "----\n",
    "I will be making use of `os`, `glob`, and `Amadeus API` libraries for python. \n",
    "\n",
    "`os` and `glob` will be used in conjunction with command line commands from the notebook to join the large CSV tables together.\n",
    "\n"
   ]
  },
  {
   "cell_type": "code",
   "execution_count": 1,
   "id": "1cf4036e-d2dc-4772-ab16-d833e8e69624",
   "metadata": {},
   "outputs": [],
   "source": [
    "import os \n",
    "import glob\n",
    "import pandas as pd\n",
    "import numpy as np\n",
    "import seaborn as sns\n",
    "import matplotlib.pyplot as plt\n"
   ]
  },
  {
   "cell_type": "markdown",
   "id": "3a641813-7982-42c1-9f4f-cc8d94fbbd51",
   "metadata": {},
   "source": [
    " I have 68 CSV files. Each file represents 1 month of flight history from all U.S. Airports. As a result each CSV is approximatley 150mb in size. Loading a few of them into the workspace of the notebook will result in a loss of data due to data exceeding memory capacity on the local machine. \n",
    " <br>\n",
    " <br>\n",
    "The approach will be to manipulate each of the CSV's and join them directly in the command line. \n",
    "\n",
    "Note: \n",
    "Files are very very large and will either be hosted for a user's own enjoyment or sampled to a size small enough to go into the repository online. For now, certain code directories "
   ]
  },
  {
   "cell_type": "code",
   "execution_count": 2,
   "id": "1c1717ce-dbb1-463c-983a-fd627b358883",
   "metadata": {},
   "outputs": [],
   "source": [
    "#expand column view \n",
    "pd.set_option('display.max_columns', None)"
   ]
  },
  {
   "cell_type": "code",
   "execution_count": 3,
   "id": "e87f7c0f-bf35-48ac-a29b-bdc9a503cfe4",
   "metadata": {},
   "outputs": [],
   "source": [
    "#change the directory from root to where all the files I will join will be\n",
    "os.chdir('/Volumes/lacie/data_ingestion/capstone_hopper')"
   ]
  },
  {
   "cell_type": "markdown",
   "id": "44cc0827-9b7e-41f8-add9-ff7887813038",
   "metadata": {},
   "source": [
    "### Data Sources\n",
    "---\n",
    "This project attempts gathered delay data from the **Department of Transportation (DOT) Flight Delay reporting Database**. Sadly, there was no public API available to access this data from DOT or from Federal Aviation Administration.\n",
    "\n",
    "Given there was no way to programatically acquire the desired amount of data, I proceeded to utilize the basic public data library tool and download a CSV for one monthly period at a time.  \n",
    "\n",
    "This created a lot of _just **too big** files_ and hence our first unanticipated technical challenge with this project; what do I do? \n",
    "\n",
    "The plan: use the command line to join all the tables. \n",
    "After cleaning see how large the file is. \n",
    "\n",
    "To implement this plan, using `glob` methods and direct command line. \n",
    "\n",
    "\n",
    "---\n",
    "References<br>\n",
    "[Bureau of Transportation Statistics](https://www.transtats.bts.gov/DL_SelectFields.asp?gnoyr_VQ=FGJ)\n",
    "<br>\n",
    "[GLOB tutorial](https://www.freecodecamp.org/news/how-to-combine-multiple-csv-files-with-8-lines-of-code-265183e0854/)"
   ]
  },
  {
   "cell_type": "markdown",
   "id": "5ed4ab95-bf9f-403c-b80a-401425b596a5",
   "metadata": {
    "tags": []
   },
   "source": [
    "### Create new dataset from monthly data sources. \n",
    "---\n",
    "Run the below code if you have access to the files, which are large, on your local machine."
   ]
  },
  {
   "cell_type": "code",
   "execution_count": 4,
   "id": "8e7b3315-9cc1-4042-80c9-1c1f9ce8ec6d",
   "metadata": {},
   "outputs": [
    {
     "name": "stdout",
     "output_type": "stream",
     "text": [
      "\u001b[31m10_nov_20.csv\u001b[m\u001b[m   \u001b[31m24_sep_19.csv\u001b[m\u001b[m   \u001b[31m38_jul_18.csv\u001b[m\u001b[m   \u001b[31m51_jun_17.csv\u001b[m\u001b[m   \u001b[31m65_apr_16.csv\u001b[m\u001b[m\n",
      "\u001b[31m11_oct_20.csv\u001b[m\u001b[m   \u001b[31m25_aug_19.csv\u001b[m\u001b[m   \u001b[31m39_jun_18.csv\u001b[m\u001b[m   \u001b[31m52_may_17.csv\u001b[m\u001b[m   \u001b[31m66_mar_16.csv\u001b[m\u001b[m\n",
      "\u001b[31m12_sep_20.csv\u001b[m\u001b[m   \u001b[31m26_jul_19.csv\u001b[m\u001b[m   \u001b[31m3_jun_21.csv\u001b[m\u001b[m    \u001b[31m53_apr_17.csv\u001b[m\u001b[m   \u001b[31m67_feb_16.csv\u001b[m\u001b[m\n",
      "\u001b[31m13_aug_20.csv\u001b[m\u001b[m   \u001b[31m27_jun_19.csv\u001b[m\u001b[m   \u001b[31m40_may_18.csv\u001b[m\u001b[m   \u001b[31m54_mar_17.csv\u001b[m\u001b[m   \u001b[31m68_jan_16.csv\u001b[m\u001b[m\n",
      "\u001b[31m14_jul_20.csv\u001b[m\u001b[m   \u001b[31m28_may_19.csv\u001b[m\u001b[m   \u001b[31m41_apr_18.csv\u001b[m\u001b[m   \u001b[31m55_feb_17.csv\u001b[m\u001b[m   \u001b[31m6_mar_21.csv\u001b[m\u001b[m\n",
      "\u001b[31m15_jun_20.csv\u001b[m\u001b[m   \u001b[31m29_apr_19.csv\u001b[m\u001b[m   \u001b[31m42_mar_18.csv\u001b[m\u001b[m   \u001b[31m56_jan_17.csv\u001b[m\u001b[m   \u001b[31m7_feb_21.csv\u001b[m\u001b[m\n",
      "\u001b[31m16_may_20.csv\u001b[m\u001b[m   \u001b[31m2_jul_21.csv\u001b[m\u001b[m    \u001b[31m43_feb_18.csv\u001b[m\u001b[m   \u001b[31m57_dec_16.csv\u001b[m\u001b[m   \u001b[31m8_jan_21.csv\u001b[m\u001b[m\n",
      "\u001b[31m17_apr_20.csv\u001b[m\u001b[m   \u001b[31m30_mar_19.csv\u001b[m\u001b[m   \u001b[31m44_jan_18.csv\u001b[m\u001b[m   \u001b[31m58_nov_16.csv\u001b[m\u001b[m   \u001b[31m9_dec_20.csv\u001b[m\u001b[m\n",
      "\u001b[31m18_mar_20.csv\u001b[m\u001b[m   \u001b[31m31_feb_19.csv\u001b[m\u001b[m   \u001b[31m45_dec_17.csv\u001b[m\u001b[m   \u001b[31m59_oct_16.csv\u001b[m\u001b[m   \u001b[31mall_flights.csv\u001b[m\u001b[m\n",
      "\u001b[31m19_feb_20.csv\u001b[m\u001b[m   \u001b[31m32_jan_19.csv\u001b[m\u001b[m   \u001b[31m46_nov_17.csv\u001b[m\u001b[m   \u001b[31m5_apr_21.csv\u001b[m\u001b[m    \u001b[31msample copy.csv\u001b[m\u001b[m\n",
      "\u001b[31m1_aug_21.csv\u001b[m\u001b[m    \u001b[31m33_dec_18.csv\u001b[m\u001b[m   \u001b[31m47_oct_17.csv\u001b[m\u001b[m   \u001b[31m60_sep_16.csv\u001b[m\u001b[m   \u001b[31msample.csv\u001b[m\u001b[m\n",
      "\u001b[31m20_jan_20.csv\u001b[m\u001b[m   \u001b[31m34_nov_18.csv\u001b[m\u001b[m   \u001b[31m48_sep_17.csv\u001b[m\u001b[m   \u001b[31m61_aug_16.csv\u001b[m\u001b[m   \u001b[31msample.csv.zip\u001b[m\u001b[m\n",
      "\u001b[31m21_dec_19.csv\u001b[m\u001b[m   \u001b[31m35_oct_18.csv\u001b[m\u001b[m   \u001b[31m49_aug_17.csv\u001b[m\u001b[m   \u001b[31m62_jul_16.csv\u001b[m\u001b[m\n",
      "\u001b[31m22_nov_19.csv\u001b[m\u001b[m   \u001b[31m36_sep_18.csv\u001b[m\u001b[m   \u001b[31m4_may_21.csv\u001b[m\u001b[m    \u001b[31m63_jun_16.csv\u001b[m\u001b[m\n",
      "\u001b[31m23_oct_19.csv\u001b[m\u001b[m   \u001b[31m37_aug_18.csv\u001b[m\u001b[m   \u001b[31m50_jul_17.csv\u001b[m\u001b[m   \u001b[31m64_may_16.csv\u001b[m\u001b[m\n"
     ]
    }
   ],
   "source": [
    "#a list of all the files. a total of 6.958GB of unfiltered raw data. \n",
    "!ls"
   ]
  },
  {
   "cell_type": "code",
   "execution_count": 4,
   "id": "0559f5e4-8774-41f1-947a-b9b2c94f70cf",
   "metadata": {},
   "outputs": [],
   "source": [
    "#using glob, to locate all file names. \n",
    "file_ext = '.csv'\n",
    "files = sorted([file for file in glob.glob(f'*{file_ext}')])"
   ]
  },
  {
   "cell_type": "code",
   "execution_count": 5,
   "id": "9fbce328-28a8-4086-8f02-8992f4b70bed",
   "metadata": {},
   "outputs": [
    {
     "name": "stdout",
     "output_type": "stream",
     "text": [
      "first five files : ['10_nov_20.csv', '11_oct_20.csv', '12_sep_20.csv', '13_aug_20.csv', '14_jul_20.csv'] last 5 files:  ['6_mar_21.csv', '7_feb_21.csv', '8_jan_21.csv', '9_dec_20.csv']\n"
     ]
    }
   ],
   "source": [
    "#the first five in the list to confirm \n",
    "print('first five files :',files[0:5],\n",
    "      'last 5 files: ' ,files[-4:])"
   ]
  },
  {
   "cell_type": "code",
   "execution_count": 6,
   "id": "bb248bc2-7abd-4d55-853f-ee706ccca3a1",
   "metadata": {},
   "outputs": [
    {
     "name": "stderr",
     "output_type": "stream",
     "text": [
      "/var/folders/fy/0gjwghjd3qxdc86mx10x01rr0000gp/T/ipykernel_1744/3199323081.py:2: DtypeWarning: Columns (23) have mixed types.Specify dtype option on import or set low_memory=False.\n",
      "  all_flights = pd.concat([pd.read_csv(file) for file in files ])\n"
     ]
    }
   ],
   "source": [
    "#using the pd.concat() i will read from a list comprehension to concat each and every csv. \n",
    "all_flights = pd.concat([pd.read_csv(file) for file in files ])\n"
   ]
  },
  {
   "cell_type": "markdown",
   "id": "3c2738f6-8b14-4d5d-a0e2-033938d8dc88",
   "metadata": {},
   "source": [
    "#### Save global dataframe to system"
   ]
  },
  {
   "cell_type": "code",
   "execution_count": 5,
   "id": "36aba3bb-7f71-44c5-bcd2-5b152ecc708b",
   "metadata": {},
   "outputs": [],
   "source": [
    "#export to csv\n",
    "#all_flights.to_csv( \"all_flights.csv\", index=False, encoding='utf-8-sig')"
   ]
  },
  {
   "cell_type": "markdown",
   "id": "714ba5f2-3f7c-4ee6-ac6c-b216b22968a6",
   "metadata": {},
   "source": [
    "#### Load prior copy of global data from file."
   ]
  },
  {
   "cell_type": "code",
   "execution_count": 4,
   "id": "b7d60c3f-adeb-4e43-a28d-54adfdbe3be2",
   "metadata": {},
   "outputs": [
    {
     "name": "stderr",
     "output_type": "stream",
     "text": [
      "/Users/nickvanbergen/opt/anaconda3/lib/python3.8/site-packages/IPython/core/interactiveshell.py:3441: DtypeWarning: Columns (23) have mixed types.Specify dtype option on import or set low_memory=False.\n",
      "  exec(code_obj, self.user_global_ns, self.user_ns)\n"
     ]
    }
   ],
   "source": [
    "all_flights = pd.read_csv('/Volumes/lacie/data_ingestion/capstone_hopper/all_flights.csv')"
   ]
  },
  {
   "cell_type": "markdown",
   "id": "b618f407-2520-4ec0-92c9-c2b70b240a59",
   "metadata": {
    "tags": []
   },
   "source": [
    "### Subsetting global dataset \n",
    "---\n",
    "Run this code to build  a new **sample** of the `'all_flights'` dataset. "
   ]
  },
  {
   "cell_type": "code",
   "execution_count": 5,
   "id": "29f04e0e-39ed-455b-bd5b-7cdaebc8cb6a",
   "metadata": {},
   "outputs": [
    {
     "data": {
      "text/plain": [
       "(34409230, 34)"
      ]
     },
     "execution_count": 5,
     "metadata": {},
     "output_type": "execute_result"
    }
   ],
   "source": [
    "all_flights.shape"
   ]
  },
  {
   "cell_type": "markdown",
   "id": "d0b465c6-e5ea-4ea4-a2e6-c8bf2d806514",
   "metadata": {},
   "source": [
    "The process is completed with 34,409,230 flights with 34 _raw_ feature columns. It took approximately 8 minutes to process the file. "
   ]
  },
  {
   "cell_type": "code",
   "execution_count": 6,
   "id": "03d81220-921f-4a62-9a53-bf1dd8d535c0",
   "metadata": {},
   "outputs": [
    {
     "data": {
      "text/html": [
       "<div>\n",
       "<style scoped>\n",
       "    .dataframe tbody tr th:only-of-type {\n",
       "        vertical-align: middle;\n",
       "    }\n",
       "\n",
       "    .dataframe tbody tr th {\n",
       "        vertical-align: top;\n",
       "    }\n",
       "\n",
       "    .dataframe thead th {\n",
       "        text-align: right;\n",
       "    }\n",
       "</style>\n",
       "<table border=\"1\" class=\"dataframe\">\n",
       "  <thead>\n",
       "    <tr style=\"text-align: right;\">\n",
       "      <th></th>\n",
       "      <th>YEAR</th>\n",
       "      <th>MONTH</th>\n",
       "      <th>DAY_OF_MONTH</th>\n",
       "      <th>DAY_OF_WEEK</th>\n",
       "      <th>FL_DATE</th>\n",
       "      <th>OP_UNIQUE_CARRIER</th>\n",
       "      <th>TAIL_NUM</th>\n",
       "      <th>OP_CARRIER_FL_NUM</th>\n",
       "      <th>ORIGIN</th>\n",
       "      <th>ORIGIN_CITY_NAME</th>\n",
       "      <th>ORIGIN_STATE_NM</th>\n",
       "      <th>DEST</th>\n",
       "      <th>DEST_CITY_NAME</th>\n",
       "      <th>DEST_STATE_NM</th>\n",
       "      <th>CRS_DEP_TIME</th>\n",
       "      <th>DEP_TIME</th>\n",
       "      <th>DEP_DELAY</th>\n",
       "      <th>DEP_DELAY_NEW</th>\n",
       "      <th>CRS_ARR_TIME</th>\n",
       "      <th>ARR_TIME</th>\n",
       "      <th>ARR_DELAY</th>\n",
       "      <th>ARR_DELAY_NEW</th>\n",
       "      <th>CANCELLED</th>\n",
       "      <th>CANCELLATION_CODE</th>\n",
       "      <th>DIVERTED</th>\n",
       "      <th>CRS_ELAPSED_TIME</th>\n",
       "      <th>FLIGHTS</th>\n",
       "      <th>DISTANCE</th>\n",
       "      <th>CARRIER_DELAY</th>\n",
       "      <th>WEATHER_DELAY</th>\n",
       "      <th>NAS_DELAY</th>\n",
       "      <th>SECURITY_DELAY</th>\n",
       "      <th>LATE_AIRCRAFT_DELAY</th>\n",
       "      <th>Unnamed: 33</th>\n",
       "    </tr>\n",
       "  </thead>\n",
       "  <tbody>\n",
       "    <tr>\n",
       "      <th>0</th>\n",
       "      <td>2020</td>\n",
       "      <td>11</td>\n",
       "      <td>12</td>\n",
       "      <td>4</td>\n",
       "      <td>2020-11-12</td>\n",
       "      <td>AA</td>\n",
       "      <td>N844NN</td>\n",
       "      <td>1783</td>\n",
       "      <td>PHL</td>\n",
       "      <td>Philadelphia, PA</td>\n",
       "      <td>Pennsylvania</td>\n",
       "      <td>DFW</td>\n",
       "      <td>Dallas/Fort Worth, TX</td>\n",
       "      <td>Texas</td>\n",
       "      <td>1230</td>\n",
       "      <td>1220.0</td>\n",
       "      <td>-10.0</td>\n",
       "      <td>0.0</td>\n",
       "      <td>1525</td>\n",
       "      <td>1504.0</td>\n",
       "      <td>-21.0</td>\n",
       "      <td>0.0</td>\n",
       "      <td>0.0</td>\n",
       "      <td>NaN</td>\n",
       "      <td>0.0</td>\n",
       "      <td>235.0</td>\n",
       "      <td>1.0</td>\n",
       "      <td>1303.0</td>\n",
       "      <td>NaN</td>\n",
       "      <td>NaN</td>\n",
       "      <td>NaN</td>\n",
       "      <td>NaN</td>\n",
       "      <td>NaN</td>\n",
       "      <td>NaN</td>\n",
       "    </tr>\n",
       "    <tr>\n",
       "      <th>1</th>\n",
       "      <td>2020</td>\n",
       "      <td>11</td>\n",
       "      <td>13</td>\n",
       "      <td>5</td>\n",
       "      <td>2020-11-13</td>\n",
       "      <td>AA</td>\n",
       "      <td>N339PL</td>\n",
       "      <td>1783</td>\n",
       "      <td>PHL</td>\n",
       "      <td>Philadelphia, PA</td>\n",
       "      <td>Pennsylvania</td>\n",
       "      <td>DFW</td>\n",
       "      <td>Dallas/Fort Worth, TX</td>\n",
       "      <td>Texas</td>\n",
       "      <td>1230</td>\n",
       "      <td>1224.0</td>\n",
       "      <td>-6.0</td>\n",
       "      <td>0.0</td>\n",
       "      <td>1525</td>\n",
       "      <td>1524.0</td>\n",
       "      <td>-1.0</td>\n",
       "      <td>0.0</td>\n",
       "      <td>0.0</td>\n",
       "      <td>NaN</td>\n",
       "      <td>0.0</td>\n",
       "      <td>235.0</td>\n",
       "      <td>1.0</td>\n",
       "      <td>1303.0</td>\n",
       "      <td>NaN</td>\n",
       "      <td>NaN</td>\n",
       "      <td>NaN</td>\n",
       "      <td>NaN</td>\n",
       "      <td>NaN</td>\n",
       "      <td>NaN</td>\n",
       "    </tr>\n",
       "  </tbody>\n",
       "</table>\n",
       "</div>"
      ],
      "text/plain": [
       "   YEAR  MONTH  DAY_OF_MONTH  DAY_OF_WEEK     FL_DATE OP_UNIQUE_CARRIER  \\\n",
       "0  2020     11            12            4  2020-11-12                AA   \n",
       "1  2020     11            13            5  2020-11-13                AA   \n",
       "\n",
       "  TAIL_NUM  OP_CARRIER_FL_NUM ORIGIN  ORIGIN_CITY_NAME ORIGIN_STATE_NM DEST  \\\n",
       "0   N844NN               1783    PHL  Philadelphia, PA    Pennsylvania  DFW   \n",
       "1   N339PL               1783    PHL  Philadelphia, PA    Pennsylvania  DFW   \n",
       "\n",
       "          DEST_CITY_NAME DEST_STATE_NM  CRS_DEP_TIME  DEP_TIME  DEP_DELAY  \\\n",
       "0  Dallas/Fort Worth, TX         Texas          1230    1220.0      -10.0   \n",
       "1  Dallas/Fort Worth, TX         Texas          1230    1224.0       -6.0   \n",
       "\n",
       "   DEP_DELAY_NEW  CRS_ARR_TIME  ARR_TIME  ARR_DELAY  ARR_DELAY_NEW  CANCELLED  \\\n",
       "0            0.0          1525    1504.0      -21.0            0.0        0.0   \n",
       "1            0.0          1525    1524.0       -1.0            0.0        0.0   \n",
       "\n",
       "  CANCELLATION_CODE  DIVERTED  CRS_ELAPSED_TIME  FLIGHTS  DISTANCE  \\\n",
       "0               NaN       0.0             235.0      1.0    1303.0   \n",
       "1               NaN       0.0             235.0      1.0    1303.0   \n",
       "\n",
       "   CARRIER_DELAY  WEATHER_DELAY  NAS_DELAY  SECURITY_DELAY  \\\n",
       "0            NaN            NaN        NaN             NaN   \n",
       "1            NaN            NaN        NaN             NaN   \n",
       "\n",
       "   LATE_AIRCRAFT_DELAY  Unnamed: 33  \n",
       "0                  NaN          NaN  \n",
       "1                  NaN          NaN  "
      ]
     },
     "execution_count": 6,
     "metadata": {},
     "output_type": "execute_result"
    }
   ],
   "source": [
    "all_flights.head(2)"
   ]
  },
  {
   "cell_type": "markdown",
   "id": "7731cca4-891c-40e6-949e-c4ba3e8fa176",
   "metadata": {
    "tags": []
   },
   "source": [
    "### Subsetting\n",
    "---\n",
    "Lets first look at what an on time arrival is.\n",
    "\n",
    ">A flight is counted as \"on time\" if it operated less than 15 minutes later than the scheduled time shown in the carriers' Computerized Reservations Systems (CRS). Arrival performance is based on arrival at the gate. Departure performance is based on departure from the gate.\n",
    "\n",
    "Right there we can eliminate an `NaN` rows in some of our categories like `'year'`, `'arr_delay'`, `'carrier_delay'`, `'weather_delay'`, `'nas_delay`', `'security_delay'`, `'late_aircraft_delay'`\n",
    "\n",
    "\n",
    "We should take care to preserve our on-time arrivals and other flights with less than 15 minutes delay that have delay attribution.\n",
    "\n",
    "From here we can determine how many non null rows that are delays greater than 15 minutes \n",
    "\n",
    "---\n",
    "Source [BTS]('https://www.bts.gov/explore-topics-and-geography/topics/airline-time-performance-and-causes-flight-delays')"
   ]
  },
  {
   "cell_type": "code",
   "execution_count": 7,
   "id": "edb9d8c6-cb12-422d-b5fa-78dbef958aef",
   "metadata": {},
   "outputs": [],
   "source": [
    "all_flights.columns =all_flights.columns.str.lower()"
   ]
  },
  {
   "cell_type": "code",
   "execution_count": 8,
   "id": "3722d368-5c71-49e8-8672-713d53b88e42",
   "metadata": {},
   "outputs": [],
   "source": [
    "ontime = all_flights[all_flights['arr_delay'] <=0 ]"
   ]
  },
  {
   "cell_type": "code",
   "execution_count": 9,
   "id": "67a05da2-2f83-4bce-ab2f-8e9af10981c7",
   "metadata": {},
   "outputs": [
    {
     "data": {
      "text/plain": [
       "(22575180, 34)"
      ]
     },
     "execution_count": 9,
     "metadata": {},
     "output_type": "execute_result"
    }
   ],
   "source": [
    "ontime.shape"
   ]
  },
  {
   "cell_type": "markdown",
   "id": "2eade135-25fa-4997-970f-08b9f009fc8c",
   "metadata": {},
   "source": [
    "There are 22,575,180 flights that were on time in the measurement period. How about delayed flights, and in particular delayed flights with delay attribution entered. \n",
    "\n",
    "Delay attribution is where an airline will explain the cause of delay. The _BTS_ has been collecting attributed delay information since 2018. Because our data extends to two years prior, I am anticipating that there will be a significantly smaller subsection of flights with complete flight delay attribution.  "
   ]
  },
  {
   "cell_type": "code",
   "execution_count": 13,
   "id": "472d37cb-329a-482d-91e8-0abbba76ca81",
   "metadata": {},
   "outputs": [],
   "source": [
    "#first section is to subset to all flights with arrival delays greater than 15 minutes.\n",
    "delayed = all_flights[(all_flights['arr_delay'] > 15) \n",
    "                      & (all_flights['carrier_delay'].notnull()) \n",
    "                      & (all_flights['weather_delay'].notnull())\n",
    "                      & (all_flights['nas_delay'].notnull())\n",
    "                      & (all_flights['security_delay'].notnull())\n",
    "                      & (all_flights['late_aircraft_delay'].notnull())\n",
    "                      ]"
   ]
  },
  {
   "cell_type": "code",
   "execution_count": 14,
   "id": "0596a98f-64ad-427e-96d4-1044cc003807",
   "metadata": {},
   "outputs": [
    {
     "data": {
      "text/plain": [
       "2019    1342865\n",
       "2018    1305192\n",
       "2017     992419\n",
       "2016     928608\n",
       "2021     613874\n",
       "2020     413318\n",
       "Name: year, dtype: int64"
      ]
     },
     "execution_count": 14,
     "metadata": {},
     "output_type": "execute_result"
    }
   ],
   "source": [
    "#checking to see the annual distribution of flight delays in this subset. \n",
    "delayed['year'].value_counts()"
   ]
  },
  {
   "cell_type": "code",
   "execution_count": 15,
   "id": "3cf75f44-276d-44ea-a964-6f3a4094f276",
   "metadata": {},
   "outputs": [
    {
     "data": {
      "text/plain": [
       "(5596276, 34)"
      ]
     },
     "execution_count": 15,
     "metadata": {},
     "output_type": "execute_result"
    }
   ],
   "source": [
    "delayed.shape"
   ]
  },
  {
   "cell_type": "markdown",
   "id": "b6311371-4e8d-4d7f-9422-0041845ad957",
   "metadata": {},
   "source": [
    "Now that I know our sample size for delayed flights containing delay attribution, I can sample the `ontime` dataset to the exact same size. "
   ]
  },
  {
   "cell_type": "code",
   "execution_count": 16,
   "id": "1d4d4a5a-bc1d-427e-bd7e-03082b778234",
   "metadata": {},
   "outputs": [],
   "source": [
    "ontime_sample = ontime.sample(n=delayed.shape[0], random_state = 42)"
   ]
  },
  {
   "cell_type": "code",
   "execution_count": 17,
   "id": "e9d6d79d-cc99-487f-a49b-7d02b8504bd8",
   "metadata": {},
   "outputs": [
    {
     "data": {
      "text/plain": [
       "(5596276, 34)"
      ]
     },
     "execution_count": 17,
     "metadata": {},
     "output_type": "execute_result"
    }
   ],
   "source": [
    "ontime_sample.shape"
   ]
  },
  {
   "cell_type": "markdown",
   "id": "3eb20f92-375a-401c-8006-01135f9d0399",
   "metadata": {},
   "source": [
    "Next, I take both dataframes and append them together. This will give me a 50% on time and 50% delayed flight balance. And due to the size I will then sample again "
   ]
  },
  {
   "cell_type": "code",
   "execution_count": 18,
   "id": "b726501a-df89-446b-87a5-1f78f2b24060",
   "metadata": {},
   "outputs": [],
   "source": [
    "subset = delayed.append(ontime_sample, ignore_index =True)"
   ]
  },
  {
   "cell_type": "code",
   "execution_count": 19,
   "id": "e0fee0cd-baa6-4105-a2ad-04c6d5588379",
   "metadata": {},
   "outputs": [
    {
     "data": {
      "text/plain": [
       "(11192552, 34)"
      ]
     },
     "execution_count": 19,
     "metadata": {},
     "output_type": "execute_result"
    }
   ],
   "source": [
    "subset.shape"
   ]
  },
  {
   "cell_type": "markdown",
   "id": "be30b936-95bf-4191-abac-ff037d641531",
   "metadata": {},
   "source": [
    "Now, finally to take a random sampling from these sample subsets for a final testable sample. "
   ]
  },
  {
   "cell_type": "code",
   "execution_count": 20,
   "id": "94b0d744-7746-4078-96d6-8be3168e6483",
   "metadata": {},
   "outputs": [],
   "source": [
    "sample = subset.sample(frac=.25, random_state =42)"
   ]
  },
  {
   "cell_type": "code",
   "execution_count": 21,
   "id": "4f482344-cf6d-4e07-b90e-ca9a4850225d",
   "metadata": {},
   "outputs": [
    {
     "name": "stdout",
     "output_type": "stream",
     "text": [
      "Number of sampled flights, 2,798,138\n"
     ]
    }
   ],
   "source": [
    "print(f\"Number of sampled flights, {sample.shape[0] :,}\")"
   ]
  },
  {
   "cell_type": "markdown",
   "id": "47697d0b-6574-46ab-b357-d48d0298adc8",
   "metadata": {},
   "source": [
    "#### Adding canceled flights. \n",
    "----\n",
    "Another factor in our analysis will be the impact of canceled flights on our predictive model. "
   ]
  },
  {
   "cell_type": "code",
   "execution_count": 22,
   "id": "72367cb3-76a4-475f-9926-24c15b523361",
   "metadata": {},
   "outputs": [
    {
     "data": {
      "text/plain": [
       "0.0    2798138\n",
       "Name: cancelled, dtype: int64"
      ]
     },
     "execution_count": 22,
     "metadata": {},
     "output_type": "execute_result"
    }
   ],
   "source": [
    "sample['cancelled'].value_counts()"
   ]
  },
  {
   "cell_type": "code",
   "execution_count": 23,
   "id": "ee14b8f5-d0ae-4229-9b3f-963e63c165e2",
   "metadata": {},
   "outputs": [
    {
     "data": {
      "text/plain": [
       "0.0    5596276\n",
       "Name: cancelled, dtype: int64"
      ]
     },
     "execution_count": 23,
     "metadata": {},
     "output_type": "execute_result"
    }
   ],
   "source": [
    "delayed['cancelled'].value_counts()"
   ]
  },
  {
   "cell_type": "code",
   "execution_count": 24,
   "id": "341e8490-e44d-4848-bdef-76df09c3380c",
   "metadata": {},
   "outputs": [
    {
     "data": {
      "text/plain": [
       "0.0    22575180\n",
       "Name: cancelled, dtype: int64"
      ]
     },
     "execution_count": 24,
     "metadata": {},
     "output_type": "execute_result"
    }
   ],
   "source": [
    "ontime['cancelled'].value_counts()"
   ]
  },
  {
   "cell_type": "code",
   "execution_count": 25,
   "id": "8a28f2ce-0822-411c-9267-69afb8cb7d1f",
   "metadata": {},
   "outputs": [
    {
     "data": {
      "text/plain": [
       "0.0    33660330\n",
       "1.0      748900\n",
       "Name: cancelled, dtype: int64"
      ]
     },
     "execution_count": 25,
     "metadata": {},
     "output_type": "execute_result"
    }
   ],
   "source": [
    "all_flights['cancelled'].value_counts()"
   ]
  },
  {
   "cell_type": "markdown",
   "id": "51c9d435-9972-4999-9e21-b136366a85a5",
   "metadata": {},
   "source": [
    "Appears to only be 0, not canceled and 1 as canceled. \n",
    "\n",
    "Note: the column is spelled 'cancelled' in the data set, and canceled in my text. They are equivalent and only a regional difference in spelling. "
   ]
  },
  {
   "cell_type": "code",
   "execution_count": 26,
   "id": "0f3638da-330d-4afb-81c5-3fa5474493d7",
   "metadata": {},
   "outputs": [
    {
     "data": {
      "text/html": [
       "<div>\n",
       "<style scoped>\n",
       "    .dataframe tbody tr th:only-of-type {\n",
       "        vertical-align: middle;\n",
       "    }\n",
       "\n",
       "    .dataframe tbody tr th {\n",
       "        vertical-align: top;\n",
       "    }\n",
       "\n",
       "    .dataframe thead th {\n",
       "        text-align: right;\n",
       "    }\n",
       "</style>\n",
       "<table border=\"1\" class=\"dataframe\">\n",
       "  <thead>\n",
       "    <tr style=\"text-align: right;\">\n",
       "      <th></th>\n",
       "      <th>year</th>\n",
       "      <th>month</th>\n",
       "      <th>day_of_month</th>\n",
       "      <th>day_of_week</th>\n",
       "      <th>fl_date</th>\n",
       "      <th>op_unique_carrier</th>\n",
       "      <th>tail_num</th>\n",
       "      <th>op_carrier_fl_num</th>\n",
       "      <th>origin</th>\n",
       "      <th>origin_city_name</th>\n",
       "      <th>origin_state_nm</th>\n",
       "      <th>dest</th>\n",
       "      <th>dest_city_name</th>\n",
       "      <th>dest_state_nm</th>\n",
       "      <th>crs_dep_time</th>\n",
       "      <th>dep_time</th>\n",
       "      <th>dep_delay</th>\n",
       "      <th>dep_delay_new</th>\n",
       "      <th>crs_arr_time</th>\n",
       "      <th>arr_time</th>\n",
       "      <th>arr_delay</th>\n",
       "      <th>arr_delay_new</th>\n",
       "      <th>cancelled</th>\n",
       "      <th>cancellation_code</th>\n",
       "      <th>diverted</th>\n",
       "      <th>crs_elapsed_time</th>\n",
       "      <th>flights</th>\n",
       "      <th>distance</th>\n",
       "      <th>carrier_delay</th>\n",
       "      <th>weather_delay</th>\n",
       "      <th>nas_delay</th>\n",
       "      <th>security_delay</th>\n",
       "      <th>late_aircraft_delay</th>\n",
       "      <th>unnamed: 33</th>\n",
       "    </tr>\n",
       "  </thead>\n",
       "  <tbody>\n",
       "    <tr>\n",
       "      <th>1638</th>\n",
       "      <td>2020</td>\n",
       "      <td>11</td>\n",
       "      <td>13</td>\n",
       "      <td>5</td>\n",
       "      <td>2020-11-13</td>\n",
       "      <td>AA</td>\n",
       "      <td>N952NN</td>\n",
       "      <td>1895</td>\n",
       "      <td>DFW</td>\n",
       "      <td>Dallas/Fort Worth, TX</td>\n",
       "      <td>Texas</td>\n",
       "      <td>SFO</td>\n",
       "      <td>San Francisco, CA</td>\n",
       "      <td>California</td>\n",
       "      <td>1240</td>\n",
       "      <td>NaN</td>\n",
       "      <td>NaN</td>\n",
       "      <td>NaN</td>\n",
       "      <td>1441</td>\n",
       "      <td>NaN</td>\n",
       "      <td>NaN</td>\n",
       "      <td>NaN</td>\n",
       "      <td>1.0</td>\n",
       "      <td>A</td>\n",
       "      <td>0.0</td>\n",
       "      <td>241.0</td>\n",
       "      <td>1.0</td>\n",
       "      <td>1464.0</td>\n",
       "      <td>NaN</td>\n",
       "      <td>NaN</td>\n",
       "      <td>NaN</td>\n",
       "      <td>NaN</td>\n",
       "      <td>NaN</td>\n",
       "      <td>NaN</td>\n",
       "    </tr>\n",
       "    <tr>\n",
       "      <th>1937</th>\n",
       "      <td>2020</td>\n",
       "      <td>11</td>\n",
       "      <td>11</td>\n",
       "      <td>3</td>\n",
       "      <td>2020-11-11</td>\n",
       "      <td>AA</td>\n",
       "      <td>N711UW</td>\n",
       "      <td>1921</td>\n",
       "      <td>MIA</td>\n",
       "      <td>Miami, FL</td>\n",
       "      <td>Florida</td>\n",
       "      <td>TPA</td>\n",
       "      <td>Tampa, FL</td>\n",
       "      <td>Florida</td>\n",
       "      <td>2115</td>\n",
       "      <td>NaN</td>\n",
       "      <td>NaN</td>\n",
       "      <td>NaN</td>\n",
       "      <td>2216</td>\n",
       "      <td>NaN</td>\n",
       "      <td>NaN</td>\n",
       "      <td>NaN</td>\n",
       "      <td>1.0</td>\n",
       "      <td>B</td>\n",
       "      <td>0.0</td>\n",
       "      <td>61.0</td>\n",
       "      <td>1.0</td>\n",
       "      <td>204.0</td>\n",
       "      <td>NaN</td>\n",
       "      <td>NaN</td>\n",
       "      <td>NaN</td>\n",
       "      <td>NaN</td>\n",
       "      <td>NaN</td>\n",
       "      <td>NaN</td>\n",
       "    </tr>\n",
       "    <tr>\n",
       "      <th>1959</th>\n",
       "      <td>2020</td>\n",
       "      <td>11</td>\n",
       "      <td>11</td>\n",
       "      <td>3</td>\n",
       "      <td>2020-11-11</td>\n",
       "      <td>AA</td>\n",
       "      <td>N725UW</td>\n",
       "      <td>1923</td>\n",
       "      <td>MIA</td>\n",
       "      <td>Miami, FL</td>\n",
       "      <td>Florida</td>\n",
       "      <td>TPA</td>\n",
       "      <td>Tampa, FL</td>\n",
       "      <td>Florida</td>\n",
       "      <td>1830</td>\n",
       "      <td>NaN</td>\n",
       "      <td>NaN</td>\n",
       "      <td>NaN</td>\n",
       "      <td>1930</td>\n",
       "      <td>NaN</td>\n",
       "      <td>NaN</td>\n",
       "      <td>NaN</td>\n",
       "      <td>1.0</td>\n",
       "      <td>B</td>\n",
       "      <td>0.0</td>\n",
       "      <td>60.0</td>\n",
       "      <td>1.0</td>\n",
       "      <td>204.0</td>\n",
       "      <td>NaN</td>\n",
       "      <td>NaN</td>\n",
       "      <td>NaN</td>\n",
       "      <td>NaN</td>\n",
       "      <td>NaN</td>\n",
       "      <td>NaN</td>\n",
       "    </tr>\n",
       "    <tr>\n",
       "      <th>2679</th>\n",
       "      <td>2020</td>\n",
       "      <td>11</td>\n",
       "      <td>11</td>\n",
       "      <td>3</td>\n",
       "      <td>2020-11-11</td>\n",
       "      <td>AA</td>\n",
       "      <td>N997AA</td>\n",
       "      <td>1966</td>\n",
       "      <td>DFW</td>\n",
       "      <td>Dallas/Fort Worth, TX</td>\n",
       "      <td>Texas</td>\n",
       "      <td>TPA</td>\n",
       "      <td>Tampa, FL</td>\n",
       "      <td>Florida</td>\n",
       "      <td>1245</td>\n",
       "      <td>NaN</td>\n",
       "      <td>NaN</td>\n",
       "      <td>NaN</td>\n",
       "      <td>1607</td>\n",
       "      <td>NaN</td>\n",
       "      <td>NaN</td>\n",
       "      <td>NaN</td>\n",
       "      <td>1.0</td>\n",
       "      <td>B</td>\n",
       "      <td>0.0</td>\n",
       "      <td>142.0</td>\n",
       "      <td>1.0</td>\n",
       "      <td>929.0</td>\n",
       "      <td>NaN</td>\n",
       "      <td>NaN</td>\n",
       "      <td>NaN</td>\n",
       "      <td>NaN</td>\n",
       "      <td>NaN</td>\n",
       "      <td>NaN</td>\n",
       "    </tr>\n",
       "    <tr>\n",
       "      <th>2742</th>\n",
       "      <td>2020</td>\n",
       "      <td>11</td>\n",
       "      <td>11</td>\n",
       "      <td>3</td>\n",
       "      <td>2020-11-11</td>\n",
       "      <td>AA</td>\n",
       "      <td>N806NN</td>\n",
       "      <td>1970</td>\n",
       "      <td>DFW</td>\n",
       "      <td>Dallas/Fort Worth, TX</td>\n",
       "      <td>Texas</td>\n",
       "      <td>TPA</td>\n",
       "      <td>Tampa, FL</td>\n",
       "      <td>Florida</td>\n",
       "      <td>1445</td>\n",
       "      <td>NaN</td>\n",
       "      <td>NaN</td>\n",
       "      <td>NaN</td>\n",
       "      <td>1805</td>\n",
       "      <td>NaN</td>\n",
       "      <td>NaN</td>\n",
       "      <td>NaN</td>\n",
       "      <td>1.0</td>\n",
       "      <td>B</td>\n",
       "      <td>0.0</td>\n",
       "      <td>140.0</td>\n",
       "      <td>1.0</td>\n",
       "      <td>929.0</td>\n",
       "      <td>NaN</td>\n",
       "      <td>NaN</td>\n",
       "      <td>NaN</td>\n",
       "      <td>NaN</td>\n",
       "      <td>NaN</td>\n",
       "      <td>NaN</td>\n",
       "    </tr>\n",
       "    <tr>\n",
       "      <th>2838</th>\n",
       "      <td>2020</td>\n",
       "      <td>11</td>\n",
       "      <td>12</td>\n",
       "      <td>4</td>\n",
       "      <td>2020-11-12</td>\n",
       "      <td>AA</td>\n",
       "      <td>N738US</td>\n",
       "      <td>1977</td>\n",
       "      <td>TPA</td>\n",
       "      <td>Tampa, FL</td>\n",
       "      <td>Florida</td>\n",
       "      <td>MIA</td>\n",
       "      <td>Miami, FL</td>\n",
       "      <td>Florida</td>\n",
       "      <td>628</td>\n",
       "      <td>NaN</td>\n",
       "      <td>NaN</td>\n",
       "      <td>NaN</td>\n",
       "      <td>729</td>\n",
       "      <td>NaN</td>\n",
       "      <td>NaN</td>\n",
       "      <td>NaN</td>\n",
       "      <td>1.0</td>\n",
       "      <td>B</td>\n",
       "      <td>0.0</td>\n",
       "      <td>61.0</td>\n",
       "      <td>1.0</td>\n",
       "      <td>204.0</td>\n",
       "      <td>NaN</td>\n",
       "      <td>NaN</td>\n",
       "      <td>NaN</td>\n",
       "      <td>NaN</td>\n",
       "      <td>NaN</td>\n",
       "      <td>NaN</td>\n",
       "    </tr>\n",
       "    <tr>\n",
       "      <th>2862</th>\n",
       "      <td>2020</td>\n",
       "      <td>11</td>\n",
       "      <td>11</td>\n",
       "      <td>3</td>\n",
       "      <td>2020-11-11</td>\n",
       "      <td>AA</td>\n",
       "      <td>N823NN</td>\n",
       "      <td>1978</td>\n",
       "      <td>TPA</td>\n",
       "      <td>Tampa, FL</td>\n",
       "      <td>Florida</td>\n",
       "      <td>DFW</td>\n",
       "      <td>Dallas/Fort Worth, TX</td>\n",
       "      <td>Texas</td>\n",
       "      <td>1217</td>\n",
       "      <td>NaN</td>\n",
       "      <td>NaN</td>\n",
       "      <td>NaN</td>\n",
       "      <td>1412</td>\n",
       "      <td>NaN</td>\n",
       "      <td>NaN</td>\n",
       "      <td>NaN</td>\n",
       "      <td>1.0</td>\n",
       "      <td>B</td>\n",
       "      <td>0.0</td>\n",
       "      <td>175.0</td>\n",
       "      <td>1.0</td>\n",
       "      <td>929.0</td>\n",
       "      <td>NaN</td>\n",
       "      <td>NaN</td>\n",
       "      <td>NaN</td>\n",
       "      <td>NaN</td>\n",
       "      <td>NaN</td>\n",
       "      <td>NaN</td>\n",
       "    </tr>\n",
       "  </tbody>\n",
       "</table>\n",
       "</div>"
      ],
      "text/plain": [
       "      year  month  day_of_month  day_of_week     fl_date op_unique_carrier  \\\n",
       "1638  2020     11            13            5  2020-11-13                AA   \n",
       "1937  2020     11            11            3  2020-11-11                AA   \n",
       "1959  2020     11            11            3  2020-11-11                AA   \n",
       "2679  2020     11            11            3  2020-11-11                AA   \n",
       "2742  2020     11            11            3  2020-11-11                AA   \n",
       "2838  2020     11            12            4  2020-11-12                AA   \n",
       "2862  2020     11            11            3  2020-11-11                AA   \n",
       "\n",
       "     tail_num  op_carrier_fl_num origin       origin_city_name  \\\n",
       "1638   N952NN               1895    DFW  Dallas/Fort Worth, TX   \n",
       "1937   N711UW               1921    MIA              Miami, FL   \n",
       "1959   N725UW               1923    MIA              Miami, FL   \n",
       "2679   N997AA               1966    DFW  Dallas/Fort Worth, TX   \n",
       "2742   N806NN               1970    DFW  Dallas/Fort Worth, TX   \n",
       "2838   N738US               1977    TPA              Tampa, FL   \n",
       "2862   N823NN               1978    TPA              Tampa, FL   \n",
       "\n",
       "     origin_state_nm dest         dest_city_name dest_state_nm  crs_dep_time  \\\n",
       "1638           Texas  SFO      San Francisco, CA    California          1240   \n",
       "1937         Florida  TPA              Tampa, FL       Florida          2115   \n",
       "1959         Florida  TPA              Tampa, FL       Florida          1830   \n",
       "2679           Texas  TPA              Tampa, FL       Florida          1245   \n",
       "2742           Texas  TPA              Tampa, FL       Florida          1445   \n",
       "2838         Florida  MIA              Miami, FL       Florida           628   \n",
       "2862         Florida  DFW  Dallas/Fort Worth, TX         Texas          1217   \n",
       "\n",
       "      dep_time  dep_delay  dep_delay_new  crs_arr_time  arr_time  arr_delay  \\\n",
       "1638       NaN        NaN            NaN          1441       NaN        NaN   \n",
       "1937       NaN        NaN            NaN          2216       NaN        NaN   \n",
       "1959       NaN        NaN            NaN          1930       NaN        NaN   \n",
       "2679       NaN        NaN            NaN          1607       NaN        NaN   \n",
       "2742       NaN        NaN            NaN          1805       NaN        NaN   \n",
       "2838       NaN        NaN            NaN           729       NaN        NaN   \n",
       "2862       NaN        NaN            NaN          1412       NaN        NaN   \n",
       "\n",
       "      arr_delay_new  cancelled cancellation_code  diverted  crs_elapsed_time  \\\n",
       "1638            NaN        1.0                 A       0.0             241.0   \n",
       "1937            NaN        1.0                 B       0.0              61.0   \n",
       "1959            NaN        1.0                 B       0.0              60.0   \n",
       "2679            NaN        1.0                 B       0.0             142.0   \n",
       "2742            NaN        1.0                 B       0.0             140.0   \n",
       "2838            NaN        1.0                 B       0.0              61.0   \n",
       "2862            NaN        1.0                 B       0.0             175.0   \n",
       "\n",
       "      flights  distance  carrier_delay  weather_delay  nas_delay  \\\n",
       "1638      1.0    1464.0            NaN            NaN        NaN   \n",
       "1937      1.0     204.0            NaN            NaN        NaN   \n",
       "1959      1.0     204.0            NaN            NaN        NaN   \n",
       "2679      1.0     929.0            NaN            NaN        NaN   \n",
       "2742      1.0     929.0            NaN            NaN        NaN   \n",
       "2838      1.0     204.0            NaN            NaN        NaN   \n",
       "2862      1.0     929.0            NaN            NaN        NaN   \n",
       "\n",
       "      security_delay  late_aircraft_delay  unnamed: 33  \n",
       "1638             NaN                  NaN          NaN  \n",
       "1937             NaN                  NaN          NaN  \n",
       "1959             NaN                  NaN          NaN  \n",
       "2679             NaN                  NaN          NaN  \n",
       "2742             NaN                  NaN          NaN  \n",
       "2838             NaN                  NaN          NaN  \n",
       "2862             NaN                  NaN          NaN  "
      ]
     },
     "execution_count": 26,
     "metadata": {},
     "output_type": "execute_result"
    }
   ],
   "source": [
    "all_flights[all_flights['cancelled'] == 1].head(7)"
   ]
  },
  {
   "cell_type": "markdown",
   "id": "6e181833-dfb1-48b5-92da-7b10e580ab59",
   "metadata": {},
   "source": [
    "It is the case that how cancelled flights are recorded, our filtering at the outset necissarily excluded all flight cancellations. Since a canceled flight is a kind of deviation from your itinerary, it would make sense to include the data in our examination. lets take a similar sample and use it in our data. "
   ]
  },
  {
   "cell_type": "code",
   "execution_count": 27,
   "id": "7218a44b-e731-4e76-8012-bdc8575cf67b",
   "metadata": {},
   "outputs": [
    {
     "data": {
      "text/plain": [
       "0.0    0.978235\n",
       "1.0    0.021765\n",
       "Name: cancelled, dtype: float64"
      ]
     },
     "execution_count": 27,
     "metadata": {},
     "output_type": "execute_result"
    }
   ],
   "source": [
    "#Check the proportion of delayed flights in the population.\n",
    "all_flights['cancelled'].value_counts(normalize=True)"
   ]
  },
  {
   "cell_type": "code",
   "execution_count": 28,
   "id": "f65a2eef-e48b-4ca9-8f05-92a13801d409",
   "metadata": {},
   "outputs": [],
   "source": [
    "#get n for the similar proportion of that to our sample data\n",
    "cx_num = int(0.021765*sample.shape[0])"
   ]
  },
  {
   "cell_type": "code",
   "execution_count": 29,
   "id": "4bbfc6d4-098a-481e-97f3-c97cb1efc9e6",
   "metadata": {},
   "outputs": [],
   "source": [
    "cx_sample = all_flights[(all_flights['cancelled']==1) & \n",
    "                        (all_flights['op_unique_carrier'].notnull()) &\n",
    "                       (all_flights['tail_num'].notnull())\n",
    "                       ].sample(n= cx_num, random_state = 42)"
   ]
  },
  {
   "cell_type": "code",
   "execution_count": 30,
   "id": "30f2ab8d-71d7-4376-97e3-265ca075c63a",
   "metadata": {},
   "outputs": [
    {
     "data": {
      "text/plain": [
       "(60901, 34)"
      ]
     },
     "execution_count": 30,
     "metadata": {},
     "output_type": "execute_result"
    }
   ],
   "source": [
    "cx_sample.shape"
   ]
  },
  {
   "cell_type": "code",
   "execution_count": 31,
   "id": "15501d27-e6f0-4bab-a4f2-2ae78b401483",
   "metadata": {},
   "outputs": [
    {
     "data": {
      "text/plain": [
       "year                       0\n",
       "month                      0\n",
       "day_of_month               0\n",
       "day_of_week                0\n",
       "fl_date                    0\n",
       "op_unique_carrier          0\n",
       "tail_num                   0\n",
       "op_carrier_fl_num          0\n",
       "origin                     0\n",
       "origin_city_name           0\n",
       "origin_state_nm            0\n",
       "dest                       0\n",
       "dest_city_name             0\n",
       "dest_state_nm              0\n",
       "crs_dep_time               0\n",
       "dep_time               59006\n",
       "dep_delay              59051\n",
       "dep_delay_new          59051\n",
       "crs_arr_time               0\n",
       "arr_time               60901\n",
       "arr_delay              60901\n",
       "arr_delay_new          60901\n",
       "cancelled                  0\n",
       "cancellation_code          0\n",
       "diverted                   0\n",
       "crs_elapsed_time           4\n",
       "flights                    0\n",
       "distance                   0\n",
       "carrier_delay          60901\n",
       "weather_delay          60901\n",
       "nas_delay              60901\n",
       "security_delay         60901\n",
       "late_aircraft_delay    60901\n",
       "unnamed: 33            60901\n",
       "dtype: int64"
      ]
     },
     "execution_count": 31,
     "metadata": {},
     "output_type": "execute_result"
    }
   ],
   "source": [
    "cx_sample.isnull().sum()"
   ]
  },
  {
   "cell_type": "markdown",
   "id": "a80ea9fa-6555-4fef-8626-fd52a3059555",
   "metadata": {},
   "source": [
    "Having `NaN` values in the arrival and departure columns makes sense since these flights did not operate. Note how they have some flights that had commenced (departed but not necessarily left the origin) while none of the flights have an arrival time. I think that we should keep our new canceled flight cohort and continue on. "
   ]
  },
  {
   "cell_type": "code",
   "execution_count": 32,
   "id": "85ccbdac-a488-43f7-8c70-4c34db26ea22",
   "metadata": {},
   "outputs": [],
   "source": [
    "sample = sample.append(cx_sample, ignore_index = True)"
   ]
  },
  {
   "cell_type": "markdown",
   "id": "17513217-f84f-4a0b-806e-ab1a667a87e5",
   "metadata": {},
   "source": [
    "#### Save a new sample\n",
    "----"
   ]
  },
  {
   "cell_type": "code",
   "execution_count": 33,
   "id": "ca480cbb-16be-402f-abe0-8829f8e33714",
   "metadata": {},
   "outputs": [],
   "source": [
    "# save this to CSV for further processing. \n",
    "sample.to_csv('sample.csv', index = False)"
   ]
  },
  {
   "cell_type": "markdown",
   "id": "709fc971-ab77-42ad-960c-8a19be047cd5",
   "metadata": {},
   "source": [
    "#### Load existing sample. \n",
    "----"
   ]
  },
  {
   "cell_type": "code",
   "execution_count": 4,
   "id": "40aa8f2b-8530-401e-95eb-3cc2e2921f64",
   "metadata": {},
   "outputs": [],
   "source": [
    "#this is to load the dataset if adjustments need to be made. \n",
    "sample = pd.read_csv('sample.csv')"
   ]
  },
  {
   "cell_type": "markdown",
   "id": "de90eb92-7c6e-4574-8674-f90573dd6dd5",
   "metadata": {
    "tags": []
   },
   "source": [
    "## 2. Cleaning\n",
    "---\n",
    "Thankfully, the data that came to us from _BTS_ was mostly cleaned and ready to use. However, there are certain categorical columns that need to be adjusted to be human readable in  **EDA** section that follows **cleaning**\n"
   ]
  },
  {
   "cell_type": "markdown",
   "id": "5a2db0b1-2904-4bf7-b7bc-7417485e6ab3",
   "metadata": {
    "jp-MarkdownHeadingCollapsed": true,
    "tags": []
   },
   "source": [
    "### Changing time to categorical labels.\n",
    "This project will not be conducting a full time series analysis for the purpose of classification. \n",
    "For now we will change:\n",
    "* `month` to human readable months. \n",
    "> _12 --> Dec_\n",
    "* `day_of_the_week` will go from numeric encoding to three-letter abbreviation for days of the week.\n",
    "> _1 --> Mon_ \n",
    "* `op_unique_carrier` will go from two-letter call sign to the regular entity name.\n",
    "> _AS --> Alaska Airlines_"
   ]
  },
  {
   "cell_type": "markdown",
   "id": "fbdf3530-e539-4982-9c2c-0ee1fca91d06",
   "metadata": {
    "tags": []
   },
   "source": [
    "### Clean: `month`\n",
    "Month is encoded by the month's number in a calendar year as noted above. \n",
    "The following steps decode from number to standard 3-letter abbreviation. "
   ]
  },
  {
   "cell_type": "code",
   "execution_count": 34,
   "id": "7b35fb17-dd47-47b5-a243-a97a34c15420",
   "metadata": {},
   "outputs": [
    {
     "data": {
      "text/plain": [
       "array([ 9,  2,  5, 12,  7, 11,  3,  4,  6,  1,  8, 10])"
      ]
     },
     "execution_count": 34,
     "metadata": {},
     "output_type": "execute_result"
    }
   ],
   "source": [
    "sample['month'].unique()"
   ]
  },
  {
   "cell_type": "code",
   "execution_count": 35,
   "id": "9b900863-46c9-47fc-b771-c88abb263de3",
   "metadata": {},
   "outputs": [],
   "source": [
    "months = {1 : 'Jan', 2: 'Feb', 3 : 'Mar',\n",
    "         4: 'Apr', 5: 'May', 6: 'Jun',\n",
    "         7: 'Jul', 8:'Aug', 9 : 'Sep',\n",
    "         10 : 'Oct', 11:'Nov', 12: 'Dec'}"
   ]
  },
  {
   "cell_type": "code",
   "execution_count": 36,
   "id": "54e22c42-832e-4ab2-bb09-c24df544c562",
   "metadata": {},
   "outputs": [
    {
     "data": {
      "text/plain": [
       "array(['Sep', 'Feb', 'May', 'Dec', 'Jul', 'Nov', 'Mar', 'Apr', 'Jun',\n",
       "       'Jan', 'Aug', 'Oct'], dtype=object)"
      ]
     },
     "execution_count": 36,
     "metadata": {},
     "output_type": "execute_result"
    }
   ],
   "source": [
    "sample['month'] = sample['month'].apply(lambda x: months[x])\n",
    "sample['month'].unique()"
   ]
  },
  {
   "cell_type": "code",
   "execution_count": 37,
   "id": "be5467f2-7160-4332-aaa4-04af263ed53a",
   "metadata": {},
   "outputs": [
    {
     "data": {
      "text/plain": [
       "Index(['year', 'month', 'day_of_month', 'day_of_week', 'fl_date',\n",
       "       'op_unique_carrier', 'tail_num', 'op_carrier_fl_num', 'origin',\n",
       "       'origin_city_name', 'origin_state_nm', 'dest', 'dest_city_name',\n",
       "       'dest_state_nm', 'crs_dep_time', 'dep_time', 'dep_delay',\n",
       "       'dep_delay_new', 'crs_arr_time', 'arr_time', 'arr_delay',\n",
       "       'arr_delay_new', 'cancelled', 'cancellation_code', 'diverted',\n",
       "       'crs_elapsed_time', 'flights', 'distance', 'carrier_delay',\n",
       "       'weather_delay', 'nas_delay', 'security_delay', 'late_aircraft_delay',\n",
       "       'unnamed: 33'],\n",
       "      dtype='object')"
      ]
     },
     "execution_count": 37,
     "metadata": {},
     "output_type": "execute_result"
    }
   ],
   "source": [
    "sample.columns"
   ]
  },
  {
   "cell_type": "markdown",
   "id": "dee6c383-0dac-4191-a4c0-3162d4718af2",
   "metadata": {
    "tags": []
   },
   "source": [
    "### Clean: `day_of_week`\n",
    "This column is encoded by the day's number as it falls on the week. 1 = Monday and 7 = Sunday. \n",
    "The data dictionary indicates that there is an `unknown` option encoded with `9`. \n",
    "I will update the `sample` dataframe to remove all `9` from the frame and then proceed to relabel `day_of_the_week` with a three-letter abbreviation used in the United States as noted above. "
   ]
  },
  {
   "cell_type": "code",
   "execution_count": 38,
   "id": "e58b1cf9-78b2-4579-92f0-4f5556d50e26",
   "metadata": {},
   "outputs": [],
   "source": [
    "sample = sample[sample['day_of_week'] != 9].copy()"
   ]
  },
  {
   "cell_type": "code",
   "execution_count": 39,
   "id": "be0acc30-ba67-4125-9650-cd01176d2f72",
   "metadata": {},
   "outputs": [],
   "source": [
    "days = { 1: 'Mon', 2: 'Tue', 3:'Wed', 4: 'Thu', 5: 'Fri', 6: 'Sat', 7: 'Sun'}"
   ]
  },
  {
   "cell_type": "code",
   "execution_count": 40,
   "id": "1c8c0105-cff6-4928-816f-deed8037679b",
   "metadata": {},
   "outputs": [
    {
     "data": {
      "text/plain": [
       "array(['Fri', 'Sun', 'Wed', 'Mon', 'Thu', 'Tue', 'Sat'], dtype=object)"
      ]
     },
     "execution_count": 40,
     "metadata": {},
     "output_type": "execute_result"
    }
   ],
   "source": [
    "sample['day_of_week'] = sample['day_of_week'].apply(lambda x: days[x])\n",
    "sample['day_of_week'].unique()"
   ]
  },
  {
   "cell_type": "markdown",
   "id": "80571f1c-6446-4d9d-9390-e2ac979a8520",
   "metadata": {
    "tags": []
   },
   "source": [
    "### Clean: `op_unique_carrier`\n",
    "---\n",
    "#### Airline specific performance. \n",
    "----\n",
    "Distilling the dataset to its component airlines have already been done for us but the DOT. \n",
    "<br>\n",
    "However we need to get some definitions out of the way here to help us make sense of what we are looking at. \n",
    "\n",
    "#### Dealing with subsidiary airlines and codeshare flights. \n",
    "---\n",
    "Since the dawn of deregulation, airlines have been free to form marketing partnerships often advertising another airline's flight and then taking a share of the revenue from the ticket sale. \n",
    "<br><br>\n",
    "For this project, we are only analyzing an operating carrier. That is, an operating carrier is the airline that flies the plane, not the airline (or entity) that sold the ticket. \n",
    "<br> <br>\n",
    "The data comes from BTS in by listing the operating carrier only. This is ideal since each operating carrier has their own personnel that are responsible for the marketing and operation of a particular flight. In other words, we can measure a delay and attribute exact delay times (as required by DOT) on the reason for the delay. \n",
    "<br> <br>\n",
    "Even subsidiary airlines are listed independently of the parent airline since the parent and subsidiary do not share operational control of that particular flight. \n",
    "<br><br>\n",
    "There are more than a few airlines on our dataset that are wholly-owned subsidiary airlines that have their own operational certificate from their aviation governing body. These are indeed separate airlines, however, it is not readily apparent to the average leisure customer. \n",
    "\n",
    "First job in this EDA series is to decode the airline designators (two letter designations EG AA = American Airlines, WN = Southwest Airlines) and convert the category column to their commonly know name. "
   ]
  },
  {
   "cell_type": "code",
   "execution_count": 41,
   "id": "2be6bdab-b086-4e58-80c0-a7eb57359549",
   "metadata": {},
   "outputs": [],
   "source": [
    "airlines = {}\n",
    "for airline in sample['op_unique_carrier'].unique():\n",
    "    airlines[airline] = 0"
   ]
  },
  {
   "cell_type": "code",
   "execution_count": 42,
   "id": "ffd02570-169f-495c-a1dc-33d85af8319a",
   "metadata": {},
   "outputs": [
    {
     "data": {
      "text/plain": [
       "{'WN': 0,\n",
       " 'AA': 0,\n",
       " 'OO': 0,\n",
       " 'DL': 0,\n",
       " 'OH': 0,\n",
       " 'AS': 0,\n",
       " 'MQ': 0,\n",
       " 'UA': 0,\n",
       " 'VX': 0,\n",
       " 'F9': 0,\n",
       " 'HA': 0,\n",
       " 'B6': 0,\n",
       " '9E': 0,\n",
       " 'EV': 0,\n",
       " 'YX': 0,\n",
       " 'YV': 0,\n",
       " 'QX': 0,\n",
       " 'NK': 0,\n",
       " 'G4': 0}"
      ]
     },
     "execution_count": 42,
     "metadata": {},
     "output_type": "execute_result"
    }
   ],
   "source": [
    "airlines"
   ]
  },
  {
   "cell_type": "code",
   "execution_count": 43,
   "id": "17d34827-0f37-42fc-ba04-649a999f21cc",
   "metadata": {},
   "outputs": [],
   "source": [
    "#grouped in chunks to keep code clean. 1 of 3\n",
    "airlines['UA'] ='United Airlines'\n",
    "airlines['9E'] ='Endeavor Air'\n",
    "airlines['MQ'] ='Envoy Air'\n",
    "airlines['OO'] ='Skywest Airlines'\n",
    "airlines['F9'] ='Frontier Airlines'\n",
    "airlines['DL'] ='Delta Airlines'\n",
    "airlines['AA'] ='American Airlines'\n"
   ]
  },
  {
   "cell_type": "code",
   "execution_count": 44,
   "id": "70f61dd4-45ca-449b-8feb-8845b144a24a",
   "metadata": {},
   "outputs": [],
   "source": [
    "#group 2 of 3\n",
    "airlines['OH'] ='PSA Airlines'\n",
    "airlines['G4'] ='Allegiant Air'\n",
    "airlines['YV'] ='Mesa Air'\n",
    "airlines['WN'] ='Southwest Airlines'\n",
    "airlines['YX'] ='Republic Airways'\n",
    "airlines['AS'] ='Alaska Airlines'\n",
    "airlines['EV'] ='ExpressJet'"
   ]
  },
  {
   "cell_type": "code",
   "execution_count": 45,
   "id": "2ab9641d-431a-4ff3-b43e-8be32c432c86",
   "metadata": {},
   "outputs": [],
   "source": [
    "#group 3 of 3\n",
    "airlines['B6'] ='JetBlue'\n",
    "airlines['NK'] ='Spirit Airlines'\n",
    "airlines['HA'] ='Hawaiian Airlines'\n",
    "airlines['VX'] ='Virgin America'\n",
    "airlines['QX'] ='Horizon Air'\n"
   ]
  },
  {
   "cell_type": "code",
   "execution_count": 46,
   "id": "aecfc353-cc79-410f-85bc-9f5869710da6",
   "metadata": {},
   "outputs": [
    {
     "data": {
      "text/plain": [
       "{'WN': 'Southwest Airlines',\n",
       " 'AA': 'American Airlines',\n",
       " 'OO': 'Skywest Airlines',\n",
       " 'DL': 'Delta Airlines',\n",
       " 'OH': 'PSA Airlines',\n",
       " 'AS': 'Alaska Airlines',\n",
       " 'MQ': 'Envoy Air',\n",
       " 'UA': 'United Airlines',\n",
       " 'VX': 'Virgin America',\n",
       " 'F9': 'Frontier Airlines',\n",
       " 'HA': 'Hawaiian Airlines',\n",
       " 'B6': 'JetBlue',\n",
       " '9E': 'Endeavor Air',\n",
       " 'EV': 'ExpressJet',\n",
       " 'YX': 'Republic Airways',\n",
       " 'YV': 'Mesa Air',\n",
       " 'QX': 'Horizon Air',\n",
       " 'NK': 'Spirit Airlines',\n",
       " 'G4': 'Allegiant Air'}"
      ]
     },
     "execution_count": 46,
     "metadata": {},
     "output_type": "execute_result"
    }
   ],
   "source": [
    "airlines"
   ]
  },
  {
   "cell_type": "code",
   "execution_count": 47,
   "id": "33b1401e-111f-4fdd-85c8-aeb6af316f98",
   "metadata": {},
   "outputs": [],
   "source": [
    "sample['op_unique_carrier'] = sample['op_unique_carrier'].apply(lambda x: airlines[x])"
   ]
  },
  {
   "cell_type": "code",
   "execution_count": 48,
   "id": "8c826adf-c5bc-466e-9618-7303f3222b1f",
   "metadata": {},
   "outputs": [],
   "source": [
    "#rename the column _op_unique_carrier_ to _airline_\n",
    "sample = sample.rename({'op_unique_carrier': 'airline'}, axis=1)"
   ]
  },
  {
   "cell_type": "code",
   "execution_count": 49,
   "id": "4e29eb4c-4355-491b-95b4-0c3d4eaeef5e",
   "metadata": {},
   "outputs": [
    {
     "data": {
      "text/plain": [
       "True"
      ]
     },
     "execution_count": 49,
     "metadata": {},
     "output_type": "execute_result"
    }
   ],
   "source": [
    "'airline' in sample.columns"
   ]
  },
  {
   "cell_type": "code",
   "execution_count": 50,
   "id": "41181e5e-4208-478b-a732-028db27567a8",
   "metadata": {},
   "outputs": [],
   "source": [
    "# save this to CSV for further processing. \n",
    "sample.to_csv('sample.csv', index = False)"
   ]
  },
  {
   "cell_type": "markdown",
   "id": "81617178-1820-4574-96a2-ec3b9dbf3bf8",
   "metadata": {
    "tags": []
   },
   "source": [
    "#### Clean: Dealing with airlines that no longer operate. \n",
    "---\n",
    "There are 19 airlines and not all of them were in business during the sample period available. \n",
    "One such example is Virgin America ('VX'). \n",
    "\n",
    "VX was acquired by Alaska Airlines in 2017 and stoped operating under it's callsign in 2018. \n",
    "During the merger, many departments and personnel were moved from San Francisco to Seattle where Alaska Airlines is headquartered. \n",
    "\n",
    "For the purpose of this analysis, airlines not in operation in 2021 were removed from the airline performance analysis. "
   ]
  },
  {
   "cell_type": "code",
   "execution_count": 51,
   "id": "fe4ec29c-8e02-41d0-b670-68d61eaf1c86",
   "metadata": {},
   "outputs": [
    {
     "data": {
      "text/plain": [
       "['Virgin America', 'ExpressJet']"
      ]
     },
     "execution_count": 51,
     "metadata": {},
     "output_type": "execute_result"
    }
   ],
   "source": [
    "[airline for airline in sample['airline'].unique() if airline not in sample[sample['year']==2021]['airline'].unique()]"
   ]
  },
  {
   "cell_type": "code",
   "execution_count": 52,
   "id": "89308822-7019-4ba1-9a8f-03d89d9f798c",
   "metadata": {},
   "outputs": [
    {
     "name": "stdout",
     "output_type": "stream",
     "text": [
      "0.03795471135580872\n"
     ]
    }
   ],
   "source": [
    "print(sample[sample['airline']== 'ExpressJet']['year'].value_counts().sum()/sample.shape[0])"
   ]
  },
  {
   "cell_type": "code",
   "execution_count": 53,
   "id": "a43af683-4964-4e87-81f1-9b8389da89bd",
   "metadata": {},
   "outputs": [
    {
     "name": "stdout",
     "output_type": "stream",
     "text": [
      "0.005200698556403043\n"
     ]
    }
   ],
   "source": [
    "print(sample[sample['airline']== 'Virgin America']['year'].value_counts().sum()/sample.shape[0])"
   ]
  },
  {
   "cell_type": "code",
   "execution_count": 54,
   "id": "09b104d6-aa17-4e0e-9da5-4cc401f42111",
   "metadata": {},
   "outputs": [],
   "source": [
    "sample = sample[sample['airline'] != 'ExpressJet'].copy()"
   ]
  },
  {
   "cell_type": "code",
   "execution_count": 55,
   "id": "f0b44550-d85a-4b5b-9f38-fbe5d5438aad",
   "metadata": {},
   "outputs": [],
   "source": [
    "#update sample dataframe\n",
    "sample = sample[sample['airline'] != 'Virgin America'].copy()"
   ]
  },
  {
   "cell_type": "code",
   "execution_count": 56,
   "id": "74c7492c-4ada-472d-81a9-2b3eb9707ce8",
   "metadata": {},
   "outputs": [],
   "source": [
    "# save this to CSV for further processing. \n",
    "sample.to_csv('sample.csv', index = False)"
   ]
  },
  {
   "cell_type": "markdown",
   "id": "b2300681-f508-4922-8487-346ed106f9a3",
   "metadata": {
    "tags": []
   },
   "source": [
    "### Clean: Arrival Delays `arr_delay` & `dep_delay`\n",
    "---\n",
    "We are using `arr_delay` to measure a flight delay because _DOT_ has already calculated for us the difference between scheduled arrival (`crs_arr_time`) and actual arrival (`arr_time`).\n",
    "The same method is true for the departure variables as well. `dep_delay`, `dep_time` and `crs_dep_time`.\n",
    "\n",
    "In the commercial aviation industry, `arr_time` is recorded when the aircraft is parked at the gate with their brakes armed, and main cabin door is open. This is advantageous for us since all late arrivals will have a positive value and all early arrivals a negative value. \n",
    "\n",
    "Similarly, on departure the `dep_time` is recorded when the main cabin door is shut, and the brakes are off. \n",
    "\n",
    "There are many other timing events that occur during taxi, however we are using the final stopping time as our valid time because this is the time when a passenger is allowed off of the aircraft.\n",
    "\n",
    "To clean this column, I will bring all early arriving aircraft to 0"
   ]
  },
  {
   "cell_type": "code",
   "execution_count": 57,
   "id": "14834a6d-7f42-4add-8e29-08484fe2260b",
   "metadata": {},
   "outputs": [
    {
     "data": {
      "text/html": [
       "<div>\n",
       "<style scoped>\n",
       "    .dataframe tbody tr th:only-of-type {\n",
       "        vertical-align: middle;\n",
       "    }\n",
       "\n",
       "    .dataframe tbody tr th {\n",
       "        vertical-align: top;\n",
       "    }\n",
       "\n",
       "    .dataframe thead th {\n",
       "        text-align: right;\n",
       "    }\n",
       "</style>\n",
       "<table border=\"1\" class=\"dataframe\">\n",
       "  <thead>\n",
       "    <tr style=\"text-align: right;\">\n",
       "      <th></th>\n",
       "      <th>dep_delay</th>\n",
       "      <th>arr_delay</th>\n",
       "    </tr>\n",
       "  </thead>\n",
       "  <tbody>\n",
       "    <tr>\n",
       "      <th>count</th>\n",
       "      <td>2.680731e+06</td>\n",
       "      <td>2.679229e+06</td>\n",
       "    </tr>\n",
       "    <tr>\n",
       "      <th>mean</th>\n",
       "      <td>2.928485e+01</td>\n",
       "      <td>2.643576e+01</td>\n",
       "    </tr>\n",
       "    <tr>\n",
       "      <th>std</th>\n",
       "      <td>7.041687e+01</td>\n",
       "      <td>7.229357e+01</td>\n",
       "    </tr>\n",
       "    <tr>\n",
       "      <th>min</th>\n",
       "      <td>-1.140000e+02</td>\n",
       "      <td>-1.140000e+02</td>\n",
       "    </tr>\n",
       "    <tr>\n",
       "      <th>25%</th>\n",
       "      <td>-4.000000e+00</td>\n",
       "      <td>-1.200000e+01</td>\n",
       "    </tr>\n",
       "    <tr>\n",
       "      <th>50%</th>\n",
       "      <td>1.000000e+00</td>\n",
       "      <td>0.000000e+00</td>\n",
       "    </tr>\n",
       "    <tr>\n",
       "      <th>75%</th>\n",
       "      <td>4.000000e+01</td>\n",
       "      <td>4.000000e+01</td>\n",
       "    </tr>\n",
       "    <tr>\n",
       "      <th>max</th>\n",
       "      <td>3.890000e+03</td>\n",
       "      <td>3.864000e+03</td>\n",
       "    </tr>\n",
       "  </tbody>\n",
       "</table>\n",
       "</div>"
      ],
      "text/plain": [
       "          dep_delay     arr_delay\n",
       "count  2.680731e+06  2.679229e+06\n",
       "mean   2.928485e+01  2.643576e+01\n",
       "std    7.041687e+01  7.229357e+01\n",
       "min   -1.140000e+02 -1.140000e+02\n",
       "25%   -4.000000e+00 -1.200000e+01\n",
       "50%    1.000000e+00  0.000000e+00\n",
       "75%    4.000000e+01  4.000000e+01\n",
       "max    3.890000e+03  3.864000e+03"
      ]
     },
     "execution_count": 57,
     "metadata": {},
     "output_type": "execute_result"
    }
   ],
   "source": [
    "sample[['dep_delay','arr_delay']].describe()"
   ]
  },
  {
   "cell_type": "code",
   "execution_count": 58,
   "id": "b1ecfc9a-d17b-43c8-9598-3a0409e92dba",
   "metadata": {},
   "outputs": [],
   "source": [
    "#adjust negative arrival and departures time (an early arrival) to 0\n",
    "sample['arr_delay'] = sample['arr_delay'].apply(lambda x: x if x >= 0 else 0)\n",
    "sample['dep_delay'] =sample['dep_delay'].apply(lambda x: x if x>= 0 else 0)"
   ]
  },
  {
   "cell_type": "code",
   "execution_count": 59,
   "id": "95ad134b-db31-4d50-be1c-7c109ae29537",
   "metadata": {},
   "outputs": [
    {
     "data": {
      "text/html": [
       "<div>\n",
       "<style scoped>\n",
       "    .dataframe tbody tr th:only-of-type {\n",
       "        vertical-align: middle;\n",
       "    }\n",
       "\n",
       "    .dataframe tbody tr th {\n",
       "        vertical-align: top;\n",
       "    }\n",
       "\n",
       "    .dataframe thead th {\n",
       "        text-align: right;\n",
       "    }\n",
       "</style>\n",
       "<table border=\"1\" class=\"dataframe\">\n",
       "  <thead>\n",
       "    <tr style=\"text-align: right;\">\n",
       "      <th></th>\n",
       "      <th>dep_delay</th>\n",
       "      <th>arr_delay</th>\n",
       "    </tr>\n",
       "  </thead>\n",
       "  <tbody>\n",
       "    <tr>\n",
       "      <th>count</th>\n",
       "      <td>2.735656e+06</td>\n",
       "      <td>2.735656e+06</td>\n",
       "    </tr>\n",
       "    <tr>\n",
       "      <th>mean</th>\n",
       "      <td>3.106419e+01</td>\n",
       "      <td>3.249996e+01</td>\n",
       "    </tr>\n",
       "    <tr>\n",
       "      <th>std</th>\n",
       "      <td>6.867892e+01</td>\n",
       "      <td>6.796219e+01</td>\n",
       "    </tr>\n",
       "    <tr>\n",
       "      <th>min</th>\n",
       "      <td>0.000000e+00</td>\n",
       "      <td>0.000000e+00</td>\n",
       "    </tr>\n",
       "    <tr>\n",
       "      <th>25%</th>\n",
       "      <td>0.000000e+00</td>\n",
       "      <td>0.000000e+00</td>\n",
       "    </tr>\n",
       "    <tr>\n",
       "      <th>50%</th>\n",
       "      <td>0.000000e+00</td>\n",
       "      <td>0.000000e+00</td>\n",
       "    </tr>\n",
       "    <tr>\n",
       "      <th>75%</th>\n",
       "      <td>3.900000e+01</td>\n",
       "      <td>3.900000e+01</td>\n",
       "    </tr>\n",
       "    <tr>\n",
       "      <th>max</th>\n",
       "      <td>3.890000e+03</td>\n",
       "      <td>3.864000e+03</td>\n",
       "    </tr>\n",
       "  </tbody>\n",
       "</table>\n",
       "</div>"
      ],
      "text/plain": [
       "          dep_delay     arr_delay\n",
       "count  2.735656e+06  2.735656e+06\n",
       "mean   3.106419e+01  3.249996e+01\n",
       "std    6.867892e+01  6.796219e+01\n",
       "min    0.000000e+00  0.000000e+00\n",
       "25%    0.000000e+00  0.000000e+00\n",
       "50%    0.000000e+00  0.000000e+00\n",
       "75%    3.900000e+01  3.900000e+01\n",
       "max    3.890000e+03  3.864000e+03"
      ]
     },
     "execution_count": 59,
     "metadata": {},
     "output_type": "execute_result"
    }
   ],
   "source": [
    "sample[['dep_delay','arr_delay']].describe()"
   ]
  },
  {
   "cell_type": "markdown",
   "id": "78c8d5de-2f6f-49fd-be8c-539b00408c09",
   "metadata": {
    "tags": []
   },
   "source": [
    "### Clean: Null delay attribution values.\n",
    "---\n",
    "These are no problem. They simply represent rows when there was no arrival delay. I am handling this by filling the NaN with 0 values. "
   ]
  },
  {
   "cell_type": "code",
   "execution_count": 344,
   "id": "dba4a7f8-5daf-43a8-a301-9ae0eca3d2d2",
   "metadata": {},
   "outputs": [
    {
     "data": {
      "text/plain": [
       "year                         0\n",
       "arr_delay                    0\n",
       "carrier_delay          1453957\n",
       "weather_delay          1453957\n",
       "nas_delay              1453957\n",
       "security_delay         1453957\n",
       "late_aircraft_delay    1453957\n",
       "dtype: int64"
      ]
     },
     "execution_count": 344,
     "metadata": {},
     "output_type": "execute_result"
    }
   ],
   "source": [
    "sample[['year','arr_delay','carrier_delay','weather_delay','nas_delay','security_delay','late_aircraft_delay']].isnull().sum()"
   ]
  },
  {
   "cell_type": "code",
   "execution_count": 60,
   "id": "bc41b9b6-c24b-4c72-81b4-0fa84e7924ec",
   "metadata": {},
   "outputs": [],
   "source": [
    "sample[['year','arr_delay','carrier_delay','weather_delay','nas_delay','security_delay','late_aircraft_delay']]= sample[['year','arr_delay','carrier_delay','weather_delay','nas_delay','security_delay','late_aircraft_delay']].fillna(0)"
   ]
  },
  {
   "cell_type": "code",
   "execution_count": 61,
   "id": "599e76c0-d9bb-4ad0-9b7c-f8cd075f24f4",
   "metadata": {},
   "outputs": [
    {
     "data": {
      "text/plain": [
       "year                   0\n",
       "arr_delay              0\n",
       "carrier_delay          0\n",
       "weather_delay          0\n",
       "nas_delay              0\n",
       "security_delay         0\n",
       "late_aircraft_delay    0\n",
       "dtype: int64"
      ]
     },
     "execution_count": 61,
     "metadata": {},
     "output_type": "execute_result"
    }
   ],
   "source": [
    "sample[['year','arr_delay','carrier_delay','weather_delay','nas_delay','security_delay','late_aircraft_delay']].isnull().sum()"
   ]
  },
  {
   "cell_type": "markdown",
   "id": "a11e5960-0b58-47af-b63e-31836c906783",
   "metadata": {
    "tags": []
   },
   "source": [
    "### Clean: Canceled flights.\n",
    "---\n",
    "Since we explicitly captured a few canceled flight instances, lets have a look and see if any data needs to be cleaned."
   ]
  },
  {
   "cell_type": "markdown",
   "id": "47d27d8d-e960-46d3-87bb-429f77e804e7",
   "metadata": {},
   "source": [
    "Now that the flights that have been canceled have been added to the data, I need to adjust the values in the `arr_delay` column so that we can resolved the `NaN` issue and limit counting/statistical impact a flight cancellation would have on the measurements in this columns. "
   ]
  },
  {
   "cell_type": "code",
   "execution_count": 63,
   "id": "43cab5ad-9e1f-4bd1-aff3-d34c5582c2b6",
   "metadata": {},
   "outputs": [
    {
     "data": {
      "text/plain": [
       "year                         0\n",
       "month                        0\n",
       "day_of_month                 0\n",
       "day_of_week                  0\n",
       "fl_date                      0\n",
       "airline                      0\n",
       "tail_num                     0\n",
       "op_carrier_fl_num            0\n",
       "origin                       0\n",
       "origin_city_name             0\n",
       "origin_state_nm              0\n",
       "dest                         0\n",
       "dest_city_name               0\n",
       "dest_state_nm                0\n",
       "crs_dep_time                 0\n",
       "dep_time                 54619\n",
       "dep_delay                    0\n",
       "dep_delay_new            54925\n",
       "crs_arr_time                 0\n",
       "arr_time                 56427\n",
       "arr_delay                    0\n",
       "arr_delay_new            56427\n",
       "cancelled                    0\n",
       "cancellation_code      2679229\n",
       "diverted                     0\n",
       "crs_elapsed_time             4\n",
       "flights                      0\n",
       "distance                     0\n",
       "carrier_delay                0\n",
       "weather_delay                0\n",
       "nas_delay                    0\n",
       "security_delay               0\n",
       "late_aircraft_delay          0\n",
       "unnamed: 33            2735656\n",
       "dtype: int64"
      ]
     },
     "execution_count": 63,
     "metadata": {},
     "output_type": "execute_result"
    }
   ],
   "source": [
    "sample.isnull().sum()"
   ]
  },
  {
   "cell_type": "code",
   "execution_count": 64,
   "id": "66d0321c-45ca-46ab-b25d-e39f767069c7",
   "metadata": {},
   "outputs": [
    {
     "data": {
      "text/plain": [
       "dep_delay  arr_delay\n",
       "0.0        0.0          55280\n",
       "1.0        0.0             24\n",
       "2.0        0.0             21\n",
       "12.0       0.0             19\n",
       "3.0        0.0             19\n",
       "                        ...  \n",
       "218.0      0.0              1\n",
       "217.0      0.0              1\n",
       "216.0      0.0              1\n",
       "215.0      0.0              1\n",
       "1111.0     0.0              1\n",
       "Length: 300, dtype: int64"
      ]
     },
     "execution_count": 64,
     "metadata": {},
     "output_type": "execute_result"
    }
   ],
   "source": [
    "sample[sample['cancelled']==1][['dep_delay', 'arr_delay']].value_counts()"
   ]
  },
  {
   "cell_type": "markdown",
   "id": "6dce5ae6-6622-4af9-918a-6aaf524840d4",
   "metadata": {},
   "source": [
    "This says that if a flight was canceled, they have attributed 0 as the arrival delay.\n",
    "\n",
    "Because my goal is to build a model that predicts an arrival delay or cancellation, I will set a flag value of -1 in the target variable.\n",
    "\n",
    "I am continuing and will do the same on the `dep_delay` column as well. "
   ]
  },
  {
   "cell_type": "code",
   "execution_count": 65,
   "id": "50db0a4d-c7a9-442b-88ae-c2fe1d7d109d",
   "metadata": {},
   "outputs": [],
   "source": [
    "sample.loc[sample['cancelled'] == 1, 'arr_delay']=-1"
   ]
  },
  {
   "cell_type": "code",
   "execution_count": 66,
   "id": "7c106b61-3e41-4b3c-8b2a-11b0ef69cb8b",
   "metadata": {},
   "outputs": [],
   "source": [
    "sample.loc[sample['cancelled'] == 1, 'dep_delay']=-1"
   ]
  },
  {
   "cell_type": "code",
   "execution_count": 67,
   "id": "c91d0797-ade8-47d6-8e1c-7b98664ca089",
   "metadata": {},
   "outputs": [
    {
     "data": {
      "text/html": [
       "<div>\n",
       "<style scoped>\n",
       "    .dataframe tbody tr th:only-of-type {\n",
       "        vertical-align: middle;\n",
       "    }\n",
       "\n",
       "    .dataframe tbody tr th {\n",
       "        vertical-align: top;\n",
       "    }\n",
       "\n",
       "    .dataframe thead th {\n",
       "        text-align: right;\n",
       "    }\n",
       "</style>\n",
       "<table border=\"1\" class=\"dataframe\">\n",
       "  <thead>\n",
       "    <tr style=\"text-align: right;\">\n",
       "      <th></th>\n",
       "      <th>dep_delay</th>\n",
       "      <th>arr_delay</th>\n",
       "    </tr>\n",
       "  </thead>\n",
       "  <tbody>\n",
       "    <tr>\n",
       "      <th>count</th>\n",
       "      <td>2.735656e+06</td>\n",
       "      <td>2.735656e+06</td>\n",
       "    </tr>\n",
       "    <tr>\n",
       "      <th>mean</th>\n",
       "      <td>3.100503e+01</td>\n",
       "      <td>3.247933e+01</td>\n",
       "    </tr>\n",
       "    <tr>\n",
       "      <th>std</th>\n",
       "      <td>6.864408e+01</td>\n",
       "      <td>6.797220e+01</td>\n",
       "    </tr>\n",
       "    <tr>\n",
       "      <th>min</th>\n",
       "      <td>-1.000000e+00</td>\n",
       "      <td>-1.000000e+00</td>\n",
       "    </tr>\n",
       "    <tr>\n",
       "      <th>25%</th>\n",
       "      <td>0.000000e+00</td>\n",
       "      <td>0.000000e+00</td>\n",
       "    </tr>\n",
       "    <tr>\n",
       "      <th>50%</th>\n",
       "      <td>0.000000e+00</td>\n",
       "      <td>0.000000e+00</td>\n",
       "    </tr>\n",
       "    <tr>\n",
       "      <th>75%</th>\n",
       "      <td>3.900000e+01</td>\n",
       "      <td>3.900000e+01</td>\n",
       "    </tr>\n",
       "    <tr>\n",
       "      <th>max</th>\n",
       "      <td>3.890000e+03</td>\n",
       "      <td>3.864000e+03</td>\n",
       "    </tr>\n",
       "  </tbody>\n",
       "</table>\n",
       "</div>"
      ],
      "text/plain": [
       "          dep_delay     arr_delay\n",
       "count  2.735656e+06  2.735656e+06\n",
       "mean   3.100503e+01  3.247933e+01\n",
       "std    6.864408e+01  6.797220e+01\n",
       "min   -1.000000e+00 -1.000000e+00\n",
       "25%    0.000000e+00  0.000000e+00\n",
       "50%    0.000000e+00  0.000000e+00\n",
       "75%    3.900000e+01  3.900000e+01\n",
       "max    3.890000e+03  3.864000e+03"
      ]
     },
     "execution_count": 67,
     "metadata": {},
     "output_type": "execute_result"
    }
   ],
   "source": [
    "sample[['dep_delay','arr_delay']].describe()"
   ]
  },
  {
   "cell_type": "code",
   "execution_count": 68,
   "id": "363df67c-3e11-4f70-8790-825418591919",
   "metadata": {},
   "outputs": [
    {
     "data": {
      "text/plain": [
       "0.0    2679229\n",
       "1.0      56427\n",
       "Name: cancelled, dtype: int64"
      ]
     },
     "execution_count": 68,
     "metadata": {},
     "output_type": "execute_result"
    }
   ],
   "source": [
    "sample['cancelled'].value_counts()"
   ]
  },
  {
   "cell_type": "code",
   "execution_count": 69,
   "id": "4b9d49c2-079d-4ee5-af62-fc3e3fdb58b3",
   "metadata": {},
   "outputs": [
    {
     "data": {
      "text/plain": [
       "year                         0\n",
       "month                        0\n",
       "day_of_month                 0\n",
       "day_of_week                  0\n",
       "fl_date                      0\n",
       "airline                      0\n",
       "tail_num                     0\n",
       "op_carrier_fl_num            0\n",
       "origin                       0\n",
       "origin_city_name             0\n",
       "origin_state_nm              0\n",
       "dest                         0\n",
       "dest_city_name               0\n",
       "dest_state_nm                0\n",
       "crs_dep_time                 0\n",
       "dep_time                 54619\n",
       "dep_delay                    0\n",
       "dep_delay_new            54925\n",
       "crs_arr_time                 0\n",
       "arr_time                 56427\n",
       "arr_delay                    0\n",
       "arr_delay_new            56427\n",
       "cancelled                    0\n",
       "cancellation_code      2679229\n",
       "diverted                     0\n",
       "crs_elapsed_time             4\n",
       "flights                      0\n",
       "distance                     0\n",
       "carrier_delay                0\n",
       "weather_delay                0\n",
       "nas_delay                    0\n",
       "security_delay               0\n",
       "late_aircraft_delay          0\n",
       "unnamed: 33            2735656\n",
       "dtype: int64"
      ]
     },
     "execution_count": 69,
     "metadata": {},
     "output_type": "execute_result"
    }
   ],
   "source": [
    "sample.isnull().sum()"
   ]
  },
  {
   "cell_type": "code",
   "execution_count": 70,
   "id": "1aa228b9-b6da-450e-b342-5582498d7e1f",
   "metadata": {},
   "outputs": [],
   "source": [
    "# save this to CSV for further processing. \n",
    "sample.to_csv('sample.csv', index = False)\n",
    "#sample = pd.read_csv('sample.csv')"
   ]
  },
  {
   "cell_type": "markdown",
   "id": "c059fda5-e294-424f-b330-c11ff03d308e",
   "metadata": {},
   "source": [
    "Now we have identified flights that were canceled. lets look at the delay details and see if anything is listed there. "
   ]
  },
  {
   "cell_type": "markdown",
   "id": "6fe11b71-b285-4e07-ac9a-de639c91f4ee",
   "metadata": {
    "tags": []
   },
   "source": [
    "### Clean: Cancellation Codes\n",
    "----\n",
    "In this section we are going to clean the cancellation code column by decoding its original encoding"
   ]
  },
  {
   "cell_type": "code",
   "execution_count": 71,
   "id": "aa84ebf3-8b7f-4a9b-85f5-ad4215c7378d",
   "metadata": {},
   "outputs": [
    {
     "data": {
      "text/plain": [
       "arr_delay  cancellation_code\n",
       "-1.0       B                    25891\n",
       "           A                    13317\n",
       "           D                     9760\n",
       "           C                     7459\n",
       "dtype: int64"
      ]
     },
     "execution_count": 71,
     "metadata": {},
     "output_type": "execute_result"
    }
   ],
   "source": [
    "sample[sample['cancelled'] == 1][['arr_delay','cancellation_code']].value_counts()"
   ]
  },
  {
   "cell_type": "markdown",
   "id": "c917335e-5311-4a0b-a46f-b18592d90be3",
   "metadata": {},
   "source": [
    "I will decode the cancellation_code column and then encode it with as a OneHotEconding. These will become features at the end.\n",
    "\n",
    "| **Code**  | **Meaning**  |\n",
    "|---|:---:|\n",
    "| _A_  | Air Carrier caused (MX or Crew)  |\n",
    "| _B_  | Weather (WX) |\n",
    "| _C_  | National Air System (Air Traffic Control)  |\n",
    "| _D_  | Security |\n",
    "| NaN| The flight was not canceled|\n",
    "\n",
    "\n",
    "BTS definitions for delays and cancelations:\n",
    "\n",
    "> * Air Carrier: The cause of the cancellation or delay was due to circumstances within the airline's control (e.g. maintenance or crew problems, aircraft cleaning, baggage loading, fueling, etc.).\n",
    ">* Extreme Weather: Significant meteorological conditions (actual or forecasted) that, in the judgment of the carrier, delays or prevents the operation of a flight such as tornado, blizzard or hurricane.\n",
    ">* National Aviation System (NAS): Delays and cancellations attributable to the national aviation system that refer to a broad set of conditions, such as non-extreme weather conditions, airport operations, heavy traffic volume, and air traffic control.\n",
    ">* Late-arriving aircraft: A previous flight with same aircraft arrived late, causing the present flight to depart late.\n",
    ">* Security: Delays or cancellations caused by evacuation of a terminal or concourse, re-boarding of aircraft because of security breach, inoperative screening equipment and/or long lines in excess of 29 minutes at screening areas.\n",
    "\n",
    "Note: the `NaN` condition will remain NaN as it represents a true state. That is, the flight has a null value if the flight was not canceled. \n",
    "\n",
    "---\n",
    "Source [BTS]('https://www.bts.gov/explore-topics-and-geography/topics/airline-time-performance-and-causes-flight-delays')"
   ]
  },
  {
   "cell_type": "code",
   "execution_count": 72,
   "id": "ed6e2ea3-e9ab-4105-8d15-9955d1d60ee1",
   "metadata": {},
   "outputs": [
    {
     "data": {
      "text/plain": [
       "2679229"
      ]
     },
     "execution_count": 72,
     "metadata": {},
     "output_type": "execute_result"
    }
   ],
   "source": [
    "sample[sample['cancelled'] == 0 ]['cancellation_code'].isnull().sum()"
   ]
  },
  {
   "cell_type": "code",
   "execution_count": 73,
   "id": "72faea0b-12ab-4947-8031-717af78f18ba",
   "metadata": {},
   "outputs": [],
   "source": [
    "sample['cancellation_code'] = sample['cancellation_code'].fillna('completed_flight')"
   ]
  },
  {
   "cell_type": "code",
   "execution_count": null,
   "id": "27a18b6c-7117-4512-bd9c-349c748cb5f6",
   "metadata": {},
   "outputs": [],
   "source": []
  },
  {
   "cell_type": "code",
   "execution_count": null,
   "id": "9b39dbb1-7db8-438d-8350-aaf1a7dded53",
   "metadata": {},
   "outputs": [],
   "source": []
  },
  {
   "cell_type": "code",
   "execution_count": null,
   "id": "2c1ee0f7-de70-40f8-94e1-c4bd3bfc4833",
   "metadata": {},
   "outputs": [],
   "source": []
  },
  {
   "cell_type": "code",
   "execution_count": null,
   "id": "6152659c-eb31-4424-9d65-b6dbb5bc66d6",
   "metadata": {},
   "outputs": [],
   "source": []
  },
  {
   "cell_type": "code",
   "execution_count": null,
   "id": "aa457f5c-d618-4afe-9faf-217f999b3a64",
   "metadata": {},
   "outputs": [],
   "source": []
  },
  {
   "cell_type": "code",
   "execution_count": null,
   "id": "26a85135-3f87-40ea-865b-2cd082a95dfb",
   "metadata": {},
   "outputs": [],
   "source": []
  },
  {
   "cell_type": "code",
   "execution_count": 77,
   "id": "39fd9d82-2c8c-463e-99ea-70eaa554ce3a",
   "metadata": {},
   "outputs": [],
   "source": [
    "#Changing the filled value back to np.nan so we do not impact other metrics. \n",
    "cancel_coded = {'A': 'cx_carrier' , 'B': 'cx_weather', 'C': 'cx_nas', 'D': 'cx_security', 'completed_flight' : 'completed_flight'}"
   ]
  },
  {
   "cell_type": "code",
   "execution_count": 78,
   "id": "304ee9c8-3675-4ae6-a8d7-185bcb8c6ae4",
   "metadata": {},
   "outputs": [],
   "source": [
    "sample['cancellation_code']= sample['cancellation_code'].apply(lambda x: cancel_coded[x])"
   ]
  },
  {
   "cell_type": "code",
   "execution_count": 79,
   "id": "b26d765c-eda2-4302-8fb8-367ec360897a",
   "metadata": {},
   "outputs": [
    {
     "data": {
      "text/plain": [
       "completed_flight    2679229\n",
       "cx_weather            25891\n",
       "cx_carrier            13317\n",
       "cx_security            9760\n",
       "cx_nas                 7459\n",
       "Name: cancellation_code, dtype: int64"
      ]
     },
     "execution_count": 79,
     "metadata": {},
     "output_type": "execute_result"
    }
   ],
   "source": [
    "sample['cancellation_code'].value_counts()"
   ]
  },
  {
   "cell_type": "code",
   "execution_count": 80,
   "id": "a6dd100c-1466-42d9-96fa-8219fc17efac",
   "metadata": {},
   "outputs": [],
   "source": [
    "# save this to CSV for further processing. \n",
    "sample.to_csv('sample.csv', index = False)"
   ]
  },
  {
   "cell_type": "markdown",
   "id": "c7804a6f-04a5-47cd-b84b-0c6399c8f8b4",
   "metadata": {
    "tags": []
   },
   "source": [
    "### Clean: Diversions\n",
    "----\n",
    "A flight diversion is when a flight makes a deviation from its planned arrival and makes another stop. \n",
    "Reasons for flight diversions could be severe weather at the destination that is preventing a safe landing procedure. Or, it could also be due to needing to obtain more fuel due to other circumstance (weather) along the flight path. And even still, a flight may divert to deal with a security or medical related emergency.\n",
    "\n",
    "In all this equates to arriving later than planned so we have to examine if the data should be cleaned.\n",
    "\n",
    "The data is encoded as 1 meaning the flight was diverted, 0 meaning that the flight was not diverted. \n",
    "Our random sample data contains 19,138 flights that were diverted. \n",
    "\n",
    "Of these diverted flights only three were canceled, and none suffered an arrival delay. \n",
    "\n",
    "Looking at the documentation on the dataset, each delay arrival is counted as a flight. That is, when a flight changes their intended destination, the new destination is recorded and arrival times are recorded from that arrival as opposed to the arrival at the original destination station. \n",
    "\n",
    "There is an option to pull down all diversion chains to follow the accumulated arrival delay to the final scheduled destination airport, however, in the interest and scope of this project I did not pull that data down. \n",
    "\n",
    "Because this could impact our arrival times by accumulating on-time instances, these rows will be dropped from the data. "
   ]
  },
  {
   "cell_type": "code",
   "execution_count": 81,
   "id": "bbed2994-f6b2-43c7-816b-9d2c3bbbbfaa",
   "metadata": {},
   "outputs": [
    {
     "data": {
      "text/plain": [
       "1"
      ]
     },
     "execution_count": 81,
     "metadata": {},
     "output_type": "execute_result"
    }
   ],
   "source": [
    "len(sample[sample['diverted']==1])"
   ]
  },
  {
   "cell_type": "markdown",
   "id": "ede619fe-21a2-4d17-b675-68ce7d4f20a5",
   "metadata": {},
   "source": [
    "There were one diverted flights in our sample data. Below is how many diversions were recorded in our `all_flights data`."
   ]
  },
  {
   "cell_type": "code",
   "execution_count": 82,
   "id": "2b5f1f8a-4d65-45e9-8813-9fa6fd2979f9",
   "metadata": {},
   "outputs": [
    {
     "data": {
      "text/html": [
       "<div>\n",
       "<style scoped>\n",
       "    .dataframe tbody tr th:only-of-type {\n",
       "        vertical-align: middle;\n",
       "    }\n",
       "\n",
       "    .dataframe tbody tr th {\n",
       "        vertical-align: top;\n",
       "    }\n",
       "\n",
       "    .dataframe thead th {\n",
       "        text-align: right;\n",
       "    }\n",
       "</style>\n",
       "<table border=\"1\" class=\"dataframe\">\n",
       "  <thead>\n",
       "    <tr style=\"text-align: right;\">\n",
       "      <th></th>\n",
       "      <th>year</th>\n",
       "      <th>month</th>\n",
       "      <th>day_of_month</th>\n",
       "      <th>day_of_week</th>\n",
       "      <th>fl_date</th>\n",
       "      <th>op_unique_carrier</th>\n",
       "      <th>tail_num</th>\n",
       "      <th>op_carrier_fl_num</th>\n",
       "      <th>origin</th>\n",
       "      <th>origin_city_name</th>\n",
       "      <th>origin_state_nm</th>\n",
       "      <th>dest</th>\n",
       "      <th>dest_city_name</th>\n",
       "      <th>dest_state_nm</th>\n",
       "      <th>crs_dep_time</th>\n",
       "      <th>dep_time</th>\n",
       "      <th>dep_delay</th>\n",
       "      <th>dep_delay_new</th>\n",
       "      <th>crs_arr_time</th>\n",
       "      <th>arr_time</th>\n",
       "      <th>arr_delay</th>\n",
       "      <th>arr_delay_new</th>\n",
       "      <th>cancelled</th>\n",
       "      <th>cancellation_code</th>\n",
       "      <th>diverted</th>\n",
       "      <th>crs_elapsed_time</th>\n",
       "      <th>flights</th>\n",
       "      <th>distance</th>\n",
       "      <th>carrier_delay</th>\n",
       "      <th>weather_delay</th>\n",
       "      <th>nas_delay</th>\n",
       "      <th>security_delay</th>\n",
       "      <th>late_aircraft_delay</th>\n",
       "      <th>unnamed: 33</th>\n",
       "    </tr>\n",
       "  </thead>\n",
       "  <tbody>\n",
       "    <tr>\n",
       "      <th>511</th>\n",
       "      <td>2020</td>\n",
       "      <td>11</td>\n",
       "      <td>17</td>\n",
       "      <td>2</td>\n",
       "      <td>2020-11-17</td>\n",
       "      <td>AA</td>\n",
       "      <td>N747UW</td>\n",
       "      <td>1820</td>\n",
       "      <td>PHX</td>\n",
       "      <td>Phoenix, AZ</td>\n",
       "      <td>Arizona</td>\n",
       "      <td>RNO</td>\n",
       "      <td>Reno, NV</td>\n",
       "      <td>Nevada</td>\n",
       "      <td>1853</td>\n",
       "      <td>1843.0</td>\n",
       "      <td>-10.0</td>\n",
       "      <td>0.0</td>\n",
       "      <td>2002</td>\n",
       "      <td>839.0</td>\n",
       "      <td>NaN</td>\n",
       "      <td>NaN</td>\n",
       "      <td>0.0</td>\n",
       "      <td>NaN</td>\n",
       "      <td>1.0</td>\n",
       "      <td>129.0</td>\n",
       "      <td>1.0</td>\n",
       "      <td>601.0</td>\n",
       "      <td>NaN</td>\n",
       "      <td>NaN</td>\n",
       "      <td>NaN</td>\n",
       "      <td>NaN</td>\n",
       "      <td>NaN</td>\n",
       "      <td>NaN</td>\n",
       "    </tr>\n",
       "    <tr>\n",
       "      <th>1324</th>\n",
       "      <td>2020</td>\n",
       "      <td>11</td>\n",
       "      <td>13</td>\n",
       "      <td>5</td>\n",
       "      <td>2020-11-13</td>\n",
       "      <td>AA</td>\n",
       "      <td>N918US</td>\n",
       "      <td>1875</td>\n",
       "      <td>LAX</td>\n",
       "      <td>Los Angeles, CA</td>\n",
       "      <td>California</td>\n",
       "      <td>CLT</td>\n",
       "      <td>Charlotte, NC</td>\n",
       "      <td>North Carolina</td>\n",
       "      <td>923</td>\n",
       "      <td>918.0</td>\n",
       "      <td>-5.0</td>\n",
       "      <td>0.0</td>\n",
       "      <td>1700</td>\n",
       "      <td>1743.0</td>\n",
       "      <td>NaN</td>\n",
       "      <td>NaN</td>\n",
       "      <td>0.0</td>\n",
       "      <td>NaN</td>\n",
       "      <td>1.0</td>\n",
       "      <td>277.0</td>\n",
       "      <td>1.0</td>\n",
       "      <td>2125.0</td>\n",
       "      <td>NaN</td>\n",
       "      <td>NaN</td>\n",
       "      <td>NaN</td>\n",
       "      <td>NaN</td>\n",
       "      <td>NaN</td>\n",
       "      <td>NaN</td>\n",
       "    </tr>\n",
       "    <tr>\n",
       "      <th>5039</th>\n",
       "      <td>2020</td>\n",
       "      <td>11</td>\n",
       "      <td>30</td>\n",
       "      <td>1</td>\n",
       "      <td>2020-11-30</td>\n",
       "      <td>AA</td>\n",
       "      <td>N775XF</td>\n",
       "      <td>2126</td>\n",
       "      <td>LGA</td>\n",
       "      <td>New York, NY</td>\n",
       "      <td>New York</td>\n",
       "      <td>DCA</td>\n",
       "      <td>Washington, DC</td>\n",
       "      <td>Virginia</td>\n",
       "      <td>1000</td>\n",
       "      <td>952.0</td>\n",
       "      <td>-8.0</td>\n",
       "      <td>0.0</td>\n",
       "      <td>1130</td>\n",
       "      <td>1310.0</td>\n",
       "      <td>NaN</td>\n",
       "      <td>NaN</td>\n",
       "      <td>0.0</td>\n",
       "      <td>NaN</td>\n",
       "      <td>1.0</td>\n",
       "      <td>90.0</td>\n",
       "      <td>1.0</td>\n",
       "      <td>214.0</td>\n",
       "      <td>NaN</td>\n",
       "      <td>NaN</td>\n",
       "      <td>NaN</td>\n",
       "      <td>NaN</td>\n",
       "      <td>NaN</td>\n",
       "      <td>NaN</td>\n",
       "    </tr>\n",
       "    <tr>\n",
       "      <th>7172</th>\n",
       "      <td>2020</td>\n",
       "      <td>11</td>\n",
       "      <td>17</td>\n",
       "      <td>2</td>\n",
       "      <td>2020-11-17</td>\n",
       "      <td>AA</td>\n",
       "      <td>N824AW</td>\n",
       "      <td>2278</td>\n",
       "      <td>DFW</td>\n",
       "      <td>Dallas/Fort Worth, TX</td>\n",
       "      <td>Texas</td>\n",
       "      <td>RNO</td>\n",
       "      <td>Reno, NV</td>\n",
       "      <td>Nevada</td>\n",
       "      <td>1650</td>\n",
       "      <td>1645.0</td>\n",
       "      <td>-5.0</td>\n",
       "      <td>0.0</td>\n",
       "      <td>1832</td>\n",
       "      <td>833.0</td>\n",
       "      <td>NaN</td>\n",
       "      <td>NaN</td>\n",
       "      <td>0.0</td>\n",
       "      <td>NaN</td>\n",
       "      <td>1.0</td>\n",
       "      <td>222.0</td>\n",
       "      <td>1.0</td>\n",
       "      <td>1345.0</td>\n",
       "      <td>NaN</td>\n",
       "      <td>NaN</td>\n",
       "      <td>NaN</td>\n",
       "      <td>NaN</td>\n",
       "      <td>NaN</td>\n",
       "      <td>NaN</td>\n",
       "    </tr>\n",
       "    <tr>\n",
       "      <th>7453</th>\n",
       "      <td>2020</td>\n",
       "      <td>11</td>\n",
       "      <td>7</td>\n",
       "      <td>6</td>\n",
       "      <td>2020-11-07</td>\n",
       "      <td>AA</td>\n",
       "      <td>N102UW</td>\n",
       "      <td>2300</td>\n",
       "      <td>TPA</td>\n",
       "      <td>Tampa, FL</td>\n",
       "      <td>Florida</td>\n",
       "      <td>PHX</td>\n",
       "      <td>Phoenix, AZ</td>\n",
       "      <td>Arizona</td>\n",
       "      <td>603</td>\n",
       "      <td>552.0</td>\n",
       "      <td>-11.0</td>\n",
       "      <td>0.0</td>\n",
       "      <td>848</td>\n",
       "      <td>951.0</td>\n",
       "      <td>NaN</td>\n",
       "      <td>NaN</td>\n",
       "      <td>0.0</td>\n",
       "      <td>NaN</td>\n",
       "      <td>1.0</td>\n",
       "      <td>285.0</td>\n",
       "      <td>1.0</td>\n",
       "      <td>1788.0</td>\n",
       "      <td>NaN</td>\n",
       "      <td>NaN</td>\n",
       "      <td>NaN</td>\n",
       "      <td>NaN</td>\n",
       "      <td>NaN</td>\n",
       "      <td>NaN</td>\n",
       "    </tr>\n",
       "  </tbody>\n",
       "</table>\n",
       "</div>"
      ],
      "text/plain": [
       "      year  month  day_of_month  day_of_week     fl_date op_unique_carrier  \\\n",
       "511   2020     11            17            2  2020-11-17                AA   \n",
       "1324  2020     11            13            5  2020-11-13                AA   \n",
       "5039  2020     11            30            1  2020-11-30                AA   \n",
       "7172  2020     11            17            2  2020-11-17                AA   \n",
       "7453  2020     11             7            6  2020-11-07                AA   \n",
       "\n",
       "     tail_num  op_carrier_fl_num origin       origin_city_name  \\\n",
       "511    N747UW               1820    PHX            Phoenix, AZ   \n",
       "1324   N918US               1875    LAX        Los Angeles, CA   \n",
       "5039   N775XF               2126    LGA           New York, NY   \n",
       "7172   N824AW               2278    DFW  Dallas/Fort Worth, TX   \n",
       "7453   N102UW               2300    TPA              Tampa, FL   \n",
       "\n",
       "     origin_state_nm dest  dest_city_name   dest_state_nm  crs_dep_time  \\\n",
       "511          Arizona  RNO        Reno, NV          Nevada          1853   \n",
       "1324      California  CLT   Charlotte, NC  North Carolina           923   \n",
       "5039        New York  DCA  Washington, DC        Virginia          1000   \n",
       "7172           Texas  RNO        Reno, NV          Nevada          1650   \n",
       "7453         Florida  PHX     Phoenix, AZ         Arizona           603   \n",
       "\n",
       "      dep_time  dep_delay  dep_delay_new  crs_arr_time  arr_time  arr_delay  \\\n",
       "511     1843.0      -10.0            0.0          2002     839.0        NaN   \n",
       "1324     918.0       -5.0            0.0          1700    1743.0        NaN   \n",
       "5039     952.0       -8.0            0.0          1130    1310.0        NaN   \n",
       "7172    1645.0       -5.0            0.0          1832     833.0        NaN   \n",
       "7453     552.0      -11.0            0.0           848     951.0        NaN   \n",
       "\n",
       "      arr_delay_new  cancelled cancellation_code  diverted  crs_elapsed_time  \\\n",
       "511             NaN        0.0               NaN       1.0             129.0   \n",
       "1324            NaN        0.0               NaN       1.0             277.0   \n",
       "5039            NaN        0.0               NaN       1.0              90.0   \n",
       "7172            NaN        0.0               NaN       1.0             222.0   \n",
       "7453            NaN        0.0               NaN       1.0             285.0   \n",
       "\n",
       "      flights  distance  carrier_delay  weather_delay  nas_delay  \\\n",
       "511       1.0     601.0            NaN            NaN        NaN   \n",
       "1324      1.0    2125.0            NaN            NaN        NaN   \n",
       "5039      1.0     214.0            NaN            NaN        NaN   \n",
       "7172      1.0    1345.0            NaN            NaN        NaN   \n",
       "7453      1.0    1788.0            NaN            NaN        NaN   \n",
       "\n",
       "      security_delay  late_aircraft_delay  unnamed: 33  \n",
       "511              NaN                  NaN          NaN  \n",
       "1324             NaN                  NaN          NaN  \n",
       "5039             NaN                  NaN          NaN  \n",
       "7172             NaN                  NaN          NaN  \n",
       "7453             NaN                  NaN          NaN  "
      ]
     },
     "execution_count": 82,
     "metadata": {},
     "output_type": "execute_result"
    }
   ],
   "source": [
    "#are there any properties to be aware of?\n",
    "all_flights[all_flights['diverted']==1].head()"
   ]
  },
  {
   "cell_type": "markdown",
   "id": "b3a4242c-0c87-449c-b195-a4a775b89c09",
   "metadata": {},
   "source": [
    "It seems as though that when `diverted` is marked 1, `arr_time` is counted but not `arr_delay` which is what we have based our screening on. "
   ]
  },
  {
   "cell_type": "code",
   "execution_count": 83,
   "id": "e106733b-cfb7-4e06-ad0c-fd540e49896c",
   "metadata": {},
   "outputs": [
    {
     "name": "stdout",
     "output_type": "stream",
     "text": [
      "80701\n",
      "0.002\n"
     ]
    }
   ],
   "source": [
    "#How many flights were diverted?\n",
    "print(all_flights[all_flights['diverted']==1].shape[0])\n",
    "#what is the proportion to all other flights?\n",
    "print(round(all_flights[all_flights['diverted']==1].shape[0]/all_flights.shape[0], 3))"
   ]
  },
  {
   "cell_type": "markdown",
   "id": "0cdd7d49-d8f2-4167-825b-4df3cf82b7e5",
   "metadata": {},
   "source": [
    "Looks like approx 0.2% of all flights were diverted. None were captured in our sample. Due to its small representative size I am proceeding without adding diverted flights to our sample. The `sample` dataframe will be updated. "
   ]
  },
  {
   "cell_type": "code",
   "execution_count": 84,
   "id": "8fca268a-ebc3-4553-9377-d198c8ec3c2b",
   "metadata": {},
   "outputs": [],
   "source": [
    "sample = sample[sample['diverted']!=1]"
   ]
  },
  {
   "cell_type": "code",
   "execution_count": 85,
   "id": "32fcfd09-c41d-414a-8859-5f978a045d58",
   "metadata": {},
   "outputs": [
    {
     "data": {
      "text/plain": [
       "(2735655, 34)"
      ]
     },
     "execution_count": 85,
     "metadata": {},
     "output_type": "execute_result"
    }
   ],
   "source": [
    "sample.shape"
   ]
  },
  {
   "cell_type": "code",
   "execution_count": 86,
   "id": "154ad047-f92b-4dc9-b99d-13f1abfb20b4",
   "metadata": {},
   "outputs": [],
   "source": [
    "# save this to CSV for further processing. \n",
    "sample.to_csv('sample.csv', index = False)"
   ]
  },
  {
   "cell_type": "markdown",
   "id": "f20dfb0a-a381-4b36-8772-b5ab82e2e7a1",
   "metadata": {
    "tags": []
   },
   "source": [
    "### Clean: Tail Number\n",
    "----\n",
    "The aircraft tailnumber is identical to an automobile's license plate. Each tail number is unique to an aircraft. \n",
    "Knowing the tailnumber is good to know if there is a history of delays associated with a particular aircraft. \n",
    "\n",
    "\n",
    "I will drop our empty rows from the dataset because information loss is minimal. There are no empty `tail_num` rows due to our explicit calls to the population data. "
   ]
  },
  {
   "cell_type": "code",
   "execution_count": 87,
   "id": "d9084e2f-ee2e-4bac-8a64-287f4c2d5ebf",
   "metadata": {},
   "outputs": [
    {
     "data": {
      "text/plain": [
       "0"
      ]
     },
     "execution_count": 87,
     "metadata": {},
     "output_type": "execute_result"
    }
   ],
   "source": [
    "sample['tail_num'].isnull().sum() \n"
   ]
  },
  {
   "cell_type": "markdown",
   "id": "0f6fd2b1-9413-4e38-8087-80f4d527ec81",
   "metadata": {},
   "source": [
    "### Clean: null values\n",
    "----\n",
    "Here we have to investigate and handle columns with null values. "
   ]
  },
  {
   "cell_type": "code",
   "execution_count": 88,
   "id": "3cc722f9-840c-43c9-8759-47193fe16b61",
   "metadata": {},
   "outputs": [
    {
     "data": {
      "text/plain": [
       "year                         0\n",
       "month                        0\n",
       "day_of_month                 0\n",
       "day_of_week                  0\n",
       "fl_date                      0\n",
       "airline                      0\n",
       "tail_num                     0\n",
       "op_carrier_fl_num            0\n",
       "origin                       0\n",
       "origin_city_name             0\n",
       "origin_state_nm              0\n",
       "dest                         0\n",
       "dest_city_name               0\n",
       "dest_state_nm                0\n",
       "crs_dep_time                 0\n",
       "dep_time                 54619\n",
       "dep_delay                    0\n",
       "dep_delay_new            54924\n",
       "crs_arr_time                 0\n",
       "arr_time                 56426\n",
       "arr_delay                    0\n",
       "arr_delay_new            56426\n",
       "cancelled                    0\n",
       "cancellation_code            0\n",
       "diverted                     0\n",
       "crs_elapsed_time             4\n",
       "flights                      0\n",
       "distance                     0\n",
       "carrier_delay                0\n",
       "weather_delay                0\n",
       "nas_delay                    0\n",
       "security_delay               0\n",
       "late_aircraft_delay          0\n",
       "unnamed: 33            2735655\n",
       "dtype: int64"
      ]
     },
     "execution_count": 88,
     "metadata": {},
     "output_type": "execute_result"
    }
   ],
   "source": [
    "sample.isnull().sum()"
   ]
  },
  {
   "cell_type": "markdown",
   "id": "1133e971-4ef4-43b2-81df-09e0eeaef670",
   "metadata": {
    "tags": []
   },
   "source": [
    "#### Clean: Null Values- `dep_time`, `dep_delay_new`, `arr_time`, `arr_delay_new`\n",
    "---\n",
    "These instances are resulting from a flight being canceled from the schedule as discussed in the prior section. They make sense being in the data set. These are alse columns coded in time. a 0 departure time means midnight. \n",
    "\n",
    "The `xxx_new` columns are adjusted columns when the airline makes adjustments to their reported times. These columns will simply be dropped from the dataset. \n",
    "\n",
    "We can handle the `dep_time` and `arr_time` columns by adding a -1 in the same fashion we did for `dep_delay` and `arr_delay`"
   ]
  },
  {
   "cell_type": "code",
   "execution_count": 89,
   "id": "85a8bbe0-8c17-4e90-88d8-89fd1b396091",
   "metadata": {},
   "outputs": [],
   "source": [
    "sample.loc[sample['cancelled'] == 1, 'dep_time']=-1"
   ]
  },
  {
   "cell_type": "code",
   "execution_count": 90,
   "id": "5fe0be21-5305-4b3b-b464-4edcabfec6d7",
   "metadata": {},
   "outputs": [],
   "source": [
    "sample.loc[sample['cancelled'] == 1, 'arr_time']=-1"
   ]
  },
  {
   "cell_type": "code",
   "execution_count": 91,
   "id": "6bda6cc5-b60d-4458-8810-9c4bdb228a6e",
   "metadata": {},
   "outputs": [],
   "source": [
    "sample = sample.drop(columns=['dep_delay_new','arr_delay_new']).copy()"
   ]
  },
  {
   "cell_type": "code",
   "execution_count": 92,
   "id": "9fe27295-3689-4ee9-a52a-1ae26b14e5b5",
   "metadata": {},
   "outputs": [
    {
     "data": {
      "text/plain": [
       "year                         0\n",
       "month                        0\n",
       "day_of_month                 0\n",
       "day_of_week                  0\n",
       "fl_date                      0\n",
       "airline                      0\n",
       "tail_num                     0\n",
       "op_carrier_fl_num            0\n",
       "origin                       0\n",
       "origin_city_name             0\n",
       "origin_state_nm              0\n",
       "dest                         0\n",
       "dest_city_name               0\n",
       "dest_state_nm                0\n",
       "crs_dep_time                 0\n",
       "dep_time                     0\n",
       "dep_delay                    0\n",
       "crs_arr_time                 0\n",
       "arr_time                     0\n",
       "arr_delay                    0\n",
       "cancelled                    0\n",
       "cancellation_code            0\n",
       "diverted                     0\n",
       "crs_elapsed_time             4\n",
       "flights                      0\n",
       "distance                     0\n",
       "carrier_delay                0\n",
       "weather_delay                0\n",
       "nas_delay                    0\n",
       "security_delay               0\n",
       "late_aircraft_delay          0\n",
       "unnamed: 33            2735655\n",
       "dtype: int64"
      ]
     },
     "execution_count": 92,
     "metadata": {},
     "output_type": "execute_result"
    }
   ],
   "source": [
    "sample.isnull().sum()"
   ]
  },
  {
   "cell_type": "code",
   "execution_count": 93,
   "id": "a4d0f1cf-d0bf-4411-95ed-ea9f086671b3",
   "metadata": {},
   "outputs": [],
   "source": [
    "# save this to CSV for further processing. \n",
    "sample.to_csv('sample.csv', index = False)"
   ]
  },
  {
   "cell_type": "markdown",
   "id": "9594b21c-4f26-4f4b-b278-bf0866905e47",
   "metadata": {
    "tags": []
   },
   "source": [
    "### Clean: Drop unused columns and save a copy.\n",
    "---\n",
    "Although these columns contain parts-of, or encodings-for, other columns they will remain in the dataset for our application to make use of. However these are not going to be considered features in our model. I will set up a `drop_cols` variable and drop them from the current sampled data frame. \n"
   ]
  },
  {
   "cell_type": "code",
   "execution_count": 94,
   "id": "12a2bd3e-b650-4898-8156-a1c80e89a976",
   "metadata": {},
   "outputs": [
    {
     "data": {
      "text/plain": [
       "Index(['year', 'month', 'day_of_month', 'day_of_week', 'fl_date', 'airline',\n",
       "       'tail_num', 'op_carrier_fl_num', 'origin', 'origin_city_name',\n",
       "       'origin_state_nm', 'dest', 'dest_city_name', 'dest_state_nm',\n",
       "       'crs_dep_time', 'dep_time', 'dep_delay', 'crs_arr_time', 'arr_time',\n",
       "       'arr_delay', 'cancelled', 'cancellation_code', 'diverted',\n",
       "       'crs_elapsed_time', 'flights', 'distance', 'carrier_delay',\n",
       "       'weather_delay', 'nas_delay', 'security_delay', 'late_aircraft_delay',\n",
       "       'unnamed: 33'],\n",
       "      dtype='object')"
      ]
     },
     "execution_count": 94,
     "metadata": {},
     "output_type": "execute_result"
    }
   ],
   "source": [
    "sample.columns"
   ]
  },
  {
   "cell_type": "markdown",
   "id": "b5029ab2-5094-4b02-b8aa-837a5cc615ef",
   "metadata": {},
   "source": [
    "Columns kept\n",
    "* Date related columns: <br>\n",
    "    `'year'`, `'month'`, `'day_of_month'`, `'day_of_week'`, and `'fl_date'`\n",
    "\n",
    "* Airline and aircraft information: <br>\n",
    "    `airline`, `tail_num`\n",
    "\n",
    "* Flight itinerary information:<br>\n",
    "    `op_carrier_fl_num`, `'origin'`, `'origin_city_name'`, `'dest'`, `'dest_city_name'`, `'distance'`\n",
    "    \n",
    "* Flight schedule and time performance information:<br>\n",
    "    Departures: `'crs_dep_time'`, `'dep_time'`, `'dep_delay'`<br>\n",
    "    Arrivals: `'crs_arr_time'`, `'arr_time'`, `'arr_delay'`<br>\n",
    "    \n",
    "* Flight Deviation:<br>\n",
    "    `cancelled` and `cancellation code`\n",
    "    "
   ]
  },
  {
   "cell_type": "markdown",
   "id": "b5df71f0-ec23-4b31-b16f-37991ce4bae1",
   "metadata": {},
   "source": [
    "The following columns are being dropped and the reason given. \n",
    "\n",
    "* `origin_state_nm`, redundant information with `'origin_city_nm'` \n",
    "* `dest_state_nm`, same as above. \n",
    "* `dep_delay_new`, `arr_delay_new`, These columns represent data that has been updated by the carrier post-hoc. Due to the timing of the updates, we still want to watch for on-the-ground truths so these updated events will be dropped and the original occurrence of the delay is kept. \n",
    "* `crs_elapsed_time`, this is the gate to gate timing of a given flight based on the _Customer Reservation System_ (CRS) information. This is the total scheduled flight time a flight has on the schedule. \n",
    "* `flights`, this column represented the number of flights on a flight number. This is used in the event of a _through flight_. There were no instances of through flights in our global population sample. \n",
    "> A _through flight_ is a single marketed flight that has a stop in the middle. EG flight American Airlines **9987** is sold as LAX to JFK as a throughflight with a stop in Dallas (DFW). Dallas customers also purchase American Airlines flight **9987** but to them it is from DFW to JFK. The flight column in this instance would be 2 since the same aircraft is used on the single scheduled flight. \n",
    "* `unnamed: 33`, a superfluous column included in the original download.   \n",
    "* `'diverted'`, there are no instances of diverted flights in our sample.  "
   ]
  },
  {
   "cell_type": "code",
   "execution_count": 95,
   "id": "e999bc77-40e5-48d0-9b58-1081235b6b49",
   "metadata": {},
   "outputs": [],
   "source": [
    "sample = sample.drop(columns = ['origin_state_nm',\n",
    "                                      'dest_state_nm',\n",
    "                                      'crs_elapsed_time',\n",
    "                                      'flights',\n",
    "                                      'diverted',\n",
    "                                      'unnamed: 33']).copy()"
   ]
  },
  {
   "cell_type": "code",
   "execution_count": 96,
   "id": "fce8f443-0b3e-49f0-9724-7e0a5a4251b5",
   "metadata": {},
   "outputs": [
    {
     "name": "stdout",
     "output_type": "stream",
     "text": [
      "<class 'pandas.core.frame.DataFrame'>\n",
      "Int64Index: 2735655 entries, 0 to 2859038\n",
      "Data columns (total 26 columns):\n",
      " #   Column               Dtype  \n",
      "---  ------               -----  \n",
      " 0   year                 int64  \n",
      " 1   month                object \n",
      " 2   day_of_month         int64  \n",
      " 3   day_of_week          object \n",
      " 4   fl_date              object \n",
      " 5   airline              object \n",
      " 6   tail_num             object \n",
      " 7   op_carrier_fl_num    int64  \n",
      " 8   origin               object \n",
      " 9   origin_city_name     object \n",
      " 10  dest                 object \n",
      " 11  dest_city_name       object \n",
      " 12  crs_dep_time         int64  \n",
      " 13  dep_time             float64\n",
      " 14  dep_delay            float64\n",
      " 15  crs_arr_time         int64  \n",
      " 16  arr_time             float64\n",
      " 17  arr_delay            float64\n",
      " 18  cancelled            float64\n",
      " 19  cancellation_code    object \n",
      " 20  distance             float64\n",
      " 21  carrier_delay        float64\n",
      " 22  weather_delay        float64\n",
      " 23  nas_delay            float64\n",
      " 24  security_delay       float64\n",
      " 25  late_aircraft_delay  float64\n",
      "dtypes: float64(11), int64(5), object(10)\n",
      "memory usage: 563.5+ MB\n"
     ]
    }
   ],
   "source": [
    "sample.info()"
   ]
  },
  {
   "cell_type": "markdown",
   "id": "57382d28-a691-4454-bc38-338ff10f2f1f",
   "metadata": {
    "tags": []
   },
   "source": [
    "# Save prepared data copy\n",
    "---\n",
    "Now that our data is prepared, I will save a final copy of our sample data. "
   ]
  },
  {
   "cell_type": "code",
   "execution_count": 97,
   "id": "b6d278b5-8218-408c-ac2d-7d3483912a67",
   "metadata": {},
   "outputs": [],
   "source": [
    "#save copy of cleaned sample dataframe\n",
    "sample.to_csv('sample_cleaned.csv', index = False)"
   ]
  },
  {
   "cell_type": "markdown",
   "id": "dc1ca6a0-4256-4ae7-8f65-33877e292a45",
   "metadata": {},
   "source": [
    "# End of Notebook I.\n",
    "---\n",
    "Thanks for processing through this information with me. I will continue with Exploratory Data Analysis and Feature Engineering in Notebook II"
   ]
  }
 ],
 "metadata": {
  "kernelspec": {
   "display_name": "Python 3 (ipykernel)",
   "language": "python",
   "name": "python3"
  },
  "language_info": {
   "codemirror_mode": {
    "name": "ipython",
    "version": 3
   },
   "file_extension": ".py",
   "mimetype": "text/x-python",
   "name": "python",
   "nbconvert_exporter": "python",
   "pygments_lexer": "ipython3",
   "version": "3.8.8"
  }
 },
 "nbformat": 4,
 "nbformat_minor": 5
}
