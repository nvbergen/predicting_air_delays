{
 "cells": [
  {
   "cell_type": "markdown",
   "id": "1c953b38-df25-42ee-b2d6-9916119fe088",
   "metadata": {},
   "source": [
    "#### Using the Amadeus flight price analysis API\n",
    "---\n",
    "Amadeus, a transportation global distribution system*, provides developers with several very useful self-service API's to access current and historical data relating to flights and much more. \n",
    "<br><br>\n",
    "For this project I wanted to provide the user the cost of a potential delay. This data will be used in a secondary regression that explains how much the added time will cost. \n",
    "<br><br>\n",
    "To accomplish this price estimate I needed prices for each flight**. We, as travelers, all know that not every seat costs the same amount of money and that pricing conducted by the airline are done dynamically as a result of each airline's pricing strategy. \n",
    "\n",
    "\n",
    "---\n",
    "References:<br>\n",
    "[Flight Price Analysis API](https://developers.amadeus.com/self-service/category/air/api-doc/flight-price-analysis)\n",
    "\\** The total quota is 10,000 calls before having to use a production price tier. \n",
    "\n",
    "Notes:<br>\n",
    "\\* Definition of a [global distribution system (GDS)](https://en.wikipedia.org/wiki/Global_distribution_system):\n",
    "> \"is a computerised network system owned or operated by a company that enables transactions between travel industry service providers, mainly airlines, hotels, car rental companies, and travel agencies.\""
   ]
  },
  {
   "cell_type": "code",
   "execution_count": null,
   "id": "03ae6584-35c7-4248-b135-0e49cb421f64",
   "metadata": {},
   "outputs": [],
   "source": [
    "from amadeus import Client, ResponseError"
   ]
  },
  {
   "cell_type": "code",
   "execution_count": null,
   "id": "68769c02-732c-4c1c-80d0-2ebb6d43ade2",
   "metadata": {},
   "outputs": [],
   "source": [
    "amadeus = Client(\n",
    "    client_id='fYArxk7F2FGo8kJIJpUsJIEP18pDNZHk',\n",
    "    client_secret='dd2tznw3kZaGGnoW'\n",
    ")\n",
    "\n",
    "try:\n",
    "    '''\n",
    "    Returns price metrics of a given itinerary\n",
    "    '''\n",
    "    response = amadeus.analytics.itinerary_price_metrics.get(originIataCode='LAX',\n",
    "                                                             destinationIataCode='JFK',\n",
    "                                                             departureDate='2019-12-31')\n",
    "    print(response.status_code)\n",
    "    print(response.data)\n",
    "except ResponseError as error:\n",
    "    raise error"
   ]
  }
 ],
 "metadata": {
  "kernelspec": {
   "display_name": "Python 3 (ipykernel)",
   "language": "python",
   "name": "python3"
  },
  "language_info": {
   "codemirror_mode": {
    "name": "ipython",
    "version": 3
   },
   "file_extension": ".py",
   "mimetype": "text/x-python",
   "name": "python",
   "nbconvert_exporter": "python",
   "pygments_lexer": "ipython3",
   "version": "3.8.8"
  }
 },
 "nbformat": 4,
 "nbformat_minor": 5
}
